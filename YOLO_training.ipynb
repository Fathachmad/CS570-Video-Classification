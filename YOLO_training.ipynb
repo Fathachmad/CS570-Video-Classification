{
 "cells": [
  {
   "cell_type": "code",
   "execution_count": 1,
   "metadata": {},
   "outputs": [],
   "source": [
    "from ultralytics import YOLO\n"
   ]
  },
  {
   "cell_type": "code",
   "execution_count": 2,
   "metadata": {},
   "outputs": [],
   "source": [
    "model = YOLO('yolov8n.pt')"
   ]
  },
  {
   "cell_type": "code",
   "execution_count": 3,
   "metadata": {},
   "outputs": [
    {
     "name": "stdout",
     "output_type": "stream",
     "text": [
      "New https://pypi.org/project/ultralytics/8.2.17 available 😃 Update with 'pip install -U ultralytics'\n",
      "Ultralytics YOLOv8.2.12 🚀 Python-3.10.12 torch-2.3.0+cu118 CUDA:0 (NVIDIA GeForce RTX 3070, 7952MiB)\n",
      "\u001b[34m\u001b[1mengine/trainer: \u001b[0mtask=detect, mode=train, model=yolov8n.pt, data=/home/coinse/Documents/lm/spring2024/CS570-Video-Classification/datasets/TOT/TOT.yaml, epochs=100, time=None, patience=100, batch=16, imgsz=640, save=True, save_period=-1, cache=False, device=None, workers=8, project=None, name=train4, exist_ok=False, pretrained=True, optimizer=auto, verbose=True, seed=0, deterministic=True, single_cls=False, rect=False, cos_lr=False, close_mosaic=10, resume=False, amp=True, fraction=1.0, profile=False, freeze=None, multi_scale=False, overlap_mask=True, mask_ratio=4, dropout=0.0, val=True, split=val, save_json=False, save_hybrid=False, conf=None, iou=0.7, max_det=300, half=False, dnn=False, plots=True, source=None, vid_stride=1, stream_buffer=False, visualize=False, augment=False, agnostic_nms=False, classes=None, retina_masks=False, embed=None, show=False, save_frames=False, save_txt=False, save_conf=False, save_crop=False, show_labels=True, show_conf=True, show_boxes=True, line_width=None, format=torchscript, keras=False, optimize=False, int8=False, dynamic=False, simplify=False, opset=None, workspace=4, nms=False, lr0=0.01, lrf=0.01, momentum=0.937, weight_decay=0.0005, warmup_epochs=3.0, warmup_momentum=0.8, warmup_bias_lr=0.1, box=7.5, cls=0.5, dfl=1.5, pose=12.0, kobj=1.0, label_smoothing=0.0, nbs=64, hsv_h=0.015, hsv_s=0.7, hsv_v=0.4, degrees=0.0, translate=0.1, scale=0.5, shear=0.0, perspective=0.0, flipud=0.0, fliplr=0.5, bgr=0.0, mosaic=1.0, mixup=0.0, copy_paste=0.0, auto_augment=randaugment, erasing=0.4, crop_fraction=1.0, cfg=None, tracker=botsort.yaml, save_dir=/home/coinse/Documents/lm/spring2024/CS570-Video-Classification/runs/detect/train4\n",
      "Overriding model.yaml nc=80 with nc=48\n",
      "\n",
      "                   from  n    params  module                                       arguments                     \n",
      "  0                  -1  1       464  ultralytics.nn.modules.conv.Conv             [3, 16, 3, 2]                 \n",
      "  1                  -1  1      4672  ultralytics.nn.modules.conv.Conv             [16, 32, 3, 2]                \n",
      "  2                  -1  1      7360  ultralytics.nn.modules.block.C2f             [32, 32, 1, True]             \n",
      "  3                  -1  1     18560  ultralytics.nn.modules.conv.Conv             [32, 64, 3, 2]                \n",
      "  4                  -1  2     49664  ultralytics.nn.modules.block.C2f             [64, 64, 2, True]             \n",
      "  5                  -1  1     73984  ultralytics.nn.modules.conv.Conv             [64, 128, 3, 2]               \n",
      "  6                  -1  2    197632  ultralytics.nn.modules.block.C2f             [128, 128, 2, True]           \n",
      "  7                  -1  1    295424  ultralytics.nn.modules.conv.Conv             [128, 256, 3, 2]              \n",
      "  8                  -1  1    460288  ultralytics.nn.modules.block.C2f             [256, 256, 1, True]           \n",
      "  9                  -1  1    164608  ultralytics.nn.modules.block.SPPF            [256, 256, 5]                 \n",
      " 10                  -1  1         0  torch.nn.modules.upsampling.Upsample         [None, 2, 'nearest']          \n",
      " 11             [-1, 6]  1         0  ultralytics.nn.modules.conv.Concat           [1]                           \n",
      " 12                  -1  1    148224  ultralytics.nn.modules.block.C2f             [384, 128, 1]                 \n",
      " 13                  -1  1         0  torch.nn.modules.upsampling.Upsample         [None, 2, 'nearest']          \n",
      " 14             [-1, 4]  1         0  ultralytics.nn.modules.conv.Concat           [1]                           \n",
      " 15                  -1  1     37248  ultralytics.nn.modules.block.C2f             [192, 64, 1]                  \n",
      " 16                  -1  1     36992  ultralytics.nn.modules.conv.Conv             [64, 64, 3, 2]                \n",
      " 17            [-1, 12]  1         0  ultralytics.nn.modules.conv.Concat           [1]                           \n",
      " 18                  -1  1    123648  ultralytics.nn.modules.block.C2f             [192, 128, 1]                 \n",
      " 19                  -1  1    147712  ultralytics.nn.modules.conv.Conv             [128, 128, 3, 2]              \n",
      " 20             [-1, 9]  1         0  ultralytics.nn.modules.conv.Concat           [1]                           \n",
      " 21                  -1  1    493056  ultralytics.nn.modules.block.C2f             [384, 256, 1]                 \n",
      " 22        [15, 18, 21]  1    760672  ultralytics.nn.modules.head.Detect           [48, [64, 128, 256]]          \n",
      "Model summary: 225 layers, 3020208 parameters, 3020192 gradients, 8.2 GFLOPs\n",
      "\n",
      "Transferred 319/355 items from pretrained weights\n",
      "Freezing layer 'model.22.dfl.conv.weight'\n",
      "\u001b[34m\u001b[1mAMP: \u001b[0mrunning Automatic Mixed Precision (AMP) checks with YOLOv8n...\n"
     ]
    },
    {
     "name": "stderr",
     "output_type": "stream",
     "text": [
      "/home/coinse/Documents/lm/spring2024/CS570-Video-Classification/.venv/lib/python3.10/site-packages/torch/nn/modules/conv.py:456: UserWarning: Applied workaround for CuDNN issue, install nvrtc.so (Triggered internally at ../aten/src/ATen/native/cudnn/Conv_v8.cpp:84.)\n",
      "  return F.conv2d(input, weight, bias, self.stride,\n",
      "/home/coinse/Documents/lm/spring2024/CS570-Video-Classification/.venv/lib/python3.10/site-packages/torch/nn/modules/conv.py:456: UserWarning: Plan failed with a cudnnException: CUDNN_BACKEND_EXECUTION_PLAN_DESCRIPTOR: cudnnFinalize Descriptor Failed cudnn_status: CUDNN_STATUS_NOT_SUPPORTED (Triggered internally at ../aten/src/ATen/native/cudnn/Conv_v8.cpp:919.)\n",
      "  return F.conv2d(input, weight, bias, self.stride,\n"
     ]
    },
    {
     "name": "stdout",
     "output_type": "stream",
     "text": [
      "\u001b[34m\u001b[1mAMP: \u001b[0mchecks passed ✅\n"
     ]
    },
    {
     "name": "stderr",
     "output_type": "stream",
     "text": [
      "\u001b[34m\u001b[1mtrain: \u001b[0mScanning /home/coinse/Documents/lm/spring2024/CS570-Video-Classification/datasets/TOT/YOLO/labels/train... 172644 images, 0 backgrounds, 60 corrupt: 100%|██████████| 172644/172644 [00:42<00:00, 4060.86it/s]"
     ]
    },
    {
     "name": "stdout",
     "output_type": "stream",
     "text": [
      "\u001b[34m\u001b[1mtrain: \u001b[0mWARNING ⚠️ /home/coinse/Documents/lm/spring2024/CS570-Video-Classification/datasets/TOT/YOLO/images/train/fly8_00185.jpg: ignoring corrupt image/label: negative label values [ -0.0029392]\n",
      "\u001b[34m\u001b[1mtrain: \u001b[0mWARNING ⚠️ /home/coinse/Documents/lm/spring2024/CS570-Video-Classification/datasets/TOT/YOLO/images/train/fly8_00186.jpg: ignoring corrupt image/label: negative label values [ -0.0023766]\n",
      "\u001b[34m\u001b[1mtrain: \u001b[0mWARNING ⚠️ /home/coinse/Documents/lm/spring2024/CS570-Video-Classification/datasets/TOT/YOLO/images/train/fly8_00187.jpg: ignoring corrupt image/label: negative label values [ -0.0018138]\n",
      "\u001b[34m\u001b[1mtrain: \u001b[0mWARNING ⚠️ /home/coinse/Documents/lm/spring2024/CS570-Video-Classification/datasets/TOT/YOLO/images/train/fly8_00188.jpg: ignoring corrupt image/label: negative label values [ -0.0012509]\n",
      "\u001b[34m\u001b[1mtrain: \u001b[0mWARNING ⚠️ /home/coinse/Documents/lm/spring2024/CS570-Video-Classification/datasets/TOT/YOLO/images/train/fly8_00189.jpg: ignoring corrupt image/label: negative label values [-0.00068796]\n",
      "\u001b[34m\u001b[1mtrain: \u001b[0mWARNING ⚠️ /home/coinse/Documents/lm/spring2024/CS570-Video-Classification/datasets/TOT/YOLO/images/train/fly8_00190.jpg: ignoring corrupt image/label: negative label values [-0.00012611]\n",
      "\u001b[34m\u001b[1mtrain: \u001b[0mWARNING ⚠️ /home/coinse/Documents/lm/spring2024/CS570-Video-Classification/datasets/TOT/YOLO/images/train/jet6_05844.jpg: ignoring corrupt image/label: non-normalized or out of bounds coordinates [     1.0071]\n",
      "\u001b[34m\u001b[1mtrain: \u001b[0mWARNING ⚠️ /home/coinse/Documents/lm/spring2024/CS570-Video-Classification/datasets/TOT/YOLO/images/train/jet6_05846.jpg: ignoring corrupt image/label: non-normalized or out of bounds coordinates [     1.0354]\n",
      "\u001b[34m\u001b[1mtrain: \u001b[0mWARNING ⚠️ /home/coinse/Documents/lm/spring2024/CS570-Video-Classification/datasets/TOT/YOLO/images/train/jet6_05847.jpg: ignoring corrupt image/label: non-normalized or out of bounds coordinates [     1.0265]\n",
      "\u001b[34m\u001b[1mtrain: \u001b[0mWARNING ⚠️ /home/coinse/Documents/lm/spring2024/CS570-Video-Classification/datasets/TOT/YOLO/images/train/jet6_05848.jpg: ignoring corrupt image/label: non-normalized or out of bounds coordinates [     1.0175]\n",
      "\u001b[34m\u001b[1mtrain: \u001b[0mWARNING ⚠️ /home/coinse/Documents/lm/spring2024/CS570-Video-Classification/datasets/TOT/YOLO/images/train/jet8_01385.jpg: ignoring corrupt image/label: non-normalized or out of bounds coordinates [     1.0229]\n",
      "\u001b[34m\u001b[1mtrain: \u001b[0mWARNING ⚠️ /home/coinse/Documents/lm/spring2024/CS570-Video-Classification/datasets/TOT/YOLO/images/train/jet8_01386.jpg: ignoring corrupt image/label: non-normalized or out of bounds coordinates [     1.0314]\n",
      "\u001b[34m\u001b[1mtrain: \u001b[0mWARNING ⚠️ /home/coinse/Documents/lm/spring2024/CS570-Video-Classification/datasets/TOT/YOLO/images/train/jet8_01388.jpg: ignoring corrupt image/label: non-normalized or out of bounds coordinates [     1.0485]\n",
      "\u001b[34m\u001b[1mtrain: \u001b[0mWARNING ⚠️ /home/coinse/Documents/lm/spring2024/CS570-Video-Classification/datasets/TOT/YOLO/images/train/jet8_01389.jpg: ignoring corrupt image/label: non-normalized or out of bounds coordinates [     1.0382]\n",
      "\u001b[34m\u001b[1mtrain: \u001b[0mWARNING ⚠️ /home/coinse/Documents/lm/spring2024/CS570-Video-Classification/datasets/TOT/YOLO/images/train/jet8_01390.jpg: ignoring corrupt image/label: non-normalized or out of bounds coordinates [     1.0277]\n",
      "\u001b[34m\u001b[1mtrain: \u001b[0mWARNING ⚠️ /home/coinse/Documents/lm/spring2024/CS570-Video-Classification/datasets/TOT/YOLO/images/train/jet8_01391.jpg: ignoring corrupt image/label: non-normalized or out of bounds coordinates [     1.0254]\n",
      "\u001b[34m\u001b[1mtrain: \u001b[0mWARNING ⚠️ /home/coinse/Documents/lm/spring2024/CS570-Video-Classification/datasets/TOT/YOLO/images/train/jet8_01392.jpg: ignoring corrupt image/label: non-normalized or out of bounds coordinates [     1.0122]\n",
      "\u001b[34m\u001b[1mtrain: \u001b[0mWARNING ⚠️ /home/coinse/Documents/lm/spring2024/CS570-Video-Classification/datasets/TOT/YOLO/images/train/yoyo8_01661.jpg: ignoring corrupt image/label: negative label values [ -0.0010649]\n",
      "\u001b[34m\u001b[1mtrain: \u001b[0mWARNING ⚠️ /home/coinse/Documents/lm/spring2024/CS570-Video-Classification/datasets/TOT/YOLO/images/train/yoyo8_01662.jpg: ignoring corrupt image/label: negative label values [ -0.0045455]\n",
      "\u001b[34m\u001b[1mtrain: \u001b[0mWARNING ⚠️ /home/coinse/Documents/lm/spring2024/CS570-Video-Classification/datasets/TOT/YOLO/images/train/yoyo8_01663.jpg: ignoring corrupt image/label: negative label values [ -0.0080519]\n",
      "\u001b[34m\u001b[1mtrain: \u001b[0mWARNING ⚠️ /home/coinse/Documents/lm/spring2024/CS570-Video-Classification/datasets/TOT/YOLO/images/train/yoyo8_01664.jpg: ignoring corrupt image/label: negative label values [  -0.011532]\n",
      "\u001b[34m\u001b[1mtrain: \u001b[0mWARNING ⚠️ /home/coinse/Documents/lm/spring2024/CS570-Video-Classification/datasets/TOT/YOLO/images/train/yoyo8_01665.jpg: ignoring corrupt image/label: negative label values [  -0.015013]\n",
      "\u001b[34m\u001b[1mtrain: \u001b[0mWARNING ⚠️ /home/coinse/Documents/lm/spring2024/CS570-Video-Classification/datasets/TOT/YOLO/images/train/yoyo8_01769.jpg: ignoring corrupt image/label: non-normalized or out of bounds coordinates [     1.0145]\n",
      "\u001b[34m\u001b[1mtrain: \u001b[0mWARNING ⚠️ /home/coinse/Documents/lm/spring2024/CS570-Video-Classification/datasets/TOT/YOLO/images/train/yoyo8_01770.jpg: ignoring corrupt image/label: non-normalized or out of bounds coordinates [     1.0104]\n",
      "\u001b[34m\u001b[1mtrain: \u001b[0mWARNING ⚠️ /home/coinse/Documents/lm/spring2024/CS570-Video-Classification/datasets/TOT/YOLO/images/train/yoyo8_01771.jpg: ignoring corrupt image/label: non-normalized or out of bounds coordinates [     1.0063]\n",
      "\u001b[34m\u001b[1mtrain: \u001b[0mWARNING ⚠️ /home/coinse/Documents/lm/spring2024/CS570-Video-Classification/datasets/TOT/YOLO/images/train/yoyo8_01853.jpg: ignoring corrupt image/label: non-normalized or out of bounds coordinates [     1.0018]\n",
      "\u001b[34m\u001b[1mtrain: \u001b[0mWARNING ⚠️ /home/coinse/Documents/lm/spring2024/CS570-Video-Classification/datasets/TOT/YOLO/images/train/yoyo8_01854.jpg: ignoring corrupt image/label: non-normalized or out of bounds coordinates [     1.0137]\n",
      "\u001b[34m\u001b[1mtrain: \u001b[0mWARNING ⚠️ /home/coinse/Documents/lm/spring2024/CS570-Video-Classification/datasets/TOT/YOLO/images/train/yoyo8_01855.jpg: ignoring corrupt image/label: non-normalized or out of bounds coordinates [     1.0108]\n",
      "\u001b[34m\u001b[1mtrain: \u001b[0mWARNING ⚠️ /home/coinse/Documents/lm/spring2024/CS570-Video-Classification/datasets/TOT/YOLO/images/train/yoyo8_01856.jpg: ignoring corrupt image/label: non-normalized or out of bounds coordinates [     1.0078]\n",
      "\u001b[34m\u001b[1mtrain: \u001b[0mWARNING ⚠️ /home/coinse/Documents/lm/spring2024/CS570-Video-Classification/datasets/TOT/YOLO/images/train/yoyo8_01857.jpg: ignoring corrupt image/label: non-normalized or out of bounds coordinates [     1.0048]\n",
      "\u001b[34m\u001b[1mtrain: \u001b[0mWARNING ⚠️ /home/coinse/Documents/lm/spring2024/CS570-Video-Classification/datasets/TOT/YOLO/images/train/yoyo8_02534.jpg: ignoring corrupt image/label: negative label values [  -0.006039]\n",
      "\u001b[34m\u001b[1mtrain: \u001b[0mWARNING ⚠️ /home/coinse/Documents/lm/spring2024/CS570-Video-Classification/datasets/TOT/YOLO/images/train/yoyo8_02535.jpg: ignoring corrupt image/label: negative label values [ -0.0066364]\n",
      "\u001b[34m\u001b[1mtrain: \u001b[0mWARNING ⚠️ /home/coinse/Documents/lm/spring2024/CS570-Video-Classification/datasets/TOT/YOLO/images/train/yoyo8_02536.jpg: ignoring corrupt image/label: negative label values [ -0.0072338]\n",
      "\u001b[34m\u001b[1mtrain: \u001b[0mWARNING ⚠️ /home/coinse/Documents/lm/spring2024/CS570-Video-Classification/datasets/TOT/YOLO/images/train/yoyo8_02537.jpg: ignoring corrupt image/label: negative label values [ -0.0078312]\n",
      "\u001b[34m\u001b[1mtrain: \u001b[0mWARNING ⚠️ /home/coinse/Documents/lm/spring2024/CS570-Video-Classification/datasets/TOT/YOLO/images/train/yoyo8_02538.jpg: ignoring corrupt image/label: negative label values [ -0.0084286]\n",
      "\u001b[34m\u001b[1mtrain: \u001b[0mWARNING ⚠️ /home/coinse/Documents/lm/spring2024/CS570-Video-Classification/datasets/TOT/YOLO/images/train/yoyo8_02539.jpg: ignoring corrupt image/label: negative label values [  -0.009026]\n",
      "\u001b[34m\u001b[1mtrain: \u001b[0mWARNING ⚠️ /home/coinse/Documents/lm/spring2024/CS570-Video-Classification/datasets/TOT/YOLO/images/train/yoyo8_02541.jpg: ignoring corrupt image/label: negative label values [  -0.010221]\n",
      "\u001b[34m\u001b[1mtrain: \u001b[0mWARNING ⚠️ /home/coinse/Documents/lm/spring2024/CS570-Video-Classification/datasets/TOT/YOLO/images/train/yoyo8_02542.jpg: ignoring corrupt image/label: negative label values [  -0.010818]\n",
      "\u001b[34m\u001b[1mtrain: \u001b[0mWARNING ⚠️ /home/coinse/Documents/lm/spring2024/CS570-Video-Classification/datasets/TOT/YOLO/images/train/yoyo8_02543.jpg: ignoring corrupt image/label: negative label values [  -0.011416]\n",
      "\u001b[34m\u001b[1mtrain: \u001b[0mWARNING ⚠️ /home/coinse/Documents/lm/spring2024/CS570-Video-Classification/datasets/TOT/YOLO/images/train/yoyo8_02544.jpg: ignoring corrupt image/label: negative label values [  -0.012013]\n",
      "\u001b[34m\u001b[1mtrain: \u001b[0mWARNING ⚠️ /home/coinse/Documents/lm/spring2024/CS570-Video-Classification/datasets/TOT/YOLO/images/train/yoyo8_02595.jpg: ignoring corrupt image/label: non-normalized or out of bounds coordinates [     1.0102]\n",
      "\u001b[34m\u001b[1mtrain: \u001b[0mWARNING ⚠️ /home/coinse/Documents/lm/spring2024/CS570-Video-Classification/datasets/TOT/YOLO/images/train/yoyo8_02596.jpg: ignoring corrupt image/label: non-normalized or out of bounds coordinates [     1.0066]\n",
      "\u001b[34m\u001b[1mtrain: \u001b[0mWARNING ⚠️ /home/coinse/Documents/lm/spring2024/CS570-Video-Classification/datasets/TOT/YOLO/images/train/yoyo8_02777.jpg: ignoring corrupt image/label: non-normalized or out of bounds coordinates [     1.0025]\n",
      "\u001b[34m\u001b[1mtrain: \u001b[0mWARNING ⚠️ /home/coinse/Documents/lm/spring2024/CS570-Video-Classification/datasets/TOT/YOLO/images/train/yoyo8_02778.jpg: ignoring corrupt image/label: non-normalized or out of bounds coordinates [     1.0062]\n",
      "\u001b[34m\u001b[1mtrain: \u001b[0mWARNING ⚠️ /home/coinse/Documents/lm/spring2024/CS570-Video-Classification/datasets/TOT/YOLO/images/train/yoyo8_02780.jpg: ignoring corrupt image/label: non-normalized or out of bounds coordinates [     1.0134]\n",
      "\u001b[34m\u001b[1mtrain: \u001b[0mWARNING ⚠️ /home/coinse/Documents/lm/spring2024/CS570-Video-Classification/datasets/TOT/YOLO/images/train/yoyo8_02782.jpg: ignoring corrupt image/label: non-normalized or out of bounds coordinates [     1.0207]\n",
      "\u001b[34m\u001b[1mtrain: \u001b[0mWARNING ⚠️ /home/coinse/Documents/lm/spring2024/CS570-Video-Classification/datasets/TOT/YOLO/images/train/yoyo8_02783.jpg: ignoring corrupt image/label: non-normalized or out of bounds coordinates [     1.0243]\n",
      "\u001b[34m\u001b[1mtrain: \u001b[0mWARNING ⚠️ /home/coinse/Documents/lm/spring2024/CS570-Video-Classification/datasets/TOT/YOLO/images/train/yoyo8_02784.jpg: ignoring corrupt image/label: non-normalized or out of bounds coordinates [     1.0279]\n",
      "\u001b[34m\u001b[1mtrain: \u001b[0mWARNING ⚠️ /home/coinse/Documents/lm/spring2024/CS570-Video-Classification/datasets/TOT/YOLO/images/train/yoyo8_02785.jpg: ignoring corrupt image/label: non-normalized or out of bounds coordinates [     1.0316]\n",
      "\u001b[34m\u001b[1mtrain: \u001b[0mWARNING ⚠️ /home/coinse/Documents/lm/spring2024/CS570-Video-Classification/datasets/TOT/YOLO/images/train/yoyo8_02786.jpg: ignoring corrupt image/label: non-normalized or out of bounds coordinates [     1.0352]\n",
      "\u001b[34m\u001b[1mtrain: \u001b[0mWARNING ⚠️ /home/coinse/Documents/lm/spring2024/CS570-Video-Classification/datasets/TOT/YOLO/images/train/yoyo8_02787.jpg: ignoring corrupt image/label: non-normalized or out of bounds coordinates [     1.0388]\n",
      "\u001b[34m\u001b[1mtrain: \u001b[0mWARNING ⚠️ /home/coinse/Documents/lm/spring2024/CS570-Video-Classification/datasets/TOT/YOLO/images/train/yoyo8_02788.jpg: ignoring corrupt image/label: non-normalized or out of bounds coordinates [     1.0424]\n",
      "\u001b[34m\u001b[1mtrain: \u001b[0mWARNING ⚠️ /home/coinse/Documents/lm/spring2024/CS570-Video-Classification/datasets/TOT/YOLO/images/train/yoyo8_02789.jpg: ignoring corrupt image/label: non-normalized or out of bounds coordinates [     1.0461]\n",
      "\u001b[34m\u001b[1mtrain: \u001b[0mWARNING ⚠️ /home/coinse/Documents/lm/spring2024/CS570-Video-Classification/datasets/TOT/YOLO/images/train/yoyo8_02790.jpg: ignoring corrupt image/label: non-normalized or out of bounds coordinates [     1.0497]\n",
      "\u001b[34m\u001b[1mtrain: \u001b[0mWARNING ⚠️ /home/coinse/Documents/lm/spring2024/CS570-Video-Classification/datasets/TOT/YOLO/images/train/yoyo8_02791.jpg: ignoring corrupt image/label: non-normalized or out of bounds coordinates [     1.0533]\n",
      "\u001b[34m\u001b[1mtrain: \u001b[0mWARNING ⚠️ /home/coinse/Documents/lm/spring2024/CS570-Video-Classification/datasets/TOT/YOLO/images/train/yoyo8_02792.jpg: ignoring corrupt image/label: non-normalized or out of bounds coordinates [     1.0428]\n",
      "\u001b[34m\u001b[1mtrain: \u001b[0mWARNING ⚠️ /home/coinse/Documents/lm/spring2024/CS570-Video-Classification/datasets/TOT/YOLO/images/train/yoyo8_02793.jpg: ignoring corrupt image/label: non-normalized or out of bounds coordinates [     1.0323]\n",
      "\u001b[34m\u001b[1mtrain: \u001b[0mWARNING ⚠️ /home/coinse/Documents/lm/spring2024/CS570-Video-Classification/datasets/TOT/YOLO/images/train/yoyo8_02796.jpg: ignoring corrupt image/label: non-normalized or out of bounds coordinates [       1.01]\n",
      "\u001b[34m\u001b[1mtrain: \u001b[0mWARNING ⚠️ /home/coinse/Documents/lm/spring2024/CS570-Video-Classification/datasets/TOT/YOLO/images/train/yoyo9_00132.jpg: ignoring corrupt image/label: negative label values [ -0.0012691]\n",
      "\u001b[34m\u001b[1mtrain: \u001b[0mWARNING ⚠️ /home/coinse/Documents/lm/spring2024/CS570-Video-Classification/datasets/TOT/YOLO/images/train/yoyo9_00756.jpg: ignoring corrupt image/label: non-normalized or out of bounds coordinates [     1.0005]\n"
     ]
    },
    {
     "name": "stderr",
     "output_type": "stream",
     "text": [
      "\n"
     ]
    },
    {
     "name": "stdout",
     "output_type": "stream",
     "text": [
      "\u001b[34m\u001b[1mtrain: \u001b[0mNew cache created: /home/coinse/Documents/lm/spring2024/CS570-Video-Classification/datasets/TOT/YOLO/labels/train.cache\n"
     ]
    },
    {
     "name": "stderr",
     "output_type": "stream",
     "text": [
      "\u001b[34m\u001b[1mval: \u001b[0mScanning /home/coinse/Documents/lm/spring2024/CS570-Video-Classification/datasets/TOT/YOLO/labels/val... 21855 images, 0 backgrounds, 7 corrupt: 100%|██████████| 21855/21855 [00:05<00:00, 3823.00it/s]"
     ]
    },
    {
     "name": "stdout",
     "output_type": "stream",
     "text": [
      "\u001b[34m\u001b[1mval: \u001b[0mWARNING ⚠️ /home/coinse/Documents/lm/spring2024/CS570-Video-Classification/datasets/TOT/YOLO/images/val/jet6_05849.jpg: ignoring corrupt image/label: non-normalized or out of bounds coordinates [     1.0086]\n",
      "\u001b[34m\u001b[1mval: \u001b[0mWARNING ⚠️ /home/coinse/Documents/lm/spring2024/CS570-Video-Classification/datasets/TOT/YOLO/images/val/yoyo8_01567.jpg: ignoring corrupt image/label: negative label values [ -0.0015714]\n",
      "\u001b[34m\u001b[1mval: \u001b[0mWARNING ⚠️ /home/coinse/Documents/lm/spring2024/CS570-Video-Classification/datasets/TOT/YOLO/images/val/yoyo8_01858.jpg: ignoring corrupt image/label: non-normalized or out of bounds coordinates [     1.0018]\n",
      "\u001b[34m\u001b[1mval: \u001b[0mWARNING ⚠️ /home/coinse/Documents/lm/spring2024/CS570-Video-Classification/datasets/TOT/YOLO/images/val/yoyo8_02779.jpg: ignoring corrupt image/label: non-normalized or out of bounds coordinates [     1.0098]\n",
      "\u001b[34m\u001b[1mval: \u001b[0mWARNING ⚠️ /home/coinse/Documents/lm/spring2024/CS570-Video-Classification/datasets/TOT/YOLO/images/val/yoyo8_02781.jpg: ignoring corrupt image/label: non-normalized or out of bounds coordinates [      1.017]\n",
      "\u001b[34m\u001b[1mval: \u001b[0mWARNING ⚠️ /home/coinse/Documents/lm/spring2024/CS570-Video-Classification/datasets/TOT/YOLO/images/val/yoyo8_02794.jpg: ignoring corrupt image/label: non-normalized or out of bounds coordinates [     1.0217]\n",
      "\u001b[34m\u001b[1mval: \u001b[0mWARNING ⚠️ /home/coinse/Documents/lm/spring2024/CS570-Video-Classification/datasets/TOT/YOLO/images/val/yoyo8_02795.jpg: ignoring corrupt image/label: non-normalized or out of bounds coordinates [     1.0112]\n"
     ]
    },
    {
     "name": "stderr",
     "output_type": "stream",
     "text": [
      "\n"
     ]
    },
    {
     "name": "stdout",
     "output_type": "stream",
     "text": [
      "\u001b[34m\u001b[1mval: \u001b[0mNew cache created: /home/coinse/Documents/lm/spring2024/CS570-Video-Classification/datasets/TOT/YOLO/labels/val.cache\n",
      "Plotting labels to /home/coinse/Documents/lm/spring2024/CS570-Video-Classification/runs/detect/train4/labels.jpg... \n",
      "\u001b[34m\u001b[1moptimizer:\u001b[0m 'optimizer=auto' found, ignoring 'lr0=0.01' and 'momentum=0.937' and determining best 'optimizer', 'lr0' and 'momentum' automatically... \n",
      "\u001b[34m\u001b[1moptimizer:\u001b[0m SGD(lr=0.01, momentum=0.9) with parameter groups 57 weight(decay=0.0), 64 weight(decay=0.0005), 63 bias(decay=0.0)\n",
      "Image sizes 640 train, 640 val\n",
      "Using 8 dataloader workers\n",
      "Logging results to \u001b[1m/home/coinse/Documents/lm/spring2024/CS570-Video-Classification/runs/detect/train4\u001b[0m\n",
      "Starting training for 100 epochs...\n",
      "\n",
      "      Epoch    GPU_mem   box_loss   cls_loss   dfl_loss  Instances       Size\n"
     ]
    },
    {
     "name": "stderr",
     "output_type": "stream",
     "text": [
      "      1/100      2.47G      1.936      5.282      1.037         12        640: 100%|██████████| 10787/10787 [16:33<00:00, 10.85it/s]\n",
      "                 Class     Images  Instances      Box(P          R      mAP50  mAP50-95): 100%|██████████| 683/683 [00:59<00:00, 11.41it/s]\n"
     ]
    },
    {
     "name": "stdout",
     "output_type": "stream",
     "text": [
      "                   all      21848      21848      0.608      0.412      0.424      0.239\n",
      "\n",
      "      Epoch    GPU_mem   box_loss   cls_loss   dfl_loss  Instances       Size\n"
     ]
    },
    {
     "name": "stderr",
     "output_type": "stream",
     "text": [
      "      2/100      2.51G      1.887       1.87      1.034          9        640: 100%|██████████| 10787/10787 [15:51<00:00, 11.33it/s]\n",
      "                 Class     Images  Instances      Box(P          R      mAP50  mAP50-95): 100%|██████████| 683/683 [00:58<00:00, 11.75it/s]\n"
     ]
    },
    {
     "name": "stdout",
     "output_type": "stream",
     "text": [
      "                   all      21848      21848      0.622      0.452       0.49      0.277\n",
      "\n",
      "      Epoch    GPU_mem   box_loss   cls_loss   dfl_loss  Instances       Size\n"
     ]
    },
    {
     "name": "stderr",
     "output_type": "stream",
     "text": [
      "      3/100      2.51G      1.897      1.674      1.043          8        640: 100%|██████████| 10787/10787 [15:34<00:00, 11.54it/s]\n",
      "                 Class     Images  Instances      Box(P          R      mAP50  mAP50-95): 100%|██████████| 683/683 [00:57<00:00, 11.92it/s]\n"
     ]
    },
    {
     "name": "stdout",
     "output_type": "stream",
     "text": [
      "                   all      21848      21848      0.635      0.468      0.501      0.289\n",
      "\n",
      "      Epoch    GPU_mem   box_loss   cls_loss   dfl_loss  Instances       Size\n"
     ]
    },
    {
     "name": "stderr",
     "output_type": "stream",
     "text": [
      "      4/100       2.5G      1.836      1.536      1.032         18        640: 100%|██████████| 10787/10787 [15:28<00:00, 11.61it/s]\n",
      "                 Class     Images  Instances      Box(P          R      mAP50  mAP50-95): 100%|██████████| 683/683 [00:54<00:00, 12.56it/s]\n"
     ]
    },
    {
     "name": "stdout",
     "output_type": "stream",
     "text": [
      "                   all      21848      21848      0.783      0.298      0.452      0.268\n",
      "\n",
      "      Epoch    GPU_mem   box_loss   cls_loss   dfl_loss  Instances       Size\n"
     ]
    },
    {
     "name": "stderr",
     "output_type": "stream",
     "text": [
      "      5/100      2.49G      1.732      1.358      1.003         17        640: 100%|██████████| 10787/10787 [15:27<00:00, 11.63it/s]\n",
      "                 Class     Images  Instances      Box(P          R      mAP50  mAP50-95): 100%|██████████| 683/683 [00:51<00:00, 13.34it/s]\n"
     ]
    },
    {
     "name": "stdout",
     "output_type": "stream",
     "text": [
      "                   all      21848      21848      0.358      0.417      0.418      0.255\n",
      "\n",
      "      Epoch    GPU_mem   box_loss   cls_loss   dfl_loss  Instances       Size\n"
     ]
    },
    {
     "name": "stderr",
     "output_type": "stream",
     "text": [
      "      6/100      2.43G      1.681      1.277     0.9893         13        640: 100%|██████████| 10787/10787 [15:28<00:00, 11.62it/s]\n",
      "                 Class     Images  Instances      Box(P          R      mAP50  mAP50-95): 100%|██████████| 683/683 [00:50<00:00, 13.60it/s]\n"
     ]
    },
    {
     "name": "stdout",
     "output_type": "stream",
     "text": [
      "                   all      21848      21848      0.392       0.39      0.416      0.255\n",
      "\n",
      "      Epoch    GPU_mem   box_loss   cls_loss   dfl_loss  Instances       Size\n"
     ]
    },
    {
     "name": "stderr",
     "output_type": "stream",
     "text": [
      "      7/100      2.43G      1.653      1.227     0.9812         13        640: 100%|██████████| 10787/10787 [15:29<00:00, 11.61it/s]\n",
      "                 Class     Images  Instances      Box(P          R      mAP50  mAP50-95): 100%|██████████| 683/683 [00:50<00:00, 13.46it/s]\n"
     ]
    },
    {
     "name": "stdout",
     "output_type": "stream",
     "text": [
      "                   all      21848      21848      0.378      0.445      0.444      0.272\n",
      "\n",
      "      Epoch    GPU_mem   box_loss   cls_loss   dfl_loss  Instances       Size\n"
     ]
    },
    {
     "name": "stderr",
     "output_type": "stream",
     "text": [
      "      8/100      2.49G      1.626      1.185     0.9733          9        640: 100%|██████████| 10787/10787 [15:34<00:00, 11.55it/s]\n",
      "                 Class     Images  Instances      Box(P          R      mAP50  mAP50-95): 100%|██████████| 683/683 [00:52<00:00, 12.96it/s]\n"
     ]
    },
    {
     "name": "stdout",
     "output_type": "stream",
     "text": [
      "                   all      21848      21848      0.316      0.533      0.478       0.29\n",
      "\n",
      "      Epoch    GPU_mem   box_loss   cls_loss   dfl_loss  Instances       Size\n"
     ]
    },
    {
     "name": "stderr",
     "output_type": "stream",
     "text": [
      "      9/100      2.49G      1.614      1.169     0.9701         16        640: 100%|██████████| 10787/10787 [15:33<00:00, 11.56it/s]\n",
      "                 Class     Images  Instances      Box(P          R      mAP50  mAP50-95): 100%|██████████| 683/683 [00:55<00:00, 12.31it/s]\n"
     ]
    },
    {
     "name": "stdout",
     "output_type": "stream",
     "text": [
      "                   all      21848      21848      0.825      0.373      0.517       0.31\n",
      "\n",
      "      Epoch    GPU_mem   box_loss   cls_loss   dfl_loss  Instances       Size\n"
     ]
    },
    {
     "name": "stderr",
     "output_type": "stream",
     "text": [
      "     10/100      2.49G      1.596      1.146     0.9656         13        640: 100%|██████████| 10787/10787 [15:34<00:00, 11.54it/s]\n",
      "                 Class     Images  Instances      Box(P          R      mAP50  mAP50-95): 100%|██████████| 683/683 [00:56<00:00, 12.05it/s]\n"
     ]
    },
    {
     "name": "stdout",
     "output_type": "stream",
     "text": [
      "                   all      21848      21848      0.786      0.468      0.551      0.329\n",
      "\n",
      "      Epoch    GPU_mem   box_loss   cls_loss   dfl_loss  Instances       Size\n"
     ]
    },
    {
     "name": "stderr",
     "output_type": "stream",
     "text": [
      "     11/100      2.49G      1.587      1.131     0.9637          8        640: 100%|██████████| 10787/10787 [15:34<00:00, 11.54it/s]\n",
      "                 Class     Images  Instances      Box(P          R      mAP50  mAP50-95): 100%|██████████| 683/683 [00:57<00:00, 11.79it/s]\n"
     ]
    },
    {
     "name": "stdout",
     "output_type": "stream",
     "text": [
      "                   all      21848      21848       0.76      0.528      0.584      0.346\n",
      "\n",
      "      Epoch    GPU_mem   box_loss   cls_loss   dfl_loss  Instances       Size\n"
     ]
    },
    {
     "name": "stderr",
     "output_type": "stream",
     "text": [
      "     12/100      2.49G      1.573      1.112     0.9617         10        640: 100%|██████████| 10787/10787 [15:33<00:00, 11.56it/s]\n",
      "                 Class     Images  Instances      Box(P          R      mAP50  mAP50-95): 100%|██████████| 683/683 [00:57<00:00, 11.79it/s]\n"
     ]
    },
    {
     "name": "stdout",
     "output_type": "stream",
     "text": [
      "                   all      21848      21848      0.738      0.563      0.608      0.358\n",
      "\n",
      "      Epoch    GPU_mem   box_loss   cls_loss   dfl_loss  Instances       Size\n"
     ]
    },
    {
     "name": "stderr",
     "output_type": "stream",
     "text": [
      "     13/100       2.5G      1.573      1.106     0.9586         11        640: 100%|██████████| 10787/10787 [15:33<00:00, 11.55it/s]\n",
      "                 Class     Images  Instances      Box(P          R      mAP50  mAP50-95): 100%|██████████| 683/683 [00:58<00:00, 11.76it/s]\n"
     ]
    },
    {
     "name": "stdout",
     "output_type": "stream",
     "text": [
      "                   all      21848      21848      0.725      0.585       0.62      0.364\n",
      "\n",
      "      Epoch    GPU_mem   box_loss   cls_loss   dfl_loss  Instances       Size\n"
     ]
    },
    {
     "name": "stderr",
     "output_type": "stream",
     "text": [
      "     14/100       2.5G      1.563      1.095     0.9566          9        640: 100%|██████████| 10787/10787 [15:34<00:00, 11.55it/s]\n",
      "                 Class     Images  Instances      Box(P          R      mAP50  mAP50-95): 100%|██████████| 683/683 [00:57<00:00, 11.89it/s]\n"
     ]
    },
    {
     "name": "stdout",
     "output_type": "stream",
     "text": [
      "                   all      21848      21848      0.713       0.61      0.628       0.37\n",
      "\n",
      "      Epoch    GPU_mem   box_loss   cls_loss   dfl_loss  Instances       Size\n"
     ]
    },
    {
     "name": "stderr",
     "output_type": "stream",
     "text": [
      "     15/100      2.49G      1.556      1.087     0.9558         25        640: 100%|██████████| 10787/10787 [15:29<00:00, 11.61it/s]\n",
      "                 Class     Images  Instances      Box(P          R      mAP50  mAP50-95): 100%|██████████| 683/683 [00:57<00:00, 11.81it/s]\n"
     ]
    },
    {
     "name": "stdout",
     "output_type": "stream",
     "text": [
      "                   all      21848      21848      0.739      0.613      0.634      0.374\n",
      "\n",
      "      Epoch    GPU_mem   box_loss   cls_loss   dfl_loss  Instances       Size\n"
     ]
    },
    {
     "name": "stderr",
     "output_type": "stream",
     "text": [
      "     16/100       2.5G       1.55      1.077     0.9543         11        640: 100%|██████████| 10787/10787 [15:27<00:00, 11.63it/s]\n",
      "                 Class     Images  Instances      Box(P          R      mAP50  mAP50-95): 100%|██████████| 683/683 [00:57<00:00, 11.82it/s]\n"
     ]
    },
    {
     "name": "stdout",
     "output_type": "stream",
     "text": [
      "                   all      21848      21848      0.747      0.618      0.641      0.378\n",
      "\n",
      "      Epoch    GPU_mem   box_loss   cls_loss   dfl_loss  Instances       Size\n"
     ]
    },
    {
     "name": "stderr",
     "output_type": "stream",
     "text": [
      "     17/100       2.5G      1.545      1.069     0.9533         16        640: 100%|██████████| 10787/10787 [15:26<00:00, 11.64it/s]\n",
      "                 Class     Images  Instances      Box(P          R      mAP50  mAP50-95): 100%|██████████| 683/683 [00:58<00:00, 11.77it/s]\n"
     ]
    },
    {
     "name": "stdout",
     "output_type": "stream",
     "text": [
      "                   all      21848      21848      0.751      0.625      0.643      0.379\n",
      "\n",
      "      Epoch    GPU_mem   box_loss   cls_loss   dfl_loss  Instances       Size\n"
     ]
    },
    {
     "name": "stderr",
     "output_type": "stream",
     "text": [
      "     18/100       2.5G      1.541      1.067     0.9517         15        640: 100%|██████████| 10787/10787 [15:28<00:00, 11.62it/s]\n",
      "                 Class     Images  Instances      Box(P          R      mAP50  mAP50-95): 100%|██████████| 683/683 [00:57<00:00, 11.82it/s]\n"
     ]
    },
    {
     "name": "stdout",
     "output_type": "stream",
     "text": [
      "                   all      21848      21848      0.762      0.618      0.646      0.382\n",
      "\n",
      "      Epoch    GPU_mem   box_loss   cls_loss   dfl_loss  Instances       Size\n"
     ]
    },
    {
     "name": "stderr",
     "output_type": "stream",
     "text": [
      "     19/100       2.5G      1.534      1.058     0.9515         15        640: 100%|██████████| 10787/10787 [15:29<00:00, 11.61it/s]\n",
      "                 Class     Images  Instances      Box(P          R      mAP50  mAP50-95): 100%|██████████| 683/683 [00:58<00:00, 11.71it/s]\n"
     ]
    },
    {
     "name": "stdout",
     "output_type": "stream",
     "text": [
      "                   all      21848      21848      0.757      0.622      0.647      0.384\n",
      "\n",
      "      Epoch    GPU_mem   box_loss   cls_loss   dfl_loss  Instances       Size\n"
     ]
    },
    {
     "name": "stderr",
     "output_type": "stream",
     "text": [
      "     20/100      2.51G      1.528      1.048     0.9481         12        640: 100%|██████████| 10787/10787 [15:29<00:00, 11.60it/s]\n",
      "                 Class     Images  Instances      Box(P          R      mAP50  mAP50-95): 100%|██████████| 683/683 [00:58<00:00, 11.73it/s]\n"
     ]
    },
    {
     "name": "stdout",
     "output_type": "stream",
     "text": [
      "                   all      21848      21848       0.75      0.628      0.647      0.385\n",
      "\n",
      "      Epoch    GPU_mem   box_loss   cls_loss   dfl_loss  Instances       Size\n"
     ]
    },
    {
     "name": "stderr",
     "output_type": "stream",
     "text": [
      "     21/100       2.5G      1.526      1.046     0.9489         15        640: 100%|██████████| 10787/10787 [15:29<00:00, 11.60it/s]\n",
      "                 Class     Images  Instances      Box(P          R      mAP50  mAP50-95): 100%|██████████| 683/683 [00:57<00:00, 11.80it/s]\n"
     ]
    },
    {
     "name": "stdout",
     "output_type": "stream",
     "text": [
      "                   all      21848      21848      0.745      0.631      0.649      0.387\n",
      "\n",
      "      Epoch    GPU_mem   box_loss   cls_loss   dfl_loss  Instances       Size\n"
     ]
    },
    {
     "name": "stderr",
     "output_type": "stream",
     "text": [
      "     22/100      2.51G      1.523      1.042     0.9482         11        640: 100%|██████████| 10787/10787 [15:30<00:00, 11.59it/s]\n",
      "                 Class     Images  Instances      Box(P          R      mAP50  mAP50-95): 100%|██████████| 683/683 [00:57<00:00, 11.92it/s]\n"
     ]
    },
    {
     "name": "stdout",
     "output_type": "stream",
     "text": [
      "                   all      21848      21848      0.749      0.637      0.651      0.387\n",
      "\n",
      "      Epoch    GPU_mem   box_loss   cls_loss   dfl_loss  Instances       Size\n"
     ]
    },
    {
     "name": "stderr",
     "output_type": "stream",
     "text": [
      "     23/100      2.49G      1.514      1.034     0.9457         13        640: 100%|██████████| 10787/10787 [15:29<00:00, 11.60it/s]\n",
      "                 Class     Images  Instances      Box(P          R      mAP50  mAP50-95): 100%|██████████| 683/683 [00:58<00:00, 11.74it/s]\n"
     ]
    },
    {
     "name": "stdout",
     "output_type": "stream",
     "text": [
      "                   all      21848      21848      0.755      0.634      0.652      0.387\n",
      "\n",
      "      Epoch    GPU_mem   box_loss   cls_loss   dfl_loss  Instances       Size\n"
     ]
    },
    {
     "name": "stderr",
     "output_type": "stream",
     "text": [
      "     24/100      2.51G      1.517      1.033     0.9458          8        640: 100%|██████████| 10787/10787 [15:30<00:00, 11.59it/s]\n",
      "                 Class     Images  Instances      Box(P          R      mAP50  mAP50-95): 100%|██████████| 683/683 [00:58<00:00, 11.72it/s]\n"
     ]
    },
    {
     "name": "stdout",
     "output_type": "stream",
     "text": [
      "                   all      21848      21848      0.748      0.639      0.655       0.39\n",
      "\n",
      "      Epoch    GPU_mem   box_loss   cls_loss   dfl_loss  Instances       Size\n"
     ]
    },
    {
     "name": "stderr",
     "output_type": "stream",
     "text": [
      "     25/100       2.5G      1.513      1.029     0.9452         11        640: 100%|██████████| 10787/10787 [15:30<00:00, 11.59it/s]\n",
      "                 Class     Images  Instances      Box(P          R      mAP50  mAP50-95): 100%|██████████| 683/683 [00:57<00:00, 11.82it/s]\n"
     ]
    },
    {
     "name": "stdout",
     "output_type": "stream",
     "text": [
      "                   all      21848      21848      0.722      0.648      0.657      0.392\n",
      "\n",
      "      Epoch    GPU_mem   box_loss   cls_loss   dfl_loss  Instances       Size\n"
     ]
    },
    {
     "name": "stderr",
     "output_type": "stream",
     "text": [
      "     26/100      2.51G      1.508      1.021     0.9441         13        640: 100%|██████████| 10787/10787 [15:30<00:00, 11.59it/s]\n",
      "                 Class     Images  Instances      Box(P          R      mAP50  mAP50-95): 100%|██████████| 683/683 [00:57<00:00, 11.90it/s]\n"
     ]
    },
    {
     "name": "stdout",
     "output_type": "stream",
     "text": [
      "                   all      21848      21848      0.724      0.647      0.659      0.393\n",
      "\n",
      "      Epoch    GPU_mem   box_loss   cls_loss   dfl_loss  Instances       Size\n"
     ]
    },
    {
     "name": "stderr",
     "output_type": "stream",
     "text": [
      "     27/100      2.49G        1.5      1.016     0.9422         14        640: 100%|██████████| 10787/10787 [15:30<00:00, 11.59it/s]\n",
      "                 Class     Images  Instances      Box(P          R      mAP50  mAP50-95): 100%|██████████| 683/683 [00:57<00:00, 11.78it/s]\n"
     ]
    },
    {
     "name": "stdout",
     "output_type": "stream",
     "text": [
      "                   all      21848      21848      0.725      0.647       0.66      0.394\n",
      "\n",
      "      Epoch    GPU_mem   box_loss   cls_loss   dfl_loss  Instances       Size\n"
     ]
    },
    {
     "name": "stderr",
     "output_type": "stream",
     "text": [
      "     28/100       2.5G      1.505      1.015     0.9422         17        640: 100%|██████████| 10787/10787 [15:31<00:00, 11.59it/s]\n",
      "                 Class     Images  Instances      Box(P          R      mAP50  mAP50-95): 100%|██████████| 683/683 [00:58<00:00, 11.71it/s]\n"
     ]
    },
    {
     "name": "stdout",
     "output_type": "stream",
     "text": [
      "                   all      21848      21848      0.717       0.65      0.664      0.395\n",
      "\n",
      "      Epoch    GPU_mem   box_loss   cls_loss   dfl_loss  Instances       Size\n"
     ]
    },
    {
     "name": "stderr",
     "output_type": "stream",
     "text": [
      "     29/100       2.5G        1.5      1.011     0.9416         10        640: 100%|██████████| 10787/10787 [15:27<00:00, 11.62it/s]\n",
      "                 Class     Images  Instances      Box(P          R      mAP50  mAP50-95): 100%|██████████| 683/683 [00:57<00:00, 11.85it/s]\n"
     ]
    },
    {
     "name": "stdout",
     "output_type": "stream",
     "text": [
      "                   all      21848      21848      0.709      0.653      0.662      0.396\n",
      "\n",
      "      Epoch    GPU_mem   box_loss   cls_loss   dfl_loss  Instances       Size\n"
     ]
    },
    {
     "name": "stderr",
     "output_type": "stream",
     "text": [
      "     30/100       2.5G      1.499      1.008     0.9404         18        640: 100%|██████████| 10787/10787 [15:29<00:00, 11.61it/s]\n",
      "                 Class     Images  Instances      Box(P          R      mAP50  mAP50-95): 100%|██████████| 683/683 [00:57<00:00, 11.80it/s]\n"
     ]
    },
    {
     "name": "stdout",
     "output_type": "stream",
     "text": [
      "                   all      21848      21848      0.703      0.659      0.664      0.398\n",
      "\n",
      "      Epoch    GPU_mem   box_loss   cls_loss   dfl_loss  Instances       Size\n"
     ]
    },
    {
     "name": "stderr",
     "output_type": "stream",
     "text": [
      "     31/100       2.5G      1.486     0.9973     0.9382         14        640: 100%|██████████| 10787/10787 [15:29<00:00, 11.61it/s]\n",
      "                 Class     Images  Instances      Box(P          R      mAP50  mAP50-95): 100%|██████████| 683/683 [00:57<00:00, 11.89it/s]\n"
     ]
    },
    {
     "name": "stdout",
     "output_type": "stream",
     "text": [
      "                   all      21848      21848       0.71      0.658      0.664      0.397\n",
      "\n",
      "      Epoch    GPU_mem   box_loss   cls_loss   dfl_loss  Instances       Size\n"
     ]
    },
    {
     "name": "stderr",
     "output_type": "stream",
     "text": [
      "     32/100      2.51G      1.482     0.9908     0.9375         13        640: 100%|██████████| 10787/10787 [15:28<00:00, 11.61it/s]\n",
      "                 Class     Images  Instances      Box(P          R      mAP50  mAP50-95): 100%|██████████| 683/683 [00:57<00:00, 11.78it/s]\n"
     ]
    },
    {
     "name": "stdout",
     "output_type": "stream",
     "text": [
      "                   all      21848      21848      0.713      0.657      0.666      0.398\n",
      "\n",
      "      Epoch    GPU_mem   box_loss   cls_loss   dfl_loss  Instances       Size\n"
     ]
    },
    {
     "name": "stderr",
     "output_type": "stream",
     "text": [
      "     33/100      2.51G      1.484     0.9916     0.9391         12        640: 100%|██████████| 10787/10787 [15:28<00:00, 11.62it/s]\n",
      "                 Class     Images  Instances      Box(P          R      mAP50  mAP50-95): 100%|██████████| 683/683 [00:58<00:00, 11.74it/s]\n"
     ]
    },
    {
     "name": "stdout",
     "output_type": "stream",
     "text": [
      "                   all      21848      21848      0.725      0.657      0.667        0.4\n",
      "\n",
      "      Epoch    GPU_mem   box_loss   cls_loss   dfl_loss  Instances       Size\n"
     ]
    },
    {
     "name": "stderr",
     "output_type": "stream",
     "text": [
      "     34/100       2.5G      1.479     0.9875     0.9358         13        640: 100%|██████████| 10787/10787 [15:29<00:00, 11.60it/s]\n",
      "                 Class     Images  Instances      Box(P          R      mAP50  mAP50-95): 100%|██████████| 683/683 [00:58<00:00, 11.76it/s]\n"
     ]
    },
    {
     "name": "stdout",
     "output_type": "stream",
     "text": [
      "                   all      21848      21848      0.714      0.659      0.667      0.399\n",
      "\n",
      "      Epoch    GPU_mem   box_loss   cls_loss   dfl_loss  Instances       Size\n"
     ]
    },
    {
     "name": "stderr",
     "output_type": "stream",
     "text": [
      "     35/100       2.5G      1.473     0.9816     0.9364          8        640: 100%|██████████| 10787/10787 [15:28<00:00, 11.62it/s]\n",
      "                 Class     Images  Instances      Box(P          R      mAP50  mAP50-95): 100%|██████████| 683/683 [00:58<00:00, 11.69it/s]\n"
     ]
    },
    {
     "name": "stdout",
     "output_type": "stream",
     "text": [
      "                   all      21848      21848      0.711      0.656      0.668      0.401\n",
      "\n",
      "      Epoch    GPU_mem   box_loss   cls_loss   dfl_loss  Instances       Size\n"
     ]
    },
    {
     "name": "stderr",
     "output_type": "stream",
     "text": [
      "     36/100       2.5G      1.472     0.9797     0.9346         15        640: 100%|██████████| 10787/10787 [15:28<00:00, 11.62it/s]\n",
      "                 Class     Images  Instances      Box(P          R      mAP50  mAP50-95): 100%|██████████| 683/683 [00:57<00:00, 11.87it/s]\n"
     ]
    },
    {
     "name": "stdout",
     "output_type": "stream",
     "text": [
      "                   all      21848      21848      0.714      0.656       0.67      0.403\n",
      "\n",
      "      Epoch    GPU_mem   box_loss   cls_loss   dfl_loss  Instances       Size\n"
     ]
    },
    {
     "name": "stderr",
     "output_type": "stream",
     "text": [
      "     37/100       2.5G      1.471     0.9773     0.9339         10        640: 100%|██████████| 10787/10787 [15:27<00:00, 11.63it/s]\n",
      "                 Class     Images  Instances      Box(P          R      mAP50  mAP50-95): 100%|██████████| 683/683 [00:57<00:00, 11.87it/s]\n"
     ]
    },
    {
     "name": "stdout",
     "output_type": "stream",
     "text": [
      "                   all      21848      21848      0.716      0.655      0.672      0.405\n",
      "\n",
      "      Epoch    GPU_mem   box_loss   cls_loss   dfl_loss  Instances       Size\n"
     ]
    },
    {
     "name": "stderr",
     "output_type": "stream",
     "text": [
      "     38/100       2.5G      1.463     0.9687     0.9333         22        640: 100%|██████████| 10787/10787 [15:28<00:00, 11.62it/s]\n",
      "                 Class     Images  Instances      Box(P          R      mAP50  mAP50-95): 100%|██████████| 683/683 [00:57<00:00, 11.84it/s]\n"
     ]
    },
    {
     "name": "stdout",
     "output_type": "stream",
     "text": [
      "                   all      21848      21848      0.711      0.659      0.673      0.406\n",
      "\n",
      "      Epoch    GPU_mem   box_loss   cls_loss   dfl_loss  Instances       Size\n"
     ]
    },
    {
     "name": "stderr",
     "output_type": "stream",
     "text": [
      "     39/100      2.49G      1.469     0.9737      0.934         15        640: 100%|██████████| 10787/10787 [15:27<00:00, 11.62it/s]\n",
      "                 Class     Images  Instances      Box(P          R      mAP50  mAP50-95): 100%|██████████| 683/683 [00:58<00:00, 11.66it/s]\n"
     ]
    },
    {
     "name": "stdout",
     "output_type": "stream",
     "text": [
      "                   all      21848      21848      0.699      0.662      0.673      0.406\n",
      "\n",
      "      Epoch    GPU_mem   box_loss   cls_loss   dfl_loss  Instances       Size\n"
     ]
    },
    {
     "name": "stderr",
     "output_type": "stream",
     "text": [
      "     40/100      2.51G      1.459     0.9645      0.934          9        640: 100%|██████████| 10787/10787 [15:28<00:00, 11.62it/s]\n",
      "                 Class     Images  Instances      Box(P          R      mAP50  mAP50-95): 100%|██████████| 683/683 [00:58<00:00, 11.77it/s]\n"
     ]
    },
    {
     "name": "stdout",
     "output_type": "stream",
     "text": [
      "                   all      21848      21848       0.71      0.663      0.676      0.407\n",
      "\n",
      "      Epoch    GPU_mem   box_loss   cls_loss   dfl_loss  Instances       Size\n"
     ]
    },
    {
     "name": "stderr",
     "output_type": "stream",
     "text": [
      "     41/100       2.5G      1.459     0.9644     0.9332          8        640: 100%|██████████| 10787/10787 [15:28<00:00, 11.62it/s]\n",
      "                 Class     Images  Instances      Box(P          R      mAP50  mAP50-95): 100%|██████████| 683/683 [00:57<00:00, 11.84it/s]\n"
     ]
    },
    {
     "name": "stdout",
     "output_type": "stream",
     "text": [
      "                   all      21848      21848      0.714      0.661      0.676      0.409\n",
      "\n",
      "      Epoch    GPU_mem   box_loss   cls_loss   dfl_loss  Instances       Size\n"
     ]
    },
    {
     "name": "stderr",
     "output_type": "stream",
     "text": [
      "     42/100      2.51G      1.451     0.9527     0.9306         11        640: 100%|██████████| 10787/10787 [15:28<00:00, 11.62it/s]\n",
      "                 Class     Images  Instances      Box(P          R      mAP50  mAP50-95): 100%|██████████| 683/683 [00:57<00:00, 11.78it/s]\n"
     ]
    },
    {
     "name": "stdout",
     "output_type": "stream",
     "text": [
      "                   all      21848      21848      0.707      0.665      0.676      0.408\n",
      "\n",
      "      Epoch    GPU_mem   box_loss   cls_loss   dfl_loss  Instances       Size\n"
     ]
    },
    {
     "name": "stderr",
     "output_type": "stream",
     "text": [
      "     43/100      2.49G      1.453     0.9533     0.9299         11        640: 100%|██████████| 10787/10787 [15:28<00:00, 11.61it/s]\n",
      "                 Class     Images  Instances      Box(P          R      mAP50  mAP50-95): 100%|██████████| 683/683 [00:57<00:00, 11.89it/s]\n"
     ]
    },
    {
     "name": "stdout",
     "output_type": "stream",
     "text": [
      "                   all      21848      21848      0.722      0.662      0.678       0.41\n",
      "\n",
      "      Epoch    GPU_mem   box_loss   cls_loss   dfl_loss  Instances       Size\n"
     ]
    },
    {
     "name": "stderr",
     "output_type": "stream",
     "text": [
      "     44/100      2.51G      1.445     0.9469     0.9298         11        640: 100%|██████████| 10787/10787 [15:28<00:00, 11.61it/s]\n",
      "                 Class     Images  Instances      Box(P          R      mAP50  mAP50-95): 100%|██████████| 683/683 [00:57<00:00, 11.90it/s]\n"
     ]
    },
    {
     "name": "stdout",
     "output_type": "stream",
     "text": [
      "                   all      21848      21848      0.733       0.66       0.68      0.411\n",
      "\n",
      "      Epoch    GPU_mem   box_loss   cls_loss   dfl_loss  Instances       Size\n"
     ]
    },
    {
     "name": "stderr",
     "output_type": "stream",
     "text": [
      "     45/100      2.51G      1.448     0.9478     0.9293         11        640: 100%|██████████| 10787/10787 [15:28<00:00, 11.61it/s]\n",
      "                 Class     Images  Instances      Box(P          R      mAP50  mAP50-95): 100%|██████████| 683/683 [00:58<00:00, 11.74it/s]\n"
     ]
    },
    {
     "name": "stdout",
     "output_type": "stream",
     "text": [
      "                   all      21848      21848      0.718      0.662       0.68      0.412\n",
      "\n",
      "      Epoch    GPU_mem   box_loss   cls_loss   dfl_loss  Instances       Size\n"
     ]
    },
    {
     "name": "stderr",
     "output_type": "stream",
     "text": [
      "     46/100       2.5G      1.438     0.9366     0.9285         16        640: 100%|██████████| 10787/10787 [15:28<00:00, 11.62it/s]\n",
      "                 Class     Images  Instances      Box(P          R      mAP50  mAP50-95): 100%|██████████| 683/683 [00:57<00:00, 11.82it/s]\n"
     ]
    },
    {
     "name": "stdout",
     "output_type": "stream",
     "text": [
      "                   all      21848      21848      0.711      0.661      0.681      0.414\n",
      "\n",
      "      Epoch    GPU_mem   box_loss   cls_loss   dfl_loss  Instances       Size\n"
     ]
    },
    {
     "name": "stderr",
     "output_type": "stream",
     "text": [
      "     47/100       2.5G      1.439     0.9382     0.9281          9        640: 100%|██████████| 10787/10787 [15:28<00:00, 11.61it/s]\n",
      "                 Class     Images  Instances      Box(P          R      mAP50  mAP50-95): 100%|██████████| 683/683 [00:58<00:00, 11.77it/s]\n"
     ]
    },
    {
     "name": "stdout",
     "output_type": "stream",
     "text": [
      "                   all      21848      21848      0.732      0.653       0.68      0.415\n",
      "\n",
      "      Epoch    GPU_mem   box_loss   cls_loss   dfl_loss  Instances       Size\n"
     ]
    },
    {
     "name": "stderr",
     "output_type": "stream",
     "text": [
      "     48/100       2.5G      1.436     0.9331      0.928          9        640: 100%|██████████| 10787/10787 [15:28<00:00, 11.61it/s]\n",
      "                 Class     Images  Instances      Box(P          R      mAP50  mAP50-95): 100%|██████████| 683/683 [00:57<00:00, 11.82it/s]\n"
     ]
    },
    {
     "name": "stdout",
     "output_type": "stream",
     "text": [
      "                   all      21848      21848      0.722      0.661      0.682      0.415\n",
      "\n",
      "      Epoch    GPU_mem   box_loss   cls_loss   dfl_loss  Instances       Size\n"
     ]
    },
    {
     "name": "stderr",
     "output_type": "stream",
     "text": [
      "     49/100       2.5G      1.432     0.9303     0.9262          7        640: 100%|██████████| 10787/10787 [15:28<00:00, 11.62it/s]\n",
      "                 Class     Images  Instances      Box(P          R      mAP50  mAP50-95): 100%|██████████| 683/683 [00:57<00:00, 11.89it/s]\n"
     ]
    },
    {
     "name": "stdout",
     "output_type": "stream",
     "text": [
      "                   all      21848      21848      0.719      0.662      0.683      0.414\n",
      "\n",
      "      Epoch    GPU_mem   box_loss   cls_loss   dfl_loss  Instances       Size\n"
     ]
    },
    {
     "name": "stderr",
     "output_type": "stream",
     "text": [
      "     50/100      2.51G      1.429      0.927     0.9252         14        640: 100%|██████████| 10787/10787 [15:28<00:00, 11.62it/s]\n",
      "                 Class     Images  Instances      Box(P          R      mAP50  mAP50-95): 100%|██████████| 683/683 [00:57<00:00, 11.81it/s]\n"
     ]
    },
    {
     "name": "stdout",
     "output_type": "stream",
     "text": [
      "                   all      21848      21848      0.746      0.666      0.685      0.415\n",
      "\n",
      "      Epoch    GPU_mem   box_loss   cls_loss   dfl_loss  Instances       Size\n"
     ]
    },
    {
     "name": "stderr",
     "output_type": "stream",
     "text": [
      "     51/100       2.5G      1.425     0.9248     0.9235         12        640: 100%|██████████| 10787/10787 [15:28<00:00, 11.62it/s]\n",
      "                 Class     Images  Instances      Box(P          R      mAP50  mAP50-95): 100%|██████████| 683/683 [00:58<00:00, 11.76it/s]\n"
     ]
    },
    {
     "name": "stdout",
     "output_type": "stream",
     "text": [
      "                   all      21848      21848      0.732       0.67      0.683      0.416\n",
      "\n",
      "      Epoch    GPU_mem   box_loss   cls_loss   dfl_loss  Instances       Size\n"
     ]
    },
    {
     "name": "stderr",
     "output_type": "stream",
     "text": [
      "     52/100       2.5G      1.424     0.9213     0.9239         17        640: 100%|██████████| 10787/10787 [15:28<00:00, 11.62it/s]\n",
      "                 Class     Images  Instances      Box(P          R      mAP50  mAP50-95): 100%|██████████| 683/683 [00:57<00:00, 11.78it/s]\n"
     ]
    },
    {
     "name": "stdout",
     "output_type": "stream",
     "text": [
      "                   all      21848      21848      0.739      0.669      0.685      0.417\n",
      "\n",
      "      Epoch    GPU_mem   box_loss   cls_loss   dfl_loss  Instances       Size\n"
     ]
    },
    {
     "name": "stderr",
     "output_type": "stream",
     "text": [
      "     53/100       2.5G      1.416     0.9143     0.9233         10        640: 100%|██████████| 10787/10787 [15:28<00:00, 11.62it/s]\n",
      "                 Class     Images  Instances      Box(P          R      mAP50  mAP50-95): 100%|██████████| 683/683 [00:57<00:00, 11.83it/s]\n"
     ]
    },
    {
     "name": "stdout",
     "output_type": "stream",
     "text": [
      "                   all      21848      21848      0.741      0.671      0.687      0.418\n",
      "\n",
      "      Epoch    GPU_mem   box_loss   cls_loss   dfl_loss  Instances       Size\n"
     ]
    },
    {
     "name": "stderr",
     "output_type": "stream",
     "text": [
      "     54/100       2.5G      1.413     0.9103     0.9223         16        640: 100%|██████████| 10787/10787 [15:28<00:00, 11.62it/s]\n",
      "                 Class     Images  Instances      Box(P          R      mAP50  mAP50-95): 100%|██████████| 683/683 [00:58<00:00, 11.75it/s]\n"
     ]
    },
    {
     "name": "stdout",
     "output_type": "stream",
     "text": [
      "                   all      21848      21848      0.741      0.675       0.69      0.419\n",
      "\n",
      "      Epoch    GPU_mem   box_loss   cls_loss   dfl_loss  Instances       Size\n"
     ]
    },
    {
     "name": "stderr",
     "output_type": "stream",
     "text": [
      "     55/100       2.5G      1.411     0.9072     0.9221         10        640: 100%|██████████| 10787/10787 [15:28<00:00, 11.62it/s]\n",
      "                 Class     Images  Instances      Box(P          R      mAP50  mAP50-95): 100%|██████████| 683/683 [00:57<00:00, 11.87it/s]\n"
     ]
    },
    {
     "name": "stdout",
     "output_type": "stream",
     "text": [
      "                   all      21848      21848      0.745      0.676      0.691       0.42\n",
      "\n",
      "      Epoch    GPU_mem   box_loss   cls_loss   dfl_loss  Instances       Size\n"
     ]
    },
    {
     "name": "stderr",
     "output_type": "stream",
     "text": [
      "     56/100       2.5G      1.405     0.9014     0.9203         11        640: 100%|██████████| 10787/10787 [15:28<00:00, 11.62it/s]\n",
      "                 Class     Images  Instances      Box(P          R      mAP50  mAP50-95): 100%|██████████| 683/683 [00:57<00:00, 11.80it/s]\n"
     ]
    },
    {
     "name": "stdout",
     "output_type": "stream",
     "text": [
      "                   all      21848      21848      0.747      0.673       0.69       0.42\n",
      "\n",
      "      Epoch    GPU_mem   box_loss   cls_loss   dfl_loss  Instances       Size\n"
     ]
    },
    {
     "name": "stderr",
     "output_type": "stream",
     "text": [
      "     57/100       2.5G      1.406     0.9011     0.9209         17        640: 100%|██████████| 10787/10787 [15:28<00:00, 11.62it/s]\n",
      "                 Class     Images  Instances      Box(P          R      mAP50  mAP50-95): 100%|██████████| 683/683 [00:57<00:00, 11.80it/s]\n"
     ]
    },
    {
     "name": "stdout",
     "output_type": "stream",
     "text": [
      "                   all      21848      21848      0.743      0.678      0.693       0.42\n",
      "\n",
      "      Epoch    GPU_mem   box_loss   cls_loss   dfl_loss  Instances       Size\n"
     ]
    },
    {
     "name": "stderr",
     "output_type": "stream",
     "text": [
      "     58/100       2.5G      1.397      0.895     0.9202          9        640: 100%|██████████| 10787/10787 [15:28<00:00, 11.62it/s]\n",
      "                 Class     Images  Instances      Box(P          R      mAP50  mAP50-95): 100%|██████████| 683/683 [00:57<00:00, 11.80it/s]\n"
     ]
    },
    {
     "name": "stdout",
     "output_type": "stream",
     "text": [
      "                   all      21848      21848      0.747      0.676      0.693      0.422\n",
      "\n",
      "      Epoch    GPU_mem   box_loss   cls_loss   dfl_loss  Instances       Size\n"
     ]
    },
    {
     "name": "stderr",
     "output_type": "stream",
     "text": [
      "     59/100      2.49G      1.399     0.8941     0.9206         10        640: 100%|██████████| 10787/10787 [15:28<00:00, 11.62it/s]\n",
      "                 Class     Images  Instances      Box(P          R      mAP50  mAP50-95): 100%|██████████| 683/683 [00:57<00:00, 11.94it/s]\n"
     ]
    },
    {
     "name": "stdout",
     "output_type": "stream",
     "text": [
      "                   all      21848      21848      0.743      0.678      0.695      0.422\n",
      "\n",
      "      Epoch    GPU_mem   box_loss   cls_loss   dfl_loss  Instances       Size\n"
     ]
    },
    {
     "name": "stderr",
     "output_type": "stream",
     "text": [
      "     60/100       2.5G      1.394     0.8859     0.9187         11        640: 100%|██████████| 10787/10787 [15:28<00:00, 11.62it/s]\n",
      "                 Class     Images  Instances      Box(P          R      mAP50  mAP50-95): 100%|██████████| 683/683 [00:57<00:00, 11.91it/s]\n"
     ]
    },
    {
     "name": "stdout",
     "output_type": "stream",
     "text": [
      "                   all      21848      21848      0.743      0.679      0.695      0.424\n",
      "\n",
      "      Epoch    GPU_mem   box_loss   cls_loss   dfl_loss  Instances       Size\n"
     ]
    },
    {
     "name": "stderr",
     "output_type": "stream",
     "text": [
      "     61/100       2.5G      1.389     0.8812     0.9182         11        640: 100%|██████████| 10787/10787 [15:27<00:00, 11.63it/s]\n",
      "                 Class     Images  Instances      Box(P          R      mAP50  mAP50-95): 100%|██████████| 683/683 [00:57<00:00, 11.90it/s]\n"
     ]
    },
    {
     "name": "stdout",
     "output_type": "stream",
     "text": [
      "                   all      21848      21848      0.749      0.678      0.695      0.424\n",
      "\n",
      "      Epoch    GPU_mem   box_loss   cls_loss   dfl_loss  Instances       Size\n"
     ]
    },
    {
     "name": "stderr",
     "output_type": "stream",
     "text": [
      "     62/100       2.5G      1.391     0.8836     0.9165         11        640: 100%|██████████| 10787/10787 [15:27<00:00, 11.63it/s]\n",
      "                 Class     Images  Instances      Box(P          R      mAP50  mAP50-95): 100%|██████████| 683/683 [00:57<00:00, 11.88it/s]\n"
     ]
    },
    {
     "name": "stdout",
     "output_type": "stream",
     "text": [
      "                   all      21848      21848      0.745       0.68      0.694      0.426\n",
      "\n",
      "      Epoch    GPU_mem   box_loss   cls_loss   dfl_loss  Instances       Size\n"
     ]
    },
    {
     "name": "stderr",
     "output_type": "stream",
     "text": [
      "     63/100      2.49G      1.382      0.877     0.9148         11        640: 100%|██████████| 10787/10787 [15:28<00:00, 11.62it/s]\n",
      "                 Class     Images  Instances      Box(P          R      mAP50  mAP50-95): 100%|██████████| 683/683 [00:58<00:00, 11.68it/s]\n"
     ]
    },
    {
     "name": "stdout",
     "output_type": "stream",
     "text": [
      "                   all      21848      21848      0.741      0.686      0.698      0.428\n",
      "\n",
      "      Epoch    GPU_mem   box_loss   cls_loss   dfl_loss  Instances       Size\n"
     ]
    },
    {
     "name": "stderr",
     "output_type": "stream",
     "text": [
      "     64/100       2.5G      1.378     0.8735     0.9152         18        640: 100%|██████████| 10787/10787 [15:27<00:00, 11.63it/s]\n",
      "                 Class     Images  Instances      Box(P          R      mAP50  mAP50-95): 100%|██████████| 683/683 [00:57<00:00, 11.80it/s]\n"
     ]
    },
    {
     "name": "stdout",
     "output_type": "stream",
     "text": [
      "                   all      21848      21848      0.744      0.686      0.699      0.429\n",
      "\n",
      "      Epoch    GPU_mem   box_loss   cls_loss   dfl_loss  Instances       Size\n"
     ]
    },
    {
     "name": "stderr",
     "output_type": "stream",
     "text": [
      "     65/100       2.5G      1.377     0.8694     0.9128         16        640: 100%|██████████| 10787/10787 [15:27<00:00, 11.63it/s]\n",
      "                 Class     Images  Instances      Box(P          R      mAP50  mAP50-95): 100%|██████████| 683/683 [00:57<00:00, 11.85it/s]\n"
     ]
    },
    {
     "name": "stdout",
     "output_type": "stream",
     "text": [
      "                   all      21848      21848      0.744      0.688        0.7      0.429\n",
      "\n",
      "      Epoch    GPU_mem   box_loss   cls_loss   dfl_loss  Instances       Size\n"
     ]
    },
    {
     "name": "stderr",
     "output_type": "stream",
     "text": [
      "     66/100       2.5G      1.369     0.8623     0.9138         12        640: 100%|██████████| 10787/10787 [15:28<00:00, 11.62it/s]\n",
      "                 Class     Images  Instances      Box(P          R      mAP50  mAP50-95): 100%|██████████| 683/683 [00:58<00:00, 11.72it/s]\n"
     ]
    },
    {
     "name": "stdout",
     "output_type": "stream",
     "text": [
      "                   all      21848      21848      0.748      0.688      0.701      0.429\n",
      "\n",
      "      Epoch    GPU_mem   box_loss   cls_loss   dfl_loss  Instances       Size\n"
     ]
    },
    {
     "name": "stderr",
     "output_type": "stream",
     "text": [
      "     67/100      2.49G       1.36      0.855     0.9115         13        640: 100%|██████████| 10787/10787 [15:27<00:00, 11.63it/s]\n",
      "                 Class     Images  Instances      Box(P          R      mAP50  mAP50-95): 100%|██████████| 683/683 [00:57<00:00, 11.79it/s]\n"
     ]
    },
    {
     "name": "stdout",
     "output_type": "stream",
     "text": [
      "                   all      21848      21848      0.748      0.685      0.701       0.43\n",
      "\n",
      "      Epoch    GPU_mem   box_loss   cls_loss   dfl_loss  Instances       Size\n"
     ]
    },
    {
     "name": "stderr",
     "output_type": "stream",
     "text": [
      "     68/100       2.5G       1.36     0.8542     0.9115         12        640: 100%|██████████| 10787/10787 [15:28<00:00, 11.62it/s]\n",
      "                 Class     Images  Instances      Box(P          R      mAP50  mAP50-95): 100%|██████████| 683/683 [00:57<00:00, 11.89it/s]\n"
     ]
    },
    {
     "name": "stdout",
     "output_type": "stream",
     "text": [
      "                   all      21848      21848      0.751      0.684      0.703       0.43\n",
      "\n",
      "      Epoch    GPU_mem   box_loss   cls_loss   dfl_loss  Instances       Size\n"
     ]
    },
    {
     "name": "stderr",
     "output_type": "stream",
     "text": [
      "     69/100       2.5G      1.357     0.8502     0.9102         16        640: 100%|██████████| 10787/10787 [15:27<00:00, 11.63it/s]\n",
      "                 Class     Images  Instances      Box(P          R      mAP50  mAP50-95): 100%|██████████| 683/683 [00:58<00:00, 11.77it/s]\n"
     ]
    },
    {
     "name": "stdout",
     "output_type": "stream",
     "text": [
      "                   all      21848      21848      0.747      0.693      0.707      0.433\n",
      "\n",
      "      Epoch    GPU_mem   box_loss   cls_loss   dfl_loss  Instances       Size\n"
     ]
    },
    {
     "name": "stderr",
     "output_type": "stream",
     "text": [
      "     70/100       2.5G      1.353     0.8443      0.909         16        640: 100%|██████████| 10787/10787 [15:28<00:00, 11.62it/s]\n",
      "                 Class     Images  Instances      Box(P          R      mAP50  mAP50-95): 100%|██████████| 683/683 [00:57<00:00, 11.85it/s]\n"
     ]
    },
    {
     "name": "stdout",
     "output_type": "stream",
     "text": [
      "                   all      21848      21848      0.754      0.689      0.706      0.434\n",
      "\n",
      "      Epoch    GPU_mem   box_loss   cls_loss   dfl_loss  Instances       Size\n"
     ]
    },
    {
     "name": "stderr",
     "output_type": "stream",
     "text": [
      "     71/100      2.49G      1.345      0.838     0.9079         17        640: 100%|██████████| 10787/10787 [15:27<00:00, 11.63it/s]\n",
      "                 Class     Images  Instances      Box(P          R      mAP50  mAP50-95): 100%|██████████| 683/683 [00:57<00:00, 11.92it/s]\n"
     ]
    },
    {
     "name": "stdout",
     "output_type": "stream",
     "text": [
      "                   all      21848      21848      0.752      0.691      0.707      0.435\n",
      "\n",
      "      Epoch    GPU_mem   box_loss   cls_loss   dfl_loss  Instances       Size\n"
     ]
    },
    {
     "name": "stderr",
     "output_type": "stream",
     "text": [
      "     72/100       2.5G      1.345     0.8363     0.9091         14        640: 100%|██████████| 10787/10787 [15:28<00:00, 11.61it/s]\n",
      "                 Class     Images  Instances      Box(P          R      mAP50  mAP50-95): 100%|██████████| 683/683 [00:57<00:00, 11.83it/s]\n"
     ]
    },
    {
     "name": "stdout",
     "output_type": "stream",
     "text": [
      "                   all      21848      21848       0.75      0.695      0.709      0.437\n",
      "\n",
      "      Epoch    GPU_mem   box_loss   cls_loss   dfl_loss  Instances       Size\n"
     ]
    },
    {
     "name": "stderr",
     "output_type": "stream",
     "text": [
      "     73/100       2.5G      1.336      0.829     0.9049         12        640: 100%|██████████| 10787/10787 [15:28<00:00, 11.62it/s]\n",
      "                 Class     Images  Instances      Box(P          R      mAP50  mAP50-95): 100%|██████████| 683/683 [00:57<00:00, 11.83it/s]\n"
     ]
    },
    {
     "name": "stdout",
     "output_type": "stream",
     "text": [
      "                   all      21848      21848      0.757       0.69      0.709      0.436\n",
      "\n",
      "      Epoch    GPU_mem   box_loss   cls_loss   dfl_loss  Instances       Size\n"
     ]
    },
    {
     "name": "stderr",
     "output_type": "stream",
     "text": [
      "     74/100       2.5G      1.335     0.8243     0.9049         16        640: 100%|██████████| 10787/10787 [15:29<00:00, 11.61it/s]\n",
      "                 Class     Images  Instances      Box(P          R      mAP50  mAP50-95): 100%|██████████| 683/683 [00:57<00:00, 11.79it/s]\n"
     ]
    },
    {
     "name": "stdout",
     "output_type": "stream",
     "text": [
      "                   all      21848      21848      0.754      0.695      0.711      0.438\n",
      "\n",
      "      Epoch    GPU_mem   box_loss   cls_loss   dfl_loss  Instances       Size\n"
     ]
    },
    {
     "name": "stderr",
     "output_type": "stream",
     "text": [
      "     75/100      2.49G      1.328     0.8199     0.9043         17        640: 100%|██████████| 10787/10787 [15:29<00:00, 11.60it/s]\n",
      "                 Class     Images  Instances      Box(P          R      mAP50  mAP50-95): 100%|██████████| 683/683 [00:57<00:00, 11.88it/s]\n"
     ]
    },
    {
     "name": "stdout",
     "output_type": "stream",
     "text": [
      "                   all      21848      21848      0.756      0.698      0.711      0.439\n",
      "\n",
      "      Epoch    GPU_mem   box_loss   cls_loss   dfl_loss  Instances       Size\n"
     ]
    },
    {
     "name": "stderr",
     "output_type": "stream",
     "text": [
      "     76/100       2.5G      1.325      0.817     0.9044          9        640: 100%|██████████| 10787/10787 [15:30<00:00, 11.60it/s]\n",
      "                 Class     Images  Instances      Box(P          R      mAP50  mAP50-95): 100%|██████████| 683/683 [00:57<00:00, 11.82it/s]\n"
     ]
    },
    {
     "name": "stdout",
     "output_type": "stream",
     "text": [
      "                   all      21848      21848       0.76      0.696      0.713      0.441\n",
      "\n",
      "      Epoch    GPU_mem   box_loss   cls_loss   dfl_loss  Instances       Size\n"
     ]
    },
    {
     "name": "stderr",
     "output_type": "stream",
     "text": [
      "     77/100       2.5G      1.316     0.8102      0.902         15        640: 100%|██████████| 10787/10787 [15:30<00:00, 11.60it/s]\n",
      "                 Class     Images  Instances      Box(P          R      mAP50  mAP50-95): 100%|██████████| 683/683 [00:57<00:00, 11.86it/s]\n"
     ]
    },
    {
     "name": "stdout",
     "output_type": "stream",
     "text": [
      "                   all      21848      21848      0.763      0.696      0.713      0.441\n",
      "\n",
      "      Epoch    GPU_mem   box_loss   cls_loss   dfl_loss  Instances       Size\n"
     ]
    },
    {
     "name": "stderr",
     "output_type": "stream",
     "text": [
      "     78/100       2.5G      1.315     0.8061     0.9026         12        640: 100%|██████████| 10787/10787 [15:31<00:00, 11.58it/s]\n",
      "                 Class     Images  Instances      Box(P          R      mAP50  mAP50-95): 100%|██████████| 683/683 [00:58<00:00, 11.74it/s]\n"
     ]
    },
    {
     "name": "stdout",
     "output_type": "stream",
     "text": [
      "                   all      21848      21848      0.759      0.698      0.714      0.442\n",
      "\n",
      "      Epoch    GPU_mem   box_loss   cls_loss   dfl_loss  Instances       Size\n"
     ]
    },
    {
     "name": "stderr",
     "output_type": "stream",
     "text": [
      "     79/100      2.49G      1.306     0.8014        0.9         16        640: 100%|██████████| 10787/10787 [15:30<00:00, 11.59it/s]\n",
      "                 Class     Images  Instances      Box(P          R      mAP50  mAP50-95): 100%|██████████| 683/683 [00:58<00:00, 11.74it/s]\n"
     ]
    },
    {
     "name": "stdout",
     "output_type": "stream",
     "text": [
      "                   all      21848      21848      0.764      0.699      0.715      0.442\n",
      "\n",
      "      Epoch    GPU_mem   box_loss   cls_loss   dfl_loss  Instances       Size\n"
     ]
    },
    {
     "name": "stderr",
     "output_type": "stream",
     "text": [
      "     80/100       2.5G      1.301     0.7948      0.898         13        640: 100%|██████████| 10787/10787 [15:30<00:00, 11.59it/s]\n",
      "                 Class     Images  Instances      Box(P          R      mAP50  mAP50-95): 100%|██████████| 683/683 [00:57<00:00, 11.87it/s]\n"
     ]
    },
    {
     "name": "stdout",
     "output_type": "stream",
     "text": [
      "                   all      21848      21848       0.76      0.698      0.715      0.444\n",
      "\n",
      "      Epoch    GPU_mem   box_loss   cls_loss   dfl_loss  Instances       Size\n"
     ]
    },
    {
     "name": "stderr",
     "output_type": "stream",
     "text": [
      "     81/100       2.5G      1.298     0.7912     0.8978         15        640: 100%|██████████| 10787/10787 [15:30<00:00, 11.60it/s]\n",
      "                 Class     Images  Instances      Box(P          R      mAP50  mAP50-95): 100%|██████████| 683/683 [00:57<00:00, 11.82it/s]\n"
     ]
    },
    {
     "name": "stdout",
     "output_type": "stream",
     "text": [
      "                   all      21848      21848      0.761      0.699      0.716      0.445\n",
      "\n",
      "      Epoch    GPU_mem   box_loss   cls_loss   dfl_loss  Instances       Size\n"
     ]
    },
    {
     "name": "stderr",
     "output_type": "stream",
     "text": [
      "     82/100       2.5G       1.29     0.7831     0.8964         10        640: 100%|██████████| 10787/10787 [15:30<00:00, 11.59it/s]\n",
      "                 Class     Images  Instances      Box(P          R      mAP50  mAP50-95): 100%|██████████| 683/683 [00:57<00:00, 11.87it/s]\n"
     ]
    },
    {
     "name": "stdout",
     "output_type": "stream",
     "text": [
      "                   all      21848      21848      0.762      0.695      0.714      0.445\n",
      "\n",
      "      Epoch    GPU_mem   box_loss   cls_loss   dfl_loss  Instances       Size\n"
     ]
    },
    {
     "name": "stderr",
     "output_type": "stream",
     "text": [
      "     83/100      2.49G      1.283     0.7791     0.8956         15        640: 100%|██████████| 10787/10787 [15:31<00:00, 11.59it/s]\n",
      "                 Class     Images  Instances      Box(P          R      mAP50  mAP50-95): 100%|██████████| 683/683 [00:57<00:00, 11.81it/s]\n"
     ]
    },
    {
     "name": "stdout",
     "output_type": "stream",
     "text": [
      "                   all      21848      21848      0.762      0.696      0.715      0.445\n",
      "\n",
      "      Epoch    GPU_mem   box_loss   cls_loss   dfl_loss  Instances       Size\n"
     ]
    },
    {
     "name": "stderr",
     "output_type": "stream",
     "text": [
      "     84/100       2.5G      1.279      0.773     0.8947          9        640: 100%|██████████| 10787/10787 [15:30<00:00, 11.59it/s]\n",
      "                 Class     Images  Instances      Box(P          R      mAP50  mAP50-95): 100%|██████████| 683/683 [00:58<00:00, 11.76it/s]\n"
     ]
    },
    {
     "name": "stdout",
     "output_type": "stream",
     "text": [
      "                   all      21848      21848      0.761      0.701      0.715      0.446\n",
      "\n",
      "      Epoch    GPU_mem   box_loss   cls_loss   dfl_loss  Instances       Size\n"
     ]
    },
    {
     "name": "stderr",
     "output_type": "stream",
     "text": [
      "     85/100       2.5G       1.27     0.7669      0.893         12        640: 100%|██████████| 10787/10787 [15:32<00:00, 11.57it/s]\n",
      "                 Class     Images  Instances      Box(P          R      mAP50  mAP50-95): 100%|██████████| 683/683 [00:57<00:00, 11.81it/s]\n"
     ]
    },
    {
     "name": "stdout",
     "output_type": "stream",
     "text": [
      "                   all      21848      21848      0.772      0.696      0.717      0.447\n",
      "\n",
      "      Epoch    GPU_mem   box_loss   cls_loss   dfl_loss  Instances       Size\n"
     ]
    },
    {
     "name": "stderr",
     "output_type": "stream",
     "text": [
      "     86/100       2.5G      1.262     0.7591     0.8919         13        640: 100%|██████████| 10787/10787 [15:33<00:00, 11.55it/s]\n",
      "                 Class     Images  Instances      Box(P          R      mAP50  mAP50-95): 100%|██████████| 683/683 [00:57<00:00, 11.89it/s]\n"
     ]
    },
    {
     "name": "stdout",
     "output_type": "stream",
     "text": [
      "                   all      21848      21848       0.77      0.699       0.72       0.45\n",
      "\n",
      "      Epoch    GPU_mem   box_loss   cls_loss   dfl_loss  Instances       Size\n"
     ]
    },
    {
     "name": "stderr",
     "output_type": "stream",
     "text": [
      "     87/100      2.49G      1.259     0.7552     0.8902         14        640: 100%|██████████| 10787/10787 [15:33<00:00, 11.56it/s]\n",
      "                 Class     Images  Instances      Box(P          R      mAP50  mAP50-95): 100%|██████████| 683/683 [00:58<00:00, 11.74it/s]\n"
     ]
    },
    {
     "name": "stdout",
     "output_type": "stream",
     "text": [
      "                   all      21848      21848       0.77      0.702      0.721      0.451\n",
      "\n",
      "      Epoch    GPU_mem   box_loss   cls_loss   dfl_loss  Instances       Size\n"
     ]
    },
    {
     "name": "stderr",
     "output_type": "stream",
     "text": [
      "     88/100       2.5G      1.249     0.7468     0.8884         12        640: 100%|██████████| 10787/10787 [15:39<00:00, 11.48it/s]\n",
      "                 Class     Images  Instances      Box(P          R      mAP50  mAP50-95): 100%|██████████| 683/683 [00:57<00:00, 11.85it/s]\n"
     ]
    },
    {
     "name": "stdout",
     "output_type": "stream",
     "text": [
      "                   all      21848      21848      0.775      0.699      0.721      0.452\n",
      "\n",
      "      Epoch    GPU_mem   box_loss   cls_loss   dfl_loss  Instances       Size\n"
     ]
    },
    {
     "name": "stderr",
     "output_type": "stream",
     "text": [
      "     89/100       2.5G      1.239     0.7387     0.8882         11        640: 100%|██████████| 10787/10787 [15:37<00:00, 11.51it/s]\n",
      "                 Class     Images  Instances      Box(P          R      mAP50  mAP50-95): 100%|██████████| 683/683 [00:57<00:00, 11.92it/s]\n"
     ]
    },
    {
     "name": "stdout",
     "output_type": "stream",
     "text": [
      "                   all      21848      21848      0.771      0.704      0.722      0.454\n",
      "\n",
      "      Epoch    GPU_mem   box_loss   cls_loss   dfl_loss  Instances       Size\n"
     ]
    },
    {
     "name": "stderr",
     "output_type": "stream",
     "text": [
      "     90/100       2.5G      1.233     0.7336     0.8858         14        640: 100%|██████████| 10787/10787 [15:35<00:00, 11.53it/s]\n",
      "                 Class     Images  Instances      Box(P          R      mAP50  mAP50-95): 100%|██████████| 683/683 [00:57<00:00, 11.80it/s]\n"
     ]
    },
    {
     "name": "stdout",
     "output_type": "stream",
     "text": [
      "                   all      21848      21848      0.774      0.706      0.723      0.455\n",
      "Closing dataloader mosaic\n",
      "\n",
      "      Epoch    GPU_mem   box_loss   cls_loss   dfl_loss  Instances       Size\n"
     ]
    },
    {
     "name": "stderr",
     "output_type": "stream",
     "text": [
      "     91/100      2.49G       1.25     0.7337     0.8958          8        640: 100%|██████████| 10787/10787 [15:26<00:00, 11.64it/s]\n",
      "                 Class     Images  Instances      Box(P          R      mAP50  mAP50-95): 100%|██████████| 683/683 [00:57<00:00, 11.88it/s]\n"
     ]
    },
    {
     "name": "stdout",
     "output_type": "stream",
     "text": [
      "                   all      21848      21848      0.771      0.713      0.729      0.461\n",
      "\n",
      "      Epoch    GPU_mem   box_loss   cls_loss   dfl_loss  Instances       Size\n"
     ]
    },
    {
     "name": "stderr",
     "output_type": "stream",
     "text": [
      "     92/100       2.5G      1.227     0.7205      0.893          8        640: 100%|██████████| 10787/10787 [15:27<00:00, 11.63it/s]\n",
      "                 Class     Images  Instances      Box(P          R      mAP50  mAP50-95): 100%|██████████| 683/683 [00:57<00:00, 11.83it/s]\n"
     ]
    },
    {
     "name": "stdout",
     "output_type": "stream",
     "text": [
      "                   all      21848      21848      0.777      0.713      0.733      0.466\n",
      "\n",
      "      Epoch    GPU_mem   box_loss   cls_loss   dfl_loss  Instances       Size\n"
     ]
    },
    {
     "name": "stderr",
     "output_type": "stream",
     "text": [
      "     93/100       2.5G      1.215     0.7102     0.8896          6        640: 100%|██████████| 10787/10787 [15:26<00:00, 11.64it/s]\n",
      "                 Class     Images  Instances      Box(P          R      mAP50  mAP50-95): 100%|██████████| 683/683 [00:57<00:00, 11.83it/s]\n"
     ]
    },
    {
     "name": "stdout",
     "output_type": "stream",
     "text": [
      "                   all      21848      21848       0.78      0.711      0.733       0.47\n",
      "\n",
      "      Epoch    GPU_mem   box_loss   cls_loss   dfl_loss  Instances       Size\n"
     ]
    },
    {
     "name": "stderr",
     "output_type": "stream",
     "text": [
      "     94/100       2.5G        1.2      0.702     0.8861          5        640: 100%|██████████| 10787/10787 [15:27<00:00, 11.64it/s]\n",
      "                 Class     Images  Instances      Box(P          R      mAP50  mAP50-95): 100%|██████████| 683/683 [00:57<00:00, 11.79it/s]\n"
     ]
    },
    {
     "name": "stdout",
     "output_type": "stream",
     "text": [
      "                   all      21848      21848      0.786      0.712      0.735      0.472\n",
      "\n",
      "      Epoch    GPU_mem   box_loss   cls_loss   dfl_loss  Instances       Size\n"
     ]
    },
    {
     "name": "stderr",
     "output_type": "stream",
     "text": [
      "     95/100      2.49G      1.187     0.6892     0.8844          7        640: 100%|██████████| 10787/10787 [15:27<00:00, 11.63it/s]\n",
      "                 Class     Images  Instances      Box(P          R      mAP50  mAP50-95): 100%|██████████| 683/683 [00:57<00:00, 11.88it/s]\n"
     ]
    },
    {
     "name": "stdout",
     "output_type": "stream",
     "text": [
      "                   all      21848      21848      0.769      0.712      0.736      0.474\n",
      "\n",
      "      Epoch    GPU_mem   box_loss   cls_loss   dfl_loss  Instances       Size\n"
     ]
    },
    {
     "name": "stderr",
     "output_type": "stream",
     "text": [
      "     96/100       2.5G      1.174     0.6819      0.882          7        640: 100%|██████████| 10787/10787 [15:27<00:00, 11.63it/s]\n",
      "                 Class     Images  Instances      Box(P          R      mAP50  mAP50-95): 100%|██████████| 683/683 [00:56<00:00, 11.99it/s]\n"
     ]
    },
    {
     "name": "stdout",
     "output_type": "stream",
     "text": [
      "                   all      21848      21848      0.764      0.714      0.738      0.478\n",
      "\n",
      "      Epoch    GPU_mem   box_loss   cls_loss   dfl_loss  Instances       Size\n"
     ]
    },
    {
     "name": "stderr",
     "output_type": "stream",
     "text": [
      "     97/100       2.5G      1.159      0.674     0.8792          8        640: 100%|██████████| 10787/10787 [15:28<00:00, 11.62it/s]\n",
      "                 Class     Images  Instances      Box(P          R      mAP50  mAP50-95): 100%|██████████| 683/683 [00:57<00:00, 11.85it/s]\n"
     ]
    },
    {
     "name": "stdout",
     "output_type": "stream",
     "text": [
      "                   all      21848      21848      0.757       0.72      0.739      0.479\n",
      "\n",
      "      Epoch    GPU_mem   box_loss   cls_loss   dfl_loss  Instances       Size\n"
     ]
    },
    {
     "name": "stderr",
     "output_type": "stream",
     "text": [
      "     98/100       2.5G      1.146      0.663     0.8771          7        640: 100%|██████████| 10787/10787 [15:28<00:00, 11.62it/s]\n",
      "                 Class     Images  Instances      Box(P          R      mAP50  mAP50-95): 100%|██████████| 683/683 [00:57<00:00, 11.79it/s]\n"
     ]
    },
    {
     "name": "stdout",
     "output_type": "stream",
     "text": [
      "                   all      21848      21848      0.765      0.725      0.741      0.481\n",
      "\n",
      "      Epoch    GPU_mem   box_loss   cls_loss   dfl_loss  Instances       Size\n"
     ]
    },
    {
     "name": "stderr",
     "output_type": "stream",
     "text": [
      "     99/100      2.49G      1.133     0.6542     0.8744          8        640: 100%|██████████| 10787/10787 [15:26<00:00, 11.65it/s]\n",
      "                 Class     Images  Instances      Box(P          R      mAP50  mAP50-95): 100%|██████████| 683/683 [00:56<00:00, 12.02it/s]\n"
     ]
    },
    {
     "name": "stdout",
     "output_type": "stream",
     "text": [
      "                   all      21848      21848      0.767      0.724      0.742      0.482\n",
      "\n",
      "      Epoch    GPU_mem   box_loss   cls_loss   dfl_loss  Instances       Size\n"
     ]
    },
    {
     "name": "stderr",
     "output_type": "stream",
     "text": [
      "    100/100       2.5G      1.121     0.6454     0.8721          7        640: 100%|██████████| 10787/10787 [15:23<00:00, 11.69it/s]\n",
      "                 Class     Images  Instances      Box(P          R      mAP50  mAP50-95): 100%|██████████| 683/683 [00:57<00:00, 11.98it/s]\n"
     ]
    },
    {
     "name": "stdout",
     "output_type": "stream",
     "text": [
      "                   all      21848      21848      0.769      0.725      0.743      0.484\n",
      "\n",
      "100 epochs completed in 27.474 hours.\n",
      "Optimizer stripped from /home/coinse/Documents/lm/spring2024/CS570-Video-Classification/runs/detect/train4/weights/last.pt, 6.3MB\n",
      "Optimizer stripped from /home/coinse/Documents/lm/spring2024/CS570-Video-Classification/runs/detect/train4/weights/best.pt, 6.3MB\n",
      "\n",
      "Validating /home/coinse/Documents/lm/spring2024/CS570-Video-Classification/runs/detect/train4/weights/best.pt...\n",
      "Ultralytics YOLOv8.2.12 🚀 Python-3.10.12 torch-2.3.0+cu118 CUDA:0 (NVIDIA GeForce RTX 3070, 7952MiB)\n",
      "Model summary (fused): 168 layers, 3015008 parameters, 0 gradients, 8.1 GFLOPs\n"
     ]
    },
    {
     "name": "stderr",
     "output_type": "stream",
     "text": [
      "                 Class     Images  Instances      Box(P          R      mAP50  mAP50-95): 100%|██████████| 683/683 [00:56<00:00, 12.06it/s]\n"
     ]
    },
    {
     "name": "stdout",
     "output_type": "stream",
     "text": [
      "                   all      21848      21848      0.769      0.726      0.743      0.484\n",
      "              aircraft      21848        818      0.985      0.941      0.975       0.78\n",
      "                   ant      21848        980      0.751      0.794      0.842       0.46\n",
      "             badminton      21848        417      0.782      0.357      0.424      0.194\n",
      "                  bait      21848         14      0.747      0.714      0.779      0.286\n",
      "               balloon      21848        555      0.531      0.361      0.368      0.218\n",
      "                   bat      21848         87       0.13     0.0115       0.02    0.00481\n",
      "                   bee      21848        262      0.915      0.931      0.966      0.706\n",
      "                  bery      21848         23      0.373     0.0435       0.11     0.0217\n",
      "               bicycle      21848        781      0.827      0.489      0.593      0.361\n",
      "                  bird      21848        926      0.622      0.473      0.543      0.289\n",
      "                  boat      21848        224      0.615      0.987      0.798       0.64\n",
      "               bowling      21848        167      0.874      0.958      0.976      0.718\n",
      "         bronze_statue      21848         56      0.986          1      0.995      0.956\n",
      "                   car      21848       2243      0.562      0.575      0.574      0.347\n",
      "                 chick      21848         43      0.983          1      0.995       0.84\n",
      "                  dice      21848        120      0.978      0.975      0.994      0.829\n",
      "            drosophila      21848         57      0.232      0.436       0.28      0.104\n",
      "                 eagle      21848        178      0.983      0.969       0.99      0.828\n",
      "      electric_bicycle      21848        292      0.568      0.423      0.451      0.225\n",
      "                  fish      21848        195      0.818      0.923      0.946      0.586\n",
      "                   fly      21848        340      0.824      0.896      0.936      0.631\n",
      "                  golf      21848        130      0.947      0.815      0.883      0.519\n",
      "                hoodle      21848       1135       0.72      0.739      0.722      0.333\n",
      "                insect      21848        417      0.984      0.983      0.988      0.754\n",
      "                   jet      21848       1799      0.984      0.879      0.949      0.658\n",
      "                  kite      21848        475      0.523      0.587      0.594      0.342\n",
      "      Kongming_Lantern      21848        422      0.541      0.746      0.625      0.382\n",
      "              ladybird      21848        412      0.971      0.966      0.992      0.781\n",
      "                 light      21848         71      0.694      0.192      0.207     0.0612\n",
      "                meteor      21848         13      0.798      0.692      0.705       0.41\n",
      "                  moon      21848         25      0.971          1      0.995      0.819\n",
      "            Paraglider      21848        279      0.934      0.828      0.918      0.486\n",
      "                people      21848       1860      0.673      0.777      0.765       0.49\n",
      "              pingpang      21848        687      0.925       0.77      0.842      0.442\n",
      "             poker_box      21848        161      0.968      0.988      0.991      0.638\n",
      "                 sheep      21848         97      0.874      0.938      0.946      0.561\n",
      "                  shot      21848         62       0.65      0.597      0.579      0.243\n",
      "                shrimp      21848        152      0.886          1       0.99      0.893\n",
      "           shuttlecock      21848        900      0.886      0.583      0.624      0.289\n",
      "            skateboard      21848        144      0.861      0.667      0.708      0.459\n",
      "            snake_head      21848        124      0.807      0.927       0.94      0.618\n",
      "                soccer      21848        802      0.891       0.83      0.901      0.509\n",
      "                  star      21848        597      0.724      0.456      0.666      0.381\n",
      "               surfing      21848        185      0.616      0.989      0.816      0.582\n",
      "                tennis      21848       1266      0.668      0.265      0.292        0.1\n",
      "                   ufo      21848         20      0.804          1      0.978      0.539\n",
      "            volleyball      21848        301      0.941      0.791      0.854      0.577\n",
      "                  yoyo      21848        534      0.603      0.577      0.652      0.329\n",
      "Speed: 0.1ms preprocess, 0.7ms inference, 0.0ms loss, 0.4ms postprocess per image\n",
      "Results saved to \u001b[1m/home/coinse/Documents/lm/spring2024/CS570-Video-Classification/runs/detect/train4\u001b[0m\n",
      "Ultralytics YOLOv8.2.12 🚀 Python-3.10.12 torch-2.3.0+cu118 CUDA:0 (NVIDIA GeForce RTX 3070, 7952MiB)\n",
      "Model summary (fused): 168 layers, 3015008 parameters, 0 gradients, 8.1 GFLOPs\n"
     ]
    },
    {
     "name": "stderr",
     "output_type": "stream",
     "text": [
      "\u001b[34m\u001b[1mval: \u001b[0mScanning /home/coinse/Documents/lm/spring2024/CS570-Video-Classification/datasets/TOT/YOLO/labels/val.cache... 21855 images, 0 backgrounds, 7 corrupt: 100%|██████████| 21855/21855 [00:00<?, ?it/s]"
     ]
    },
    {
     "name": "stdout",
     "output_type": "stream",
     "text": [
      "\u001b[34m\u001b[1mval: \u001b[0mWARNING ⚠️ /home/coinse/Documents/lm/spring2024/CS570-Video-Classification/datasets/TOT/YOLO/images/val/jet6_05849.jpg: ignoring corrupt image/label: non-normalized or out of bounds coordinates [     1.0086]\n",
      "\u001b[34m\u001b[1mval: \u001b[0mWARNING ⚠️ /home/coinse/Documents/lm/spring2024/CS570-Video-Classification/datasets/TOT/YOLO/images/val/yoyo8_01567.jpg: ignoring corrupt image/label: negative label values [ -0.0015714]\n",
      "\u001b[34m\u001b[1mval: \u001b[0mWARNING ⚠️ /home/coinse/Documents/lm/spring2024/CS570-Video-Classification/datasets/TOT/YOLO/images/val/yoyo8_01858.jpg: ignoring corrupt image/label: non-normalized or out of bounds coordinates [     1.0018]\n",
      "\u001b[34m\u001b[1mval: \u001b[0mWARNING ⚠️ /home/coinse/Documents/lm/spring2024/CS570-Video-Classification/datasets/TOT/YOLO/images/val/yoyo8_02779.jpg: ignoring corrupt image/label: non-normalized or out of bounds coordinates [     1.0098]\n",
      "\u001b[34m\u001b[1mval: \u001b[0mWARNING ⚠️ /home/coinse/Documents/lm/spring2024/CS570-Video-Classification/datasets/TOT/YOLO/images/val/yoyo8_02781.jpg: ignoring corrupt image/label: non-normalized or out of bounds coordinates [      1.017]\n",
      "\u001b[34m\u001b[1mval: \u001b[0mWARNING ⚠️ /home/coinse/Documents/lm/spring2024/CS570-Video-Classification/datasets/TOT/YOLO/images/val/yoyo8_02794.jpg: ignoring corrupt image/label: non-normalized or out of bounds coordinates [     1.0217]\n",
      "\u001b[34m\u001b[1mval: \u001b[0mWARNING ⚠️ /home/coinse/Documents/lm/spring2024/CS570-Video-Classification/datasets/TOT/YOLO/images/val/yoyo8_02795.jpg: ignoring corrupt image/label: non-normalized or out of bounds coordinates [     1.0112]\n"
     ]
    },
    {
     "name": "stderr",
     "output_type": "stream",
     "text": [
      "\n",
      "                 Class     Images  Instances      Box(P          R      mAP50  mAP50-95):   0%|          | 0/1366 [00:00<?, ?it/s]/home/coinse/Documents/lm/spring2024/CS570-Video-Classification/.venv/lib/python3.10/site-packages/torch/nn/modules/conv.py:456: UserWarning: Plan failed with a cudnnException: CUDNN_BACKEND_EXECUTION_PLAN_DESCRIPTOR: cudnnFinalize Descriptor Failed cudnn_status: CUDNN_STATUS_NOT_SUPPORTED (Triggered internally at ../aten/src/ATen/native/cudnn/Conv_v8.cpp:919.)\n",
      "  return F.conv2d(input, weight, bias, self.stride,\n",
      "                 Class     Images  Instances      Box(P          R      mAP50  mAP50-95): 100%|██████████| 1366/1366 [01:07<00:00, 20.34it/s]\n"
     ]
    },
    {
     "name": "stdout",
     "output_type": "stream",
     "text": [
      "                   all      21848      21848      0.768      0.727      0.744      0.486\n",
      "              aircraft      21848        818      0.986      0.941      0.975      0.785\n",
      "                   ant      21848        980      0.749      0.799      0.842      0.462\n",
      "             badminton      21848        417      0.774      0.357      0.427      0.195\n",
      "                  bait      21848         14      0.744      0.714      0.779      0.307\n",
      "               balloon      21848        555      0.536      0.368      0.368      0.221\n",
      "                   bat      21848         87      0.128     0.0115     0.0201    0.00432\n",
      "                   bee      21848        262      0.911      0.931      0.966      0.709\n",
      "                  bery      21848         23       0.35     0.0435       0.11     0.0141\n",
      "               bicycle      21848        781      0.821      0.488       0.59      0.362\n",
      "                  bird      21848        926      0.614      0.477       0.54      0.292\n",
      "                  boat      21848        224      0.615      0.987      0.797      0.653\n",
      "               bowling      21848        167      0.873      0.958      0.977      0.721\n",
      "         bronze_statue      21848         56      0.986          1      0.995      0.962\n",
      "                   car      21848       2243       0.56      0.581      0.575      0.352\n",
      "                 chick      21848         43      0.983          1      0.995      0.841\n",
      "                  dice      21848        120      0.978      0.975      0.994      0.834\n",
      "            drosophila      21848         57      0.228      0.439      0.281      0.106\n",
      "                 eagle      21848        178      0.983       0.97      0.989       0.83\n",
      "      electric_bicycle      21848        292      0.559      0.425      0.449      0.229\n",
      "                  fish      21848        195      0.813      0.923      0.947      0.587\n",
      "                   fly      21848        340      0.821      0.894      0.934      0.634\n",
      "                  golf      21848        130      0.947      0.815      0.883      0.523\n",
      "                hoodle      21848       1135       0.72      0.741      0.725      0.338\n",
      "                insect      21848        417      0.987      0.983      0.988      0.757\n",
      "                   jet      21848       1799      0.983      0.878      0.949      0.661\n",
      "                  kite      21848        475      0.523      0.595      0.601      0.344\n",
      "      Kongming_Lantern      21848        422       0.54      0.749      0.621      0.386\n",
      "              ladybird      21848        412      0.969      0.966      0.992      0.784\n",
      "                 light      21848         71      0.696      0.193      0.211     0.0591\n",
      "                meteor      21848         13      0.795      0.692      0.705      0.415\n",
      "                  moon      21848         25      0.971          1      0.995      0.808\n",
      "            Paraglider      21848        279      0.933      0.828      0.916      0.491\n",
      "                people      21848       1860      0.671      0.778      0.766        0.5\n",
      "              pingpang      21848        687      0.923       0.77      0.837      0.441\n",
      "             poker_box      21848        161      0.968      0.988      0.991      0.642\n",
      "                 sheep      21848         97      0.873      0.938      0.946       0.57\n",
      "                  shot      21848         62      0.649      0.597       0.57      0.249\n",
      "                shrimp      21848        152      0.886          1       0.99      0.891\n",
      "           shuttlecock      21848        900      0.889      0.584      0.629      0.291\n",
      "            skateboard      21848        144      0.863      0.667      0.708      0.456\n",
      "            snake_head      21848        124        0.8      0.935      0.947      0.619\n",
      "                soccer      21848        802      0.889       0.83      0.899       0.51\n",
      "                  star      21848        597      0.727      0.462       0.67      0.396\n",
      "               surfing      21848        185      0.616      0.989      0.816      0.584\n",
      "                tennis      21848       1266      0.681      0.274      0.303      0.104\n",
      "                   ufo      21848         20      0.808          1      0.978      0.517\n",
      "            volleyball      21848        301      0.939      0.791      0.855      0.573\n",
      "                  yoyo      21848        534      0.598       0.59      0.656      0.327\n",
      "Speed: 0.1ms preprocess, 1.2ms inference, 0.0ms loss, 0.4ms postprocess per image\n",
      "Results saved to \u001b[1m/home/coinse/Documents/lm/spring2024/CS570-Video-Classification/runs/detect/train42\u001b[0m\n"
     ]
    }
   ],
   "source": [
    "\n",
    "import os\n",
    "# results = model.train(data='coco8.yaml', epochs=3)  # train the model\n",
    "# results = model.train(data=os.path.abspath('datasets/ToT_extracted/ToT.yaml'), epochs=200)  # train the model\n",
    "results = model.train(data=os.path.abspath('datasets/TOT/TOT.yaml'), epochs=100)  # train the model\n",
    "results = model.val()  # evaluate model performance on the validation set"
   ]
  },
  {
   "cell_type": "code",
   "execution_count": 6,
   "metadata": {},
   "outputs": [
    {
     "name": "stdout",
     "output_type": "stream",
     "text": [
      "\n",
      "image 1/1 /home/coinse/Documents/lm/spring2024/CS570-Video-Classification/datasets/TOT/YOLO/images/train/jet8_00002.jpg: 384x640 1 jet, 102.0ms\n",
      "Speed: 1.4ms preprocess, 102.0ms inference, 1.9ms postprocess per image at shape (1, 3, 384, 640)\n"
     ]
    }
   ],
   "source": [
    "ex_image = 'datasets/TOT/YOLO/images/train/jet8_00002.jpg'\n",
    "results = model(ex_image)"
   ]
  },
  {
   "cell_type": "code",
   "execution_count": null,
   "metadata": {},
   "outputs": [],
   "source": []
  }
 ],
 "metadata": {
  "kernelspec": {
   "display_name": ".venv",
   "language": "python",
   "name": "python3"
  },
  "language_info": {
   "codemirror_mode": {
    "name": "ipython",
    "version": 3
   },
   "file_extension": ".py",
   "mimetype": "text/x-python",
   "name": "python",
   "nbconvert_exporter": "python",
   "pygments_lexer": "ipython3",
   "version": "3.10.12"
  }
 },
 "nbformat": 4,
 "nbformat_minor": 2
}
