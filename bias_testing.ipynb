{
 "cells": [
  {
   "cell_type": "code",
   "execution_count": 1,
   "metadata": {},
   "outputs": [],
   "source": [
    "import os\n",
    "\n",
    "MAX_BATCHES = 113\n",
    "\n",
    "def checkpoint_time(checkpoint: str):\n",
    "    checkpoint = checkpoint.split('-')\n",
    "    epoch = int(checkpoint[0][5:])\n",
    "    batch = int(checkpoint[1][5:-3])\n",
    "    return epoch, batch\n",
    "\n",
    "def make_schedule(n_batches):\n",
    "    n = int((n_batches + 1) / 2)\n",
    "    ret = [0, n]\n",
    "    n = int((n + 1) / 2)\n",
    "    i = 1\n",
    "    end = False\n",
    "    while True:\n",
    "        prev = ret[-i:]\n",
    "        for p in prev:\n",
    "            if p-n not in ret and p-n > 0 : ret.append(p - n)\n",
    "            if p+n not in ret and p+n < n_batches: ret.append(p + n)\n",
    "\n",
    "        if end or n == 0: break\n",
    "        end = n == 1\n",
    "        n = int((n+1) / 2)\n",
    "        i = i * 2\n",
    "    return list(ret)\n",
    "\n",
    "def normalize_batch(epoch, batch):\n",
    "    return epoch + (batch / MAX_BATCHES)\n",
    "\n",
    "def get_checkpoints(run_name: str):\n",
    "    weights_dir = os.path.join('runs', 'detect', run_name, 'weights')\n",
    "    checkpoints = sorted(\n",
    "        [c for c in os.listdir(weights_dir) if 'batch' in c],\n",
    "        key=lambda x: normalize_batch(*checkpoint_time(x))\n",
    "    )\n",
    "    return weights_dir, checkpoints"
   ]
  },
  {
   "cell_type": "code",
   "execution_count": 2,
   "metadata": {},
   "outputs": [],
   "source": [
    "from ultralytics import YOLO\n",
    "from custom_eval import eval_video, get_test_files, BINARY_KEYS\n",
    "import json\n",
    "TEST_DIR = \"datasets/04_Test_Datasets/\"\n",
    "\n",
    "test_files = get_test_files(TEST_DIR)\n",
    "\n",
    "def eval_checkpoints(run_name, frame_conf, class_conf, max_epochs=None):\n",
    "    weights_dir, checkpoints = get_checkpoints(run_name)\n",
    "    n_epochs = len(set([checkpoint_time(c)[0] for c in checkpoints]))\n",
    "    n_batches = len(set([checkpoint_time(c)[1] for c in checkpoints]))\n",
    "    checkpoints_2d = [\n",
    "        [c for c in checkpoints if checkpoint_time(c)[0] == e]\n",
    "        for e in range(n_epochs)\n",
    "    ]\n",
    "    schedule = make_schedule(n_batches)\n",
    "    print(schedule)\n",
    "    for batch in schedule:\n",
    "        for epoch in range(min(n_epochs, max_epochs)):\n",
    "            checkpoint = checkpoints_2d[epoch][batch]\n",
    "            print(f\"EVAL ON EPOCH {epoch}, BATCH {batch} ({checkpoint})\")\n",
    "            model = YOLO(os.path.join(weights_dir, checkpoint))\n",
    "            res = eval_video(model, test_files, frame_conf, class_conf, BINARY_KEYS)\n",
    "            real_batch = checkpoint_time(checkpoint)[1]\n",
    "            res['epoch'] = epoch\n",
    "            res['batch'] = real_batch\n",
    "            with open(os.path.join('runs', 'detect', run_name, 'bias.jsonl'), 'a') as f:\n",
    "                f.write(json.dumps(res) + \"\\n\")\n",
    "\n"
   ]
  },
  {
   "cell_type": "code",
   "execution_count": 3,
   "metadata": {},
   "outputs": [
    {
     "name": "stdout",
     "output_type": "stream",
     "text": [
      "[0, 7, 3, 11, 1, 5, 9, 10, 12, 2, 4, 6, 8]\n",
      "EVAL ON EPOCH 0, BATCH 0 (epoch0-batch0.pt)\n",
      "starting eval...\n"
     ]
    },
    {
     "name": "stderr",
     "output_type": "stream",
     "text": [
      "  0%|          | 0/81 [00:00<?, ?it/s]"
     ]
    },
    {
     "name": "stdout",
     "output_type": "stream",
     "text": [
      "<class 'ultralytics.models.yolo.detect.predict.DetectionPredictor'>\n"
     ]
    },
    {
     "name": "stderr",
     "output_type": "stream",
     "text": [
      "/home/coinse/Documents/lm/spring2024/CS570-Video-Classification/.venv/lib/python3.10/site-packages/torch/nn/modules/conv.py:456: UserWarning: Applied workaround for CuDNN issue, install nvrtc.so (Triggered internally at ../aten/src/ATen/native/cudnn/Conv_v8.cpp:84.)\n",
      "  return F.conv2d(input, weight, bias, self.stride,\n",
      "/home/coinse/Documents/lm/spring2024/CS570-Video-Classification/.venv/lib/python3.10/site-packages/torch/nn/modules/conv.py:456: UserWarning: Plan failed with a cudnnException: CUDNN_BACKEND_EXECUTION_PLAN_DESCRIPTOR: cudnnFinalize Descriptor Failed cudnn_status: CUDNN_STATUS_NOT_SUPPORTED (Triggered internally at ../aten/src/ATen/native/cudnn/Conv_v8.cpp:919.)\n",
      "  return F.conv2d(input, weight, bias, self.stride,\n",
      "100%|██████████| 81/81 [03:02<00:00,  2.25s/it]\n"
     ]
    },
    {
     "name": "stdout",
     "output_type": "stream",
     "text": [
      "NUM CORRECT: 22 / 81 (0.27)\n",
      "LABELS DISTRIBUTION:\n",
      "{'None': 12, 'bird': 8, 'plane': 61}\n",
      "PREDICTIONS DISTRIBUTION:\n",
      "{'None': {'False_Neg': 10,\n",
      "          'False_Pos': 6,\n",
      "          'True_Neg': 63,\n",
      "          'True_Pos': 2,\n",
      "          'guess_rate': 0.09876543209876543},\n",
      " 'bird': {'False_Neg': 6,\n",
      "          'False_Pos': 47,\n",
      "          'True_Neg': 26,\n",
      "          'True_Pos': 2,\n",
      "          'guess_rate': 0.6049382716049383},\n",
      " 'plane': {'False_Neg': 43,\n",
      "           'False_Pos': 6,\n",
      "           'True_Neg': 14,\n",
      "           'True_Pos': 18,\n",
      "           'guess_rate': 0.2962962962962963}}\n",
      "EVAL ON EPOCH 1, BATCH 0 (epoch1-batch0.pt)\n",
      "starting eval...\n"
     ]
    },
    {
     "name": "stderr",
     "output_type": "stream",
     "text": [
      "  0%|          | 0/81 [00:00<?, ?it/s]"
     ]
    },
    {
     "name": "stdout",
     "output_type": "stream",
     "text": [
      "<class 'ultralytics.models.yolo.detect.predict.DetectionPredictor'>\n"
     ]
    },
    {
     "name": "stderr",
     "output_type": "stream",
     "text": [
      "100%|██████████| 81/81 [02:57<00:00,  2.19s/it]\n"
     ]
    },
    {
     "name": "stdout",
     "output_type": "stream",
     "text": [
      "NUM CORRECT: 46 / 81 (0.57)\n",
      "LABELS DISTRIBUTION:\n",
      "{'None': 12, 'bird': 8, 'plane': 61}\n",
      "PREDICTIONS DISTRIBUTION:\n",
      "{'None': {'False_Neg': 11,\n",
      "          'False_Pos': 0,\n",
      "          'True_Neg': 69,\n",
      "          'True_Pos': 1,\n",
      "          'guess_rate': 0.012345679012345678},\n",
      " 'bird': {'False_Neg': 1,\n",
      "          'False_Pos': 31,\n",
      "          'True_Neg': 42,\n",
      "          'True_Pos': 7,\n",
      "          'guess_rate': 0.4691358024691358},\n",
      " 'plane': {'False_Neg': 23,\n",
      "           'False_Pos': 4,\n",
      "           'True_Neg': 16,\n",
      "           'True_Pos': 38,\n",
      "           'guess_rate': 0.5185185185185185}}\n",
      "EVAL ON EPOCH 2, BATCH 0 (epoch2-batch0.pt)\n",
      "starting eval...\n"
     ]
    },
    {
     "name": "stderr",
     "output_type": "stream",
     "text": [
      "  0%|          | 0/81 [00:00<?, ?it/s]"
     ]
    },
    {
     "name": "stdout",
     "output_type": "stream",
     "text": [
      "<class 'ultralytics.models.yolo.detect.predict.DetectionPredictor'>\n"
     ]
    },
    {
     "name": "stderr",
     "output_type": "stream",
     "text": [
      "100%|██████████| 81/81 [02:58<00:00,  2.21s/it]\n"
     ]
    },
    {
     "name": "stdout",
     "output_type": "stream",
     "text": [
      "NUM CORRECT: 61 / 81 (0.75)\n",
      "LABELS DISTRIBUTION:\n",
      "{'None': 12, 'bird': 8, 'plane': 61}\n",
      "PREDICTIONS DISTRIBUTION:\n",
      "{'None': {'False_Neg': 11,\n",
      "          'False_Pos': 2,\n",
      "          'True_Neg': 67,\n",
      "          'True_Pos': 1,\n",
      "          'guess_rate': 0.037037037037037035},\n",
      " 'bird': {'False_Neg': 3,\n",
      "          'False_Pos': 9,\n",
      "          'True_Neg': 64,\n",
      "          'True_Pos': 5,\n",
      "          'guess_rate': 0.1728395061728395},\n",
      " 'plane': {'False_Neg': 6,\n",
      "           'False_Pos': 9,\n",
      "           'True_Neg': 11,\n",
      "           'True_Pos': 55,\n",
      "           'guess_rate': 0.7901234567901234}}\n",
      "EVAL ON EPOCH 3, BATCH 0 (epoch3-batch0.pt)\n",
      "starting eval...\n"
     ]
    },
    {
     "name": "stderr",
     "output_type": "stream",
     "text": [
      "  0%|          | 0/81 [00:00<?, ?it/s]"
     ]
    },
    {
     "name": "stdout",
     "output_type": "stream",
     "text": [
      "<class 'ultralytics.models.yolo.detect.predict.DetectionPredictor'>\n"
     ]
    },
    {
     "name": "stderr",
     "output_type": "stream",
     "text": [
      "100%|██████████| 81/81 [03:02<00:00,  2.25s/it]\n"
     ]
    },
    {
     "name": "stdout",
     "output_type": "stream",
     "text": [
      "NUM CORRECT: 61 / 81 (0.75)\n",
      "LABELS DISTRIBUTION:\n",
      "{'None': 12, 'bird': 8, 'plane': 61}\n",
      "PREDICTIONS DISTRIBUTION:\n",
      "{'None': {'False_Neg': 11,\n",
      "          'False_Pos': 0,\n",
      "          'True_Neg': 69,\n",
      "          'True_Pos': 1,\n",
      "          'guess_rate': 0.012345679012345678},\n",
      " 'bird': {'False_Neg': 4,\n",
      "          'False_Pos': 16,\n",
      "          'True_Neg': 57,\n",
      "          'True_Pos': 4,\n",
      "          'guess_rate': 0.24691358024691357},\n",
      " 'plane': {'False_Neg': 5,\n",
      "           'False_Pos': 4,\n",
      "           'True_Neg': 16,\n",
      "           'True_Pos': 56,\n",
      "           'guess_rate': 0.7407407407407407}}\n",
      "EVAL ON EPOCH 4, BATCH 0 (epoch4-batch0.pt)\n",
      "starting eval...\n"
     ]
    },
    {
     "name": "stderr",
     "output_type": "stream",
     "text": [
      "  0%|          | 0/81 [00:00<?, ?it/s]"
     ]
    },
    {
     "name": "stdout",
     "output_type": "stream",
     "text": [
      "<class 'ultralytics.models.yolo.detect.predict.DetectionPredictor'>\n"
     ]
    },
    {
     "name": "stderr",
     "output_type": "stream",
     "text": [
      "100%|██████████| 81/81 [03:01<00:00,  2.24s/it]\n"
     ]
    },
    {
     "name": "stdout",
     "output_type": "stream",
     "text": [
      "NUM CORRECT: 44 / 81 (0.54)\n",
      "LABELS DISTRIBUTION:\n",
      "{'None': 12, 'bird': 8, 'plane': 61}\n",
      "PREDICTIONS DISTRIBUTION:\n",
      "{'bird': {'False_Neg': 1,\n",
      "          'False_Pos': 34,\n",
      "          'True_Neg': 39,\n",
      "          'True_Pos': 7,\n",
      "          'guess_rate': 0.5061728395061729},\n",
      " 'plane': {'False_Neg': 24,\n",
      "           'False_Pos': 3,\n",
      "           'True_Neg': 17,\n",
      "           'True_Pos': 37,\n",
      "           'guess_rate': 0.49382716049382713}}\n",
      "EVAL ON EPOCH 0, BATCH 7 (epoch0-batch70.pt)\n",
      "starting eval...\n"
     ]
    },
    {
     "name": "stderr",
     "output_type": "stream",
     "text": [
      "  0%|          | 0/81 [00:00<?, ?it/s]"
     ]
    },
    {
     "name": "stdout",
     "output_type": "stream",
     "text": [
      "<class 'ultralytics.models.yolo.detect.predict.DetectionPredictor'>\n"
     ]
    },
    {
     "name": "stderr",
     "output_type": "stream",
     "text": [
      "100%|██████████| 81/81 [02:59<00:00,  2.22s/it]\n"
     ]
    },
    {
     "name": "stdout",
     "output_type": "stream",
     "text": [
      "NUM CORRECT: 52 / 81 (0.64)\n",
      "LABELS DISTRIBUTION:\n",
      "{'None': 12, 'bird': 8, 'plane': 61}\n",
      "PREDICTIONS DISTRIBUTION:\n",
      "{'None': {'False_Neg': 11,\n",
      "          'False_Pos': 0,\n",
      "          'True_Neg': 69,\n",
      "          'True_Pos': 1,\n",
      "          'guess_rate': 0.012345679012345678},\n",
      " 'bird': {'False_Neg': 7,\n",
      "          'False_Pos': 17,\n",
      "          'True_Neg': 56,\n",
      "          'True_Pos': 1,\n",
      "          'guess_rate': 0.2222222222222222},\n",
      " 'plane': {'False_Neg': 11,\n",
      "           'False_Pos': 12,\n",
      "           'True_Neg': 8,\n",
      "           'True_Pos': 50,\n",
      "           'guess_rate': 0.7654320987654321}}\n",
      "EVAL ON EPOCH 1, BATCH 7 (epoch1-batch70.pt)\n",
      "starting eval...\n"
     ]
    },
    {
     "name": "stderr",
     "output_type": "stream",
     "text": [
      "  0%|          | 0/81 [00:00<?, ?it/s]"
     ]
    },
    {
     "name": "stdout",
     "output_type": "stream",
     "text": [
      "<class 'ultralytics.models.yolo.detect.predict.DetectionPredictor'>\n"
     ]
    },
    {
     "name": "stderr",
     "output_type": "stream",
     "text": [
      "100%|██████████| 81/81 [02:56<00:00,  2.18s/it]\n"
     ]
    },
    {
     "name": "stdout",
     "output_type": "stream",
     "text": [
      "NUM CORRECT: 61 / 81 (0.75)\n",
      "LABELS DISTRIBUTION:\n",
      "{'None': 12, 'bird': 8, 'plane': 61}\n",
      "PREDICTIONS DISTRIBUTION:\n",
      "{'None': {'False_Neg': 11,\n",
      "          'False_Pos': 1,\n",
      "          'True_Neg': 68,\n",
      "          'True_Pos': 1,\n",
      "          'guess_rate': 0.024691358024691357},\n",
      " 'bird': {'False_Neg': 2,\n",
      "          'False_Pos': 13,\n",
      "          'True_Neg': 60,\n",
      "          'True_Pos': 6,\n",
      "          'guess_rate': 0.2345679012345679},\n",
      " 'plane': {'False_Neg': 7,\n",
      "           'False_Pos': 6,\n",
      "           'True_Neg': 14,\n",
      "           'True_Pos': 54,\n",
      "           'guess_rate': 0.7407407407407407}}\n",
      "EVAL ON EPOCH 2, BATCH 7 (epoch2-batch70.pt)\n",
      "starting eval...\n"
     ]
    },
    {
     "name": "stderr",
     "output_type": "stream",
     "text": [
      "  0%|          | 0/81 [00:00<?, ?it/s]"
     ]
    },
    {
     "name": "stdout",
     "output_type": "stream",
     "text": [
      "<class 'ultralytics.models.yolo.detect.predict.DetectionPredictor'>\n"
     ]
    },
    {
     "name": "stderr",
     "output_type": "stream",
     "text": [
      "100%|██████████| 81/81 [02:56<00:00,  2.18s/it]\n"
     ]
    },
    {
     "name": "stdout",
     "output_type": "stream",
     "text": [
      "NUM CORRECT: 63 / 81 (0.78)\n",
      "LABELS DISTRIBUTION:\n",
      "{'None': 12, 'bird': 8, 'plane': 61}\n",
      "PREDICTIONS DISTRIBUTION:\n",
      "{'None': {'False_Neg': 10,\n",
      "          'False_Pos': 1,\n",
      "          'True_Neg': 68,\n",
      "          'True_Pos': 2,\n",
      "          'guess_rate': 0.037037037037037035},\n",
      " 'bird': {'False_Neg': 4,\n",
      "          'False_Pos': 9,\n",
      "          'True_Neg': 64,\n",
      "          'True_Pos': 4,\n",
      "          'guess_rate': 0.16049382716049382},\n",
      " 'plane': {'False_Neg': 4,\n",
      "           'False_Pos': 8,\n",
      "           'True_Neg': 12,\n",
      "           'True_Pos': 57,\n",
      "           'guess_rate': 0.8024691358024691}}\n",
      "EVAL ON EPOCH 3, BATCH 7 (epoch3-batch70.pt)\n",
      "starting eval...\n"
     ]
    },
    {
     "name": "stderr",
     "output_type": "stream",
     "text": [
      "  0%|          | 0/81 [00:00<?, ?it/s]"
     ]
    },
    {
     "name": "stdout",
     "output_type": "stream",
     "text": [
      "<class 'ultralytics.models.yolo.detect.predict.DetectionPredictor'>\n"
     ]
    },
    {
     "name": "stderr",
     "output_type": "stream",
     "text": [
      "100%|██████████| 81/81 [02:58<00:00,  2.21s/it]\n"
     ]
    },
    {
     "name": "stdout",
     "output_type": "stream",
     "text": [
      "NUM CORRECT: 55 / 81 (0.68)\n",
      "LABELS DISTRIBUTION:\n",
      "{'None': 12, 'bird': 8, 'plane': 61}\n",
      "PREDICTIONS DISTRIBUTION:\n",
      "{'None': {'False_Neg': 11,\n",
      "          'False_Pos': 1,\n",
      "          'True_Neg': 68,\n",
      "          'True_Pos': 1,\n",
      "          'guess_rate': 0.024691358024691357},\n",
      " 'bird': {'False_Neg': 3,\n",
      "          'False_Pos': 17,\n",
      "          'True_Neg': 56,\n",
      "          'True_Pos': 5,\n",
      "          'guess_rate': 0.2716049382716049},\n",
      " 'plane': {'False_Neg': 12,\n",
      "           'False_Pos': 8,\n",
      "           'True_Neg': 12,\n",
      "           'True_Pos': 49,\n",
      "           'guess_rate': 0.7037037037037037}}\n",
      "EVAL ON EPOCH 4, BATCH 7 (epoch4-batch70.pt)\n",
      "starting eval...\n"
     ]
    },
    {
     "name": "stderr",
     "output_type": "stream",
     "text": [
      "  0%|          | 0/81 [00:00<?, ?it/s]"
     ]
    },
    {
     "name": "stdout",
     "output_type": "stream",
     "text": [
      "<class 'ultralytics.models.yolo.detect.predict.DetectionPredictor'>\n"
     ]
    },
    {
     "name": "stderr",
     "output_type": "stream",
     "text": [
      "100%|██████████| 81/81 [02:57<00:00,  2.19s/it]\n"
     ]
    },
    {
     "name": "stdout",
     "output_type": "stream",
     "text": [
      "NUM CORRECT: 54 / 81 (0.67)\n",
      "LABELS DISTRIBUTION:\n",
      "{'None': 12, 'bird': 8, 'plane': 61}\n",
      "PREDICTIONS DISTRIBUTION:\n",
      "{'None': {'False_Neg': 10,\n",
      "          'False_Pos': 2,\n",
      "          'True_Neg': 67,\n",
      "          'True_Pos': 2,\n",
      "          'guess_rate': 0.04938271604938271},\n",
      " 'bird': {'False_Neg': 3,\n",
      "          'False_Pos': 20,\n",
      "          'True_Neg': 53,\n",
      "          'True_Pos': 5,\n",
      "          'guess_rate': 0.30864197530864196},\n",
      " 'plane': {'False_Neg': 14,\n",
      "           'False_Pos': 5,\n",
      "           'True_Neg': 15,\n",
      "           'True_Pos': 47,\n",
      "           'guess_rate': 0.6419753086419753}}\n",
      "EVAL ON EPOCH 0, BATCH 3 (epoch0-batch30.pt)\n",
      "starting eval...\n"
     ]
    },
    {
     "name": "stderr",
     "output_type": "stream",
     "text": [
      "  0%|          | 0/81 [00:00<?, ?it/s]"
     ]
    },
    {
     "name": "stdout",
     "output_type": "stream",
     "text": [
      "<class 'ultralytics.models.yolo.detect.predict.DetectionPredictor'>\n"
     ]
    },
    {
     "name": "stderr",
     "output_type": "stream",
     "text": [
      "100%|██████████| 81/81 [03:01<00:00,  2.24s/it]\n"
     ]
    },
    {
     "name": "stdout",
     "output_type": "stream",
     "text": [
      "NUM CORRECT: 59 / 81 (0.73)\n",
      "LABELS DISTRIBUTION:\n",
      "{'None': 12, 'bird': 8, 'plane': 61}\n",
      "PREDICTIONS DISTRIBUTION:\n",
      "{'None': {'False_Neg': 11,\n",
      "          'False_Pos': 0,\n",
      "          'True_Neg': 69,\n",
      "          'True_Pos': 1,\n",
      "          'guess_rate': 0.012345679012345678},\n",
      " 'bird': {'False_Neg': 8,\n",
      "          'False_Pos': 6,\n",
      "          'True_Neg': 67,\n",
      "          'True_Pos': 0,\n",
      "          'guess_rate': 0.07407407407407407},\n",
      " 'plane': {'False_Neg': 3,\n",
      "           'False_Pos': 16,\n",
      "           'True_Neg': 4,\n",
      "           'True_Pos': 58,\n",
      "           'guess_rate': 0.9135802469135802}}\n",
      "EVAL ON EPOCH 1, BATCH 3 (epoch1-batch30.pt)\n",
      "starting eval...\n"
     ]
    },
    {
     "name": "stderr",
     "output_type": "stream",
     "text": [
      "  0%|          | 0/81 [00:00<?, ?it/s]"
     ]
    },
    {
     "name": "stdout",
     "output_type": "stream",
     "text": [
      "<class 'ultralytics.models.yolo.detect.predict.DetectionPredictor'>\n"
     ]
    },
    {
     "name": "stderr",
     "output_type": "stream",
     "text": [
      "100%|██████████| 81/81 [02:58<00:00,  2.20s/it]\n"
     ]
    },
    {
     "name": "stdout",
     "output_type": "stream",
     "text": [
      "NUM CORRECT: 59 / 81 (0.73)\n",
      "LABELS DISTRIBUTION:\n",
      "{'None': 12, 'bird': 8, 'plane': 61}\n",
      "PREDICTIONS DISTRIBUTION:\n",
      "{'None': {'False_Neg': 12,\n",
      "          'False_Pos': 1,\n",
      "          'True_Neg': 68,\n",
      "          'True_Pos': 0,\n",
      "          'guess_rate': 0.012345679012345678},\n",
      " 'bird': {'False_Neg': 3,\n",
      "          'False_Pos': 16,\n",
      "          'True_Neg': 57,\n",
      "          'True_Pos': 5,\n",
      "          'guess_rate': 0.25925925925925924},\n",
      " 'plane': {'False_Neg': 7,\n",
      "           'False_Pos': 5,\n",
      "           'True_Neg': 15,\n",
      "           'True_Pos': 54,\n",
      "           'guess_rate': 0.7283950617283951}}\n",
      "EVAL ON EPOCH 2, BATCH 3 (epoch2-batch30.pt)\n",
      "starting eval...\n"
     ]
    },
    {
     "name": "stderr",
     "output_type": "stream",
     "text": [
      "  0%|          | 0/81 [00:00<?, ?it/s]"
     ]
    },
    {
     "name": "stdout",
     "output_type": "stream",
     "text": [
      "<class 'ultralytics.models.yolo.detect.predict.DetectionPredictor'>\n"
     ]
    },
    {
     "name": "stderr",
     "output_type": "stream",
     "text": [
      "100%|██████████| 81/81 [02:57<00:00,  2.19s/it]\n"
     ]
    },
    {
     "name": "stdout",
     "output_type": "stream",
     "text": [
      "NUM CORRECT: 61 / 81 (0.75)\n",
      "LABELS DISTRIBUTION:\n",
      "{'None': 12, 'bird': 8, 'plane': 61}\n",
      "PREDICTIONS DISTRIBUTION:\n",
      "{'None': {'False_Neg': 11,\n",
      "          'False_Pos': 1,\n",
      "          'True_Neg': 68,\n",
      "          'True_Pos': 1,\n",
      "          'guess_rate': 0.024691358024691357},\n",
      " 'bird': {'False_Neg': 2,\n",
      "          'False_Pos': 10,\n",
      "          'True_Neg': 63,\n",
      "          'True_Pos': 6,\n",
      "          'guess_rate': 0.19753086419753085},\n",
      " 'plane': {'False_Neg': 7,\n",
      "           'False_Pos': 9,\n",
      "           'True_Neg': 11,\n",
      "           'True_Pos': 54,\n",
      "           'guess_rate': 0.7777777777777778}}\n",
      "EVAL ON EPOCH 3, BATCH 3 (epoch3-batch30.pt)\n",
      "starting eval...\n"
     ]
    },
    {
     "name": "stderr",
     "output_type": "stream",
     "text": [
      "  0%|          | 0/81 [00:00<?, ?it/s]"
     ]
    },
    {
     "name": "stdout",
     "output_type": "stream",
     "text": [
      "<class 'ultralytics.models.yolo.detect.predict.DetectionPredictor'>\n"
     ]
    },
    {
     "name": "stderr",
     "output_type": "stream",
     "text": [
      "100%|██████████| 81/81 [02:59<00:00,  2.21s/it]\n"
     ]
    },
    {
     "name": "stdout",
     "output_type": "stream",
     "text": [
      "NUM CORRECT: 53 / 81 (0.65)\n",
      "LABELS DISTRIBUTION:\n",
      "{'None': 12, 'bird': 8, 'plane': 61}\n",
      "PREDICTIONS DISTRIBUTION:\n",
      "{'None': {'False_Neg': 11,\n",
      "          'False_Pos': 0,\n",
      "          'True_Neg': 69,\n",
      "          'True_Pos': 1,\n",
      "          'guess_rate': 0.012345679012345678},\n",
      " 'bird': {'False_Neg': 2,\n",
      "          'False_Pos': 26,\n",
      "          'True_Neg': 47,\n",
      "          'True_Pos': 6,\n",
      "          'guess_rate': 0.3950617283950617},\n",
      " 'plane': {'False_Neg': 15,\n",
      "           'False_Pos': 2,\n",
      "           'True_Neg': 18,\n",
      "           'True_Pos': 46,\n",
      "           'guess_rate': 0.5925925925925926}}\n",
      "EVAL ON EPOCH 4, BATCH 3 (epoch4-batch30.pt)\n",
      "starting eval...\n"
     ]
    },
    {
     "name": "stderr",
     "output_type": "stream",
     "text": [
      "  0%|          | 0/81 [00:00<?, ?it/s]"
     ]
    },
    {
     "name": "stdout",
     "output_type": "stream",
     "text": [
      "<class 'ultralytics.models.yolo.detect.predict.DetectionPredictor'>\n"
     ]
    },
    {
     "name": "stderr",
     "output_type": "stream",
     "text": [
      "100%|██████████| 81/81 [02:53<00:00,  2.14s/it]\n"
     ]
    },
    {
     "name": "stdout",
     "output_type": "stream",
     "text": [
      "NUM CORRECT: 59 / 81 (0.73)\n",
      "LABELS DISTRIBUTION:\n",
      "{'None': 12, 'bird': 8, 'plane': 61}\n",
      "PREDICTIONS DISTRIBUTION:\n",
      "{'None': {'False_Neg': 11,\n",
      "          'False_Pos': 1,\n",
      "          'True_Neg': 68,\n",
      "          'True_Pos': 1,\n",
      "          'guess_rate': 0.024691358024691357},\n",
      " 'bird': {'False_Neg': 2,\n",
      "          'False_Pos': 15,\n",
      "          'True_Neg': 58,\n",
      "          'True_Pos': 6,\n",
      "          'guess_rate': 0.25925925925925924},\n",
      " 'plane': {'False_Neg': 9,\n",
      "           'False_Pos': 6,\n",
      "           'True_Neg': 14,\n",
      "           'True_Pos': 52,\n",
      "           'guess_rate': 0.7160493827160493}}\n",
      "EVAL ON EPOCH 0, BATCH 11 (epoch0-batch110.pt)\n",
      "starting eval...\n"
     ]
    },
    {
     "name": "stderr",
     "output_type": "stream",
     "text": [
      "  0%|          | 0/81 [00:00<?, ?it/s]"
     ]
    },
    {
     "name": "stdout",
     "output_type": "stream",
     "text": [
      "<class 'ultralytics.models.yolo.detect.predict.DetectionPredictor'>\n"
     ]
    },
    {
     "name": "stderr",
     "output_type": "stream",
     "text": [
      "100%|██████████| 81/81 [02:55<00:00,  2.16s/it]\n"
     ]
    },
    {
     "name": "stdout",
     "output_type": "stream",
     "text": [
      "NUM CORRECT: 47 / 81 (0.58)\n",
      "LABELS DISTRIBUTION:\n",
      "{'None': 12, 'bird': 8, 'plane': 61}\n",
      "PREDICTIONS DISTRIBUTION:\n",
      "{'None': {'False_Neg': 11,\n",
      "          'False_Pos': 0,\n",
      "          'True_Neg': 69,\n",
      "          'True_Pos': 1,\n",
      "          'guess_rate': 0.012345679012345678},\n",
      " 'bird': {'False_Neg': 0,\n",
      "          'False_Pos': 30,\n",
      "          'True_Neg': 43,\n",
      "          'True_Pos': 8,\n",
      "          'guess_rate': 0.4691358024691358},\n",
      " 'plane': {'False_Neg': 23,\n",
      "           'False_Pos': 4,\n",
      "           'True_Neg': 16,\n",
      "           'True_Pos': 38,\n",
      "           'guess_rate': 0.5185185185185185}}\n",
      "EVAL ON EPOCH 1, BATCH 11 (epoch1-batch110.pt)\n",
      "starting eval...\n"
     ]
    },
    {
     "name": "stderr",
     "output_type": "stream",
     "text": [
      "  0%|          | 0/81 [00:00<?, ?it/s]"
     ]
    },
    {
     "name": "stdout",
     "output_type": "stream",
     "text": [
      "<class 'ultralytics.models.yolo.detect.predict.DetectionPredictor'>\n"
     ]
    },
    {
     "name": "stderr",
     "output_type": "stream",
     "text": [
      "100%|██████████| 81/81 [02:58<00:00,  2.20s/it]\n"
     ]
    },
    {
     "name": "stdout",
     "output_type": "stream",
     "text": [
      "NUM CORRECT: 63 / 81 (0.78)\n",
      "LABELS DISTRIBUTION:\n",
      "{'None': 12, 'bird': 8, 'plane': 61}\n",
      "PREDICTIONS DISTRIBUTION:\n",
      "{'None': {'False_Neg': 11,\n",
      "          'False_Pos': 2,\n",
      "          'True_Neg': 67,\n",
      "          'True_Pos': 1,\n",
      "          'guess_rate': 0.037037037037037035},\n",
      " 'bird': {'False_Neg': 3,\n",
      "          'False_Pos': 6,\n",
      "          'True_Neg': 67,\n",
      "          'True_Pos': 5,\n",
      "          'guess_rate': 0.13580246913580246},\n",
      " 'plane': {'False_Neg': 4,\n",
      "           'False_Pos': 10,\n",
      "           'True_Neg': 10,\n",
      "           'True_Pos': 57,\n",
      "           'guess_rate': 0.8271604938271605}}\n",
      "EVAL ON EPOCH 2, BATCH 11 (epoch2-batch110.pt)\n",
      "starting eval...\n"
     ]
    },
    {
     "name": "stderr",
     "output_type": "stream",
     "text": [
      "  0%|          | 0/81 [00:00<?, ?it/s]"
     ]
    },
    {
     "name": "stdout",
     "output_type": "stream",
     "text": [
      "<class 'ultralytics.models.yolo.detect.predict.DetectionPredictor'>\n"
     ]
    },
    {
     "name": "stderr",
     "output_type": "stream",
     "text": [
      "100%|██████████| 81/81 [03:00<00:00,  2.23s/it]\n"
     ]
    },
    {
     "name": "stdout",
     "output_type": "stream",
     "text": [
      "NUM CORRECT: 56 / 81 (0.69)\n",
      "LABELS DISTRIBUTION:\n",
      "{'None': 12, 'bird': 8, 'plane': 61}\n",
      "PREDICTIONS DISTRIBUTION:\n",
      "{'bird': {'False_Neg': 4,\n",
      "          'False_Pos': 20,\n",
      "          'True_Neg': 53,\n",
      "          'True_Pos': 4,\n",
      "          'guess_rate': 0.2962962962962963},\n",
      " 'plane': {'False_Neg': 9,\n",
      "           'False_Pos': 5,\n",
      "           'True_Neg': 15,\n",
      "           'True_Pos': 52,\n",
      "           'guess_rate': 0.7037037037037037}}\n",
      "EVAL ON EPOCH 3, BATCH 11 (epoch3-batch110.pt)\n",
      "starting eval...\n"
     ]
    },
    {
     "name": "stderr",
     "output_type": "stream",
     "text": [
      "  0%|          | 0/81 [00:00<?, ?it/s]"
     ]
    },
    {
     "name": "stdout",
     "output_type": "stream",
     "text": [
      "<class 'ultralytics.models.yolo.detect.predict.DetectionPredictor'>\n"
     ]
    },
    {
     "name": "stderr",
     "output_type": "stream",
     "text": [
      "100%|██████████| 81/81 [03:02<00:00,  2.26s/it]\n"
     ]
    },
    {
     "name": "stdout",
     "output_type": "stream",
     "text": [
      "NUM CORRECT: 40 / 81 (0.49)\n",
      "LABELS DISTRIBUTION:\n",
      "{'None': 12, 'bird': 8, 'plane': 61}\n",
      "PREDICTIONS DISTRIBUTION:\n",
      "{'bird': {'False_Neg': 1,\n",
      "          'False_Pos': 39,\n",
      "          'True_Neg': 34,\n",
      "          'True_Pos': 7,\n",
      "          'guess_rate': 0.5679012345679012},\n",
      " 'plane': {'False_Neg': 28,\n",
      "           'False_Pos': 2,\n",
      "           'True_Neg': 18,\n",
      "           'True_Pos': 33,\n",
      "           'guess_rate': 0.43209876543209874}}\n",
      "EVAL ON EPOCH 4, BATCH 11 (epoch4-batch110.pt)\n",
      "starting eval...\n"
     ]
    },
    {
     "name": "stderr",
     "output_type": "stream",
     "text": [
      "  0%|          | 0/81 [00:00<?, ?it/s]"
     ]
    },
    {
     "name": "stdout",
     "output_type": "stream",
     "text": [
      "<class 'ultralytics.models.yolo.detect.predict.DetectionPredictor'>\n"
     ]
    },
    {
     "name": "stderr",
     "output_type": "stream",
     "text": [
      "100%|██████████| 81/81 [02:56<00:00,  2.18s/it]\n"
     ]
    },
    {
     "name": "stdout",
     "output_type": "stream",
     "text": [
      "NUM CORRECT: 54 / 81 (0.67)\n",
      "LABELS DISTRIBUTION:\n",
      "{'None': 12, 'bird': 8, 'plane': 61}\n",
      "PREDICTIONS DISTRIBUTION:\n",
      "{'None': {'False_Neg': 12,\n",
      "          'False_Pos': 2,\n",
      "          'True_Neg': 67,\n",
      "          'True_Pos': 0,\n",
      "          'guess_rate': 0.024691358024691357},\n",
      " 'bird': {'False_Neg': 3,\n",
      "          'False_Pos': 21,\n",
      "          'True_Neg': 52,\n",
      "          'True_Pos': 5,\n",
      "          'guess_rate': 0.32098765432098764},\n",
      " 'plane': {'False_Neg': 12,\n",
      "           'False_Pos': 4,\n",
      "           'True_Neg': 16,\n",
      "           'True_Pos': 49,\n",
      "           'guess_rate': 0.654320987654321}}\n",
      "EVAL ON EPOCH 0, BATCH 1 (epoch0-batch10.pt)\n",
      "starting eval...\n"
     ]
    },
    {
     "name": "stderr",
     "output_type": "stream",
     "text": [
      "  0%|          | 0/81 [00:00<?, ?it/s]"
     ]
    },
    {
     "name": "stdout",
     "output_type": "stream",
     "text": [
      "<class 'ultralytics.models.yolo.detect.predict.DetectionPredictor'>\n"
     ]
    },
    {
     "name": "stderr",
     "output_type": "stream",
     "text": [
      "100%|██████████| 81/81 [02:58<00:00,  2.20s/it]\n"
     ]
    },
    {
     "name": "stdout",
     "output_type": "stream",
     "text": [
      "NUM CORRECT: 25 / 81 (0.31)\n",
      "LABELS DISTRIBUTION:\n",
      "{'None': 12, 'bird': 8, 'plane': 61}\n",
      "PREDICTIONS DISTRIBUTION:\n",
      "{'None': {'False_Neg': 10,\n",
      "          'False_Pos': 5,\n",
      "          'True_Neg': 64,\n",
      "          'True_Pos': 2,\n",
      "          'guess_rate': 0.08641975308641975},\n",
      " 'bird': {'False_Neg': 6,\n",
      "          'False_Pos': 42,\n",
      "          'True_Neg': 31,\n",
      "          'True_Pos': 2,\n",
      "          'guess_rate': 0.5432098765432098},\n",
      " 'plane': {'False_Neg': 40,\n",
      "           'False_Pos': 9,\n",
      "           'True_Neg': 11,\n",
      "           'True_Pos': 21,\n",
      "           'guess_rate': 0.37037037037037035}}\n",
      "EVAL ON EPOCH 1, BATCH 1 (epoch1-batch10.pt)\n",
      "starting eval...\n"
     ]
    },
    {
     "name": "stderr",
     "output_type": "stream",
     "text": [
      "  0%|          | 0/81 [00:00<?, ?it/s]"
     ]
    },
    {
     "name": "stdout",
     "output_type": "stream",
     "text": [
      "<class 'ultralytics.models.yolo.detect.predict.DetectionPredictor'>\n"
     ]
    },
    {
     "name": "stderr",
     "output_type": "stream",
     "text": [
      "100%|██████████| 81/81 [03:00<00:00,  2.23s/it]\n"
     ]
    },
    {
     "name": "stdout",
     "output_type": "stream",
     "text": [
      "NUM CORRECT: 63 / 81 (0.78)\n",
      "LABELS DISTRIBUTION:\n",
      "{'None': 12, 'bird': 8, 'plane': 61}\n",
      "PREDICTIONS DISTRIBUTION:\n",
      "{'None': {'False_Neg': 11,\n",
      "          'False_Pos': 0,\n",
      "          'True_Neg': 69,\n",
      "          'True_Pos': 1,\n",
      "          'guess_rate': 0.012345679012345678},\n",
      " 'bird': {'False_Neg': 3,\n",
      "          'False_Pos': 9,\n",
      "          'True_Neg': 64,\n",
      "          'True_Pos': 5,\n",
      "          'guess_rate': 0.1728395061728395},\n",
      " 'plane': {'False_Neg': 4,\n",
      "           'False_Pos': 9,\n",
      "           'True_Neg': 11,\n",
      "           'True_Pos': 57,\n",
      "           'guess_rate': 0.8148148148148148}}\n",
      "EVAL ON EPOCH 2, BATCH 1 (epoch2-batch10.pt)\n",
      "starting eval...\n"
     ]
    },
    {
     "name": "stderr",
     "output_type": "stream",
     "text": [
      "  0%|          | 0/81 [00:00<?, ?it/s]"
     ]
    },
    {
     "name": "stdout",
     "output_type": "stream",
     "text": [
      "<class 'ultralytics.models.yolo.detect.predict.DetectionPredictor'>\n"
     ]
    },
    {
     "name": "stderr",
     "output_type": "stream",
     "text": [
      "100%|██████████| 81/81 [03:04<00:00,  2.28s/it]\n"
     ]
    },
    {
     "name": "stdout",
     "output_type": "stream",
     "text": [
      "NUM CORRECT: 56 / 81 (0.69)\n",
      "LABELS DISTRIBUTION:\n",
      "{'None': 12, 'bird': 8, 'plane': 61}\n",
      "PREDICTIONS DISTRIBUTION:\n",
      "{'None': {'False_Neg': 11,\n",
      "          'False_Pos': 2,\n",
      "          'True_Neg': 67,\n",
      "          'True_Pos': 1,\n",
      "          'guess_rate': 0.037037037037037035},\n",
      " 'bird': {'False_Neg': 2,\n",
      "          'False_Pos': 17,\n",
      "          'True_Neg': 56,\n",
      "          'True_Pos': 6,\n",
      "          'guess_rate': 0.2839506172839506},\n",
      " 'plane': {'False_Neg': 12,\n",
      "           'False_Pos': 6,\n",
      "           'True_Neg': 14,\n",
      "           'True_Pos': 49,\n",
      "           'guess_rate': 0.6790123456790124}}\n",
      "EVAL ON EPOCH 3, BATCH 1 (epoch3-batch10.pt)\n",
      "starting eval...\n"
     ]
    },
    {
     "name": "stderr",
     "output_type": "stream",
     "text": [
      "  0%|          | 0/81 [00:00<?, ?it/s]"
     ]
    },
    {
     "name": "stdout",
     "output_type": "stream",
     "text": [
      "<class 'ultralytics.models.yolo.detect.predict.DetectionPredictor'>\n"
     ]
    },
    {
     "name": "stderr",
     "output_type": "stream",
     "text": [
      "100%|██████████| 81/81 [02:59<00:00,  2.21s/it]\n"
     ]
    },
    {
     "name": "stdout",
     "output_type": "stream",
     "text": [
      "NUM CORRECT: 61 / 81 (0.75)\n",
      "LABELS DISTRIBUTION:\n",
      "{'None': 12, 'bird': 8, 'plane': 61}\n",
      "PREDICTIONS DISTRIBUTION:\n",
      "{'None': {'False_Neg': 11,\n",
      "          'False_Pos': 0,\n",
      "          'True_Neg': 69,\n",
      "          'True_Pos': 1,\n",
      "          'guess_rate': 0.012345679012345678},\n",
      " 'bird': {'False_Neg': 3,\n",
      "          'False_Pos': 17,\n",
      "          'True_Neg': 56,\n",
      "          'True_Pos': 5,\n",
      "          'guess_rate': 0.2716049382716049},\n",
      " 'plane': {'False_Neg': 6,\n",
      "           'False_Pos': 3,\n",
      "           'True_Neg': 17,\n",
      "           'True_Pos': 55,\n",
      "           'guess_rate': 0.7160493827160493}}\n",
      "EVAL ON EPOCH 4, BATCH 1 (epoch4-batch10.pt)\n",
      "starting eval...\n"
     ]
    },
    {
     "name": "stderr",
     "output_type": "stream",
     "text": [
      "  0%|          | 0/81 [00:00<?, ?it/s]"
     ]
    },
    {
     "name": "stdout",
     "output_type": "stream",
     "text": [
      "<class 'ultralytics.models.yolo.detect.predict.DetectionPredictor'>\n"
     ]
    },
    {
     "name": "stderr",
     "output_type": "stream",
     "text": [
      "100%|██████████| 81/81 [02:58<00:00,  2.20s/it]\n"
     ]
    },
    {
     "name": "stdout",
     "output_type": "stream",
     "text": [
      "NUM CORRECT: 51 / 81 (0.63)\n",
      "LABELS DISTRIBUTION:\n",
      "{'None': 12, 'bird': 8, 'plane': 61}\n",
      "PREDICTIONS DISTRIBUTION:\n",
      "{'None': {'False_Neg': 11,\n",
      "          'False_Pos': 0,\n",
      "          'True_Neg': 69,\n",
      "          'True_Pos': 1,\n",
      "          'guess_rate': 0.012345679012345678},\n",
      " 'bird': {'False_Neg': 1,\n",
      "          'False_Pos': 26,\n",
      "          'True_Neg': 47,\n",
      "          'True_Pos': 7,\n",
      "          'guess_rate': 0.4074074074074074},\n",
      " 'plane': {'False_Neg': 18,\n",
      "           'False_Pos': 4,\n",
      "           'True_Neg': 16,\n",
      "           'True_Pos': 43,\n",
      "           'guess_rate': 0.5802469135802469}}\n",
      "EVAL ON EPOCH 0, BATCH 5 (epoch0-batch50.pt)\n",
      "starting eval...\n"
     ]
    },
    {
     "name": "stderr",
     "output_type": "stream",
     "text": [
      "  0%|          | 0/81 [00:00<?, ?it/s]"
     ]
    },
    {
     "name": "stdout",
     "output_type": "stream",
     "text": [
      "<class 'ultralytics.models.yolo.detect.predict.DetectionPredictor'>\n"
     ]
    },
    {
     "name": "stderr",
     "output_type": "stream",
     "text": [
      "100%|██████████| 81/81 [02:58<00:00,  2.20s/it]\n"
     ]
    },
    {
     "name": "stdout",
     "output_type": "stream",
     "text": [
      "NUM CORRECT: 59 / 81 (0.73)\n",
      "LABELS DISTRIBUTION:\n",
      "{'None': 12, 'bird': 8, 'plane': 61}\n",
      "PREDICTIONS DISTRIBUTION:\n",
      "{'None': {'False_Neg': 11,\n",
      "          'False_Pos': 0,\n",
      "          'True_Neg': 69,\n",
      "          'True_Pos': 1,\n",
      "          'guess_rate': 0.012345679012345678},\n",
      " 'bird': {'False_Neg': 6,\n",
      "          'False_Pos': 11,\n",
      "          'True_Neg': 62,\n",
      "          'True_Pos': 2,\n",
      "          'guess_rate': 0.16049382716049382},\n",
      " 'plane': {'False_Neg': 5,\n",
      "           'False_Pos': 11,\n",
      "           'True_Neg': 9,\n",
      "           'True_Pos': 56,\n",
      "           'guess_rate': 0.8271604938271605}}\n",
      "EVAL ON EPOCH 1, BATCH 5 (epoch1-batch50.pt)\n",
      "starting eval...\n"
     ]
    },
    {
     "name": "stderr",
     "output_type": "stream",
     "text": [
      "  0%|          | 0/81 [00:00<?, ?it/s]"
     ]
    },
    {
     "name": "stdout",
     "output_type": "stream",
     "text": [
      "<class 'ultralytics.models.yolo.detect.predict.DetectionPredictor'>\n"
     ]
    },
    {
     "name": "stderr",
     "output_type": "stream",
     "text": [
      "100%|██████████| 81/81 [03:00<00:00,  2.23s/it]\n"
     ]
    },
    {
     "name": "stdout",
     "output_type": "stream",
     "text": [
      "NUM CORRECT: 39 / 81 (0.48)\n",
      "LABELS DISTRIBUTION:\n",
      "{'None': 12, 'bird': 8, 'plane': 61}\n",
      "PREDICTIONS DISTRIBUTION:\n",
      "{'None': {'False_Neg': 11,\n",
      "          'False_Pos': 1,\n",
      "          'True_Neg': 68,\n",
      "          'True_Pos': 1,\n",
      "          'guess_rate': 0.024691358024691357},\n",
      " 'bird': {'False_Neg': 2,\n",
      "          'False_Pos': 38,\n",
      "          'True_Neg': 35,\n",
      "          'True_Pos': 6,\n",
      "          'guess_rate': 0.5432098765432098},\n",
      " 'plane': {'False_Neg': 29,\n",
      "           'False_Pos': 3,\n",
      "           'True_Neg': 17,\n",
      "           'True_Pos': 32,\n",
      "           'guess_rate': 0.43209876543209874}}\n",
      "EVAL ON EPOCH 2, BATCH 5 (epoch2-batch50.pt)\n",
      "starting eval...\n"
     ]
    },
    {
     "name": "stderr",
     "output_type": "stream",
     "text": [
      "  0%|          | 0/81 [00:00<?, ?it/s]"
     ]
    },
    {
     "name": "stdout",
     "output_type": "stream",
     "text": [
      "<class 'ultralytics.models.yolo.detect.predict.DetectionPredictor'>\n"
     ]
    },
    {
     "name": "stderr",
     "output_type": "stream",
     "text": [
      "100%|██████████| 81/81 [03:00<00:00,  2.23s/it]\n"
     ]
    },
    {
     "name": "stdout",
     "output_type": "stream",
     "text": [
      "NUM CORRECT: 51 / 81 (0.63)\n",
      "LABELS DISTRIBUTION:\n",
      "{'None': 12, 'bird': 8, 'plane': 61}\n",
      "PREDICTIONS DISTRIBUTION:\n",
      "{'bird': {'False_Neg': 0,\n",
      "          'False_Pos': 30,\n",
      "          'True_Neg': 43,\n",
      "          'True_Pos': 8,\n",
      "          'guess_rate': 0.4691358024691358},\n",
      " 'plane': {'False_Neg': 18,\n",
      "           'False_Pos': 0,\n",
      "           'True_Neg': 20,\n",
      "           'True_Pos': 43,\n",
      "           'guess_rate': 0.5308641975308642}}\n",
      "EVAL ON EPOCH 3, BATCH 5 (epoch3-batch50.pt)\n",
      "starting eval...\n"
     ]
    },
    {
     "name": "stderr",
     "output_type": "stream",
     "text": [
      "  0%|          | 0/81 [00:00<?, ?it/s]"
     ]
    },
    {
     "name": "stdout",
     "output_type": "stream",
     "text": [
      "<class 'ultralytics.models.yolo.detect.predict.DetectionPredictor'>\n"
     ]
    },
    {
     "name": "stderr",
     "output_type": "stream",
     "text": [
      "100%|██████████| 81/81 [02:59<00:00,  2.21s/it]\n"
     ]
    },
    {
     "name": "stdout",
     "output_type": "stream",
     "text": [
      "NUM CORRECT: 50 / 81 (0.62)\n",
      "LABELS DISTRIBUTION:\n",
      "{'None': 12, 'bird': 8, 'plane': 61}\n",
      "PREDICTIONS DISTRIBUTION:\n",
      "{'None': {'False_Neg': 11,\n",
      "          'False_Pos': 0,\n",
      "          'True_Neg': 69,\n",
      "          'True_Pos': 1,\n",
      "          'guess_rate': 0.012345679012345678},\n",
      " 'bird': {'False_Neg': 1,\n",
      "          'False_Pos': 26,\n",
      "          'True_Neg': 47,\n",
      "          'True_Pos': 7,\n",
      "          'guess_rate': 0.4074074074074074},\n",
      " 'plane': {'False_Neg': 19,\n",
      "           'False_Pos': 5,\n",
      "           'True_Neg': 15,\n",
      "           'True_Pos': 42,\n",
      "           'guess_rate': 0.5802469135802469}}\n",
      "EVAL ON EPOCH 4, BATCH 5 (epoch4-batch50.pt)\n",
      "starting eval...\n"
     ]
    },
    {
     "name": "stderr",
     "output_type": "stream",
     "text": [
      "  0%|          | 0/81 [00:00<?, ?it/s]"
     ]
    },
    {
     "name": "stdout",
     "output_type": "stream",
     "text": [
      "<class 'ultralytics.models.yolo.detect.predict.DetectionPredictor'>\n"
     ]
    },
    {
     "name": "stderr",
     "output_type": "stream",
     "text": [
      "100%|██████████| 81/81 [02:57<00:00,  2.19s/it]\n"
     ]
    },
    {
     "name": "stdout",
     "output_type": "stream",
     "text": [
      "NUM CORRECT: 61 / 81 (0.75)\n",
      "LABELS DISTRIBUTION:\n",
      "{'None': 12, 'bird': 8, 'plane': 61}\n",
      "PREDICTIONS DISTRIBUTION:\n",
      "{'None': {'False_Neg': 12,\n",
      "          'False_Pos': 1,\n",
      "          'True_Neg': 68,\n",
      "          'True_Pos': 0,\n",
      "          'guess_rate': 0.012345679012345678},\n",
      " 'bird': {'False_Neg': 1,\n",
      "          'False_Pos': 15,\n",
      "          'True_Neg': 58,\n",
      "          'True_Pos': 7,\n",
      "          'guess_rate': 0.2716049382716049},\n",
      " 'plane': {'False_Neg': 7,\n",
      "           'False_Pos': 4,\n",
      "           'True_Neg': 16,\n",
      "           'True_Pos': 54,\n",
      "           'guess_rate': 0.7160493827160493}}\n",
      "EVAL ON EPOCH 0, BATCH 9 (epoch0-batch90.pt)\n",
      "starting eval...\n"
     ]
    },
    {
     "name": "stderr",
     "output_type": "stream",
     "text": [
      "  0%|          | 0/81 [00:00<?, ?it/s]"
     ]
    },
    {
     "name": "stdout",
     "output_type": "stream",
     "text": [
      "<class 'ultralytics.models.yolo.detect.predict.DetectionPredictor'>\n"
     ]
    },
    {
     "name": "stderr",
     "output_type": "stream",
     "text": [
      "100%|██████████| 81/81 [02:58<00:00,  2.20s/it]\n"
     ]
    },
    {
     "name": "stdout",
     "output_type": "stream",
     "text": [
      "NUM CORRECT: 51 / 81 (0.63)\n",
      "LABELS DISTRIBUTION:\n",
      "{'None': 12, 'bird': 8, 'plane': 61}\n",
      "PREDICTIONS DISTRIBUTION:\n",
      "{'None': {'False_Neg': 11,\n",
      "          'False_Pos': 0,\n",
      "          'True_Neg': 69,\n",
      "          'True_Pos': 1,\n",
      "          'guess_rate': 0.012345679012345678},\n",
      " 'bird': {'False_Neg': 6,\n",
      "          'False_Pos': 17,\n",
      "          'True_Neg': 56,\n",
      "          'True_Pos': 2,\n",
      "          'guess_rate': 0.2345679012345679},\n",
      " 'plane': {'False_Neg': 13,\n",
      "           'False_Pos': 13,\n",
      "           'True_Neg': 7,\n",
      "           'True_Pos': 48,\n",
      "           'guess_rate': 0.7530864197530864}}\n",
      "EVAL ON EPOCH 1, BATCH 9 (epoch1-batch90.pt)\n",
      "starting eval...\n"
     ]
    },
    {
     "name": "stderr",
     "output_type": "stream",
     "text": [
      "  0%|          | 0/81 [00:00<?, ?it/s]"
     ]
    },
    {
     "name": "stdout",
     "output_type": "stream",
     "text": [
      "<class 'ultralytics.models.yolo.detect.predict.DetectionPredictor'>\n"
     ]
    },
    {
     "name": "stderr",
     "output_type": "stream",
     "text": [
      "100%|██████████| 81/81 [02:58<00:00,  2.21s/it]\n"
     ]
    },
    {
     "name": "stdout",
     "output_type": "stream",
     "text": [
      "NUM CORRECT: 54 / 81 (0.67)\n",
      "LABELS DISTRIBUTION:\n",
      "{'None': 12, 'bird': 8, 'plane': 61}\n",
      "PREDICTIONS DISTRIBUTION:\n",
      "{'None': {'False_Neg': 11,\n",
      "          'False_Pos': 2,\n",
      "          'True_Neg': 67,\n",
      "          'True_Pos': 1,\n",
      "          'guess_rate': 0.037037037037037035},\n",
      " 'bird': {'False_Neg': 3,\n",
      "          'False_Pos': 22,\n",
      "          'True_Neg': 51,\n",
      "          'True_Pos': 5,\n",
      "          'guess_rate': 0.3333333333333333},\n",
      " 'plane': {'False_Neg': 13,\n",
      "           'False_Pos': 3,\n",
      "           'True_Neg': 17,\n",
      "           'True_Pos': 48,\n",
      "           'guess_rate': 0.6296296296296297}}\n",
      "EVAL ON EPOCH 2, BATCH 9 (epoch2-batch90.pt)\n",
      "starting eval...\n"
     ]
    },
    {
     "name": "stderr",
     "output_type": "stream",
     "text": [
      "  0%|          | 0/81 [00:00<?, ?it/s]"
     ]
    },
    {
     "name": "stdout",
     "output_type": "stream",
     "text": [
      "<class 'ultralytics.models.yolo.detect.predict.DetectionPredictor'>\n"
     ]
    },
    {
     "name": "stderr",
     "output_type": "stream",
     "text": [
      "100%|██████████| 81/81 [02:58<00:00,  2.21s/it]\n"
     ]
    },
    {
     "name": "stdout",
     "output_type": "stream",
     "text": [
      "NUM CORRECT: 56 / 81 (0.69)\n",
      "LABELS DISTRIBUTION:\n",
      "{'None': 12, 'bird': 8, 'plane': 61}\n",
      "PREDICTIONS DISTRIBUTION:\n",
      "{'None': {'False_Neg': 11,\n",
      "          'False_Pos': 1,\n",
      "          'True_Neg': 68,\n",
      "          'True_Pos': 1,\n",
      "          'guess_rate': 0.024691358024691357},\n",
      " 'bird': {'False_Neg': 3,\n",
      "          'False_Pos': 20,\n",
      "          'True_Neg': 53,\n",
      "          'True_Pos': 5,\n",
      "          'guess_rate': 0.30864197530864196},\n",
      " 'plane': {'False_Neg': 11,\n",
      "           'False_Pos': 4,\n",
      "           'True_Neg': 16,\n",
      "           'True_Pos': 50,\n",
      "           'guess_rate': 0.6666666666666666}}\n",
      "EVAL ON EPOCH 3, BATCH 9 (epoch3-batch90.pt)\n",
      "starting eval...\n"
     ]
    },
    {
     "name": "stderr",
     "output_type": "stream",
     "text": [
      "  0%|          | 0/81 [00:00<?, ?it/s]"
     ]
    },
    {
     "name": "stdout",
     "output_type": "stream",
     "text": [
      "<class 'ultralytics.models.yolo.detect.predict.DetectionPredictor'>\n"
     ]
    },
    {
     "name": "stderr",
     "output_type": "stream",
     "text": [
      "100%|██████████| 81/81 [02:59<00:00,  2.22s/it]\n"
     ]
    },
    {
     "name": "stdout",
     "output_type": "stream",
     "text": [
      "NUM CORRECT: 52 / 81 (0.64)\n",
      "LABELS DISTRIBUTION:\n",
      "{'None': 12, 'bird': 8, 'plane': 61}\n",
      "PREDICTIONS DISTRIBUTION:\n",
      "{'None': {'False_Neg': 11,\n",
      "          'False_Pos': 0,\n",
      "          'True_Neg': 69,\n",
      "          'True_Pos': 1,\n",
      "          'guess_rate': 0.012345679012345678},\n",
      " 'bird': {'False_Neg': 1,\n",
      "          'False_Pos': 26,\n",
      "          'True_Neg': 47,\n",
      "          'True_Pos': 7,\n",
      "          'guess_rate': 0.4074074074074074},\n",
      " 'plane': {'False_Neg': 17,\n",
      "           'False_Pos': 3,\n",
      "           'True_Neg': 17,\n",
      "           'True_Pos': 44,\n",
      "           'guess_rate': 0.5802469135802469}}\n",
      "EVAL ON EPOCH 4, BATCH 9 (epoch4-batch90.pt)\n",
      "starting eval...\n"
     ]
    },
    {
     "name": "stderr",
     "output_type": "stream",
     "text": [
      "  0%|          | 0/81 [00:00<?, ?it/s]"
     ]
    },
    {
     "name": "stdout",
     "output_type": "stream",
     "text": [
      "<class 'ultralytics.models.yolo.detect.predict.DetectionPredictor'>\n"
     ]
    },
    {
     "name": "stderr",
     "output_type": "stream",
     "text": [
      "100%|██████████| 81/81 [02:57<00:00,  2.19s/it]\n"
     ]
    },
    {
     "name": "stdout",
     "output_type": "stream",
     "text": [
      "NUM CORRECT: 54 / 81 (0.67)\n",
      "LABELS DISTRIBUTION:\n",
      "{'None': 12, 'bird': 8, 'plane': 61}\n",
      "PREDICTIONS DISTRIBUTION:\n",
      "{'None': {'False_Neg': 12,\n",
      "          'False_Pos': 2,\n",
      "          'True_Neg': 67,\n",
      "          'True_Pos': 0,\n",
      "          'guess_rate': 0.024691358024691357},\n",
      " 'bird': {'False_Neg': 3,\n",
      "          'False_Pos': 21,\n",
      "          'True_Neg': 52,\n",
      "          'True_Pos': 5,\n",
      "          'guess_rate': 0.32098765432098764},\n",
      " 'plane': {'False_Neg': 12,\n",
      "           'False_Pos': 4,\n",
      "           'True_Neg': 16,\n",
      "           'True_Pos': 49,\n",
      "           'guess_rate': 0.654320987654321}}\n",
      "EVAL ON EPOCH 0, BATCH 10 (epoch0-batch100.pt)\n",
      "starting eval...\n"
     ]
    },
    {
     "name": "stderr",
     "output_type": "stream",
     "text": [
      "  0%|          | 0/81 [00:00<?, ?it/s]"
     ]
    },
    {
     "name": "stdout",
     "output_type": "stream",
     "text": [
      "<class 'ultralytics.models.yolo.detect.predict.DetectionPredictor'>\n"
     ]
    },
    {
     "name": "stderr",
     "output_type": "stream",
     "text": [
      "100%|██████████| 81/81 [02:59<00:00,  2.21s/it]\n"
     ]
    },
    {
     "name": "stdout",
     "output_type": "stream",
     "text": [
      "NUM CORRECT: 55 / 81 (0.68)\n",
      "LABELS DISTRIBUTION:\n",
      "{'None': 12, 'bird': 8, 'plane': 61}\n",
      "PREDICTIONS DISTRIBUTION:\n",
      "{'bird': {'False_Neg': 2,\n",
      "          'False_Pos': 18,\n",
      "          'True_Neg': 55,\n",
      "          'True_Pos': 6,\n",
      "          'guess_rate': 0.2962962962962963},\n",
      " 'plane': {'False_Neg': 12,\n",
      "           'False_Pos': 8,\n",
      "           'True_Neg': 12,\n",
      "           'True_Pos': 49,\n",
      "           'guess_rate': 0.7037037037037037}}\n",
      "EVAL ON EPOCH 1, BATCH 10 (epoch1-batch100.pt)\n",
      "starting eval...\n"
     ]
    },
    {
     "name": "stderr",
     "output_type": "stream",
     "text": [
      "  0%|          | 0/81 [00:00<?, ?it/s]"
     ]
    },
    {
     "name": "stdout",
     "output_type": "stream",
     "text": [
      "<class 'ultralytics.models.yolo.detect.predict.DetectionPredictor'>\n"
     ]
    },
    {
     "name": "stderr",
     "output_type": "stream",
     "text": [
      "100%|██████████| 81/81 [02:58<00:00,  2.21s/it]\n"
     ]
    },
    {
     "name": "stdout",
     "output_type": "stream",
     "text": [
      "NUM CORRECT: 62 / 81 (0.77)\n",
      "LABELS DISTRIBUTION:\n",
      "{'None': 12, 'bird': 8, 'plane': 61}\n",
      "PREDICTIONS DISTRIBUTION:\n",
      "{'None': {'False_Neg': 11,\n",
      "          'False_Pos': 2,\n",
      "          'True_Neg': 67,\n",
      "          'True_Pos': 1,\n",
      "          'guess_rate': 0.037037037037037035},\n",
      " 'bird': {'False_Neg': 3,\n",
      "          'False_Pos': 9,\n",
      "          'True_Neg': 64,\n",
      "          'True_Pos': 5,\n",
      "          'guess_rate': 0.1728395061728395},\n",
      " 'plane': {'False_Neg': 5,\n",
      "           'False_Pos': 8,\n",
      "           'True_Neg': 12,\n",
      "           'True_Pos': 56,\n",
      "           'guess_rate': 0.7901234567901234}}\n",
      "EVAL ON EPOCH 2, BATCH 10 (epoch2-batch100.pt)\n",
      "starting eval...\n"
     ]
    },
    {
     "name": "stderr",
     "output_type": "stream",
     "text": [
      "  0%|          | 0/81 [00:00<?, ?it/s]"
     ]
    },
    {
     "name": "stdout",
     "output_type": "stream",
     "text": [
      "<class 'ultralytics.models.yolo.detect.predict.DetectionPredictor'>\n"
     ]
    },
    {
     "name": "stderr",
     "output_type": "stream",
     "text": [
      "100%|██████████| 81/81 [02:57<00:00,  2.20s/it]\n"
     ]
    },
    {
     "name": "stdout",
     "output_type": "stream",
     "text": [
      "NUM CORRECT: 58 / 81 (0.72)\n",
      "LABELS DISTRIBUTION:\n",
      "{'None': 12, 'bird': 8, 'plane': 61}\n",
      "PREDICTIONS DISTRIBUTION:\n",
      "{'bird': {'False_Neg': 3,\n",
      "          'False_Pos': 18,\n",
      "          'True_Neg': 55,\n",
      "          'True_Pos': 5,\n",
      "          'guess_rate': 0.2839506172839506},\n",
      " 'plane': {'False_Neg': 8,\n",
      "           'False_Pos': 5,\n",
      "           'True_Neg': 15,\n",
      "           'True_Pos': 53,\n",
      "           'guess_rate': 0.7160493827160493}}\n",
      "EVAL ON EPOCH 3, BATCH 10 (epoch3-batch100.pt)\n",
      "starting eval...\n"
     ]
    },
    {
     "name": "stderr",
     "output_type": "stream",
     "text": [
      "  0%|          | 0/81 [00:00<?, ?it/s]"
     ]
    },
    {
     "name": "stdout",
     "output_type": "stream",
     "text": [
      "<class 'ultralytics.models.yolo.detect.predict.DetectionPredictor'>\n"
     ]
    },
    {
     "name": "stderr",
     "output_type": "stream",
     "text": [
      "100%|██████████| 81/81 [02:55<00:00,  2.16s/it]\n"
     ]
    },
    {
     "name": "stdout",
     "output_type": "stream",
     "text": [
      "NUM CORRECT: 45 / 81 (0.56)\n",
      "LABELS DISTRIBUTION:\n",
      "{'None': 12, 'bird': 8, 'plane': 61}\n",
      "PREDICTIONS DISTRIBUTION:\n",
      "{'None': {'False_Neg': 11,\n",
      "          'False_Pos': 0,\n",
      "          'True_Neg': 69,\n",
      "          'True_Pos': 1,\n",
      "          'guess_rate': 0.012345679012345678},\n",
      " 'bird': {'False_Neg': 1,\n",
      "          'False_Pos': 34,\n",
      "          'True_Neg': 39,\n",
      "          'True_Pos': 7,\n",
      "          'guess_rate': 0.5061728395061729},\n",
      " 'plane': {'False_Neg': 24,\n",
      "           'False_Pos': 2,\n",
      "           'True_Neg': 18,\n",
      "           'True_Pos': 37,\n",
      "           'guess_rate': 0.48148148148148145}}\n",
      "EVAL ON EPOCH 4, BATCH 10 (epoch4-batch100.pt)\n",
      "starting eval...\n"
     ]
    },
    {
     "name": "stderr",
     "output_type": "stream",
     "text": [
      "  0%|          | 0/81 [00:00<?, ?it/s]"
     ]
    },
    {
     "name": "stdout",
     "output_type": "stream",
     "text": [
      "<class 'ultralytics.models.yolo.detect.predict.DetectionPredictor'>\n"
     ]
    },
    {
     "name": "stderr",
     "output_type": "stream",
     "text": [
      "100%|██████████| 81/81 [02:54<00:00,  2.15s/it]\n"
     ]
    },
    {
     "name": "stdout",
     "output_type": "stream",
     "text": [
      "NUM CORRECT: 57 / 81 (0.70)\n",
      "LABELS DISTRIBUTION:\n",
      "{'None': 12, 'bird': 8, 'plane': 61}\n",
      "PREDICTIONS DISTRIBUTION:\n",
      "{'None': {'False_Neg': 12,\n",
      "          'False_Pos': 2,\n",
      "          'True_Neg': 67,\n",
      "          'True_Pos': 0,\n",
      "          'guess_rate': 0.024691358024691357},\n",
      " 'bird': {'False_Neg': 3,\n",
      "          'False_Pos': 18,\n",
      "          'True_Neg': 55,\n",
      "          'True_Pos': 5,\n",
      "          'guess_rate': 0.2839506172839506},\n",
      " 'plane': {'False_Neg': 9,\n",
      "           'False_Pos': 4,\n",
      "           'True_Neg': 16,\n",
      "           'True_Pos': 52,\n",
      "           'guess_rate': 0.691358024691358}}\n",
      "EVAL ON EPOCH 0, BATCH 12 (epoch0-batch113.pt)\n",
      "starting eval...\n"
     ]
    },
    {
     "name": "stderr",
     "output_type": "stream",
     "text": [
      "  0%|          | 0/81 [00:00<?, ?it/s]"
     ]
    },
    {
     "name": "stdout",
     "output_type": "stream",
     "text": [
      "<class 'ultralytics.models.yolo.detect.predict.DetectionPredictor'>\n"
     ]
    },
    {
     "name": "stderr",
     "output_type": "stream",
     "text": [
      "100%|██████████| 81/81 [02:55<00:00,  2.16s/it]\n"
     ]
    },
    {
     "name": "stdout",
     "output_type": "stream",
     "text": [
      "NUM CORRECT: 46 / 81 (0.57)\n",
      "LABELS DISTRIBUTION:\n",
      "{'None': 12, 'bird': 8, 'plane': 61}\n",
      "PREDICTIONS DISTRIBUTION:\n",
      "{'None': {'False_Neg': 11,\n",
      "          'False_Pos': 0,\n",
      "          'True_Neg': 69,\n",
      "          'True_Pos': 1,\n",
      "          'guess_rate': 0.012345679012345678},\n",
      " 'bird': {'False_Neg': 1,\n",
      "          'False_Pos': 31,\n",
      "          'True_Neg': 42,\n",
      "          'True_Pos': 7,\n",
      "          'guess_rate': 0.4691358024691358},\n",
      " 'plane': {'False_Neg': 23,\n",
      "           'False_Pos': 4,\n",
      "           'True_Neg': 16,\n",
      "           'True_Pos': 38,\n",
      "           'guess_rate': 0.5185185185185185}}\n",
      "EVAL ON EPOCH 1, BATCH 12 (epoch1-batch113.pt)\n",
      "starting eval...\n"
     ]
    },
    {
     "name": "stderr",
     "output_type": "stream",
     "text": [
      "  0%|          | 0/81 [00:00<?, ?it/s]"
     ]
    },
    {
     "name": "stdout",
     "output_type": "stream",
     "text": [
      "<class 'ultralytics.models.yolo.detect.predict.DetectionPredictor'>\n"
     ]
    },
    {
     "name": "stderr",
     "output_type": "stream",
     "text": [
      "100%|██████████| 81/81 [02:57<00:00,  2.19s/it]\n"
     ]
    },
    {
     "name": "stdout",
     "output_type": "stream",
     "text": [
      "NUM CORRECT: 61 / 81 (0.75)\n",
      "LABELS DISTRIBUTION:\n",
      "{'None': 12, 'bird': 8, 'plane': 61}\n",
      "PREDICTIONS DISTRIBUTION:\n",
      "{'None': {'False_Neg': 11,\n",
      "          'False_Pos': 2,\n",
      "          'True_Neg': 67,\n",
      "          'True_Pos': 1,\n",
      "          'guess_rate': 0.037037037037037035},\n",
      " 'bird': {'False_Neg': 3,\n",
      "          'False_Pos': 9,\n",
      "          'True_Neg': 64,\n",
      "          'True_Pos': 5,\n",
      "          'guess_rate': 0.1728395061728395},\n",
      " 'plane': {'False_Neg': 6,\n",
      "           'False_Pos': 9,\n",
      "           'True_Neg': 11,\n",
      "           'True_Pos': 55,\n",
      "           'guess_rate': 0.7901234567901234}}\n",
      "EVAL ON EPOCH 2, BATCH 12 (epoch2-batch113.pt)\n",
      "starting eval...\n"
     ]
    },
    {
     "name": "stderr",
     "output_type": "stream",
     "text": [
      "  0%|          | 0/81 [00:00<?, ?it/s]"
     ]
    },
    {
     "name": "stdout",
     "output_type": "stream",
     "text": [
      "<class 'ultralytics.models.yolo.detect.predict.DetectionPredictor'>\n"
     ]
    },
    {
     "name": "stderr",
     "output_type": "stream",
     "text": [
      "100%|██████████| 81/81 [02:58<00:00,  2.21s/it]\n"
     ]
    },
    {
     "name": "stdout",
     "output_type": "stream",
     "text": [
      "NUM CORRECT: 61 / 81 (0.75)\n",
      "LABELS DISTRIBUTION:\n",
      "{'None': 12, 'bird': 8, 'plane': 61}\n",
      "PREDICTIONS DISTRIBUTION:\n",
      "{'None': {'False_Neg': 11,\n",
      "          'False_Pos': 0,\n",
      "          'True_Neg': 69,\n",
      "          'True_Pos': 1,\n",
      "          'guess_rate': 0.012345679012345678},\n",
      " 'bird': {'False_Neg': 4,\n",
      "          'False_Pos': 16,\n",
      "          'True_Neg': 57,\n",
      "          'True_Pos': 4,\n",
      "          'guess_rate': 0.24691358024691357},\n",
      " 'plane': {'False_Neg': 5,\n",
      "           'False_Pos': 4,\n",
      "           'True_Neg': 16,\n",
      "           'True_Pos': 56,\n",
      "           'guess_rate': 0.7407407407407407}}\n",
      "EVAL ON EPOCH 3, BATCH 12 (epoch3-batch113.pt)\n",
      "starting eval...\n"
     ]
    },
    {
     "name": "stderr",
     "output_type": "stream",
     "text": [
      "  0%|          | 0/81 [00:00<?, ?it/s]"
     ]
    },
    {
     "name": "stdout",
     "output_type": "stream",
     "text": [
      "<class 'ultralytics.models.yolo.detect.predict.DetectionPredictor'>\n"
     ]
    },
    {
     "name": "stderr",
     "output_type": "stream",
     "text": [
      "100%|██████████| 81/81 [02:59<00:00,  2.21s/it]\n"
     ]
    },
    {
     "name": "stdout",
     "output_type": "stream",
     "text": [
      "NUM CORRECT: 44 / 81 (0.54)\n",
      "LABELS DISTRIBUTION:\n",
      "{'None': 12, 'bird': 8, 'plane': 61}\n",
      "PREDICTIONS DISTRIBUTION:\n",
      "{'bird': {'False_Neg': 1,\n",
      "          'False_Pos': 34,\n",
      "          'True_Neg': 39,\n",
      "          'True_Pos': 7,\n",
      "          'guess_rate': 0.5061728395061729},\n",
      " 'plane': {'False_Neg': 24,\n",
      "           'False_Pos': 3,\n",
      "           'True_Neg': 17,\n",
      "           'True_Pos': 37,\n",
      "           'guess_rate': 0.49382716049382713}}\n",
      "EVAL ON EPOCH 4, BATCH 12 (epoch4-batch113.pt)\n",
      "starting eval...\n"
     ]
    },
    {
     "name": "stderr",
     "output_type": "stream",
     "text": [
      "  0%|          | 0/81 [00:00<?, ?it/s]"
     ]
    },
    {
     "name": "stdout",
     "output_type": "stream",
     "text": [
      "<class 'ultralytics.models.yolo.detect.predict.DetectionPredictor'>\n"
     ]
    },
    {
     "name": "stderr",
     "output_type": "stream",
     "text": [
      "100%|██████████| 81/81 [02:55<00:00,  2.16s/it]\n"
     ]
    },
    {
     "name": "stdout",
     "output_type": "stream",
     "text": [
      "NUM CORRECT: 54 / 81 (0.67)\n",
      "LABELS DISTRIBUTION:\n",
      "{'None': 12, 'bird': 8, 'plane': 61}\n",
      "PREDICTIONS DISTRIBUTION:\n",
      "{'None': {'False_Neg': 12,\n",
      "          'False_Pos': 2,\n",
      "          'True_Neg': 67,\n",
      "          'True_Pos': 0,\n",
      "          'guess_rate': 0.024691358024691357},\n",
      " 'bird': {'False_Neg': 3,\n",
      "          'False_Pos': 21,\n",
      "          'True_Neg': 52,\n",
      "          'True_Pos': 5,\n",
      "          'guess_rate': 0.32098765432098764},\n",
      " 'plane': {'False_Neg': 12,\n",
      "           'False_Pos': 4,\n",
      "           'True_Neg': 16,\n",
      "           'True_Pos': 49,\n",
      "           'guess_rate': 0.654320987654321}}\n",
      "EVAL ON EPOCH 0, BATCH 2 (epoch0-batch20.pt)\n",
      "starting eval...\n"
     ]
    },
    {
     "name": "stderr",
     "output_type": "stream",
     "text": [
      "  0%|          | 0/81 [00:00<?, ?it/s]"
     ]
    },
    {
     "name": "stdout",
     "output_type": "stream",
     "text": [
      "<class 'ultralytics.models.yolo.detect.predict.DetectionPredictor'>\n"
     ]
    },
    {
     "name": "stderr",
     "output_type": "stream",
     "text": [
      "100%|██████████| 81/81 [02:56<00:00,  2.18s/it]\n"
     ]
    },
    {
     "name": "stdout",
     "output_type": "stream",
     "text": [
      "NUM CORRECT: 48 / 81 (0.59)\n",
      "LABELS DISTRIBUTION:\n",
      "{'None': 12, 'bird': 8, 'plane': 61}\n",
      "PREDICTIONS DISTRIBUTION:\n",
      "{'None': {'False_Neg': 11,\n",
      "          'False_Pos': 1,\n",
      "          'True_Neg': 68,\n",
      "          'True_Pos': 1,\n",
      "          'guess_rate': 0.024691358024691357},\n",
      " 'bird': {'False_Neg': 8,\n",
      "          'False_Pos': 18,\n",
      "          'True_Neg': 55,\n",
      "          'True_Pos': 0,\n",
      "          'guess_rate': 0.2222222222222222},\n",
      " 'plane': {'False_Neg': 14,\n",
      "           'False_Pos': 14,\n",
      "           'True_Neg': 6,\n",
      "           'True_Pos': 47,\n",
      "           'guess_rate': 0.7530864197530864}}\n",
      "EVAL ON EPOCH 1, BATCH 2 (epoch1-batch20.pt)\n",
      "starting eval...\n"
     ]
    },
    {
     "name": "stderr",
     "output_type": "stream",
     "text": [
      "  0%|          | 0/81 [00:00<?, ?it/s]"
     ]
    },
    {
     "name": "stdout",
     "output_type": "stream",
     "text": [
      "<class 'ultralytics.models.yolo.detect.predict.DetectionPredictor'>\n"
     ]
    },
    {
     "name": "stderr",
     "output_type": "stream",
     "text": [
      "100%|██████████| 81/81 [02:58<00:00,  2.20s/it]\n"
     ]
    },
    {
     "name": "stdout",
     "output_type": "stream",
     "text": [
      "NUM CORRECT: 62 / 81 (0.77)\n",
      "LABELS DISTRIBUTION:\n",
      "{'None': 12, 'bird': 8, 'plane': 61}\n",
      "PREDICTIONS DISTRIBUTION:\n",
      "{'None': {'False_Neg': 11,\n",
      "          'False_Pos': 1,\n",
      "          'True_Neg': 68,\n",
      "          'True_Pos': 1,\n",
      "          'guess_rate': 0.024691358024691357},\n",
      " 'bird': {'False_Neg': 5,\n",
      "          'False_Pos': 5,\n",
      "          'True_Neg': 68,\n",
      "          'True_Pos': 3,\n",
      "          'guess_rate': 0.09876543209876543},\n",
      " 'plane': {'False_Neg': 3,\n",
      "           'False_Pos': 13,\n",
      "           'True_Neg': 7,\n",
      "           'True_Pos': 58,\n",
      "           'guess_rate': 0.8765432098765432}}\n",
      "EVAL ON EPOCH 2, BATCH 2 (epoch2-batch20.pt)\n",
      "starting eval...\n"
     ]
    },
    {
     "name": "stderr",
     "output_type": "stream",
     "text": [
      "  0%|          | 0/81 [00:00<?, ?it/s]"
     ]
    },
    {
     "name": "stdout",
     "output_type": "stream",
     "text": [
      "<class 'ultralytics.models.yolo.detect.predict.DetectionPredictor'>\n"
     ]
    },
    {
     "name": "stderr",
     "output_type": "stream",
     "text": [
      "100%|██████████| 81/81 [02:56<00:00,  2.17s/it]\n"
     ]
    },
    {
     "name": "stdout",
     "output_type": "stream",
     "text": [
      "NUM CORRECT: 63 / 81 (0.78)\n",
      "LABELS DISTRIBUTION:\n",
      "{'None': 12, 'bird': 8, 'plane': 61}\n",
      "PREDICTIONS DISTRIBUTION:\n",
      "{'None': {'False_Neg': 11,\n",
      "          'False_Pos': 1,\n",
      "          'True_Neg': 68,\n",
      "          'True_Pos': 1,\n",
      "          'guess_rate': 0.024691358024691357},\n",
      " 'bird': {'False_Neg': 3,\n",
      "          'False_Pos': 6,\n",
      "          'True_Neg': 67,\n",
      "          'True_Pos': 5,\n",
      "          'guess_rate': 0.13580246913580246},\n",
      " 'plane': {'False_Neg': 4,\n",
      "           'False_Pos': 11,\n",
      "           'True_Neg': 9,\n",
      "           'True_Pos': 57,\n",
      "           'guess_rate': 0.8395061728395061}}\n",
      "EVAL ON EPOCH 3, BATCH 2 (epoch3-batch20.pt)\n",
      "starting eval...\n"
     ]
    },
    {
     "name": "stderr",
     "output_type": "stream",
     "text": [
      "  0%|          | 0/81 [00:00<?, ?it/s]"
     ]
    },
    {
     "name": "stdout",
     "output_type": "stream",
     "text": [
      "<class 'ultralytics.models.yolo.detect.predict.DetectionPredictor'>\n"
     ]
    },
    {
     "name": "stderr",
     "output_type": "stream",
     "text": [
      "100%|██████████| 81/81 [03:01<00:00,  2.24s/it]\n"
     ]
    },
    {
     "name": "stdout",
     "output_type": "stream",
     "text": [
      "NUM CORRECT: 56 / 81 (0.69)\n",
      "LABELS DISTRIBUTION:\n",
      "{'None': 12, 'bird': 8, 'plane': 61}\n",
      "PREDICTIONS DISTRIBUTION:\n",
      "{'None': {'False_Neg': 11,\n",
      "          'False_Pos': 0,\n",
      "          'True_Neg': 69,\n",
      "          'True_Pos': 1,\n",
      "          'guess_rate': 0.012345679012345678},\n",
      " 'bird': {'False_Neg': 3,\n",
      "          'False_Pos': 22,\n",
      "          'True_Neg': 51,\n",
      "          'True_Pos': 5,\n",
      "          'guess_rate': 0.3333333333333333},\n",
      " 'plane': {'False_Neg': 11,\n",
      "           'False_Pos': 3,\n",
      "           'True_Neg': 17,\n",
      "           'True_Pos': 50,\n",
      "           'guess_rate': 0.654320987654321}}\n",
      "EVAL ON EPOCH 4, BATCH 2 (epoch4-batch20.pt)\n",
      "starting eval...\n"
     ]
    },
    {
     "name": "stderr",
     "output_type": "stream",
     "text": [
      "  0%|          | 0/81 [00:00<?, ?it/s]"
     ]
    },
    {
     "name": "stdout",
     "output_type": "stream",
     "text": [
      "<class 'ultralytics.models.yolo.detect.predict.DetectionPredictor'>\n"
     ]
    },
    {
     "name": "stderr",
     "output_type": "stream",
     "text": [
      "100%|██████████| 81/81 [02:57<00:00,  2.19s/it]\n"
     ]
    },
    {
     "name": "stdout",
     "output_type": "stream",
     "text": [
      "NUM CORRECT: 56 / 81 (0.69)\n",
      "LABELS DISTRIBUTION:\n",
      "{'None': 12, 'bird': 8, 'plane': 61}\n",
      "PREDICTIONS DISTRIBUTION:\n",
      "{'None': {'False_Neg': 11,\n",
      "          'False_Pos': 1,\n",
      "          'True_Neg': 68,\n",
      "          'True_Pos': 1,\n",
      "          'guess_rate': 0.024691358024691357},\n",
      " 'bird': {'False_Neg': 1,\n",
      "          'False_Pos': 18,\n",
      "          'True_Neg': 55,\n",
      "          'True_Pos': 7,\n",
      "          'guess_rate': 0.30864197530864196},\n",
      " 'plane': {'False_Neg': 13,\n",
      "           'False_Pos': 6,\n",
      "           'True_Neg': 14,\n",
      "           'True_Pos': 48,\n",
      "           'guess_rate': 0.6666666666666666}}\n",
      "EVAL ON EPOCH 0, BATCH 4 (epoch0-batch40.pt)\n",
      "starting eval...\n"
     ]
    },
    {
     "name": "stderr",
     "output_type": "stream",
     "text": [
      "  0%|          | 0/81 [00:00<?, ?it/s]"
     ]
    },
    {
     "name": "stdout",
     "output_type": "stream",
     "text": [
      "<class 'ultralytics.models.yolo.detect.predict.DetectionPredictor'>\n"
     ]
    },
    {
     "name": "stderr",
     "output_type": "stream",
     "text": [
      "100%|██████████| 81/81 [02:59<00:00,  2.22s/it]\n"
     ]
    },
    {
     "name": "stdout",
     "output_type": "stream",
     "text": [
      "NUM CORRECT: 58 / 81 (0.72)\n",
      "LABELS DISTRIBUTION:\n",
      "{'None': 12, 'bird': 8, 'plane': 61}\n",
      "PREDICTIONS DISTRIBUTION:\n",
      "{'None': {'False_Neg': 11,\n",
      "          'False_Pos': 0,\n",
      "          'True_Neg': 69,\n",
      "          'True_Pos': 1,\n",
      "          'guess_rate': 0.012345679012345678},\n",
      " 'bird': {'False_Neg': 7,\n",
      "          'False_Pos': 8,\n",
      "          'True_Neg': 65,\n",
      "          'True_Pos': 1,\n",
      "          'guess_rate': 0.1111111111111111},\n",
      " 'plane': {'False_Neg': 5,\n",
      "           'False_Pos': 15,\n",
      "           'True_Neg': 5,\n",
      "           'True_Pos': 56,\n",
      "           'guess_rate': 0.8765432098765432}}\n",
      "EVAL ON EPOCH 1, BATCH 4 (epoch1-batch40.pt)\n",
      "starting eval...\n"
     ]
    },
    {
     "name": "stderr",
     "output_type": "stream",
     "text": [
      "  0%|          | 0/81 [00:00<?, ?it/s]"
     ]
    },
    {
     "name": "stdout",
     "output_type": "stream",
     "text": [
      "<class 'ultralytics.models.yolo.detect.predict.DetectionPredictor'>\n"
     ]
    },
    {
     "name": "stderr",
     "output_type": "stream",
     "text": [
      "100%|██████████| 81/81 [02:58<00:00,  2.20s/it]\n"
     ]
    },
    {
     "name": "stdout",
     "output_type": "stream",
     "text": [
      "NUM CORRECT: 53 / 81 (0.65)\n",
      "LABELS DISTRIBUTION:\n",
      "{'None': 12, 'bird': 8, 'plane': 61}\n",
      "PREDICTIONS DISTRIBUTION:\n",
      "{'None': {'False_Neg': 12,\n",
      "          'False_Pos': 1,\n",
      "          'True_Neg': 68,\n",
      "          'True_Pos': 0,\n",
      "          'guess_rate': 0.012345679012345678},\n",
      " 'bird': {'False_Neg': 3,\n",
      "          'False_Pos': 22,\n",
      "          'True_Neg': 51,\n",
      "          'True_Pos': 5,\n",
      "          'guess_rate': 0.3333333333333333},\n",
      " 'plane': {'False_Neg': 13,\n",
      "           'False_Pos': 5,\n",
      "           'True_Neg': 15,\n",
      "           'True_Pos': 48,\n",
      "           'guess_rate': 0.654320987654321}}\n",
      "EVAL ON EPOCH 2, BATCH 4 (epoch2-batch40.pt)\n",
      "starting eval...\n"
     ]
    },
    {
     "name": "stderr",
     "output_type": "stream",
     "text": [
      "  0%|          | 0/81 [00:00<?, ?it/s]"
     ]
    },
    {
     "name": "stdout",
     "output_type": "stream",
     "text": [
      "<class 'ultralytics.models.yolo.detect.predict.DetectionPredictor'>\n"
     ]
    },
    {
     "name": "stderr",
     "output_type": "stream",
     "text": [
      "100%|██████████| 81/81 [02:59<00:00,  2.22s/it]\n"
     ]
    },
    {
     "name": "stdout",
     "output_type": "stream",
     "text": [
      "NUM CORRECT: 44 / 81 (0.54)\n",
      "LABELS DISTRIBUTION:\n",
      "{'None': 12, 'bird': 8, 'plane': 61}\n",
      "PREDICTIONS DISTRIBUTION:\n",
      "{'None': {'False_Neg': 11,\n",
      "          'False_Pos': 0,\n",
      "          'True_Neg': 69,\n",
      "          'True_Pos': 1,\n",
      "          'guess_rate': 0.012345679012345678},\n",
      " 'bird': {'False_Neg': 2,\n",
      "          'False_Pos': 35,\n",
      "          'True_Neg': 38,\n",
      "          'True_Pos': 6,\n",
      "          'guess_rate': 0.5061728395061729},\n",
      " 'plane': {'False_Neg': 24,\n",
      "           'False_Pos': 2,\n",
      "           'True_Neg': 18,\n",
      "           'True_Pos': 37,\n",
      "           'guess_rate': 0.48148148148148145}}\n",
      "EVAL ON EPOCH 3, BATCH 4 (epoch3-batch40.pt)\n",
      "starting eval...\n"
     ]
    },
    {
     "name": "stderr",
     "output_type": "stream",
     "text": [
      "  0%|          | 0/81 [00:00<?, ?it/s]"
     ]
    },
    {
     "name": "stdout",
     "output_type": "stream",
     "text": [
      "<class 'ultralytics.models.yolo.detect.predict.DetectionPredictor'>\n"
     ]
    },
    {
     "name": "stderr",
     "output_type": "stream",
     "text": [
      "100%|██████████| 81/81 [03:02<00:00,  2.25s/it]\n"
     ]
    },
    {
     "name": "stdout",
     "output_type": "stream",
     "text": [
      "NUM CORRECT: 47 / 81 (0.58)\n",
      "LABELS DISTRIBUTION:\n",
      "{'None': 12, 'bird': 8, 'plane': 61}\n",
      "PREDICTIONS DISTRIBUTION:\n",
      "{'None': {'False_Neg': 11,\n",
      "          'False_Pos': 0,\n",
      "          'True_Neg': 69,\n",
      "          'True_Pos': 1,\n",
      "          'guess_rate': 0.012345679012345678},\n",
      " 'bird': {'False_Neg': 1,\n",
      "          'False_Pos': 31,\n",
      "          'True_Neg': 42,\n",
      "          'True_Pos': 7,\n",
      "          'guess_rate': 0.4691358024691358},\n",
      " 'plane': {'False_Neg': 22,\n",
      "           'False_Pos': 3,\n",
      "           'True_Neg': 17,\n",
      "           'True_Pos': 39,\n",
      "           'guess_rate': 0.5185185185185185}}\n",
      "EVAL ON EPOCH 4, BATCH 4 (epoch4-batch40.pt)\n",
      "starting eval...\n"
     ]
    },
    {
     "name": "stderr",
     "output_type": "stream",
     "text": [
      "  0%|          | 0/81 [00:00<?, ?it/s]"
     ]
    },
    {
     "name": "stdout",
     "output_type": "stream",
     "text": [
      "<class 'ultralytics.models.yolo.detect.predict.DetectionPredictor'>\n"
     ]
    },
    {
     "name": "stderr",
     "output_type": "stream",
     "text": [
      "100%|██████████| 81/81 [03:01<00:00,  2.24s/it]\n"
     ]
    },
    {
     "name": "stdout",
     "output_type": "stream",
     "text": [
      "NUM CORRECT: 60 / 81 (0.74)\n",
      "LABELS DISTRIBUTION:\n",
      "{'None': 12, 'bird': 8, 'plane': 61}\n",
      "PREDICTIONS DISTRIBUTION:\n",
      "{'None': {'False_Neg': 12,\n",
      "          'False_Pos': 1,\n",
      "          'True_Neg': 68,\n",
      "          'True_Pos': 0,\n",
      "          'guess_rate': 0.012345679012345678},\n",
      " 'bird': {'False_Neg': 1,\n",
      "          'False_Pos': 16,\n",
      "          'True_Neg': 57,\n",
      "          'True_Pos': 7,\n",
      "          'guess_rate': 0.2839506172839506},\n",
      " 'plane': {'False_Neg': 8,\n",
      "           'False_Pos': 4,\n",
      "           'True_Neg': 16,\n",
      "           'True_Pos': 53,\n",
      "           'guess_rate': 0.7037037037037037}}\n",
      "EVAL ON EPOCH 0, BATCH 6 (epoch0-batch60.pt)\n",
      "starting eval...\n"
     ]
    },
    {
     "name": "stderr",
     "output_type": "stream",
     "text": [
      "  0%|          | 0/81 [00:00<?, ?it/s]"
     ]
    },
    {
     "name": "stdout",
     "output_type": "stream",
     "text": [
      "<class 'ultralytics.models.yolo.detect.predict.DetectionPredictor'>\n"
     ]
    },
    {
     "name": "stderr",
     "output_type": "stream",
     "text": [
      "100%|██████████| 81/81 [02:58<00:00,  2.21s/it]\n"
     ]
    },
    {
     "name": "stdout",
     "output_type": "stream",
     "text": [
      "NUM CORRECT: 54 / 81 (0.67)\n",
      "LABELS DISTRIBUTION:\n",
      "{'None': 12, 'bird': 8, 'plane': 61}\n",
      "PREDICTIONS DISTRIBUTION:\n",
      "{'None': {'False_Neg': 11,\n",
      "          'False_Pos': 0,\n",
      "          'True_Neg': 69,\n",
      "          'True_Pos': 1,\n",
      "          'guess_rate': 0.012345679012345678},\n",
      " 'bird': {'False_Neg': 6,\n",
      "          'False_Pos': 16,\n",
      "          'True_Neg': 57,\n",
      "          'True_Pos': 2,\n",
      "          'guess_rate': 0.2222222222222222},\n",
      " 'plane': {'False_Neg': 10,\n",
      "           'False_Pos': 11,\n",
      "           'True_Neg': 9,\n",
      "           'True_Pos': 51,\n",
      "           'guess_rate': 0.7654320987654321}}\n",
      "EVAL ON EPOCH 1, BATCH 6 (epoch1-batch60.pt)\n",
      "starting eval...\n"
     ]
    },
    {
     "name": "stderr",
     "output_type": "stream",
     "text": [
      "  0%|          | 0/81 [00:00<?, ?it/s]"
     ]
    },
    {
     "name": "stdout",
     "output_type": "stream",
     "text": [
      "<class 'ultralytics.models.yolo.detect.predict.DetectionPredictor'>\n"
     ]
    },
    {
     "name": "stderr",
     "output_type": "stream",
     "text": [
      "100%|██████████| 81/81 [02:59<00:00,  2.21s/it]\n"
     ]
    },
    {
     "name": "stdout",
     "output_type": "stream",
     "text": [
      "NUM CORRECT: 53 / 81 (0.65)\n",
      "LABELS DISTRIBUTION:\n",
      "{'None': 12, 'bird': 8, 'plane': 61}\n",
      "PREDICTIONS DISTRIBUTION:\n",
      "{'None': {'False_Neg': 11,\n",
      "          'False_Pos': 1,\n",
      "          'True_Neg': 68,\n",
      "          'True_Pos': 1,\n",
      "          'guess_rate': 0.024691358024691357},\n",
      " 'bird': {'False_Neg': 2,\n",
      "          'False_Pos': 22,\n",
      "          'True_Neg': 51,\n",
      "          'True_Pos': 6,\n",
      "          'guess_rate': 0.345679012345679},\n",
      " 'plane': {'False_Neg': 15,\n",
      "           'False_Pos': 5,\n",
      "           'True_Neg': 15,\n",
      "           'True_Pos': 46,\n",
      "           'guess_rate': 0.6296296296296297}}\n",
      "EVAL ON EPOCH 2, BATCH 6 (epoch2-batch60.pt)\n",
      "starting eval...\n"
     ]
    },
    {
     "name": "stderr",
     "output_type": "stream",
     "text": [
      "  0%|          | 0/81 [00:00<?, ?it/s]"
     ]
    },
    {
     "name": "stdout",
     "output_type": "stream",
     "text": [
      "<class 'ultralytics.models.yolo.detect.predict.DetectionPredictor'>\n"
     ]
    },
    {
     "name": "stderr",
     "output_type": "stream",
     "text": [
      "100%|██████████| 81/81 [02:59<00:00,  2.22s/it]\n"
     ]
    },
    {
     "name": "stdout",
     "output_type": "stream",
     "text": [
      "NUM CORRECT: 60 / 81 (0.74)\n",
      "LABELS DISTRIBUTION:\n",
      "{'None': 12, 'bird': 8, 'plane': 61}\n",
      "PREDICTIONS DISTRIBUTION:\n",
      "{'None': {'False_Neg': 11,\n",
      "          'False_Pos': 0,\n",
      "          'True_Neg': 69,\n",
      "          'True_Pos': 1,\n",
      "          'guess_rate': 0.012345679012345678},\n",
      " 'bird': {'False_Neg': 2,\n",
      "          'False_Pos': 18,\n",
      "          'True_Neg': 55,\n",
      "          'True_Pos': 6,\n",
      "          'guess_rate': 0.2962962962962963},\n",
      " 'plane': {'False_Neg': 8,\n",
      "           'False_Pos': 3,\n",
      "           'True_Neg': 17,\n",
      "           'True_Pos': 53,\n",
      "           'guess_rate': 0.691358024691358}}\n",
      "EVAL ON EPOCH 3, BATCH 6 (epoch3-batch60.pt)\n",
      "starting eval...\n"
     ]
    },
    {
     "name": "stderr",
     "output_type": "stream",
     "text": [
      "  0%|          | 0/81 [00:00<?, ?it/s]"
     ]
    },
    {
     "name": "stdout",
     "output_type": "stream",
     "text": [
      "<class 'ultralytics.models.yolo.detect.predict.DetectionPredictor'>\n"
     ]
    },
    {
     "name": "stderr",
     "output_type": "stream",
     "text": [
      "100%|██████████| 81/81 [02:58<00:00,  2.20s/it]\n"
     ]
    },
    {
     "name": "stdout",
     "output_type": "stream",
     "text": [
      "NUM CORRECT: 54 / 81 (0.67)\n",
      "LABELS DISTRIBUTION:\n",
      "{'None': 12, 'bird': 8, 'plane': 61}\n",
      "PREDICTIONS DISTRIBUTION:\n",
      "{'None': {'False_Neg': 11,\n",
      "          'False_Pos': 1,\n",
      "          'True_Neg': 68,\n",
      "          'True_Pos': 1,\n",
      "          'guess_rate': 0.024691358024691357},\n",
      " 'bird': {'False_Neg': 3,\n",
      "          'False_Pos': 18,\n",
      "          'True_Neg': 55,\n",
      "          'True_Pos': 5,\n",
      "          'guess_rate': 0.2839506172839506},\n",
      " 'plane': {'False_Neg': 13,\n",
      "           'False_Pos': 8,\n",
      "           'True_Neg': 12,\n",
      "           'True_Pos': 48,\n",
      "           'guess_rate': 0.691358024691358}}\n",
      "EVAL ON EPOCH 4, BATCH 6 (epoch4-batch60.pt)\n",
      "starting eval...\n"
     ]
    },
    {
     "name": "stderr",
     "output_type": "stream",
     "text": [
      "  0%|          | 0/81 [00:00<?, ?it/s]"
     ]
    },
    {
     "name": "stdout",
     "output_type": "stream",
     "text": [
      "<class 'ultralytics.models.yolo.detect.predict.DetectionPredictor'>\n"
     ]
    },
    {
     "name": "stderr",
     "output_type": "stream",
     "text": [
      "100%|██████████| 81/81 [02:57<00:00,  2.20s/it]\n"
     ]
    },
    {
     "name": "stdout",
     "output_type": "stream",
     "text": [
      "NUM CORRECT: 56 / 81 (0.69)\n",
      "LABELS DISTRIBUTION:\n",
      "{'None': 12, 'bird': 8, 'plane': 61}\n",
      "PREDICTIONS DISTRIBUTION:\n",
      "{'None': {'False_Neg': 10,\n",
      "          'False_Pos': 1,\n",
      "          'True_Neg': 68,\n",
      "          'True_Pos': 2,\n",
      "          'guess_rate': 0.037037037037037035},\n",
      " 'bird': {'False_Neg': 1,\n",
      "          'False_Pos': 21,\n",
      "          'True_Neg': 52,\n",
      "          'True_Pos': 7,\n",
      "          'guess_rate': 0.345679012345679},\n",
      " 'plane': {'False_Neg': 14,\n",
      "           'False_Pos': 3,\n",
      "           'True_Neg': 17,\n",
      "           'True_Pos': 47,\n",
      "           'guess_rate': 0.6172839506172839}}\n",
      "EVAL ON EPOCH 0, BATCH 8 (epoch0-batch80.pt)\n",
      "starting eval...\n"
     ]
    },
    {
     "name": "stderr",
     "output_type": "stream",
     "text": [
      "  0%|          | 0/81 [00:00<?, ?it/s]"
     ]
    },
    {
     "name": "stdout",
     "output_type": "stream",
     "text": [
      "<class 'ultralytics.models.yolo.detect.predict.DetectionPredictor'>\n"
     ]
    },
    {
     "name": "stderr",
     "output_type": "stream",
     "text": [
      "100%|██████████| 81/81 [02:58<00:00,  2.21s/it]\n"
     ]
    },
    {
     "name": "stdout",
     "output_type": "stream",
     "text": [
      "NUM CORRECT: 52 / 81 (0.64)\n",
      "LABELS DISTRIBUTION:\n",
      "{'None': 12, 'bird': 8, 'plane': 61}\n",
      "PREDICTIONS DISTRIBUTION:\n",
      "{'None': {'False_Neg': 11,\n",
      "          'False_Pos': 0,\n",
      "          'True_Neg': 69,\n",
      "          'True_Pos': 1,\n",
      "          'guess_rate': 0.012345679012345678},\n",
      " 'bird': {'False_Neg': 7,\n",
      "          'False_Pos': 14,\n",
      "          'True_Neg': 59,\n",
      "          'True_Pos': 1,\n",
      "          'guess_rate': 0.18518518518518517},\n",
      " 'plane': {'False_Neg': 11,\n",
      "           'False_Pos': 15,\n",
      "           'True_Neg': 5,\n",
      "           'True_Pos': 50,\n",
      "           'guess_rate': 0.8024691358024691}}\n",
      "EVAL ON EPOCH 1, BATCH 8 (epoch1-batch80.pt)\n",
      "starting eval...\n"
     ]
    },
    {
     "name": "stderr",
     "output_type": "stream",
     "text": [
      "  0%|          | 0/81 [00:00<?, ?it/s]"
     ]
    },
    {
     "name": "stdout",
     "output_type": "stream",
     "text": [
      "<class 'ultralytics.models.yolo.detect.predict.DetectionPredictor'>\n"
     ]
    },
    {
     "name": "stderr",
     "output_type": "stream",
     "text": [
      "100%|██████████| 81/81 [02:57<00:00,  2.19s/it]\n"
     ]
    },
    {
     "name": "stdout",
     "output_type": "stream",
     "text": [
      "NUM CORRECT: 63 / 81 (0.78)\n",
      "LABELS DISTRIBUTION:\n",
      "{'None': 12, 'bird': 8, 'plane': 61}\n",
      "PREDICTIONS DISTRIBUTION:\n",
      "{'None': {'False_Neg': 11,\n",
      "          'False_Pos': 1,\n",
      "          'True_Neg': 68,\n",
      "          'True_Pos': 1,\n",
      "          'guess_rate': 0.024691358024691357},\n",
      " 'bird': {'False_Neg': 2,\n",
      "          'False_Pos': 11,\n",
      "          'True_Neg': 62,\n",
      "          'True_Pos': 6,\n",
      "          'guess_rate': 0.20987654320987653},\n",
      " 'plane': {'False_Neg': 5,\n",
      "           'False_Pos': 6,\n",
      "           'True_Neg': 14,\n",
      "           'True_Pos': 56,\n",
      "           'guess_rate': 0.7654320987654321}}\n",
      "EVAL ON EPOCH 2, BATCH 8 (epoch2-batch80.pt)\n",
      "starting eval...\n"
     ]
    },
    {
     "name": "stderr",
     "output_type": "stream",
     "text": [
      "  0%|          | 0/81 [00:00<?, ?it/s]"
     ]
    },
    {
     "name": "stdout",
     "output_type": "stream",
     "text": [
      "<class 'ultralytics.models.yolo.detect.predict.DetectionPredictor'>\n"
     ]
    },
    {
     "name": "stderr",
     "output_type": "stream",
     "text": [
      "100%|██████████| 81/81 [02:58<00:00,  2.20s/it]\n"
     ]
    },
    {
     "name": "stdout",
     "output_type": "stream",
     "text": [
      "NUM CORRECT: 58 / 81 (0.72)\n",
      "LABELS DISTRIBUTION:\n",
      "{'None': 12, 'bird': 8, 'plane': 61}\n",
      "PREDICTIONS DISTRIBUTION:\n",
      "{'None': {'False_Neg': 11,\n",
      "          'False_Pos': 1,\n",
      "          'True_Neg': 68,\n",
      "          'True_Pos': 1,\n",
      "          'guess_rate': 0.024691358024691357},\n",
      " 'bird': {'False_Neg': 3,\n",
      "          'False_Pos': 18,\n",
      "          'True_Neg': 55,\n",
      "          'True_Pos': 5,\n",
      "          'guess_rate': 0.2839506172839506},\n",
      " 'plane': {'False_Neg': 9,\n",
      "           'False_Pos': 4,\n",
      "           'True_Neg': 16,\n",
      "           'True_Pos': 52,\n",
      "           'guess_rate': 0.691358024691358}}\n",
      "EVAL ON EPOCH 3, BATCH 8 (epoch3-batch80.pt)\n",
      "starting eval...\n"
     ]
    },
    {
     "name": "stderr",
     "output_type": "stream",
     "text": [
      "  0%|          | 0/81 [00:00<?, ?it/s]"
     ]
    },
    {
     "name": "stdout",
     "output_type": "stream",
     "text": [
      "<class 'ultralytics.models.yolo.detect.predict.DetectionPredictor'>\n"
     ]
    },
    {
     "name": "stderr",
     "output_type": "stream",
     "text": [
      "100%|██████████| 81/81 [02:59<00:00,  2.22s/it]\n"
     ]
    },
    {
     "name": "stdout",
     "output_type": "stream",
     "text": [
      "NUM CORRECT: 52 / 81 (0.64)\n",
      "LABELS DISTRIBUTION:\n",
      "{'None': 12, 'bird': 8, 'plane': 61}\n",
      "PREDICTIONS DISTRIBUTION:\n",
      "{'None': {'False_Neg': 11,\n",
      "          'False_Pos': 1,\n",
      "          'True_Neg': 68,\n",
      "          'True_Pos': 1,\n",
      "          'guess_rate': 0.024691358024691357},\n",
      " 'bird': {'False_Neg': 2,\n",
      "          'False_Pos': 23,\n",
      "          'True_Neg': 50,\n",
      "          'True_Pos': 6,\n",
      "          'guess_rate': 0.35802469135802467},\n",
      " 'plane': {'False_Neg': 16,\n",
      "           'False_Pos': 5,\n",
      "           'True_Neg': 15,\n",
      "           'True_Pos': 45,\n",
      "           'guess_rate': 0.6172839506172839}}\n",
      "EVAL ON EPOCH 4, BATCH 8 (epoch4-batch80.pt)\n",
      "starting eval...\n"
     ]
    },
    {
     "name": "stderr",
     "output_type": "stream",
     "text": [
      "  0%|          | 0/81 [00:00<?, ?it/s]"
     ]
    },
    {
     "name": "stdout",
     "output_type": "stream",
     "text": [
      "<class 'ultralytics.models.yolo.detect.predict.DetectionPredictor'>\n"
     ]
    },
    {
     "name": "stderr",
     "output_type": "stream",
     "text": [
      "100%|██████████| 81/81 [02:57<00:00,  2.19s/it]"
     ]
    },
    {
     "name": "stdout",
     "output_type": "stream",
     "text": [
      "NUM CORRECT: 54 / 81 (0.67)\n",
      "LABELS DISTRIBUTION:\n",
      "{'None': 12, 'bird': 8, 'plane': 61}\n",
      "PREDICTIONS DISTRIBUTION:\n",
      "{'None': {'False_Neg': 10,\n",
      "          'False_Pos': 2,\n",
      "          'True_Neg': 67,\n",
      "          'True_Pos': 2,\n",
      "          'guess_rate': 0.04938271604938271},\n",
      " 'bird': {'False_Neg': 2,\n",
      "          'False_Pos': 21,\n",
      "          'True_Neg': 52,\n",
      "          'True_Pos': 6,\n",
      "          'guess_rate': 0.3333333333333333},\n",
      " 'plane': {'False_Neg': 15,\n",
      "           'False_Pos': 4,\n",
      "           'True_Neg': 16,\n",
      "           'True_Pos': 46,\n",
      "           'guess_rate': 0.6172839506172839}}\n"
     ]
    },
    {
     "name": "stderr",
     "output_type": "stream",
     "text": [
      "\n"
     ]
    }
   ],
   "source": [
    "eval_checkpoints('binary_ft_checkpoints', frame_conf=1e-2, class_conf=0.5, max_epochs=5)"
   ]
  },
  {
   "cell_type": "code",
   "execution_count": 4,
   "metadata": {},
   "outputs": [
    {
     "name": "stdout",
     "output_type": "stream",
     "text": [
      "[0, 7, 3, 11, 1, 5, 9, 10, 12, 2, 4, 6, 8]\n",
      "EVAL ON EPOCH 0, BATCH 0 (epoch0-batch0.pt)\n",
      "starting eval...\n"
     ]
    },
    {
     "name": "stderr",
     "output_type": "stream",
     "text": [
      "  0%|          | 0/81 [00:00<?, ?it/s]"
     ]
    },
    {
     "name": "stdout",
     "output_type": "stream",
     "text": [
      "<class 'ultralytics.models.yolo.detect.predict.DetectionPredictor'>\n"
     ]
    },
    {
     "name": "stderr",
     "output_type": "stream",
     "text": [
      "100%|██████████| 81/81 [04:07<00:00,  3.05s/it]\n"
     ]
    },
    {
     "name": "stdout",
     "output_type": "stream",
     "text": [
      "NUM CORRECT: 8 / 81 (0.10)\n",
      "LABELS DISTRIBUTION:\n",
      "{'None': 12, 'bird': 8, 'plane': 61}\n",
      "PREDICTIONS DISTRIBUTION:\n",
      "{'bird': {'False_Neg': 0,\n",
      "          'False_Pos': 73,\n",
      "          'True_Neg': 0,\n",
      "          'True_Pos': 8,\n",
      "          'guess_rate': 1.0}}\n",
      "EVAL ON EPOCH 1, BATCH 0 (epoch1-batch0.pt)\n",
      "starting eval...\n"
     ]
    },
    {
     "name": "stderr",
     "output_type": "stream",
     "text": [
      "  0%|          | 0/81 [00:00<?, ?it/s]"
     ]
    },
    {
     "name": "stdout",
     "output_type": "stream",
     "text": [
      "<class 'ultralytics.models.yolo.detect.predict.DetectionPredictor'>\n"
     ]
    },
    {
     "name": "stderr",
     "output_type": "stream",
     "text": [
      "100%|██████████| 81/81 [03:13<00:00,  2.39s/it]\n"
     ]
    },
    {
     "name": "stdout",
     "output_type": "stream",
     "text": [
      "NUM CORRECT: 59 / 81 (0.73)\n",
      "LABELS DISTRIBUTION:\n",
      "{'None': 12, 'bird': 8, 'plane': 61}\n",
      "PREDICTIONS DISTRIBUTION:\n",
      "{'bird': {'False_Neg': 8,\n",
      "          'False_Pos': 2,\n",
      "          'True_Neg': 71,\n",
      "          'True_Pos': 0,\n",
      "          'guess_rate': 0.024691358024691357},\n",
      " 'plane': {'False_Neg': 2,\n",
      "           'False_Pos': 20,\n",
      "           'True_Neg': 0,\n",
      "           'True_Pos': 59,\n",
      "           'guess_rate': 0.9753086419753086}}\n",
      "EVAL ON EPOCH 2, BATCH 0 (epoch2-batch0.pt)\n",
      "starting eval...\n"
     ]
    },
    {
     "name": "stderr",
     "output_type": "stream",
     "text": [
      "  0%|          | 0/81 [00:00<?, ?it/s]"
     ]
    },
    {
     "name": "stdout",
     "output_type": "stream",
     "text": [
      "<class 'ultralytics.models.yolo.detect.predict.DetectionPredictor'>\n"
     ]
    },
    {
     "name": "stderr",
     "output_type": "stream",
     "text": [
      "100%|██████████| 81/81 [03:10<00:00,  2.35s/it]\n"
     ]
    },
    {
     "name": "stdout",
     "output_type": "stream",
     "text": [
      "NUM CORRECT: 54 / 81 (0.67)\n",
      "LABELS DISTRIBUTION:\n",
      "{'None': 12, 'bird': 8, 'plane': 61}\n",
      "PREDICTIONS DISTRIBUTION:\n",
      "{'bird': {'False_Neg': 8,\n",
      "          'False_Pos': 7,\n",
      "          'True_Neg': 66,\n",
      "          'True_Pos': 0,\n",
      "          'guess_rate': 0.08641975308641975},\n",
      " 'plane': {'False_Neg': 7,\n",
      "           'False_Pos': 20,\n",
      "           'True_Neg': 0,\n",
      "           'True_Pos': 54,\n",
      "           'guess_rate': 0.9135802469135802}}\n",
      "EVAL ON EPOCH 3, BATCH 0 (epoch3-batch0.pt)\n",
      "starting eval...\n"
     ]
    },
    {
     "name": "stderr",
     "output_type": "stream",
     "text": [
      "  0%|          | 0/81 [00:00<?, ?it/s]"
     ]
    },
    {
     "name": "stdout",
     "output_type": "stream",
     "text": [
      "<class 'ultralytics.models.yolo.detect.predict.DetectionPredictor'>\n"
     ]
    },
    {
     "name": "stderr",
     "output_type": "stream",
     "text": [
      "100%|██████████| 81/81 [03:03<00:00,  2.26s/it]\n"
     ]
    },
    {
     "name": "stdout",
     "output_type": "stream",
     "text": [
      "NUM CORRECT: 30 / 81 (0.37)\n",
      "LABELS DISTRIBUTION:\n",
      "{'None': 12, 'bird': 8, 'plane': 61}\n",
      "PREDICTIONS DISTRIBUTION:\n",
      "{'bird': {'False_Neg': 1,\n",
      "          'False_Pos': 49,\n",
      "          'True_Neg': 24,\n",
      "          'True_Pos': 7,\n",
      "          'guess_rate': 0.691358024691358},\n",
      " 'plane': {'False_Neg': 38,\n",
      "           'False_Pos': 2,\n",
      "           'True_Neg': 18,\n",
      "           'True_Pos': 23,\n",
      "           'guess_rate': 0.30864197530864196}}\n",
      "EVAL ON EPOCH 4, BATCH 0 (epoch4-batch0.pt)\n",
      "starting eval...\n"
     ]
    },
    {
     "name": "stderr",
     "output_type": "stream",
     "text": [
      "  0%|          | 0/81 [00:00<?, ?it/s]"
     ]
    },
    {
     "name": "stdout",
     "output_type": "stream",
     "text": [
      "<class 'ultralytics.models.yolo.detect.predict.DetectionPredictor'>\n"
     ]
    },
    {
     "name": "stderr",
     "output_type": "stream",
     "text": [
      "100%|██████████| 81/81 [03:02<00:00,  2.25s/it]\n"
     ]
    },
    {
     "name": "stdout",
     "output_type": "stream",
     "text": [
      "NUM CORRECT: 38 / 81 (0.47)\n",
      "LABELS DISTRIBUTION:\n",
      "{'None': 12, 'bird': 8, 'plane': 61}\n",
      "PREDICTIONS DISTRIBUTION:\n",
      "{'None': {'False_Neg': 12,\n",
      "          'False_Pos': 1,\n",
      "          'True_Neg': 68,\n",
      "          'True_Pos': 0,\n",
      "          'guess_rate': 0.012345679012345678},\n",
      " 'bird': {'False_Neg': 0,\n",
      "          'False_Pos': 41,\n",
      "          'True_Neg': 32,\n",
      "          'True_Pos': 8,\n",
      "          'guess_rate': 0.6049382716049383},\n",
      " 'plane': {'False_Neg': 31,\n",
      "           'False_Pos': 1,\n",
      "           'True_Neg': 19,\n",
      "           'True_Pos': 30,\n",
      "           'guess_rate': 0.38271604938271603}}\n",
      "EVAL ON EPOCH 0, BATCH 7 (epoch0-batch70.pt)\n",
      "starting eval...\n"
     ]
    },
    {
     "name": "stderr",
     "output_type": "stream",
     "text": [
      "  0%|          | 0/81 [00:00<?, ?it/s]"
     ]
    },
    {
     "name": "stdout",
     "output_type": "stream",
     "text": [
      "<class 'ultralytics.models.yolo.detect.predict.DetectionPredictor'>\n"
     ]
    },
    {
     "name": "stderr",
     "output_type": "stream",
     "text": [
      "100%|██████████| 81/81 [03:18<00:00,  2.45s/it]\n"
     ]
    },
    {
     "name": "stdout",
     "output_type": "stream",
     "text": [
      "NUM CORRECT: 61 / 81 (0.75)\n",
      "LABELS DISTRIBUTION:\n",
      "{'None': 12, 'bird': 8, 'plane': 61}\n",
      "PREDICTIONS DISTRIBUTION:\n",
      "{'plane': {'False_Neg': 0,\n",
      "           'False_Pos': 20,\n",
      "           'True_Neg': 0,\n",
      "           'True_Pos': 61,\n",
      "           'guess_rate': 1.0}}\n",
      "EVAL ON EPOCH 1, BATCH 7 (epoch1-batch70.pt)\n",
      "starting eval...\n"
     ]
    },
    {
     "name": "stderr",
     "output_type": "stream",
     "text": [
      "  0%|          | 0/81 [00:00<?, ?it/s]"
     ]
    },
    {
     "name": "stdout",
     "output_type": "stream",
     "text": [
      "<class 'ultralytics.models.yolo.detect.predict.DetectionPredictor'>\n"
     ]
    },
    {
     "name": "stderr",
     "output_type": "stream",
     "text": [
      "100%|██████████| 81/81 [03:06<00:00,  2.30s/it]\n"
     ]
    },
    {
     "name": "stdout",
     "output_type": "stream",
     "text": [
      "NUM CORRECT: 17 / 81 (0.21)\n",
      "LABELS DISTRIBUTION:\n",
      "{'None': 12, 'bird': 8, 'plane': 61}\n",
      "PREDICTIONS DISTRIBUTION:\n",
      "{'bird': {'False_Neg': 0,\n",
      "          'False_Pos': 64,\n",
      "          'True_Neg': 9,\n",
      "          'True_Pos': 8,\n",
      "          'guess_rate': 0.8888888888888888},\n",
      " 'plane': {'False_Neg': 52,\n",
      "           'False_Pos': 0,\n",
      "           'True_Neg': 20,\n",
      "           'True_Pos': 9,\n",
      "           'guess_rate': 0.1111111111111111}}\n",
      "EVAL ON EPOCH 2, BATCH 7 (epoch2-batch70.pt)\n",
      "starting eval...\n"
     ]
    },
    {
     "name": "stderr",
     "output_type": "stream",
     "text": [
      "  0%|          | 0/81 [00:00<?, ?it/s]"
     ]
    },
    {
     "name": "stdout",
     "output_type": "stream",
     "text": [
      "<class 'ultralytics.models.yolo.detect.predict.DetectionPredictor'>\n"
     ]
    },
    {
     "name": "stderr",
     "output_type": "stream",
     "text": [
      "100%|██████████| 81/81 [02:59<00:00,  2.22s/it]\n"
     ]
    },
    {
     "name": "stdout",
     "output_type": "stream",
     "text": [
      "NUM CORRECT: 47 / 81 (0.58)\n",
      "LABELS DISTRIBUTION:\n",
      "{'None': 12, 'bird': 8, 'plane': 61}\n",
      "PREDICTIONS DISTRIBUTION:\n",
      "{'None': {'False_Neg': 10,\n",
      "          'False_Pos': 1,\n",
      "          'True_Neg': 68,\n",
      "          'True_Pos': 2,\n",
      "          'guess_rate': 0.037037037037037035},\n",
      " 'bird': {'False_Neg': 3,\n",
      "          'False_Pos': 27,\n",
      "          'True_Neg': 46,\n",
      "          'True_Pos': 5,\n",
      "          'guess_rate': 0.3950617283950617},\n",
      " 'plane': {'False_Neg': 21,\n",
      "           'False_Pos': 6,\n",
      "           'True_Neg': 14,\n",
      "           'True_Pos': 40,\n",
      "           'guess_rate': 0.5679012345679012}}\n",
      "EVAL ON EPOCH 3, BATCH 7 (epoch3-batch70.pt)\n",
      "starting eval...\n"
     ]
    },
    {
     "name": "stderr",
     "output_type": "stream",
     "text": [
      "  0%|          | 0/81 [00:00<?, ?it/s]"
     ]
    },
    {
     "name": "stdout",
     "output_type": "stream",
     "text": [
      "<class 'ultralytics.models.yolo.detect.predict.DetectionPredictor'>\n"
     ]
    },
    {
     "name": "stderr",
     "output_type": "stream",
     "text": [
      "100%|██████████| 81/81 [02:59<00:00,  2.22s/it]\n"
     ]
    },
    {
     "name": "stdout",
     "output_type": "stream",
     "text": [
      "NUM CORRECT: 48 / 81 (0.59)\n",
      "LABELS DISTRIBUTION:\n",
      "{'None': 12, 'bird': 8, 'plane': 61}\n",
      "PREDICTIONS DISTRIBUTION:\n",
      "{'None': {'False_Neg': 10,\n",
      "          'False_Pos': 0,\n",
      "          'True_Neg': 69,\n",
      "          'True_Pos': 2,\n",
      "          'guess_rate': 0.024691358024691357},\n",
      " 'bird': {'False_Neg': 1,\n",
      "          'False_Pos': 31,\n",
      "          'True_Neg': 42,\n",
      "          'True_Pos': 7,\n",
      "          'guess_rate': 0.4691358024691358},\n",
      " 'plane': {'False_Neg': 22,\n",
      "           'False_Pos': 2,\n",
      "           'True_Neg': 18,\n",
      "           'True_Pos': 39,\n",
      "           'guess_rate': 0.5061728395061729}}\n",
      "EVAL ON EPOCH 4, BATCH 7 (epoch4-batch70.pt)\n",
      "starting eval...\n"
     ]
    },
    {
     "name": "stderr",
     "output_type": "stream",
     "text": [
      "  0%|          | 0/81 [00:00<?, ?it/s]"
     ]
    },
    {
     "name": "stdout",
     "output_type": "stream",
     "text": [
      "<class 'ultralytics.models.yolo.detect.predict.DetectionPredictor'>\n"
     ]
    },
    {
     "name": "stderr",
     "output_type": "stream",
     "text": [
      "100%|██████████| 81/81 [02:59<00:00,  2.22s/it]\n"
     ]
    },
    {
     "name": "stdout",
     "output_type": "stream",
     "text": [
      "NUM CORRECT: 29 / 81 (0.36)\n",
      "LABELS DISTRIBUTION:\n",
      "{'None': 12, 'bird': 8, 'plane': 61}\n",
      "PREDICTIONS DISTRIBUTION:\n",
      "{'None': {'False_Neg': 9,\n",
      "          'False_Pos': 1,\n",
      "          'True_Neg': 68,\n",
      "          'True_Pos': 3,\n",
      "          'guess_rate': 0.04938271604938271},\n",
      " 'bird': {'False_Neg': 1,\n",
      "          'False_Pos': 49,\n",
      "          'True_Neg': 24,\n",
      "          'True_Pos': 7,\n",
      "          'guess_rate': 0.691358024691358},\n",
      " 'plane': {'False_Neg': 42,\n",
      "           'False_Pos': 2,\n",
      "           'True_Neg': 18,\n",
      "           'True_Pos': 19,\n",
      "           'guess_rate': 0.25925925925925924}}\n",
      "EVAL ON EPOCH 0, BATCH 3 (epoch0-batch30.pt)\n",
      "starting eval...\n"
     ]
    },
    {
     "name": "stderr",
     "output_type": "stream",
     "text": [
      "  0%|          | 0/81 [00:00<?, ?it/s]"
     ]
    },
    {
     "name": "stdout",
     "output_type": "stream",
     "text": [
      "<class 'ultralytics.models.yolo.detect.predict.DetectionPredictor'>\n"
     ]
    },
    {
     "name": "stderr",
     "output_type": "stream",
     "text": [
      "100%|██████████| 81/81 [03:37<00:00,  2.68s/it]\n"
     ]
    },
    {
     "name": "stdout",
     "output_type": "stream",
     "text": [
      "NUM CORRECT: 60 / 81 (0.74)\n",
      "LABELS DISTRIBUTION:\n",
      "{'None': 12, 'bird': 8, 'plane': 61}\n",
      "PREDICTIONS DISTRIBUTION:\n",
      "{'bird': {'False_Neg': 8,\n",
      "          'False_Pos': 1,\n",
      "          'True_Neg': 72,\n",
      "          'True_Pos': 0,\n",
      "          'guess_rate': 0.012345679012345678},\n",
      " 'plane': {'False_Neg': 1,\n",
      "           'False_Pos': 20,\n",
      "           'True_Neg': 0,\n",
      "           'True_Pos': 60,\n",
      "           'guess_rate': 0.9876543209876543}}\n",
      "EVAL ON EPOCH 1, BATCH 3 (epoch1-batch30.pt)\n",
      "starting eval...\n"
     ]
    },
    {
     "name": "stderr",
     "output_type": "stream",
     "text": [
      "  0%|          | 0/81 [00:00<?, ?it/s]"
     ]
    },
    {
     "name": "stdout",
     "output_type": "stream",
     "text": [
      "<class 'ultralytics.models.yolo.detect.predict.DetectionPredictor'>\n"
     ]
    },
    {
     "name": "stderr",
     "output_type": "stream",
     "text": [
      "100%|██████████| 81/81 [03:01<00:00,  2.24s/it]\n"
     ]
    },
    {
     "name": "stdout",
     "output_type": "stream",
     "text": [
      "NUM CORRECT: 61 / 81 (0.75)\n",
      "LABELS DISTRIBUTION:\n",
      "{'None': 12, 'bird': 8, 'plane': 61}\n",
      "PREDICTIONS DISTRIBUTION:\n",
      "{'None': {'False_Neg': 12,\n",
      "          'False_Pos': 1,\n",
      "          'True_Neg': 68,\n",
      "          'True_Pos': 0,\n",
      "          'guess_rate': 0.012345679012345678},\n",
      " 'bird': {'False_Neg': 6,\n",
      "          'False_Pos': 2,\n",
      "          'True_Neg': 71,\n",
      "          'True_Pos': 2,\n",
      "          'guess_rate': 0.04938271604938271},\n",
      " 'plane': {'False_Neg': 2,\n",
      "           'False_Pos': 17,\n",
      "           'True_Neg': 3,\n",
      "           'True_Pos': 59,\n",
      "           'guess_rate': 0.9382716049382716}}\n",
      "EVAL ON EPOCH 2, BATCH 3 (epoch2-batch30.pt)\n",
      "starting eval...\n"
     ]
    },
    {
     "name": "stderr",
     "output_type": "stream",
     "text": [
      "  0%|          | 0/81 [00:00<?, ?it/s]"
     ]
    },
    {
     "name": "stdout",
     "output_type": "stream",
     "text": [
      "<class 'ultralytics.models.yolo.detect.predict.DetectionPredictor'>\n"
     ]
    },
    {
     "name": "stderr",
     "output_type": "stream",
     "text": [
      "100%|██████████| 81/81 [03:05<00:00,  2.29s/it]\n"
     ]
    },
    {
     "name": "stdout",
     "output_type": "stream",
     "text": [
      "NUM CORRECT: 38 / 81 (0.47)\n",
      "LABELS DISTRIBUTION:\n",
      "{'None': 12, 'bird': 8, 'plane': 61}\n",
      "PREDICTIONS DISTRIBUTION:\n",
      "{'bird': {'False_Neg': 0,\n",
      "          'False_Pos': 43,\n",
      "          'True_Neg': 30,\n",
      "          'True_Pos': 8,\n",
      "          'guess_rate': 0.6296296296296297},\n",
      " 'plane': {'False_Neg': 31,\n",
      "           'False_Pos': 0,\n",
      "           'True_Neg': 20,\n",
      "           'True_Pos': 30,\n",
      "           'guess_rate': 0.37037037037037035}}\n",
      "EVAL ON EPOCH 3, BATCH 3 (epoch3-batch30.pt)\n",
      "starting eval...\n"
     ]
    },
    {
     "name": "stderr",
     "output_type": "stream",
     "text": [
      "  0%|          | 0/81 [00:00<?, ?it/s]"
     ]
    },
    {
     "name": "stdout",
     "output_type": "stream",
     "text": [
      "<class 'ultralytics.models.yolo.detect.predict.DetectionPredictor'>\n"
     ]
    },
    {
     "name": "stderr",
     "output_type": "stream",
     "text": [
      "100%|██████████| 81/81 [03:02<00:00,  2.25s/it]\n"
     ]
    },
    {
     "name": "stdout",
     "output_type": "stream",
     "text": [
      "NUM CORRECT: 41 / 81 (0.51)\n",
      "LABELS DISTRIBUTION:\n",
      "{'None': 12, 'bird': 8, 'plane': 61}\n",
      "PREDICTIONS DISTRIBUTION:\n",
      "{'None': {'False_Neg': 11,\n",
      "          'False_Pos': 0,\n",
      "          'True_Neg': 69,\n",
      "          'True_Pos': 1,\n",
      "          'guess_rate': 0.012345679012345678},\n",
      " 'bird': {'False_Neg': 2,\n",
      "          'False_Pos': 34,\n",
      "          'True_Neg': 39,\n",
      "          'True_Pos': 6,\n",
      "          'guess_rate': 0.49382716049382713},\n",
      " 'plane': {'False_Neg': 27,\n",
      "           'False_Pos': 6,\n",
      "           'True_Neg': 14,\n",
      "           'True_Pos': 34,\n",
      "           'guess_rate': 0.49382716049382713}}\n",
      "EVAL ON EPOCH 4, BATCH 3 (epoch4-batch30.pt)\n",
      "starting eval...\n"
     ]
    },
    {
     "name": "stderr",
     "output_type": "stream",
     "text": [
      "  0%|          | 0/81 [00:00<?, ?it/s]"
     ]
    },
    {
     "name": "stdout",
     "output_type": "stream",
     "text": [
      "<class 'ultralytics.models.yolo.detect.predict.DetectionPredictor'>\n"
     ]
    },
    {
     "name": "stderr",
     "output_type": "stream",
     "text": [
      "100%|██████████| 81/81 [02:59<00:00,  2.21s/it]\n"
     ]
    },
    {
     "name": "stdout",
     "output_type": "stream",
     "text": [
      "NUM CORRECT: 50 / 81 (0.62)\n",
      "LABELS DISTRIBUTION:\n",
      "{'None': 12, 'bird': 8, 'plane': 61}\n",
      "PREDICTIONS DISTRIBUTION:\n",
      "{'None': {'False_Neg': 10,\n",
      "          'False_Pos': 1,\n",
      "          'True_Neg': 68,\n",
      "          'True_Pos': 2,\n",
      "          'guess_rate': 0.037037037037037035},\n",
      " 'bird': {'False_Neg': 1,\n",
      "          'False_Pos': 26,\n",
      "          'True_Neg': 47,\n",
      "          'True_Pos': 7,\n",
      "          'guess_rate': 0.4074074074074074},\n",
      " 'plane': {'False_Neg': 20,\n",
      "           'False_Pos': 4,\n",
      "           'True_Neg': 16,\n",
      "           'True_Pos': 41,\n",
      "           'guess_rate': 0.5555555555555556}}\n",
      "EVAL ON EPOCH 0, BATCH 11 (epoch0-batch110.pt)\n",
      "starting eval...\n"
     ]
    },
    {
     "name": "stderr",
     "output_type": "stream",
     "text": [
      "  0%|          | 0/81 [00:00<?, ?it/s]"
     ]
    },
    {
     "name": "stdout",
     "output_type": "stream",
     "text": [
      "<class 'ultralytics.models.yolo.detect.predict.DetectionPredictor'>\n"
     ]
    },
    {
     "name": "stderr",
     "output_type": "stream",
     "text": [
      "100%|██████████| 81/81 [03:12<00:00,  2.38s/it]\n"
     ]
    },
    {
     "name": "stdout",
     "output_type": "stream",
     "text": [
      "NUM CORRECT: 59 / 81 (0.73)\n",
      "LABELS DISTRIBUTION:\n",
      "{'None': 12, 'bird': 8, 'plane': 61}\n",
      "PREDICTIONS DISTRIBUTION:\n",
      "{'bird': {'False_Neg': 8,\n",
      "          'False_Pos': 2,\n",
      "          'True_Neg': 71,\n",
      "          'True_Pos': 0,\n",
      "          'guess_rate': 0.024691358024691357},\n",
      " 'plane': {'False_Neg': 2,\n",
      "           'False_Pos': 20,\n",
      "           'True_Neg': 0,\n",
      "           'True_Pos': 59,\n",
      "           'guess_rate': 0.9753086419753086}}\n",
      "EVAL ON EPOCH 1, BATCH 11 (epoch1-batch110.pt)\n",
      "starting eval...\n"
     ]
    },
    {
     "name": "stderr",
     "output_type": "stream",
     "text": [
      "  0%|          | 0/81 [00:00<?, ?it/s]"
     ]
    },
    {
     "name": "stdout",
     "output_type": "stream",
     "text": [
      "<class 'ultralytics.models.yolo.detect.predict.DetectionPredictor'>\n"
     ]
    },
    {
     "name": "stderr",
     "output_type": "stream",
     "text": [
      "100%|██████████| 81/81 [03:03<00:00,  2.27s/it]\n"
     ]
    },
    {
     "name": "stdout",
     "output_type": "stream",
     "text": [
      "NUM CORRECT: 50 / 81 (0.62)\n",
      "LABELS DISTRIBUTION:\n",
      "{'None': 12, 'bird': 8, 'plane': 61}\n",
      "PREDICTIONS DISTRIBUTION:\n",
      "{'bird': {'False_Neg': 8,\n",
      "          'False_Pos': 12,\n",
      "          'True_Neg': 61,\n",
      "          'True_Pos': 0,\n",
      "          'guess_rate': 0.14814814814814814},\n",
      " 'plane': {'False_Neg': 11,\n",
      "           'False_Pos': 19,\n",
      "           'True_Neg': 1,\n",
      "           'True_Pos': 50,\n",
      "           'guess_rate': 0.8518518518518519}}\n",
      "EVAL ON EPOCH 2, BATCH 11 (epoch2-batch110.pt)\n",
      "starting eval...\n"
     ]
    },
    {
     "name": "stderr",
     "output_type": "stream",
     "text": [
      "  0%|          | 0/81 [00:00<?, ?it/s]"
     ]
    },
    {
     "name": "stdout",
     "output_type": "stream",
     "text": [
      "<class 'ultralytics.models.yolo.detect.predict.DetectionPredictor'>\n"
     ]
    },
    {
     "name": "stderr",
     "output_type": "stream",
     "text": [
      "100%|██████████| 81/81 [02:59<00:00,  2.22s/it]\n"
     ]
    },
    {
     "name": "stdout",
     "output_type": "stream",
     "text": [
      "NUM CORRECT: 39 / 81 (0.48)\n",
      "LABELS DISTRIBUTION:\n",
      "{'None': 12, 'bird': 8, 'plane': 61}\n",
      "PREDICTIONS DISTRIBUTION:\n",
      "{'None': {'False_Neg': 12,\n",
      "          'False_Pos': 1,\n",
      "          'True_Neg': 68,\n",
      "          'True_Pos': 0,\n",
      "          'guess_rate': 0.012345679012345678},\n",
      " 'bird': {'False_Neg': 1,\n",
      "          'False_Pos': 39,\n",
      "          'True_Neg': 34,\n",
      "          'True_Pos': 7,\n",
      "          'guess_rate': 0.5679012345679012},\n",
      " 'plane': {'False_Neg': 29,\n",
      "           'False_Pos': 2,\n",
      "           'True_Neg': 18,\n",
      "           'True_Pos': 32,\n",
      "           'guess_rate': 0.41975308641975306}}\n",
      "EVAL ON EPOCH 3, BATCH 11 (epoch3-batch110.pt)\n",
      "starting eval...\n"
     ]
    },
    {
     "name": "stderr",
     "output_type": "stream",
     "text": [
      "  0%|          | 0/81 [00:00<?, ?it/s]"
     ]
    },
    {
     "name": "stdout",
     "output_type": "stream",
     "text": [
      "<class 'ultralytics.models.yolo.detect.predict.DetectionPredictor'>\n"
     ]
    },
    {
     "name": "stderr",
     "output_type": "stream",
     "text": [
      "100%|██████████| 81/81 [02:55<00:00,  2.17s/it]\n"
     ]
    },
    {
     "name": "stdout",
     "output_type": "stream",
     "text": [
      "NUM CORRECT: 49 / 81 (0.60)\n",
      "LABELS DISTRIBUTION:\n",
      "{'None': 12, 'bird': 8, 'plane': 61}\n",
      "PREDICTIONS DISTRIBUTION:\n",
      "{'None': {'False_Neg': 12,\n",
      "          'False_Pos': 1,\n",
      "          'True_Neg': 68,\n",
      "          'True_Pos': 0,\n",
      "          'guess_rate': 0.012345679012345678},\n",
      " 'bird': {'False_Neg': 2,\n",
      "          'False_Pos': 28,\n",
      "          'True_Neg': 45,\n",
      "          'True_Pos': 6,\n",
      "          'guess_rate': 0.41975308641975306},\n",
      " 'plane': {'False_Neg': 18,\n",
      "           'False_Pos': 3,\n",
      "           'True_Neg': 17,\n",
      "           'True_Pos': 43,\n",
      "           'guess_rate': 0.5679012345679012}}\n",
      "EVAL ON EPOCH 4, BATCH 11 (epoch4-batch110.pt)\n",
      "starting eval...\n"
     ]
    },
    {
     "name": "stderr",
     "output_type": "stream",
     "text": [
      "  0%|          | 0/81 [00:00<?, ?it/s]"
     ]
    },
    {
     "name": "stdout",
     "output_type": "stream",
     "text": [
      "<class 'ultralytics.models.yolo.detect.predict.DetectionPredictor'>\n"
     ]
    },
    {
     "name": "stderr",
     "output_type": "stream",
     "text": [
      "100%|██████████| 81/81 [02:52<00:00,  2.14s/it]\n"
     ]
    },
    {
     "name": "stdout",
     "output_type": "stream",
     "text": [
      "NUM CORRECT: 51 / 81 (0.63)\n",
      "LABELS DISTRIBUTION:\n",
      "{'None': 12, 'bird': 8, 'plane': 61}\n",
      "PREDICTIONS DISTRIBUTION:\n",
      "{'None': {'False_Neg': 12,\n",
      "          'False_Pos': 2,\n",
      "          'True_Neg': 67,\n",
      "          'True_Pos': 0,\n",
      "          'guess_rate': 0.024691358024691357},\n",
      " 'bird': {'False_Neg': 1,\n",
      "          'False_Pos': 21,\n",
      "          'True_Neg': 52,\n",
      "          'True_Pos': 7,\n",
      "          'guess_rate': 0.345679012345679},\n",
      " 'plane': {'False_Neg': 17,\n",
      "           'False_Pos': 7,\n",
      "           'True_Neg': 13,\n",
      "           'True_Pos': 44,\n",
      "           'guess_rate': 0.6296296296296297}}\n",
      "EVAL ON EPOCH 0, BATCH 1 (epoch0-batch10.pt)\n",
      "starting eval...\n"
     ]
    },
    {
     "name": "stderr",
     "output_type": "stream",
     "text": [
      "  0%|          | 0/81 [00:00<?, ?it/s]"
     ]
    },
    {
     "name": "stdout",
     "output_type": "stream",
     "text": [
      "<class 'ultralytics.models.yolo.detect.predict.DetectionPredictor'>\n"
     ]
    },
    {
     "name": "stderr",
     "output_type": "stream",
     "text": [
      "100%|██████████| 81/81 [04:09<00:00,  3.08s/it]\n"
     ]
    },
    {
     "name": "stdout",
     "output_type": "stream",
     "text": [
      "NUM CORRECT: 7 / 81 (0.09)\n",
      "LABELS DISTRIBUTION:\n",
      "{'None': 12, 'bird': 8, 'plane': 61}\n",
      "PREDICTIONS DISTRIBUTION:\n",
      "{'bird': {'False_Neg': 1,\n",
      "          'False_Pos': 73,\n",
      "          'True_Neg': 0,\n",
      "          'True_Pos': 7,\n",
      "          'guess_rate': 0.9876543209876543},\n",
      " 'plane': {'False_Neg': 61,\n",
      "           'False_Pos': 1,\n",
      "           'True_Neg': 19,\n",
      "           'True_Pos': 0,\n",
      "           'guess_rate': 0.012345679012345678}}\n",
      "EVAL ON EPOCH 1, BATCH 1 (epoch1-batch10.pt)\n",
      "starting eval...\n"
     ]
    },
    {
     "name": "stderr",
     "output_type": "stream",
     "text": [
      "  0%|          | 0/81 [00:00<?, ?it/s]"
     ]
    },
    {
     "name": "stdout",
     "output_type": "stream",
     "text": [
      "<class 'ultralytics.models.yolo.detect.predict.DetectionPredictor'>\n"
     ]
    },
    {
     "name": "stderr",
     "output_type": "stream",
     "text": [
      "100%|██████████| 81/81 [02:53<00:00,  2.14s/it]\n"
     ]
    },
    {
     "name": "stdout",
     "output_type": "stream",
     "text": [
      "NUM CORRECT: 63 / 81 (0.78)\n",
      "LABELS DISTRIBUTION:\n",
      "{'None': 12, 'bird': 8, 'plane': 61}\n",
      "PREDICTIONS DISTRIBUTION:\n",
      "{'None': {'False_Neg': 8,\n",
      "          'False_Pos': 1,\n",
      "          'True_Neg': 68,\n",
      "          'True_Pos': 4,\n",
      "          'guess_rate': 0.06172839506172839},\n",
      " 'bird': {'False_Neg': 4,\n",
      "          'False_Pos': 8,\n",
      "          'True_Neg': 65,\n",
      "          'True_Pos': 4,\n",
      "          'guess_rate': 0.14814814814814814},\n",
      " 'plane': {'False_Neg': 6,\n",
      "           'False_Pos': 9,\n",
      "           'True_Neg': 11,\n",
      "           'True_Pos': 55,\n",
      "           'guess_rate': 0.7901234567901234}}\n",
      "EVAL ON EPOCH 2, BATCH 1 (epoch2-batch10.pt)\n",
      "starting eval...\n"
     ]
    },
    {
     "name": "stderr",
     "output_type": "stream",
     "text": [
      "  0%|          | 0/81 [00:00<?, ?it/s]"
     ]
    },
    {
     "name": "stdout",
     "output_type": "stream",
     "text": [
      "<class 'ultralytics.models.yolo.detect.predict.DetectionPredictor'>\n"
     ]
    },
    {
     "name": "stderr",
     "output_type": "stream",
     "text": [
      "100%|██████████| 81/81 [02:59<00:00,  2.22s/it]\n"
     ]
    },
    {
     "name": "stdout",
     "output_type": "stream",
     "text": [
      "NUM CORRECT: 59 / 81 (0.73)\n",
      "LABELS DISTRIBUTION:\n",
      "{'None': 12, 'bird': 8, 'plane': 61}\n",
      "PREDICTIONS DISTRIBUTION:\n",
      "{'bird': {'False_Neg': 8,\n",
      "          'False_Pos': 2,\n",
      "          'True_Neg': 71,\n",
      "          'True_Pos': 0,\n",
      "          'guess_rate': 0.024691358024691357},\n",
      " 'plane': {'False_Neg': 2,\n",
      "           'False_Pos': 20,\n",
      "           'True_Neg': 0,\n",
      "           'True_Pos': 59,\n",
      "           'guess_rate': 0.9753086419753086}}\n",
      "EVAL ON EPOCH 3, BATCH 1 (epoch3-batch10.pt)\n",
      "starting eval...\n"
     ]
    },
    {
     "name": "stderr",
     "output_type": "stream",
     "text": [
      "  0%|          | 0/81 [00:00<?, ?it/s]"
     ]
    },
    {
     "name": "stdout",
     "output_type": "stream",
     "text": [
      "<class 'ultralytics.models.yolo.detect.predict.DetectionPredictor'>\n"
     ]
    },
    {
     "name": "stderr",
     "output_type": "stream",
     "text": [
      "100%|██████████| 81/81 [02:57<00:00,  2.19s/it]\n"
     ]
    },
    {
     "name": "stdout",
     "output_type": "stream",
     "text": [
      "NUM CORRECT: 28 / 81 (0.35)\n",
      "LABELS DISTRIBUTION:\n",
      "{'None': 12, 'bird': 8, 'plane': 61}\n",
      "PREDICTIONS DISTRIBUTION:\n",
      "{'bird': {'False_Neg': 2,\n",
      "          'False_Pos': 50,\n",
      "          'True_Neg': 23,\n",
      "          'True_Pos': 6,\n",
      "          'guess_rate': 0.691358024691358},\n",
      " 'plane': {'False_Neg': 39,\n",
      "           'False_Pos': 3,\n",
      "           'True_Neg': 17,\n",
      "           'True_Pos': 22,\n",
      "           'guess_rate': 0.30864197530864196}}\n",
      "EVAL ON EPOCH 4, BATCH 1 (epoch4-batch10.pt)\n",
      "starting eval...\n"
     ]
    },
    {
     "name": "stderr",
     "output_type": "stream",
     "text": [
      "  0%|          | 0/81 [00:00<?, ?it/s]"
     ]
    },
    {
     "name": "stdout",
     "output_type": "stream",
     "text": [
      "<class 'ultralytics.models.yolo.detect.predict.DetectionPredictor'>\n"
     ]
    },
    {
     "name": "stderr",
     "output_type": "stream",
     "text": [
      "100%|██████████| 81/81 [02:54<00:00,  2.15s/it]\n"
     ]
    },
    {
     "name": "stdout",
     "output_type": "stream",
     "text": [
      "NUM CORRECT: 35 / 81 (0.43)\n",
      "LABELS DISTRIBUTION:\n",
      "{'None': 12, 'bird': 8, 'plane': 61}\n",
      "PREDICTIONS DISTRIBUTION:\n",
      "{'None': {'False_Neg': 12,\n",
      "          'False_Pos': 1,\n",
      "          'True_Neg': 68,\n",
      "          'True_Pos': 0,\n",
      "          'guess_rate': 0.012345679012345678},\n",
      " 'bird': {'False_Neg': 0,\n",
      "          'False_Pos': 44,\n",
      "          'True_Neg': 29,\n",
      "          'True_Pos': 8,\n",
      "          'guess_rate': 0.6419753086419753},\n",
      " 'plane': {'False_Neg': 34,\n",
      "           'False_Pos': 1,\n",
      "           'True_Neg': 19,\n",
      "           'True_Pos': 27,\n",
      "           'guess_rate': 0.345679012345679}}\n",
      "EVAL ON EPOCH 0, BATCH 5 (epoch0-batch50.pt)\n",
      "starting eval...\n"
     ]
    },
    {
     "name": "stderr",
     "output_type": "stream",
     "text": [
      "  0%|          | 0/81 [00:00<?, ?it/s]"
     ]
    },
    {
     "name": "stdout",
     "output_type": "stream",
     "text": [
      "<class 'ultralytics.models.yolo.detect.predict.DetectionPredictor'>\n"
     ]
    },
    {
     "name": "stderr",
     "output_type": "stream",
     "text": [
      "100%|██████████| 81/81 [03:04<00:00,  2.27s/it]\n"
     ]
    },
    {
     "name": "stdout",
     "output_type": "stream",
     "text": [
      "NUM CORRECT: 19 / 81 (0.23)\n",
      "LABELS DISTRIBUTION:\n",
      "{'None': 12, 'bird': 8, 'plane': 61}\n",
      "PREDICTIONS DISTRIBUTION:\n",
      "{'bird': {'False_Neg': 0,\n",
      "          'False_Pos': 61,\n",
      "          'True_Neg': 12,\n",
      "          'True_Pos': 8,\n",
      "          'guess_rate': 0.8518518518518519},\n",
      " 'plane': {'False_Neg': 50,\n",
      "           'False_Pos': 1,\n",
      "           'True_Neg': 19,\n",
      "           'True_Pos': 11,\n",
      "           'guess_rate': 0.14814814814814814}}\n",
      "EVAL ON EPOCH 1, BATCH 5 (epoch1-batch50.pt)\n",
      "starting eval...\n"
     ]
    },
    {
     "name": "stderr",
     "output_type": "stream",
     "text": [
      "  0%|          | 0/81 [00:00<?, ?it/s]"
     ]
    },
    {
     "name": "stdout",
     "output_type": "stream",
     "text": [
      "<class 'ultralytics.models.yolo.detect.predict.DetectionPredictor'>\n"
     ]
    },
    {
     "name": "stderr",
     "output_type": "stream",
     "text": [
      "100%|██████████| 81/81 [02:58<00:00,  2.20s/it]\n"
     ]
    },
    {
     "name": "stdout",
     "output_type": "stream",
     "text": [
      "NUM CORRECT: 26 / 81 (0.32)\n",
      "LABELS DISTRIBUTION:\n",
      "{'None': 12, 'bird': 8, 'plane': 61}\n",
      "PREDICTIONS DISTRIBUTION:\n",
      "{'None': {'False_Neg': 11,\n",
      "          'False_Pos': 0,\n",
      "          'True_Neg': 69,\n",
      "          'True_Pos': 1,\n",
      "          'guess_rate': 0.012345679012345678},\n",
      " 'bird': {'False_Neg': 7,\n",
      "          'False_Pos': 42,\n",
      "          'True_Neg': 31,\n",
      "          'True_Pos': 1,\n",
      "          'guess_rate': 0.5308641975308642},\n",
      " 'plane': {'False_Neg': 37,\n",
      "           'False_Pos': 13,\n",
      "           'True_Neg': 7,\n",
      "           'True_Pos': 24,\n",
      "           'guess_rate': 0.4567901234567901}}\n",
      "EVAL ON EPOCH 2, BATCH 5 (epoch2-batch50.pt)\n",
      "starting eval...\n"
     ]
    },
    {
     "name": "stderr",
     "output_type": "stream",
     "text": [
      "  0%|          | 0/81 [00:00<?, ?it/s]"
     ]
    },
    {
     "name": "stdout",
     "output_type": "stream",
     "text": [
      "<class 'ultralytics.models.yolo.detect.predict.DetectionPredictor'>\n"
     ]
    },
    {
     "name": "stderr",
     "output_type": "stream",
     "text": [
      "100%|██████████| 81/81 [03:01<00:00,  2.24s/it]\n"
     ]
    },
    {
     "name": "stdout",
     "output_type": "stream",
     "text": [
      "NUM CORRECT: 46 / 81 (0.57)\n",
      "LABELS DISTRIBUTION:\n",
      "{'None': 12, 'bird': 8, 'plane': 61}\n",
      "PREDICTIONS DISTRIBUTION:\n",
      "{'None': {'False_Neg': 12,\n",
      "          'False_Pos': 1,\n",
      "          'True_Neg': 68,\n",
      "          'True_Pos': 0,\n",
      "          'guess_rate': 0.012345679012345678},\n",
      " 'bird': {'False_Neg': 1,\n",
      "          'False_Pos': 32,\n",
      "          'True_Neg': 41,\n",
      "          'True_Pos': 7,\n",
      "          'guess_rate': 0.48148148148148145},\n",
      " 'plane': {'False_Neg': 22,\n",
      "           'False_Pos': 2,\n",
      "           'True_Neg': 18,\n",
      "           'True_Pos': 39,\n",
      "           'guess_rate': 0.5061728395061729}}\n",
      "EVAL ON EPOCH 3, BATCH 5 (epoch3-batch50.pt)\n",
      "starting eval...\n"
     ]
    },
    {
     "name": "stderr",
     "output_type": "stream",
     "text": [
      "  0%|          | 0/81 [00:00<?, ?it/s]"
     ]
    },
    {
     "name": "stdout",
     "output_type": "stream",
     "text": [
      "<class 'ultralytics.models.yolo.detect.predict.DetectionPredictor'>\n"
     ]
    },
    {
     "name": "stderr",
     "output_type": "stream",
     "text": [
      "100%|██████████| 81/81 [03:05<00:00,  2.29s/it]\n"
     ]
    },
    {
     "name": "stdout",
     "output_type": "stream",
     "text": [
      "NUM CORRECT: 19 / 81 (0.23)\n",
      "LABELS DISTRIBUTION:\n",
      "{'None': 12, 'bird': 8, 'plane': 61}\n",
      "PREDICTIONS DISTRIBUTION:\n",
      "{'bird': {'False_Neg': 0,\n",
      "          'False_Pos': 61,\n",
      "          'True_Neg': 12,\n",
      "          'True_Pos': 8,\n",
      "          'guess_rate': 0.8518518518518519},\n",
      " 'plane': {'False_Neg': 50,\n",
      "           'False_Pos': 1,\n",
      "           'True_Neg': 19,\n",
      "           'True_Pos': 11,\n",
      "           'guess_rate': 0.14814814814814814}}\n",
      "EVAL ON EPOCH 4, BATCH 5 (epoch4-batch50.pt)\n",
      "starting eval...\n"
     ]
    },
    {
     "name": "stderr",
     "output_type": "stream",
     "text": [
      "  0%|          | 0/81 [00:00<?, ?it/s]"
     ]
    },
    {
     "name": "stdout",
     "output_type": "stream",
     "text": [
      "<class 'ultralytics.models.yolo.detect.predict.DetectionPredictor'>\n"
     ]
    },
    {
     "name": "stderr",
     "output_type": "stream",
     "text": [
      "100%|██████████| 81/81 [02:58<00:00,  2.21s/it]\n"
     ]
    },
    {
     "name": "stdout",
     "output_type": "stream",
     "text": [
      "NUM CORRECT: 56 / 81 (0.69)\n",
      "LABELS DISTRIBUTION:\n",
      "{'None': 12, 'bird': 8, 'plane': 61}\n",
      "PREDICTIONS DISTRIBUTION:\n",
      "{'None': {'False_Neg': 10,\n",
      "          'False_Pos': 1,\n",
      "          'True_Neg': 68,\n",
      "          'True_Pos': 2,\n",
      "          'guess_rate': 0.037037037037037035},\n",
      " 'bird': {'False_Neg': 4,\n",
      "          'False_Pos': 11,\n",
      "          'True_Neg': 62,\n",
      "          'True_Pos': 4,\n",
      "          'guess_rate': 0.18518518518518517},\n",
      " 'plane': {'False_Neg': 11,\n",
      "           'False_Pos': 13,\n",
      "           'True_Neg': 7,\n",
      "           'True_Pos': 50,\n",
      "           'guess_rate': 0.7777777777777778}}\n",
      "EVAL ON EPOCH 0, BATCH 9 (epoch0-batch90.pt)\n",
      "starting eval...\n"
     ]
    },
    {
     "name": "stderr",
     "output_type": "stream",
     "text": [
      "  0%|          | 0/81 [00:00<?, ?it/s]"
     ]
    },
    {
     "name": "stdout",
     "output_type": "stream",
     "text": [
      "<class 'ultralytics.models.yolo.detect.predict.DetectionPredictor'>\n"
     ]
    },
    {
     "name": "stderr",
     "output_type": "stream",
     "text": [
      "100%|██████████| 81/81 [03:34<00:00,  2.65s/it]\n"
     ]
    },
    {
     "name": "stdout",
     "output_type": "stream",
     "text": [
      "NUM CORRECT: 8 / 81 (0.10)\n",
      "LABELS DISTRIBUTION:\n",
      "{'None': 12, 'bird': 8, 'plane': 61}\n",
      "PREDICTIONS DISTRIBUTION:\n",
      "{'bird': {'False_Neg': 0,\n",
      "          'False_Pos': 73,\n",
      "          'True_Neg': 0,\n",
      "          'True_Pos': 8,\n",
      "          'guess_rate': 1.0}}\n",
      "EVAL ON EPOCH 1, BATCH 9 (epoch1-batch90.pt)\n",
      "starting eval...\n"
     ]
    },
    {
     "name": "stderr",
     "output_type": "stream",
     "text": [
      "  0%|          | 0/81 [00:00<?, ?it/s]"
     ]
    },
    {
     "name": "stdout",
     "output_type": "stream",
     "text": [
      "<class 'ultralytics.models.yolo.detect.predict.DetectionPredictor'>\n"
     ]
    },
    {
     "name": "stderr",
     "output_type": "stream",
     "text": [
      "100%|██████████| 81/81 [03:08<00:00,  2.32s/it]\n"
     ]
    },
    {
     "name": "stdout",
     "output_type": "stream",
     "text": [
      "NUM CORRECT: 8 / 81 (0.10)\n",
      "LABELS DISTRIBUTION:\n",
      "{'None': 12, 'bird': 8, 'plane': 61}\n",
      "PREDICTIONS DISTRIBUTION:\n",
      "{'bird': {'False_Neg': 0,\n",
      "          'False_Pos': 73,\n",
      "          'True_Neg': 0,\n",
      "          'True_Pos': 8,\n",
      "          'guess_rate': 1.0}}\n",
      "EVAL ON EPOCH 2, BATCH 9 (epoch2-batch90.pt)\n",
      "starting eval...\n"
     ]
    },
    {
     "name": "stderr",
     "output_type": "stream",
     "text": [
      "  0%|          | 0/81 [00:00<?, ?it/s]"
     ]
    },
    {
     "name": "stdout",
     "output_type": "stream",
     "text": [
      "<class 'ultralytics.models.yolo.detect.predict.DetectionPredictor'>\n"
     ]
    },
    {
     "name": "stderr",
     "output_type": "stream",
     "text": [
      "100%|██████████| 81/81 [02:58<00:00,  2.20s/it]\n"
     ]
    },
    {
     "name": "stdout",
     "output_type": "stream",
     "text": [
      "NUM CORRECT: 60 / 81 (0.74)\n",
      "LABELS DISTRIBUTION:\n",
      "{'None': 12, 'bird': 8, 'plane': 61}\n",
      "PREDICTIONS DISTRIBUTION:\n",
      "{'None': {'False_Neg': 9,\n",
      "          'False_Pos': 2,\n",
      "          'True_Neg': 67,\n",
      "          'True_Pos': 3,\n",
      "          'guess_rate': 0.06172839506172839},\n",
      " 'bird': {'False_Neg': 2,\n",
      "          'False_Pos': 15,\n",
      "          'True_Neg': 58,\n",
      "          'True_Pos': 6,\n",
      "          'guess_rate': 0.25925925925925924},\n",
      " 'plane': {'False_Neg': 10,\n",
      "           'False_Pos': 4,\n",
      "           'True_Neg': 16,\n",
      "           'True_Pos': 51,\n",
      "           'guess_rate': 0.6790123456790124}}\n",
      "EVAL ON EPOCH 3, BATCH 9 (epoch3-batch90.pt)\n",
      "starting eval...\n"
     ]
    },
    {
     "name": "stderr",
     "output_type": "stream",
     "text": [
      "  0%|          | 0/81 [00:00<?, ?it/s]"
     ]
    },
    {
     "name": "stdout",
     "output_type": "stream",
     "text": [
      "<class 'ultralytics.models.yolo.detect.predict.DetectionPredictor'>\n"
     ]
    },
    {
     "name": "stderr",
     "output_type": "stream",
     "text": [
      "100%|██████████| 81/81 [03:02<00:00,  2.25s/it]\n"
     ]
    },
    {
     "name": "stdout",
     "output_type": "stream",
     "text": [
      "NUM CORRECT: 51 / 81 (0.63)\n",
      "LABELS DISTRIBUTION:\n",
      "{'None': 12, 'bird': 8, 'plane': 61}\n",
      "PREDICTIONS DISTRIBUTION:\n",
      "{'None': {'False_Neg': 11,\n",
      "          'False_Pos': 1,\n",
      "          'True_Neg': 68,\n",
      "          'True_Pos': 1,\n",
      "          'guess_rate': 0.024691358024691357},\n",
      " 'bird': {'False_Neg': 1,\n",
      "          'False_Pos': 26,\n",
      "          'True_Neg': 47,\n",
      "          'True_Pos': 7,\n",
      "          'guess_rate': 0.4074074074074074},\n",
      " 'plane': {'False_Neg': 18,\n",
      "           'False_Pos': 3,\n",
      "           'True_Neg': 17,\n",
      "           'True_Pos': 43,\n",
      "           'guess_rate': 0.5679012345679012}}\n",
      "EVAL ON EPOCH 4, BATCH 9 (epoch4-batch90.pt)\n",
      "starting eval...\n"
     ]
    },
    {
     "name": "stderr",
     "output_type": "stream",
     "text": [
      "  0%|          | 0/81 [00:00<?, ?it/s]"
     ]
    },
    {
     "name": "stdout",
     "output_type": "stream",
     "text": [
      "<class 'ultralytics.models.yolo.detect.predict.DetectionPredictor'>\n"
     ]
    },
    {
     "name": "stderr",
     "output_type": "stream",
     "text": [
      "100%|██████████| 81/81 [02:59<00:00,  2.22s/it]\n"
     ]
    },
    {
     "name": "stdout",
     "output_type": "stream",
     "text": [
      "NUM CORRECT: 25 / 81 (0.31)\n",
      "LABELS DISTRIBUTION:\n",
      "{'None': 12, 'bird': 8, 'plane': 61}\n",
      "PREDICTIONS DISTRIBUTION:\n",
      "{'None': {'False_Neg': 8,\n",
      "          'False_Pos': 4,\n",
      "          'True_Neg': 65,\n",
      "          'True_Pos': 4,\n",
      "          'guess_rate': 0.09876543209876543},\n",
      " 'bird': {'False_Neg': 1,\n",
      "          'False_Pos': 51,\n",
      "          'True_Neg': 22,\n",
      "          'True_Pos': 7,\n",
      "          'guess_rate': 0.7160493827160493},\n",
      " 'plane': {'False_Neg': 47,\n",
      "           'False_Pos': 1,\n",
      "           'True_Neg': 19,\n",
      "           'True_Pos': 14,\n",
      "           'guess_rate': 0.18518518518518517}}\n",
      "EVAL ON EPOCH 0, BATCH 10 (epoch0-batch100.pt)\n",
      "starting eval...\n"
     ]
    },
    {
     "name": "stderr",
     "output_type": "stream",
     "text": [
      "  0%|          | 0/81 [00:00<?, ?it/s]"
     ]
    },
    {
     "name": "stdout",
     "output_type": "stream",
     "text": [
      "<class 'ultralytics.models.yolo.detect.predict.DetectionPredictor'>\n"
     ]
    },
    {
     "name": "stderr",
     "output_type": "stream",
     "text": [
      "100%|██████████| 81/81 [03:06<00:00,  2.30s/it]\n"
     ]
    },
    {
     "name": "stdout",
     "output_type": "stream",
     "text": [
      "NUM CORRECT: 56 / 81 (0.69)\n",
      "LABELS DISTRIBUTION:\n",
      "{'None': 12, 'bird': 8, 'plane': 61}\n",
      "PREDICTIONS DISTRIBUTION:\n",
      "{'bird': {'False_Neg': 5,\n",
      "          'False_Pos': 11,\n",
      "          'True_Neg': 62,\n",
      "          'True_Pos': 3,\n",
      "          'guess_rate': 0.1728395061728395},\n",
      " 'plane': {'False_Neg': 8,\n",
      "           'False_Pos': 14,\n",
      "           'True_Neg': 6,\n",
      "           'True_Pos': 53,\n",
      "           'guess_rate': 0.8271604938271605}}\n",
      "EVAL ON EPOCH 1, BATCH 10 (epoch1-batch100.pt)\n",
      "starting eval...\n"
     ]
    },
    {
     "name": "stderr",
     "output_type": "stream",
     "text": [
      "  0%|          | 0/81 [00:00<?, ?it/s]"
     ]
    },
    {
     "name": "stdout",
     "output_type": "stream",
     "text": [
      "<class 'ultralytics.models.yolo.detect.predict.DetectionPredictor'>\n"
     ]
    },
    {
     "name": "stderr",
     "output_type": "stream",
     "text": [
      "100%|██████████| 81/81 [03:01<00:00,  2.25s/it]\n"
     ]
    },
    {
     "name": "stdout",
     "output_type": "stream",
     "text": [
      "NUM CORRECT: 27 / 81 (0.33)\n",
      "LABELS DISTRIBUTION:\n",
      "{'None': 12, 'bird': 8, 'plane': 61}\n",
      "PREDICTIONS DISTRIBUTION:\n",
      "{'None': {'False_Neg': 12,\n",
      "          'False_Pos': 1,\n",
      "          'True_Neg': 68,\n",
      "          'True_Pos': 0,\n",
      "          'guess_rate': 0.012345679012345678},\n",
      " 'bird': {'False_Neg': 1,\n",
      "          'False_Pos': 43,\n",
      "          'True_Neg': 30,\n",
      "          'True_Pos': 7,\n",
      "          'guess_rate': 0.6172839506172839},\n",
      " 'plane': {'False_Neg': 41,\n",
      "           'False_Pos': 10,\n",
      "           'True_Neg': 10,\n",
      "           'True_Pos': 20,\n",
      "           'guess_rate': 0.37037037037037035}}\n",
      "EVAL ON EPOCH 2, BATCH 10 (epoch2-batch100.pt)\n",
      "starting eval...\n"
     ]
    },
    {
     "name": "stderr",
     "output_type": "stream",
     "text": [
      "  0%|          | 0/81 [00:00<?, ?it/s]"
     ]
    },
    {
     "name": "stdout",
     "output_type": "stream",
     "text": [
      "<class 'ultralytics.models.yolo.detect.predict.DetectionPredictor'>\n"
     ]
    },
    {
     "name": "stderr",
     "output_type": "stream",
     "text": [
      "100%|██████████| 81/81 [03:00<00:00,  2.23s/it]\n"
     ]
    },
    {
     "name": "stdout",
     "output_type": "stream",
     "text": [
      "NUM CORRECT: 61 / 81 (0.75)\n",
      "LABELS DISTRIBUTION:\n",
      "{'None': 12, 'bird': 8, 'plane': 61}\n",
      "PREDICTIONS DISTRIBUTION:\n",
      "{'None': {'False_Neg': 6,\n",
      "          'False_Pos': 5,\n",
      "          'True_Neg': 64,\n",
      "          'True_Pos': 6,\n",
      "          'guess_rate': 0.13580246913580246},\n",
      " 'bird': {'False_Neg': 1,\n",
      "          'False_Pos': 13,\n",
      "          'True_Neg': 60,\n",
      "          'True_Pos': 7,\n",
      "          'guess_rate': 0.24691358024691357},\n",
      " 'plane': {'False_Neg': 13,\n",
      "           'False_Pos': 2,\n",
      "           'True_Neg': 18,\n",
      "           'True_Pos': 48,\n",
      "           'guess_rate': 0.6172839506172839}}\n",
      "EVAL ON EPOCH 3, BATCH 10 (epoch3-batch100.pt)\n",
      "starting eval...\n"
     ]
    },
    {
     "name": "stderr",
     "output_type": "stream",
     "text": [
      "  0%|          | 0/81 [00:00<?, ?it/s]"
     ]
    },
    {
     "name": "stdout",
     "output_type": "stream",
     "text": [
      "<class 'ultralytics.models.yolo.detect.predict.DetectionPredictor'>\n"
     ]
    },
    {
     "name": "stderr",
     "output_type": "stream",
     "text": [
      "100%|██████████| 81/81 [02:58<00:00,  2.21s/it]\n"
     ]
    },
    {
     "name": "stdout",
     "output_type": "stream",
     "text": [
      "NUM CORRECT: 64 / 81 (0.79)\n",
      "LABELS DISTRIBUTION:\n",
      "{'None': 12, 'bird': 8, 'plane': 61}\n",
      "PREDICTIONS DISTRIBUTION:\n",
      "{'None': {'False_Neg': 8,\n",
      "          'False_Pos': 1,\n",
      "          'True_Neg': 68,\n",
      "          'True_Pos': 4,\n",
      "          'guess_rate': 0.06172839506172839},\n",
      " 'bird': {'False_Neg': 2,\n",
      "          'False_Pos': 8,\n",
      "          'True_Neg': 65,\n",
      "          'True_Pos': 6,\n",
      "          'guess_rate': 0.1728395061728395},\n",
      " 'plane': {'False_Neg': 7,\n",
      "           'False_Pos': 8,\n",
      "           'True_Neg': 12,\n",
      "           'True_Pos': 54,\n",
      "           'guess_rate': 0.7654320987654321}}\n",
      "EVAL ON EPOCH 4, BATCH 10 (epoch4-batch100.pt)\n",
      "starting eval...\n"
     ]
    },
    {
     "name": "stderr",
     "output_type": "stream",
     "text": [
      "  0%|          | 0/81 [00:00<?, ?it/s]"
     ]
    },
    {
     "name": "stdout",
     "output_type": "stream",
     "text": [
      "<class 'ultralytics.models.yolo.detect.predict.DetectionPredictor'>\n"
     ]
    },
    {
     "name": "stderr",
     "output_type": "stream",
     "text": [
      "100%|██████████| 81/81 [02:57<00:00,  2.19s/it]\n"
     ]
    },
    {
     "name": "stdout",
     "output_type": "stream",
     "text": [
      "NUM CORRECT: 41 / 81 (0.51)\n",
      "LABELS DISTRIBUTION:\n",
      "{'None': 12, 'bird': 8, 'plane': 61}\n",
      "PREDICTIONS DISTRIBUTION:\n",
      "{'None': {'False_Neg': 12,\n",
      "          'False_Pos': 2,\n",
      "          'True_Neg': 67,\n",
      "          'True_Pos': 0,\n",
      "          'guess_rate': 0.024691358024691357},\n",
      " 'bird': {'False_Neg': 1,\n",
      "          'False_Pos': 32,\n",
      "          'True_Neg': 41,\n",
      "          'True_Pos': 7,\n",
      "          'guess_rate': 0.48148148148148145},\n",
      " 'plane': {'False_Neg': 27,\n",
      "           'False_Pos': 6,\n",
      "           'True_Neg': 14,\n",
      "           'True_Pos': 34,\n",
      "           'guess_rate': 0.49382716049382713}}\n",
      "EVAL ON EPOCH 0, BATCH 12 (epoch0-batch113.pt)\n",
      "starting eval...\n"
     ]
    },
    {
     "name": "stderr",
     "output_type": "stream",
     "text": [
      "  0%|          | 0/81 [00:00<?, ?it/s]"
     ]
    },
    {
     "name": "stdout",
     "output_type": "stream",
     "text": [
      "<class 'ultralytics.models.yolo.detect.predict.DetectionPredictor'>\n"
     ]
    },
    {
     "name": "stderr",
     "output_type": "stream",
     "text": [
      "100%|██████████| 81/81 [03:11<00:00,  2.37s/it]\n"
     ]
    },
    {
     "name": "stdout",
     "output_type": "stream",
     "text": [
      "NUM CORRECT: 59 / 81 (0.73)\n",
      "LABELS DISTRIBUTION:\n",
      "{'None': 12, 'bird': 8, 'plane': 61}\n",
      "PREDICTIONS DISTRIBUTION:\n",
      "{'bird': {'False_Neg': 8,\n",
      "          'False_Pos': 2,\n",
      "          'True_Neg': 71,\n",
      "          'True_Pos': 0,\n",
      "          'guess_rate': 0.024691358024691357},\n",
      " 'plane': {'False_Neg': 2,\n",
      "           'False_Pos': 20,\n",
      "           'True_Neg': 0,\n",
      "           'True_Pos': 59,\n",
      "           'guess_rate': 0.9753086419753086}}\n",
      "EVAL ON EPOCH 1, BATCH 12 (epoch1-batch113.pt)\n",
      "starting eval...\n"
     ]
    },
    {
     "name": "stderr",
     "output_type": "stream",
     "text": [
      "  0%|          | 0/81 [00:00<?, ?it/s]"
     ]
    },
    {
     "name": "stdout",
     "output_type": "stream",
     "text": [
      "<class 'ultralytics.models.yolo.detect.predict.DetectionPredictor'>\n"
     ]
    },
    {
     "name": "stderr",
     "output_type": "stream",
     "text": [
      "100%|██████████| 81/81 [03:08<00:00,  2.32s/it]\n"
     ]
    },
    {
     "name": "stdout",
     "output_type": "stream",
     "text": [
      "NUM CORRECT: 54 / 81 (0.67)\n",
      "LABELS DISTRIBUTION:\n",
      "{'None': 12, 'bird': 8, 'plane': 61}\n",
      "PREDICTIONS DISTRIBUTION:\n",
      "{'bird': {'False_Neg': 8,\n",
      "          'False_Pos': 7,\n",
      "          'True_Neg': 66,\n",
      "          'True_Pos': 0,\n",
      "          'guess_rate': 0.08641975308641975},\n",
      " 'plane': {'False_Neg': 7,\n",
      "           'False_Pos': 20,\n",
      "           'True_Neg': 0,\n",
      "           'True_Pos': 54,\n",
      "           'guess_rate': 0.9135802469135802}}\n",
      "EVAL ON EPOCH 2, BATCH 12 (epoch2-batch113.pt)\n",
      "starting eval...\n"
     ]
    },
    {
     "name": "stderr",
     "output_type": "stream",
     "text": [
      "  0%|          | 0/81 [00:00<?, ?it/s]"
     ]
    },
    {
     "name": "stdout",
     "output_type": "stream",
     "text": [
      "<class 'ultralytics.models.yolo.detect.predict.DetectionPredictor'>\n"
     ]
    },
    {
     "name": "stderr",
     "output_type": "stream",
     "text": [
      "100%|██████████| 81/81 [03:01<00:00,  2.24s/it]\n"
     ]
    },
    {
     "name": "stdout",
     "output_type": "stream",
     "text": [
      "NUM CORRECT: 30 / 81 (0.37)\n",
      "LABELS DISTRIBUTION:\n",
      "{'None': 12, 'bird': 8, 'plane': 61}\n",
      "PREDICTIONS DISTRIBUTION:\n",
      "{'bird': {'False_Neg': 1,\n",
      "          'False_Pos': 49,\n",
      "          'True_Neg': 24,\n",
      "          'True_Pos': 7,\n",
      "          'guess_rate': 0.691358024691358},\n",
      " 'plane': {'False_Neg': 38,\n",
      "           'False_Pos': 2,\n",
      "           'True_Neg': 18,\n",
      "           'True_Pos': 23,\n",
      "           'guess_rate': 0.30864197530864196}}\n",
      "EVAL ON EPOCH 3, BATCH 12 (epoch3-batch113.pt)\n",
      "starting eval...\n"
     ]
    },
    {
     "name": "stderr",
     "output_type": "stream",
     "text": [
      "  0%|          | 0/81 [00:00<?, ?it/s]"
     ]
    },
    {
     "name": "stdout",
     "output_type": "stream",
     "text": [
      "<class 'ultralytics.models.yolo.detect.predict.DetectionPredictor'>\n"
     ]
    },
    {
     "name": "stderr",
     "output_type": "stream",
     "text": [
      "100%|██████████| 81/81 [03:01<00:00,  2.24s/it]\n"
     ]
    },
    {
     "name": "stdout",
     "output_type": "stream",
     "text": [
      "NUM CORRECT: 38 / 81 (0.47)\n",
      "LABELS DISTRIBUTION:\n",
      "{'None': 12, 'bird': 8, 'plane': 61}\n",
      "PREDICTIONS DISTRIBUTION:\n",
      "{'None': {'False_Neg': 12,\n",
      "          'False_Pos': 1,\n",
      "          'True_Neg': 68,\n",
      "          'True_Pos': 0,\n",
      "          'guess_rate': 0.012345679012345678},\n",
      " 'bird': {'False_Neg': 0,\n",
      "          'False_Pos': 41,\n",
      "          'True_Neg': 32,\n",
      "          'True_Pos': 8,\n",
      "          'guess_rate': 0.6049382716049383},\n",
      " 'plane': {'False_Neg': 31,\n",
      "           'False_Pos': 1,\n",
      "           'True_Neg': 19,\n",
      "           'True_Pos': 30,\n",
      "           'guess_rate': 0.38271604938271603}}\n",
      "EVAL ON EPOCH 4, BATCH 12 (epoch4-batch113.pt)\n",
      "starting eval...\n"
     ]
    },
    {
     "name": "stderr",
     "output_type": "stream",
     "text": [
      "  0%|          | 0/81 [00:00<?, ?it/s]"
     ]
    },
    {
     "name": "stdout",
     "output_type": "stream",
     "text": [
      "<class 'ultralytics.models.yolo.detect.predict.DetectionPredictor'>\n"
     ]
    },
    {
     "name": "stderr",
     "output_type": "stream",
     "text": [
      "100%|██████████| 81/81 [02:56<00:00,  2.18s/it]\n"
     ]
    },
    {
     "name": "stdout",
     "output_type": "stream",
     "text": [
      "NUM CORRECT: 51 / 81 (0.63)\n",
      "LABELS DISTRIBUTION:\n",
      "{'None': 12, 'bird': 8, 'plane': 61}\n",
      "PREDICTIONS DISTRIBUTION:\n",
      "{'None': {'False_Neg': 12,\n",
      "          'False_Pos': 2,\n",
      "          'True_Neg': 67,\n",
      "          'True_Pos': 0,\n",
      "          'guess_rate': 0.024691358024691357},\n",
      " 'bird': {'False_Neg': 1,\n",
      "          'False_Pos': 21,\n",
      "          'True_Neg': 52,\n",
      "          'True_Pos': 7,\n",
      "          'guess_rate': 0.345679012345679},\n",
      " 'plane': {'False_Neg': 17,\n",
      "           'False_Pos': 7,\n",
      "           'True_Neg': 13,\n",
      "           'True_Pos': 44,\n",
      "           'guess_rate': 0.6296296296296297}}\n",
      "EVAL ON EPOCH 0, BATCH 2 (epoch0-batch20.pt)\n",
      "starting eval...\n"
     ]
    },
    {
     "name": "stderr",
     "output_type": "stream",
     "text": [
      "  0%|          | 0/81 [00:00<?, ?it/s]"
     ]
    },
    {
     "name": "stdout",
     "output_type": "stream",
     "text": [
      "<class 'ultralytics.models.yolo.detect.predict.DetectionPredictor'>\n"
     ]
    },
    {
     "name": "stderr",
     "output_type": "stream",
     "text": [
      "100%|██████████| 81/81 [03:29<00:00,  2.58s/it]\n"
     ]
    },
    {
     "name": "stdout",
     "output_type": "stream",
     "text": [
      "NUM CORRECT: 9 / 81 (0.11)\n",
      "LABELS DISTRIBUTION:\n",
      "{'None': 12, 'bird': 8, 'plane': 61}\n",
      "PREDICTIONS DISTRIBUTION:\n",
      "{'bird': {'False_Neg': 0,\n",
      "          'False_Pos': 72,\n",
      "          'True_Neg': 1,\n",
      "          'True_Pos': 8,\n",
      "          'guess_rate': 0.9876543209876543},\n",
      " 'plane': {'False_Neg': 60,\n",
      "           'False_Pos': 0,\n",
      "           'True_Neg': 20,\n",
      "           'True_Pos': 1,\n",
      "           'guess_rate': 0.012345679012345678}}\n",
      "EVAL ON EPOCH 1, BATCH 2 (epoch1-batch20.pt)\n",
      "starting eval...\n"
     ]
    },
    {
     "name": "stderr",
     "output_type": "stream",
     "text": [
      "  0%|          | 0/81 [00:00<?, ?it/s]"
     ]
    },
    {
     "name": "stdout",
     "output_type": "stream",
     "text": [
      "<class 'ultralytics.models.yolo.detect.predict.DetectionPredictor'>\n"
     ]
    },
    {
     "name": "stderr",
     "output_type": "stream",
     "text": [
      "100%|██████████| 81/81 [02:57<00:00,  2.19s/it]\n"
     ]
    },
    {
     "name": "stdout",
     "output_type": "stream",
     "text": [
      "NUM CORRECT: 60 / 81 (0.74)\n",
      "LABELS DISTRIBUTION:\n",
      "{'None': 12, 'bird': 8, 'plane': 61}\n",
      "PREDICTIONS DISTRIBUTION:\n",
      "{'None': {'False_Neg': 11,\n",
      "          'False_Pos': 1,\n",
      "          'True_Neg': 68,\n",
      "          'True_Pos': 1,\n",
      "          'guess_rate': 0.024691358024691357},\n",
      " 'bird': {'False_Neg': 4,\n",
      "          'False_Pos': 8,\n",
      "          'True_Neg': 65,\n",
      "          'True_Pos': 4,\n",
      "          'guess_rate': 0.14814814814814814},\n",
      " 'plane': {'False_Neg': 6,\n",
      "           'False_Pos': 12,\n",
      "           'True_Neg': 8,\n",
      "           'True_Pos': 55,\n",
      "           'guess_rate': 0.8271604938271605}}\n",
      "EVAL ON EPOCH 2, BATCH 2 (epoch2-batch20.pt)\n",
      "starting eval...\n"
     ]
    },
    {
     "name": "stderr",
     "output_type": "stream",
     "text": [
      "  0%|          | 0/81 [00:00<?, ?it/s]"
     ]
    },
    {
     "name": "stdout",
     "output_type": "stream",
     "text": [
      "<class 'ultralytics.models.yolo.detect.predict.DetectionPredictor'>\n"
     ]
    },
    {
     "name": "stderr",
     "output_type": "stream",
     "text": [
      "100%|██████████| 81/81 [03:11<00:00,  2.36s/it]\n"
     ]
    },
    {
     "name": "stdout",
     "output_type": "stream",
     "text": [
      "NUM CORRECT: 24 / 81 (0.30)\n",
      "LABELS DISTRIBUTION:\n",
      "{'None': 12, 'bird': 8, 'plane': 61}\n",
      "PREDICTIONS DISTRIBUTION:\n",
      "{'bird': {'False_Neg': 0,\n",
      "          'False_Pos': 57,\n",
      "          'True_Neg': 16,\n",
      "          'True_Pos': 8,\n",
      "          'guess_rate': 0.8024691358024691},\n",
      " 'plane': {'False_Neg': 45,\n",
      "           'False_Pos': 0,\n",
      "           'True_Neg': 20,\n",
      "           'True_Pos': 16,\n",
      "           'guess_rate': 0.19753086419753085}}\n",
      "EVAL ON EPOCH 3, BATCH 2 (epoch3-batch20.pt)\n",
      "starting eval...\n"
     ]
    },
    {
     "name": "stderr",
     "output_type": "stream",
     "text": [
      "  0%|          | 0/81 [00:00<?, ?it/s]"
     ]
    },
    {
     "name": "stdout",
     "output_type": "stream",
     "text": [
      "<class 'ultralytics.models.yolo.detect.predict.DetectionPredictor'>\n"
     ]
    },
    {
     "name": "stderr",
     "output_type": "stream",
     "text": [
      "100%|██████████| 81/81 [03:03<00:00,  2.27s/it]\n"
     ]
    },
    {
     "name": "stdout",
     "output_type": "stream",
     "text": [
      "NUM CORRECT: 29 / 81 (0.36)\n",
      "LABELS DISTRIBUTION:\n",
      "{'None': 12, 'bird': 8, 'plane': 61}\n",
      "PREDICTIONS DISTRIBUTION:\n",
      "{'None': {'False_Neg': 11,\n",
      "          'False_Pos': 0,\n",
      "          'True_Neg': 69,\n",
      "          'True_Pos': 1,\n",
      "          'guess_rate': 0.012345679012345678},\n",
      " 'bird': {'False_Neg': 2,\n",
      "          'False_Pos': 49,\n",
      "          'True_Neg': 24,\n",
      "          'True_Pos': 6,\n",
      "          'guess_rate': 0.6790123456790124},\n",
      " 'plane': {'False_Neg': 39,\n",
      "           'False_Pos': 3,\n",
      "           'True_Neg': 17,\n",
      "           'True_Pos': 22,\n",
      "           'guess_rate': 0.30864197530864196}}\n",
      "EVAL ON EPOCH 4, BATCH 2 (epoch4-batch20.pt)\n",
      "starting eval...\n"
     ]
    },
    {
     "name": "stderr",
     "output_type": "stream",
     "text": [
      "  0%|          | 0/81 [00:00<?, ?it/s]"
     ]
    },
    {
     "name": "stdout",
     "output_type": "stream",
     "text": [
      "<class 'ultralytics.models.yolo.detect.predict.DetectionPredictor'>\n"
     ]
    },
    {
     "name": "stderr",
     "output_type": "stream",
     "text": [
      "100%|██████████| 81/81 [03:00<00:00,  2.23s/it]\n"
     ]
    },
    {
     "name": "stdout",
     "output_type": "stream",
     "text": [
      "NUM CORRECT: 42 / 81 (0.52)\n",
      "LABELS DISTRIBUTION:\n",
      "{'None': 12, 'bird': 8, 'plane': 61}\n",
      "PREDICTIONS DISTRIBUTION:\n",
      "{'None': {'False_Neg': 11,\n",
      "          'False_Pos': 1,\n",
      "          'True_Neg': 68,\n",
      "          'True_Pos': 1,\n",
      "          'guess_rate': 0.024691358024691357},\n",
      " 'bird': {'False_Neg': 1,\n",
      "          'False_Pos': 35,\n",
      "          'True_Neg': 38,\n",
      "          'True_Pos': 7,\n",
      "          'guess_rate': 0.5185185185185185},\n",
      " 'plane': {'False_Neg': 27,\n",
      "           'False_Pos': 3,\n",
      "           'True_Neg': 17,\n",
      "           'True_Pos': 34,\n",
      "           'guess_rate': 0.4567901234567901}}\n",
      "EVAL ON EPOCH 0, BATCH 4 (epoch0-batch40.pt)\n",
      "starting eval...\n"
     ]
    },
    {
     "name": "stderr",
     "output_type": "stream",
     "text": [
      "  0%|          | 0/81 [00:00<?, ?it/s]"
     ]
    },
    {
     "name": "stdout",
     "output_type": "stream",
     "text": [
      "<class 'ultralytics.models.yolo.detect.predict.DetectionPredictor'>\n"
     ]
    },
    {
     "name": "stderr",
     "output_type": "stream",
     "text": [
      "100%|██████████| 81/81 [03:39<00:00,  2.71s/it]\n"
     ]
    },
    {
     "name": "stdout",
     "output_type": "stream",
     "text": [
      "NUM CORRECT: 61 / 81 (0.75)\n",
      "LABELS DISTRIBUTION:\n",
      "{'None': 12, 'bird': 8, 'plane': 61}\n",
      "PREDICTIONS DISTRIBUTION:\n",
      "{'plane': {'False_Neg': 0,\n",
      "           'False_Pos': 20,\n",
      "           'True_Neg': 0,\n",
      "           'True_Pos': 61,\n",
      "           'guess_rate': 1.0}}\n",
      "EVAL ON EPOCH 1, BATCH 4 (epoch1-batch40.pt)\n",
      "starting eval...\n"
     ]
    },
    {
     "name": "stderr",
     "output_type": "stream",
     "text": [
      "  0%|          | 0/81 [00:00<?, ?it/s]"
     ]
    },
    {
     "name": "stdout",
     "output_type": "stream",
     "text": [
      "<class 'ultralytics.models.yolo.detect.predict.DetectionPredictor'>\n"
     ]
    },
    {
     "name": "stderr",
     "output_type": "stream",
     "text": [
      "100%|██████████| 81/81 [03:01<00:00,  2.24s/it]\n"
     ]
    },
    {
     "name": "stdout",
     "output_type": "stream",
     "text": [
      "NUM CORRECT: 47 / 81 (0.58)\n",
      "LABELS DISTRIBUTION:\n",
      "{'None': 12, 'bird': 8, 'plane': 61}\n",
      "PREDICTIONS DISTRIBUTION:\n",
      "{'None': {'False_Neg': 10,\n",
      "          'False_Pos': 1,\n",
      "          'True_Neg': 68,\n",
      "          'True_Pos': 2,\n",
      "          'guess_rate': 0.037037037037037035},\n",
      " 'bird': {'False_Neg': 4,\n",
      "          'False_Pos': 21,\n",
      "          'True_Neg': 52,\n",
      "          'True_Pos': 4,\n",
      "          'guess_rate': 0.30864197530864196},\n",
      " 'plane': {'False_Neg': 20,\n",
      "           'False_Pos': 12,\n",
      "           'True_Neg': 8,\n",
      "           'True_Pos': 41,\n",
      "           'guess_rate': 0.654320987654321}}\n",
      "EVAL ON EPOCH 2, BATCH 4 (epoch2-batch40.pt)\n",
      "starting eval...\n"
     ]
    },
    {
     "name": "stderr",
     "output_type": "stream",
     "text": [
      "  0%|          | 0/81 [00:00<?, ?it/s]"
     ]
    },
    {
     "name": "stdout",
     "output_type": "stream",
     "text": [
      "<class 'ultralytics.models.yolo.detect.predict.DetectionPredictor'>\n"
     ]
    },
    {
     "name": "stderr",
     "output_type": "stream",
     "text": [
      "100%|██████████| 81/81 [03:03<00:00,  2.27s/it]\n"
     ]
    },
    {
     "name": "stdout",
     "output_type": "stream",
     "text": [
      "NUM CORRECT: 53 / 81 (0.65)\n",
      "LABELS DISTRIBUTION:\n",
      "{'None': 12, 'bird': 8, 'plane': 61}\n",
      "PREDICTIONS DISTRIBUTION:\n",
      "{'None': {'False_Neg': 11,\n",
      "          'False_Pos': 0,\n",
      "          'True_Neg': 69,\n",
      "          'True_Pos': 1,\n",
      "          'guess_rate': 0.012345679012345678},\n",
      " 'bird': {'False_Neg': 2,\n",
      "          'False_Pos': 22,\n",
      "          'True_Neg': 51,\n",
      "          'True_Pos': 6,\n",
      "          'guess_rate': 0.345679012345679},\n",
      " 'plane': {'False_Neg': 15,\n",
      "           'False_Pos': 6,\n",
      "           'True_Neg': 14,\n",
      "           'True_Pos': 46,\n",
      "           'guess_rate': 0.6419753086419753}}\n",
      "EVAL ON EPOCH 3, BATCH 4 (epoch3-batch40.pt)\n",
      "starting eval...\n"
     ]
    },
    {
     "name": "stderr",
     "output_type": "stream",
     "text": [
      "  0%|          | 0/81 [00:00<?, ?it/s]"
     ]
    },
    {
     "name": "stdout",
     "output_type": "stream",
     "text": [
      "<class 'ultralytics.models.yolo.detect.predict.DetectionPredictor'>\n"
     ]
    },
    {
     "name": "stderr",
     "output_type": "stream",
     "text": [
      "100%|██████████| 81/81 [03:04<00:00,  2.27s/it]\n"
     ]
    },
    {
     "name": "stdout",
     "output_type": "stream",
     "text": [
      "NUM CORRECT: 14 / 81 (0.17)\n",
      "LABELS DISTRIBUTION:\n",
      "{'None': 12, 'bird': 8, 'plane': 61}\n",
      "PREDICTIONS DISTRIBUTION:\n",
      "{'bird': {'False_Neg': 0,\n",
      "          'False_Pos': 67,\n",
      "          'True_Neg': 6,\n",
      "          'True_Pos': 8,\n",
      "          'guess_rate': 0.9259259259259259},\n",
      " 'plane': {'False_Neg': 55,\n",
      "           'False_Pos': 0,\n",
      "           'True_Neg': 20,\n",
      "           'True_Pos': 6,\n",
      "           'guess_rate': 0.07407407407407407}}\n",
      "EVAL ON EPOCH 4, BATCH 4 (epoch4-batch40.pt)\n",
      "starting eval...\n"
     ]
    },
    {
     "name": "stderr",
     "output_type": "stream",
     "text": [
      "  0%|          | 0/81 [00:00<?, ?it/s]"
     ]
    },
    {
     "name": "stdout",
     "output_type": "stream",
     "text": [
      "<class 'ultralytics.models.yolo.detect.predict.DetectionPredictor'>\n"
     ]
    },
    {
     "name": "stderr",
     "output_type": "stream",
     "text": [
      "100%|██████████| 81/81 [03:00<00:00,  2.23s/it]\n"
     ]
    },
    {
     "name": "stdout",
     "output_type": "stream",
     "text": [
      "NUM CORRECT: 61 / 81 (0.75)\n",
      "LABELS DISTRIBUTION:\n",
      "{'None': 12, 'bird': 8, 'plane': 61}\n",
      "PREDICTIONS DISTRIBUTION:\n",
      "{'None': {'False_Neg': 9,\n",
      "          'False_Pos': 1,\n",
      "          'True_Neg': 68,\n",
      "          'True_Pos': 3,\n",
      "          'guess_rate': 0.04938271604938271},\n",
      " 'bird': {'False_Neg': 1,\n",
      "          'False_Pos': 11,\n",
      "          'True_Neg': 62,\n",
      "          'True_Pos': 7,\n",
      "          'guess_rate': 0.2222222222222222},\n",
      " 'plane': {'False_Neg': 10,\n",
      "           'False_Pos': 8,\n",
      "           'True_Neg': 12,\n",
      "           'True_Pos': 51,\n",
      "           'guess_rate': 0.7283950617283951}}\n",
      "EVAL ON EPOCH 0, BATCH 6 (epoch0-batch60.pt)\n",
      "starting eval...\n"
     ]
    },
    {
     "name": "stderr",
     "output_type": "stream",
     "text": [
      "  0%|          | 0/81 [00:00<?, ?it/s]"
     ]
    },
    {
     "name": "stdout",
     "output_type": "stream",
     "text": [
      "<class 'ultralytics.models.yolo.detect.predict.DetectionPredictor'>\n"
     ]
    },
    {
     "name": "stderr",
     "output_type": "stream",
     "text": [
      "100%|██████████| 81/81 [03:21<00:00,  2.49s/it]\n"
     ]
    },
    {
     "name": "stdout",
     "output_type": "stream",
     "text": [
      "NUM CORRECT: 12 / 81 (0.15)\n",
      "LABELS DISTRIBUTION:\n",
      "{'None': 12, 'bird': 8, 'plane': 61}\n",
      "PREDICTIONS DISTRIBUTION:\n",
      "{'bird': {'False_Neg': 0,\n",
      "          'False_Pos': 69,\n",
      "          'True_Neg': 4,\n",
      "          'True_Pos': 8,\n",
      "          'guess_rate': 0.9506172839506173},\n",
      " 'plane': {'False_Neg': 57,\n",
      "           'False_Pos': 0,\n",
      "           'True_Neg': 20,\n",
      "           'True_Pos': 4,\n",
      "           'guess_rate': 0.04938271604938271}}\n",
      "EVAL ON EPOCH 1, BATCH 6 (epoch1-batch60.pt)\n",
      "starting eval...\n"
     ]
    },
    {
     "name": "stderr",
     "output_type": "stream",
     "text": [
      "  0%|          | 0/81 [00:00<?, ?it/s]"
     ]
    },
    {
     "name": "stdout",
     "output_type": "stream",
     "text": [
      "<class 'ultralytics.models.yolo.detect.predict.DetectionPredictor'>\n"
     ]
    },
    {
     "name": "stderr",
     "output_type": "stream",
     "text": [
      "100%|██████████| 81/81 [03:06<00:00,  2.30s/it]\n"
     ]
    },
    {
     "name": "stdout",
     "output_type": "stream",
     "text": [
      "NUM CORRECT: 9 / 81 (0.11)\n",
      "LABELS DISTRIBUTION:\n",
      "{'None': 12, 'bird': 8, 'plane': 61}\n",
      "PREDICTIONS DISTRIBUTION:\n",
      "{'bird': {'False_Neg': 1,\n",
      "          'False_Pos': 71,\n",
      "          'True_Neg': 2,\n",
      "          'True_Pos': 7,\n",
      "          'guess_rate': 0.9629629629629629},\n",
      " 'plane': {'False_Neg': 59,\n",
      "           'False_Pos': 1,\n",
      "           'True_Neg': 19,\n",
      "           'True_Pos': 2,\n",
      "           'guess_rate': 0.037037037037037035}}\n",
      "EVAL ON EPOCH 2, BATCH 6 (epoch2-batch60.pt)\n",
      "starting eval...\n"
     ]
    },
    {
     "name": "stderr",
     "output_type": "stream",
     "text": [
      "  0%|          | 0/81 [00:00<?, ?it/s]"
     ]
    },
    {
     "name": "stdout",
     "output_type": "stream",
     "text": [
      "<class 'ultralytics.models.yolo.detect.predict.DetectionPredictor'>\n"
     ]
    },
    {
     "name": "stderr",
     "output_type": "stream",
     "text": [
      "100%|██████████| 81/81 [03:00<00:00,  2.22s/it]\n"
     ]
    },
    {
     "name": "stdout",
     "output_type": "stream",
     "text": [
      "NUM CORRECT: 46 / 81 (0.57)\n",
      "LABELS DISTRIBUTION:\n",
      "{'None': 12, 'bird': 8, 'plane': 61}\n",
      "PREDICTIONS DISTRIBUTION:\n",
      "{'None': {'False_Neg': 9,\n",
      "          'False_Pos': 1,\n",
      "          'True_Neg': 68,\n",
      "          'True_Pos': 3,\n",
      "          'guess_rate': 0.04938271604938271},\n",
      " 'bird': {'False_Neg': 2,\n",
      "          'False_Pos': 30,\n",
      "          'True_Neg': 43,\n",
      "          'True_Pos': 6,\n",
      "          'guess_rate': 0.4444444444444444},\n",
      " 'plane': {'False_Neg': 24,\n",
      "           'False_Pos': 4,\n",
      "           'True_Neg': 16,\n",
      "           'True_Pos': 37,\n",
      "           'guess_rate': 0.5061728395061729}}\n",
      "EVAL ON EPOCH 3, BATCH 6 (epoch3-batch60.pt)\n",
      "starting eval...\n"
     ]
    },
    {
     "name": "stderr",
     "output_type": "stream",
     "text": [
      "  0%|          | 0/81 [00:00<?, ?it/s]"
     ]
    },
    {
     "name": "stdout",
     "output_type": "stream",
     "text": [
      "<class 'ultralytics.models.yolo.detect.predict.DetectionPredictor'>\n"
     ]
    },
    {
     "name": "stderr",
     "output_type": "stream",
     "text": [
      "100%|██████████| 81/81 [03:03<00:00,  2.26s/it]\n"
     ]
    },
    {
     "name": "stdout",
     "output_type": "stream",
     "text": [
      "NUM CORRECT: 50 / 81 (0.62)\n",
      "LABELS DISTRIBUTION:\n",
      "{'None': 12, 'bird': 8, 'plane': 61}\n",
      "PREDICTIONS DISTRIBUTION:\n",
      "{'None': {'False_Neg': 10,\n",
      "          'False_Pos': 0,\n",
      "          'True_Neg': 69,\n",
      "          'True_Pos': 2,\n",
      "          'guess_rate': 0.024691358024691357},\n",
      " 'bird': {'False_Neg': 0,\n",
      "          'False_Pos': 30,\n",
      "          'True_Neg': 43,\n",
      "          'True_Pos': 8,\n",
      "          'guess_rate': 0.4691358024691358},\n",
      " 'plane': {'False_Neg': 21,\n",
      "           'False_Pos': 1,\n",
      "           'True_Neg': 19,\n",
      "           'True_Pos': 40,\n",
      "           'guess_rate': 0.5061728395061729}}\n",
      "EVAL ON EPOCH 4, BATCH 6 (epoch4-batch60.pt)\n",
      "starting eval...\n"
     ]
    },
    {
     "name": "stderr",
     "output_type": "stream",
     "text": [
      "  0%|          | 0/81 [00:00<?, ?it/s]"
     ]
    },
    {
     "name": "stdout",
     "output_type": "stream",
     "text": [
      "<class 'ultralytics.models.yolo.detect.predict.DetectionPredictor'>\n"
     ]
    },
    {
     "name": "stderr",
     "output_type": "stream",
     "text": [
      "100%|██████████| 81/81 [03:01<00:00,  2.23s/it]\n"
     ]
    },
    {
     "name": "stdout",
     "output_type": "stream",
     "text": [
      "NUM CORRECT: 57 / 81 (0.70)\n",
      "LABELS DISTRIBUTION:\n",
      "{'None': 12, 'bird': 8, 'plane': 61}\n",
      "PREDICTIONS DISTRIBUTION:\n",
      "{'None': {'False_Neg': 10,\n",
      "          'False_Pos': 1,\n",
      "          'True_Neg': 68,\n",
      "          'True_Pos': 2,\n",
      "          'guess_rate': 0.037037037037037035},\n",
      " 'bird': {'False_Neg': 1,\n",
      "          'False_Pos': 16,\n",
      "          'True_Neg': 57,\n",
      "          'True_Pos': 7,\n",
      "          'guess_rate': 0.2839506172839506},\n",
      " 'plane': {'False_Neg': 13,\n",
      "           'False_Pos': 7,\n",
      "           'True_Neg': 13,\n",
      "           'True_Pos': 48,\n",
      "           'guess_rate': 0.6790123456790124}}\n",
      "EVAL ON EPOCH 0, BATCH 8 (epoch0-batch80.pt)\n",
      "starting eval...\n"
     ]
    },
    {
     "name": "stderr",
     "output_type": "stream",
     "text": [
      "  0%|          | 0/81 [00:00<?, ?it/s]"
     ]
    },
    {
     "name": "stdout",
     "output_type": "stream",
     "text": [
      "<class 'ultralytics.models.yolo.detect.predict.DetectionPredictor'>\n"
     ]
    },
    {
     "name": "stderr",
     "output_type": "stream",
     "text": [
      "100%|██████████| 81/81 [03:19<00:00,  2.47s/it]\n"
     ]
    },
    {
     "name": "stdout",
     "output_type": "stream",
     "text": [
      "NUM CORRECT: 61 / 81 (0.75)\n",
      "LABELS DISTRIBUTION:\n",
      "{'None': 12, 'bird': 8, 'plane': 61}\n",
      "PREDICTIONS DISTRIBUTION:\n",
      "{'plane': {'False_Neg': 0,\n",
      "           'False_Pos': 20,\n",
      "           'True_Neg': 0,\n",
      "           'True_Pos': 61,\n",
      "           'guess_rate': 1.0}}\n",
      "EVAL ON EPOCH 1, BATCH 8 (epoch1-batch80.pt)\n",
      "starting eval...\n"
     ]
    },
    {
     "name": "stderr",
     "output_type": "stream",
     "text": [
      "  0%|          | 0/81 [00:00<?, ?it/s]"
     ]
    },
    {
     "name": "stdout",
     "output_type": "stream",
     "text": [
      "<class 'ultralytics.models.yolo.detect.predict.DetectionPredictor'>\n"
     ]
    },
    {
     "name": "stderr",
     "output_type": "stream",
     "text": [
      "100%|██████████| 81/81 [03:10<00:00,  2.35s/it]\n"
     ]
    },
    {
     "name": "stdout",
     "output_type": "stream",
     "text": [
      "NUM CORRECT: 8 / 81 (0.10)\n",
      "LABELS DISTRIBUTION:\n",
      "{'None': 12, 'bird': 8, 'plane': 61}\n",
      "PREDICTIONS DISTRIBUTION:\n",
      "{'bird': {'False_Neg': 0,\n",
      "          'False_Pos': 73,\n",
      "          'True_Neg': 0,\n",
      "          'True_Pos': 8,\n",
      "          'guess_rate': 1.0}}\n",
      "EVAL ON EPOCH 2, BATCH 8 (epoch2-batch80.pt)\n",
      "starting eval...\n"
     ]
    },
    {
     "name": "stderr",
     "output_type": "stream",
     "text": [
      "  0%|          | 0/81 [00:00<?, ?it/s]"
     ]
    },
    {
     "name": "stdout",
     "output_type": "stream",
     "text": [
      "<class 'ultralytics.models.yolo.detect.predict.DetectionPredictor'>\n"
     ]
    },
    {
     "name": "stderr",
     "output_type": "stream",
     "text": [
      "100%|██████████| 81/81 [03:01<00:00,  2.25s/it]\n"
     ]
    },
    {
     "name": "stdout",
     "output_type": "stream",
     "text": [
      "NUM CORRECT: 56 / 81 (0.69)\n",
      "LABELS DISTRIBUTION:\n",
      "{'None': 12, 'bird': 8, 'plane': 61}\n",
      "PREDICTIONS DISTRIBUTION:\n",
      "{'None': {'False_Neg': 9,\n",
      "          'False_Pos': 2,\n",
      "          'True_Neg': 67,\n",
      "          'True_Pos': 3,\n",
      "          'guess_rate': 0.06172839506172839},\n",
      " 'bird': {'False_Neg': 2,\n",
      "          'False_Pos': 17,\n",
      "          'True_Neg': 56,\n",
      "          'True_Pos': 6,\n",
      "          'guess_rate': 0.2839506172839506},\n",
      " 'plane': {'False_Neg': 14,\n",
      "           'False_Pos': 6,\n",
      "           'True_Neg': 14,\n",
      "           'True_Pos': 47,\n",
      "           'guess_rate': 0.654320987654321}}\n",
      "EVAL ON EPOCH 3, BATCH 8 (epoch3-batch80.pt)\n",
      "starting eval...\n"
     ]
    },
    {
     "name": "stderr",
     "output_type": "stream",
     "text": [
      "  0%|          | 0/81 [00:00<?, ?it/s]"
     ]
    },
    {
     "name": "stdout",
     "output_type": "stream",
     "text": [
      "<class 'ultralytics.models.yolo.detect.predict.DetectionPredictor'>\n"
     ]
    },
    {
     "name": "stderr",
     "output_type": "stream",
     "text": [
      "100%|██████████| 81/81 [03:07<00:00,  2.31s/it]\n"
     ]
    },
    {
     "name": "stdout",
     "output_type": "stream",
     "text": [
      "NUM CORRECT: 26 / 81 (0.32)\n",
      "LABELS DISTRIBUTION:\n",
      "{'None': 12, 'bird': 8, 'plane': 61}\n",
      "PREDICTIONS DISTRIBUTION:\n",
      "{'bird': {'False_Neg': 1,\n",
      "          'False_Pos': 53,\n",
      "          'True_Neg': 20,\n",
      "          'True_Pos': 7,\n",
      "          'guess_rate': 0.7407407407407407},\n",
      " 'plane': {'False_Neg': 42,\n",
      "           'False_Pos': 2,\n",
      "           'True_Neg': 18,\n",
      "           'True_Pos': 19,\n",
      "           'guess_rate': 0.25925925925925924}}\n",
      "EVAL ON EPOCH 4, BATCH 8 (epoch4-batch80.pt)\n",
      "starting eval...\n"
     ]
    },
    {
     "name": "stderr",
     "output_type": "stream",
     "text": [
      "  0%|          | 0/81 [00:00<?, ?it/s]"
     ]
    },
    {
     "name": "stdout",
     "output_type": "stream",
     "text": [
      "<class 'ultralytics.models.yolo.detect.predict.DetectionPredictor'>\n"
     ]
    },
    {
     "name": "stderr",
     "output_type": "stream",
     "text": [
      "100%|██████████| 81/81 [03:01<00:00,  2.24s/it]"
     ]
    },
    {
     "name": "stdout",
     "output_type": "stream",
     "text": [
      "NUM CORRECT: 26 / 81 (0.32)\n",
      "LABELS DISTRIBUTION:\n",
      "{'None': 12, 'bird': 8, 'plane': 61}\n",
      "PREDICTIONS DISTRIBUTION:\n",
      "{'None': {'False_Neg': 9,\n",
      "          'False_Pos': 0,\n",
      "          'True_Neg': 69,\n",
      "          'True_Pos': 3,\n",
      "          'guess_rate': 0.037037037037037035},\n",
      " 'bird': {'False_Neg': 1,\n",
      "          'False_Pos': 53,\n",
      "          'True_Neg': 20,\n",
      "          'True_Pos': 7,\n",
      "          'guess_rate': 0.7407407407407407},\n",
      " 'plane': {'False_Neg': 45,\n",
      "           'False_Pos': 2,\n",
      "           'True_Neg': 18,\n",
      "           'True_Pos': 16,\n",
      "           'guess_rate': 0.2222222222222222}}\n"
     ]
    },
    {
     "name": "stderr",
     "output_type": "stream",
     "text": [
      "\n"
     ]
    }
   ],
   "source": [
    "eval_checkpoints('full_ft_checkpoints', frame_conf=1e-2, class_conf=0.5, max_epochs=5)\n"
   ]
  },
  {
   "cell_type": "code",
   "execution_count": null,
   "metadata": {},
   "outputs": [],
   "source": []
  }
 ],
 "metadata": {
  "kernelspec": {
   "display_name": ".venv",
   "language": "python",
   "name": "python3"
  },
  "language_info": {
   "codemirror_mode": {
    "name": "ipython",
    "version": 3
   },
   "file_extension": ".py",
   "mimetype": "text/x-python",
   "name": "python",
   "nbconvert_exporter": "python",
   "pygments_lexer": "ipython3",
   "version": "3.10.12"
  }
 },
 "nbformat": 4,
 "nbformat_minor": 2
}
