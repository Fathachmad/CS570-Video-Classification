{
 "cells": [
  {
   "cell_type": "code",
   "execution_count": 3,
   "metadata": {},
   "outputs": [],
   "source": [
    "from custom_eval import eval_video\n",
    "import os\n",
    "\n",
    "MAX_BATCHES = 113\n",
    "\n",
    "def checkpoint_time(checkpoint: str):\n",
    "    checkpoint = checkpoint.split('-')\n",
    "    epoch = int(checkpoint[0][5:])\n",
    "    batch = int(checkpoint[1][5:-3])\n",
    "    return epoch, batch\n",
    "\n",
    "def normalize_batch(epoch, batch):\n",
    "    return epoch + (batch / MAX_BATCHES)\n",
    "\n",
    "def get_checkpoints(run_name: str):\n",
    "    weights_dir = os.path.join('runs', 'detect', run_name, 'weights')\n",
    "    checkpoints = sorted(\n",
    "        [c for c in os.listdir(weights_dir) if 'batch' in c],\n",
    "        key=lambda x: normalize_batch(*checkpoint_time(x))\n",
    "    )\n",
    "    return weights_dir, checkpoints"
   ]
  },
  {
   "cell_type": "code",
   "execution_count": 4,
   "metadata": {},
   "outputs": [],
   "source": [
    "from ultralytics import YOLO\n",
    "from custom_eval import eval_video, get_test_files, BINARY_KEYS\n",
    "import json\n",
    "TEST_DIR = \"datasets/04_Test_Datasets/\"\n",
    "\n",
    "test_files = get_test_files(TEST_DIR)\n",
    "\n",
    "def eval_checkpoints(run_name):\n",
    "    weights_dir, checkpoints = get_checkpoints(run_name)\n",
    "\n",
    "    for checkpoint in checkpoints:\n",
    "        epoch, batch = checkpoint_time(checkpoint)\n",
    "        print(f\"EVAL ON EPOCH {epoch}, BATCH {batch}\")\n",
    "        model = YOLO(os.path.join(weights_dir, checkpoint))\n",
    "        res = eval_video(model, test_files, 1e-3, 0.6, BINARY_KEYS)\n",
    "        res['epoch'] = epoch\n",
    "        res['batch'] = batch\n",
    "        with open(os.path.join('runs', 'detect', run_name, 'bias.jsonl'), 'a') as f:\n",
    "            f.write(json.dumps(res) + \"\\n\")\n",
    "\n"
   ]
  },
  {
   "cell_type": "code",
   "execution_count": 5,
   "metadata": {},
   "outputs": [
    {
     "name": "stdout",
     "output_type": "stream",
     "text": [
      "EVAL ON EPOCH 0, BATCH 0\n",
      "starting eval...\n"
     ]
    },
    {
     "name": "stderr",
     "output_type": "stream",
     "text": [
      "  0%|          | 0/81 [00:00<?, ?it/s]"
     ]
    },
    {
     "name": "stdout",
     "output_type": "stream",
     "text": [
      "<class 'ultralytics.models.yolo.detect.predict.DetectionPredictor'>\n"
     ]
    },
    {
     "name": "stderr",
     "output_type": "stream",
     "text": [
      "/home/coinse/Documents/lm/spring2024/CS570-Video-Classification/.venv/lib/python3.10/site-packages/torch/nn/modules/conv.py:456: UserWarning: Applied workaround for CuDNN issue, install nvrtc.so (Triggered internally at ../aten/src/ATen/native/cudnn/Conv_v8.cpp:84.)\n",
      "  return F.conv2d(input, weight, bias, self.stride,\n",
      "/home/coinse/Documents/lm/spring2024/CS570-Video-Classification/.venv/lib/python3.10/site-packages/torch/nn/modules/conv.py:456: UserWarning: Plan failed with a cudnnException: CUDNN_BACKEND_EXECUTION_PLAN_DESCRIPTOR: cudnnFinalize Descriptor Failed cudnn_status: CUDNN_STATUS_NOT_SUPPORTED (Triggered internally at ../aten/src/ATen/native/cudnn/Conv_v8.cpp:919.)\n",
      "  return F.conv2d(input, weight, bias, self.stride,\n",
      "100%|██████████| 81/81 [03:03<00:00,  2.27s/it]\n"
     ]
    },
    {
     "name": "stdout",
     "output_type": "stream",
     "text": [
      "NUM CORRECT: 21 / 81 (0.26)\n",
      "LABELS DISTRIBUTION:\n",
      "{'None': 12, 'bird': 8, 'plane': 61}\n",
      "PREDICTIONS DISTRIBUTION:\n",
      "{'bird': {'False_Neg': 4,\n",
      "          'False_Pos': 53,\n",
      "          'True_Neg': 20,\n",
      "          'True_Pos': 4,\n",
      "          'guess_rate': 0.7037037037037037},\n",
      " 'plane': {'False_Neg': 44,\n",
      "           'False_Pos': 7,\n",
      "           'True_Neg': 13,\n",
      "           'True_Pos': 17,\n",
      "           'guess_rate': 0.2962962962962963}}\n",
      "EVAL ON EPOCH 0, BATCH 10\n",
      "starting eval...\n"
     ]
    },
    {
     "name": "stderr",
     "output_type": "stream",
     "text": [
      "  0%|          | 0/81 [00:00<?, ?it/s]"
     ]
    },
    {
     "name": "stdout",
     "output_type": "stream",
     "text": [
      "<class 'ultralytics.models.yolo.detect.predict.DetectionPredictor'>\n"
     ]
    },
    {
     "name": "stderr",
     "output_type": "stream",
     "text": [
      "100%|██████████| 81/81 [03:02<00:00,  2.25s/it]\n"
     ]
    },
    {
     "name": "stdout",
     "output_type": "stream",
     "text": [
      "NUM CORRECT: 25 / 81 (0.31)\n",
      "LABELS DISTRIBUTION:\n",
      "{'None': 12, 'bird': 8, 'plane': 61}\n",
      "PREDICTIONS DISTRIBUTION:\n",
      "{'bird': {'False_Neg': 4,\n",
      "          'False_Pos': 46,\n",
      "          'True_Neg': 27,\n",
      "          'True_Pos': 4,\n",
      "          'guess_rate': 0.6172839506172839},\n",
      " 'plane': {'False_Neg': 40,\n",
      "           'False_Pos': 10,\n",
      "           'True_Neg': 10,\n",
      "           'True_Pos': 21,\n",
      "           'guess_rate': 0.38271604938271603}}\n",
      "EVAL ON EPOCH 0, BATCH 20\n",
      "starting eval...\n"
     ]
    },
    {
     "name": "stderr",
     "output_type": "stream",
     "text": [
      "  0%|          | 0/81 [00:00<?, ?it/s]"
     ]
    },
    {
     "name": "stdout",
     "output_type": "stream",
     "text": [
      "<class 'ultralytics.models.yolo.detect.predict.DetectionPredictor'>\n"
     ]
    },
    {
     "name": "stderr",
     "output_type": "stream",
     "text": [
      "100%|██████████| 81/81 [03:11<00:00,  2.36s/it]\n"
     ]
    },
    {
     "name": "stdout",
     "output_type": "stream",
     "text": [
      "NUM CORRECT: 38 / 81 (0.47)\n",
      "LABELS DISTRIBUTION:\n",
      "{'None': 12, 'bird': 8, 'plane': 61}\n",
      "PREDICTIONS DISTRIBUTION:\n",
      "{'bird': {'False_Neg': 2,\n",
      "          'False_Pos': 41,\n",
      "          'True_Neg': 32,\n",
      "          'True_Pos': 6,\n",
      "          'guess_rate': 0.5802469135802469},\n",
      " 'plane': {'False_Neg': 29,\n",
      "           'False_Pos': 2,\n",
      "           'True_Neg': 18,\n",
      "           'True_Pos': 32,\n",
      "           'guess_rate': 0.41975308641975306}}\n",
      "EVAL ON EPOCH 0, BATCH 30\n",
      "starting eval...\n"
     ]
    },
    {
     "name": "stderr",
     "output_type": "stream",
     "text": [
      "  0%|          | 0/81 [00:00<?, ?it/s]"
     ]
    },
    {
     "name": "stdout",
     "output_type": "stream",
     "text": [
      "<class 'ultralytics.models.yolo.detect.predict.DetectionPredictor'>\n"
     ]
    },
    {
     "name": "stderr",
     "output_type": "stream",
     "text": [
      "100%|██████████| 81/81 [03:02<00:00,  2.26s/it]\n"
     ]
    },
    {
     "name": "stdout",
     "output_type": "stream",
     "text": [
      "NUM CORRECT: 53 / 81 (0.65)\n",
      "LABELS DISTRIBUTION:\n",
      "{'None': 12, 'bird': 8, 'plane': 61}\n",
      "PREDICTIONS DISTRIBUTION:\n",
      "{'bird': {'False_Neg': 5,\n",
      "          'False_Pos': 22,\n",
      "          'True_Neg': 51,\n",
      "          'True_Pos': 3,\n",
      "          'guess_rate': 0.30864197530864196},\n",
      " 'plane': {'False_Neg': 11,\n",
      "           'False_Pos': 6,\n",
      "           'True_Neg': 14,\n",
      "           'True_Pos': 50,\n",
      "           'guess_rate': 0.691358024691358}}\n",
      "EVAL ON EPOCH 0, BATCH 40\n",
      "starting eval...\n"
     ]
    },
    {
     "name": "stderr",
     "output_type": "stream",
     "text": [
      "  0%|          | 0/81 [00:00<?, ?it/s]"
     ]
    },
    {
     "name": "stdout",
     "output_type": "stream",
     "text": [
      "<class 'ultralytics.models.yolo.detect.predict.DetectionPredictor'>\n"
     ]
    },
    {
     "name": "stderr",
     "output_type": "stream",
     "text": [
      "100%|██████████| 81/81 [03:02<00:00,  2.25s/it]\n"
     ]
    },
    {
     "name": "stdout",
     "output_type": "stream",
     "text": [
      "NUM CORRECT: 47 / 81 (0.58)\n",
      "LABELS DISTRIBUTION:\n",
      "{'None': 12, 'bird': 8, 'plane': 61}\n",
      "PREDICTIONS DISTRIBUTION:\n",
      "{'bird': {'False_Neg': 5,\n",
      "          'False_Pos': 24,\n",
      "          'True_Neg': 49,\n",
      "          'True_Pos': 3,\n",
      "          'guess_rate': 0.3333333333333333},\n",
      " 'plane': {'False_Neg': 17,\n",
      "           'False_Pos': 10,\n",
      "           'True_Neg': 10,\n",
      "           'True_Pos': 44,\n",
      "           'guess_rate': 0.6666666666666666}}\n",
      "EVAL ON EPOCH 0, BATCH 50\n",
      "starting eval...\n"
     ]
    },
    {
     "name": "stderr",
     "output_type": "stream",
     "text": [
      "  0%|          | 0/81 [00:00<?, ?it/s]"
     ]
    },
    {
     "name": "stdout",
     "output_type": "stream",
     "text": [
      "<class 'ultralytics.models.yolo.detect.predict.DetectionPredictor'>\n"
     ]
    },
    {
     "name": "stderr",
     "output_type": "stream",
     "text": [
      "100%|██████████| 81/81 [03:03<00:00,  2.27s/it]\n"
     ]
    },
    {
     "name": "stdout",
     "output_type": "stream",
     "text": [
      "NUM CORRECT: 45 / 81 (0.56)\n",
      "LABELS DISTRIBUTION:\n",
      "{'None': 12, 'bird': 8, 'plane': 61}\n",
      "PREDICTIONS DISTRIBUTION:\n",
      "{'bird': {'False_Neg': 4,\n",
      "          'False_Pos': 28,\n",
      "          'True_Neg': 45,\n",
      "          'True_Pos': 4,\n",
      "          'guess_rate': 0.3950617283950617},\n",
      " 'plane': {'False_Neg': 20,\n",
      "           'False_Pos': 8,\n",
      "           'True_Neg': 12,\n",
      "           'True_Pos': 41,\n",
      "           'guess_rate': 0.6049382716049383}}\n",
      "EVAL ON EPOCH 0, BATCH 60\n",
      "starting eval...\n"
     ]
    },
    {
     "name": "stderr",
     "output_type": "stream",
     "text": [
      "  0%|          | 0/81 [00:00<?, ?it/s]"
     ]
    },
    {
     "name": "stdout",
     "output_type": "stream",
     "text": [
      "<class 'ultralytics.models.yolo.detect.predict.DetectionPredictor'>\n"
     ]
    },
    {
     "name": "stderr",
     "output_type": "stream",
     "text": [
      "100%|██████████| 81/81 [03:04<00:00,  2.27s/it]\n"
     ]
    },
    {
     "name": "stdout",
     "output_type": "stream",
     "text": [
      "NUM CORRECT: 49 / 81 (0.60)\n",
      "LABELS DISTRIBUTION:\n",
      "{'None': 12, 'bird': 8, 'plane': 61}\n",
      "PREDICTIONS DISTRIBUTION:\n",
      "{'bird': {'False_Neg': 4,\n",
      "          'False_Pos': 25,\n",
      "          'True_Neg': 48,\n",
      "          'True_Pos': 4,\n",
      "          'guess_rate': 0.35802469135802467},\n",
      " 'plane': {'False_Neg': 16,\n",
      "           'False_Pos': 7,\n",
      "           'True_Neg': 13,\n",
      "           'True_Pos': 45,\n",
      "           'guess_rate': 0.6419753086419753}}\n",
      "EVAL ON EPOCH 0, BATCH 70\n",
      "starting eval...\n"
     ]
    },
    {
     "name": "stderr",
     "output_type": "stream",
     "text": [
      "  0%|          | 0/81 [00:00<?, ?it/s]"
     ]
    },
    {
     "name": "stdout",
     "output_type": "stream",
     "text": [
      "<class 'ultralytics.models.yolo.detect.predict.DetectionPredictor'>\n"
     ]
    },
    {
     "name": "stderr",
     "output_type": "stream",
     "text": [
      "100%|██████████| 81/81 [03:06<00:00,  2.30s/it]\n"
     ]
    },
    {
     "name": "stdout",
     "output_type": "stream",
     "text": [
      "NUM CORRECT: 49 / 81 (0.60)\n",
      "LABELS DISTRIBUTION:\n",
      "{'None': 12, 'bird': 8, 'plane': 61}\n",
      "PREDICTIONS DISTRIBUTION:\n",
      "{'bird': {'False_Neg': 5,\n",
      "          'False_Pos': 21,\n",
      "          'True_Neg': 52,\n",
      "          'True_Pos': 3,\n",
      "          'guess_rate': 0.2962962962962963},\n",
      " 'plane': {'False_Neg': 15,\n",
      "           'False_Pos': 11,\n",
      "           'True_Neg': 9,\n",
      "           'True_Pos': 46,\n",
      "           'guess_rate': 0.7037037037037037}}\n",
      "EVAL ON EPOCH 0, BATCH 80\n",
      "starting eval...\n"
     ]
    },
    {
     "name": "stderr",
     "output_type": "stream",
     "text": [
      "  0%|          | 0/81 [00:00<?, ?it/s]"
     ]
    },
    {
     "name": "stdout",
     "output_type": "stream",
     "text": [
      "<class 'ultralytics.models.yolo.detect.predict.DetectionPredictor'>\n"
     ]
    },
    {
     "name": "stderr",
     "output_type": "stream",
     "text": [
      "100%|██████████| 81/81 [03:14<00:00,  2.41s/it]\n"
     ]
    },
    {
     "name": "stdout",
     "output_type": "stream",
     "text": [
      "NUM CORRECT: 46 / 81 (0.57)\n",
      "LABELS DISTRIBUTION:\n",
      "{'None': 12, 'bird': 8, 'plane': 61}\n",
      "PREDICTIONS DISTRIBUTION:\n",
      "{'bird': {'False_Neg': 6,\n",
      "          'False_Pos': 25,\n",
      "          'True_Neg': 48,\n",
      "          'True_Pos': 2,\n",
      "          'guess_rate': 0.3333333333333333},\n",
      " 'plane': {'False_Neg': 17,\n",
      "           'False_Pos': 10,\n",
      "           'True_Neg': 10,\n",
      "           'True_Pos': 44,\n",
      "           'guess_rate': 0.6666666666666666}}\n",
      "EVAL ON EPOCH 0, BATCH 90\n",
      "starting eval...\n"
     ]
    },
    {
     "name": "stderr",
     "output_type": "stream",
     "text": [
      "  0%|          | 0/81 [00:00<?, ?it/s]"
     ]
    },
    {
     "name": "stdout",
     "output_type": "stream",
     "text": [
      "<class 'ultralytics.models.yolo.detect.predict.DetectionPredictor'>\n"
     ]
    },
    {
     "name": "stderr",
     "output_type": "stream",
     "text": [
      "100%|██████████| 81/81 [03:07<00:00,  2.31s/it]\n"
     ]
    },
    {
     "name": "stdout",
     "output_type": "stream",
     "text": [
      "NUM CORRECT: 49 / 81 (0.60)\n",
      "LABELS DISTRIBUTION:\n",
      "{'None': 12, 'bird': 8, 'plane': 61}\n",
      "PREDICTIONS DISTRIBUTION:\n",
      "{'bird': {'False_Neg': 2,\n",
      "          'False_Pos': 27,\n",
      "          'True_Neg': 46,\n",
      "          'True_Pos': 6,\n",
      "          'guess_rate': 0.4074074074074074},\n",
      " 'plane': {'False_Neg': 18,\n",
      "           'False_Pos': 5,\n",
      "           'True_Neg': 15,\n",
      "           'True_Pos': 43,\n",
      "           'guess_rate': 0.5925925925925926}}\n",
      "EVAL ON EPOCH 0, BATCH 100\n",
      "starting eval...\n"
     ]
    },
    {
     "name": "stderr",
     "output_type": "stream",
     "text": [
      "  0%|          | 0/81 [00:00<?, ?it/s]"
     ]
    },
    {
     "name": "stdout",
     "output_type": "stream",
     "text": [
      "<class 'ultralytics.models.yolo.detect.predict.DetectionPredictor'>\n"
     ]
    },
    {
     "name": "stderr",
     "output_type": "stream",
     "text": [
      "100%|██████████| 81/81 [03:11<00:00,  2.36s/it]\n"
     ]
    },
    {
     "name": "stdout",
     "output_type": "stream",
     "text": [
      "NUM CORRECT: 49 / 81 (0.60)\n",
      "LABELS DISTRIBUTION:\n",
      "{'None': 12, 'bird': 8, 'plane': 61}\n",
      "PREDICTIONS DISTRIBUTION:\n",
      "{'bird': {'False_Neg': 2,\n",
      "          'False_Pos': 28,\n",
      "          'True_Neg': 45,\n",
      "          'True_Pos': 6,\n",
      "          'guess_rate': 0.41975308641975306},\n",
      " 'plane': {'False_Neg': 18,\n",
      "           'False_Pos': 4,\n",
      "           'True_Neg': 16,\n",
      "           'True_Pos': 43,\n",
      "           'guess_rate': 0.5802469135802469}}\n",
      "EVAL ON EPOCH 0, BATCH 110\n",
      "starting eval...\n"
     ]
    },
    {
     "name": "stderr",
     "output_type": "stream",
     "text": [
      "  0%|          | 0/81 [00:00<?, ?it/s]"
     ]
    },
    {
     "name": "stdout",
     "output_type": "stream",
     "text": [
      "<class 'ultralytics.models.yolo.detect.predict.DetectionPredictor'>\n"
     ]
    },
    {
     "name": "stderr",
     "output_type": "stream",
     "text": [
      "100%|██████████| 81/81 [03:07<00:00,  2.32s/it]\n"
     ]
    },
    {
     "name": "stdout",
     "output_type": "stream",
     "text": [
      "NUM CORRECT: 48 / 81 (0.59)\n",
      "LABELS DISTRIBUTION:\n",
      "{'None': 12, 'bird': 8, 'plane': 61}\n",
      "PREDICTIONS DISTRIBUTION:\n",
      "{'bird': {'False_Neg': 1,\n",
      "          'False_Pos': 31,\n",
      "          'True_Neg': 42,\n",
      "          'True_Pos': 7,\n",
      "          'guess_rate': 0.4691358024691358},\n",
      " 'plane': {'False_Neg': 20,\n",
      "           'False_Pos': 2,\n",
      "           'True_Neg': 18,\n",
      "           'True_Pos': 41,\n",
      "           'guess_rate': 0.5308641975308642}}\n",
      "EVAL ON EPOCH 0, BATCH 113\n",
      "starting eval...\n"
     ]
    },
    {
     "name": "stderr",
     "output_type": "stream",
     "text": [
      "  0%|          | 0/81 [00:00<?, ?it/s]"
     ]
    },
    {
     "name": "stdout",
     "output_type": "stream",
     "text": [
      "<class 'ultralytics.models.yolo.detect.predict.DetectionPredictor'>\n"
     ]
    },
    {
     "name": "stderr",
     "output_type": "stream",
     "text": [
      "100%|██████████| 81/81 [03:06<00:00,  2.31s/it]\n"
     ]
    },
    {
     "name": "stdout",
     "output_type": "stream",
     "text": [
      "NUM CORRECT: 48 / 81 (0.59)\n",
      "LABELS DISTRIBUTION:\n",
      "{'None': 12, 'bird': 8, 'plane': 61}\n",
      "PREDICTIONS DISTRIBUTION:\n",
      "{'bird': {'False_Neg': 1,\n",
      "          'False_Pos': 31,\n",
      "          'True_Neg': 42,\n",
      "          'True_Pos': 7,\n",
      "          'guess_rate': 0.4691358024691358},\n",
      " 'plane': {'False_Neg': 20,\n",
      "           'False_Pos': 2,\n",
      "           'True_Neg': 18,\n",
      "           'True_Pos': 41,\n",
      "           'guess_rate': 0.5308641975308642}}\n",
      "EVAL ON EPOCH 1, BATCH 0\n",
      "starting eval...\n"
     ]
    },
    {
     "name": "stderr",
     "output_type": "stream",
     "text": [
      "  0%|          | 0/81 [00:00<?, ?it/s]"
     ]
    },
    {
     "name": "stdout",
     "output_type": "stream",
     "text": [
      "<class 'ultralytics.models.yolo.detect.predict.DetectionPredictor'>\n"
     ]
    },
    {
     "name": "stderr",
     "output_type": "stream",
     "text": [
      "100%|██████████| 81/81 [03:07<00:00,  2.32s/it]\n"
     ]
    },
    {
     "name": "stdout",
     "output_type": "stream",
     "text": [
      "NUM CORRECT: 48 / 81 (0.59)\n",
      "LABELS DISTRIBUTION:\n",
      "{'None': 12, 'bird': 8, 'plane': 61}\n",
      "PREDICTIONS DISTRIBUTION:\n",
      "{'bird': {'False_Neg': 1,\n",
      "          'False_Pos': 31,\n",
      "          'True_Neg': 42,\n",
      "          'True_Pos': 7,\n",
      "          'guess_rate': 0.4691358024691358},\n",
      " 'plane': {'False_Neg': 20,\n",
      "           'False_Pos': 2,\n",
      "           'True_Neg': 18,\n",
      "           'True_Pos': 41,\n",
      "           'guess_rate': 0.5308641975308642}}\n",
      "EVAL ON EPOCH 1, BATCH 10\n",
      "starting eval...\n"
     ]
    },
    {
     "name": "stderr",
     "output_type": "stream",
     "text": [
      "  0%|          | 0/81 [00:00<?, ?it/s]"
     ]
    },
    {
     "name": "stdout",
     "output_type": "stream",
     "text": [
      "<class 'ultralytics.models.yolo.detect.predict.DetectionPredictor'>\n"
     ]
    },
    {
     "name": "stderr",
     "output_type": "stream",
     "text": [
      "100%|██████████| 81/81 [03:08<00:00,  2.33s/it]\n"
     ]
    },
    {
     "name": "stdout",
     "output_type": "stream",
     "text": [
      "NUM CORRECT: 48 / 81 (0.59)\n",
      "LABELS DISTRIBUTION:\n",
      "{'None': 12, 'bird': 8, 'plane': 61}\n",
      "PREDICTIONS DISTRIBUTION:\n",
      "{'bird': {'False_Neg': 1,\n",
      "          'False_Pos': 31,\n",
      "          'True_Neg': 42,\n",
      "          'True_Pos': 7,\n",
      "          'guess_rate': 0.4691358024691358},\n",
      " 'plane': {'False_Neg': 20,\n",
      "           'False_Pos': 2,\n",
      "           'True_Neg': 18,\n",
      "           'True_Pos': 41,\n",
      "           'guess_rate': 0.5308641975308642}}\n",
      "EVAL ON EPOCH 1, BATCH 20\n",
      "starting eval...\n"
     ]
    },
    {
     "name": "stderr",
     "output_type": "stream",
     "text": [
      "  0%|          | 0/81 [00:00<?, ?it/s]"
     ]
    },
    {
     "name": "stdout",
     "output_type": "stream",
     "text": [
      "<class 'ultralytics.models.yolo.detect.predict.DetectionPredictor'>\n"
     ]
    },
    {
     "name": "stderr",
     "output_type": "stream",
     "text": [
      "100%|██████████| 81/81 [03:09<00:00,  2.34s/it]\n"
     ]
    },
    {
     "name": "stdout",
     "output_type": "stream",
     "text": [
      "NUM CORRECT: 46 / 81 (0.57)\n",
      "LABELS DISTRIBUTION:\n",
      "{'None': 12, 'bird': 8, 'plane': 61}\n",
      "PREDICTIONS DISTRIBUTION:\n",
      "{'bird': {'False_Neg': 1,\n",
      "          'False_Pos': 33,\n",
      "          'True_Neg': 40,\n",
      "          'True_Pos': 7,\n",
      "          'guess_rate': 0.49382716049382713},\n",
      " 'plane': {'False_Neg': 22,\n",
      "           'False_Pos': 2,\n",
      "           'True_Neg': 18,\n",
      "           'True_Pos': 39,\n",
      "           'guess_rate': 0.5061728395061729}}\n",
      "EVAL ON EPOCH 1, BATCH 30\n",
      "starting eval...\n"
     ]
    },
    {
     "name": "stderr",
     "output_type": "stream",
     "text": [
      "  0%|          | 0/81 [00:00<?, ?it/s]"
     ]
    },
    {
     "name": "stdout",
     "output_type": "stream",
     "text": [
      "<class 'ultralytics.models.yolo.detect.predict.DetectionPredictor'>\n"
     ]
    },
    {
     "name": "stderr",
     "output_type": "stream",
     "text": [
      "100%|██████████| 81/81 [03:07<00:00,  2.31s/it]\n"
     ]
    },
    {
     "name": "stdout",
     "output_type": "stream",
     "text": [
      "NUM CORRECT: 49 / 81 (0.60)\n",
      "LABELS DISTRIBUTION:\n",
      "{'None': 12, 'bird': 8, 'plane': 61}\n",
      "PREDICTIONS DISTRIBUTION:\n",
      "{'bird': {'False_Neg': 1,\n",
      "          'False_Pos': 28,\n",
      "          'True_Neg': 45,\n",
      "          'True_Pos': 7,\n",
      "          'guess_rate': 0.43209876543209874},\n",
      " 'plane': {'False_Neg': 19,\n",
      "           'False_Pos': 4,\n",
      "           'True_Neg': 16,\n",
      "           'True_Pos': 42,\n",
      "           'guess_rate': 0.5679012345679012}}\n",
      "EVAL ON EPOCH 1, BATCH 40\n",
      "starting eval...\n"
     ]
    },
    {
     "name": "stderr",
     "output_type": "stream",
     "text": [
      "  0%|          | 0/81 [00:00<?, ?it/s]"
     ]
    },
    {
     "name": "stdout",
     "output_type": "stream",
     "text": [
      "<class 'ultralytics.models.yolo.detect.predict.DetectionPredictor'>\n"
     ]
    },
    {
     "name": "stderr",
     "output_type": "stream",
     "text": [
      "100%|██████████| 81/81 [03:09<00:00,  2.34s/it]\n"
     ]
    },
    {
     "name": "stdout",
     "output_type": "stream",
     "text": [
      "NUM CORRECT: 50 / 81 (0.62)\n",
      "LABELS DISTRIBUTION:\n",
      "{'None': 12, 'bird': 8, 'plane': 61}\n",
      "PREDICTIONS DISTRIBUTION:\n",
      "{'bird': {'False_Neg': 1,\n",
      "          'False_Pos': 29,\n",
      "          'True_Neg': 44,\n",
      "          'True_Pos': 7,\n",
      "          'guess_rate': 0.4444444444444444},\n",
      " 'plane': {'False_Neg': 18,\n",
      "           'False_Pos': 2,\n",
      "           'True_Neg': 18,\n",
      "           'True_Pos': 43,\n",
      "           'guess_rate': 0.5555555555555556}}\n",
      "EVAL ON EPOCH 1, BATCH 50\n",
      "starting eval...\n"
     ]
    },
    {
     "name": "stderr",
     "output_type": "stream",
     "text": [
      "  0%|          | 0/81 [00:00<?, ?it/s]"
     ]
    },
    {
     "name": "stdout",
     "output_type": "stream",
     "text": [
      "<class 'ultralytics.models.yolo.detect.predict.DetectionPredictor'>\n"
     ]
    },
    {
     "name": "stderr",
     "output_type": "stream",
     "text": [
      "100%|██████████| 81/81 [03:12<00:00,  2.38s/it]\n"
     ]
    },
    {
     "name": "stdout",
     "output_type": "stream",
     "text": [
      "NUM CORRECT: 52 / 81 (0.64)\n",
      "LABELS DISTRIBUTION:\n",
      "{'None': 12, 'bird': 8, 'plane': 61}\n",
      "PREDICTIONS DISTRIBUTION:\n",
      "{'bird': {'False_Neg': 1,\n",
      "          'False_Pos': 28,\n",
      "          'True_Neg': 45,\n",
      "          'True_Pos': 7,\n",
      "          'guess_rate': 0.43209876543209874},\n",
      " 'plane': {'False_Neg': 16,\n",
      "           'False_Pos': 1,\n",
      "           'True_Neg': 19,\n",
      "           'True_Pos': 45,\n",
      "           'guess_rate': 0.5679012345679012}}\n",
      "EVAL ON EPOCH 1, BATCH 60\n",
      "starting eval...\n"
     ]
    },
    {
     "name": "stderr",
     "output_type": "stream",
     "text": [
      "  0%|          | 0/81 [00:00<?, ?it/s]"
     ]
    },
    {
     "name": "stdout",
     "output_type": "stream",
     "text": [
      "<class 'ultralytics.models.yolo.detect.predict.DetectionPredictor'>\n"
     ]
    },
    {
     "name": "stderr",
     "output_type": "stream",
     "text": [
      "100%|██████████| 81/81 [03:10<00:00,  2.35s/it]\n"
     ]
    },
    {
     "name": "stdout",
     "output_type": "stream",
     "text": [
      "NUM CORRECT: 55 / 81 (0.68)\n",
      "LABELS DISTRIBUTION:\n",
      "{'None': 12, 'bird': 8, 'plane': 61}\n",
      "PREDICTIONS DISTRIBUTION:\n",
      "{'bird': {'False_Neg': 1,\n",
      "          'False_Pos': 25,\n",
      "          'True_Neg': 48,\n",
      "          'True_Pos': 7,\n",
      "          'guess_rate': 0.3950617283950617},\n",
      " 'plane': {'False_Neg': 13,\n",
      "           'False_Pos': 1,\n",
      "           'True_Neg': 19,\n",
      "           'True_Pos': 48,\n",
      "           'guess_rate': 0.6049382716049383}}\n",
      "EVAL ON EPOCH 1, BATCH 70\n",
      "starting eval...\n"
     ]
    },
    {
     "name": "stderr",
     "output_type": "stream",
     "text": [
      "  0%|          | 0/81 [00:00<?, ?it/s]"
     ]
    },
    {
     "name": "stdout",
     "output_type": "stream",
     "text": [
      "<class 'ultralytics.models.yolo.detect.predict.DetectionPredictor'>\n"
     ]
    },
    {
     "name": "stderr",
     "output_type": "stream",
     "text": [
      "100%|██████████| 81/81 [03:08<00:00,  2.33s/it]\n"
     ]
    },
    {
     "name": "stdout",
     "output_type": "stream",
     "text": [
      "NUM CORRECT: 53 / 81 (0.65)\n",
      "LABELS DISTRIBUTION:\n",
      "{'None': 12, 'bird': 8, 'plane': 61}\n",
      "PREDICTIONS DISTRIBUTION:\n",
      "{'bird': {'False_Neg': 1,\n",
      "          'False_Pos': 27,\n",
      "          'True_Neg': 46,\n",
      "          'True_Pos': 7,\n",
      "          'guess_rate': 0.41975308641975306},\n",
      " 'plane': {'False_Neg': 15,\n",
      "           'False_Pos': 1,\n",
      "           'True_Neg': 19,\n",
      "           'True_Pos': 46,\n",
      "           'guess_rate': 0.5802469135802469}}\n",
      "EVAL ON EPOCH 1, BATCH 80\n",
      "starting eval...\n"
     ]
    },
    {
     "name": "stderr",
     "output_type": "stream",
     "text": [
      "  0%|          | 0/81 [00:00<?, ?it/s]"
     ]
    },
    {
     "name": "stdout",
     "output_type": "stream",
     "text": [
      "<class 'ultralytics.models.yolo.detect.predict.DetectionPredictor'>\n"
     ]
    },
    {
     "name": "stderr",
     "output_type": "stream",
     "text": [
      "100%|██████████| 81/81 [03:10<00:00,  2.35s/it]\n"
     ]
    },
    {
     "name": "stdout",
     "output_type": "stream",
     "text": [
      "NUM CORRECT: 48 / 81 (0.59)\n",
      "LABELS DISTRIBUTION:\n",
      "{'None': 12, 'bird': 8, 'plane': 61}\n",
      "PREDICTIONS DISTRIBUTION:\n",
      "{'bird': {'False_Neg': 1,\n",
      "          'False_Pos': 32,\n",
      "          'True_Neg': 41,\n",
      "          'True_Pos': 7,\n",
      "          'guess_rate': 0.48148148148148145},\n",
      " 'plane': {'False_Neg': 20,\n",
      "           'False_Pos': 1,\n",
      "           'True_Neg': 19,\n",
      "           'True_Pos': 41,\n",
      "           'guess_rate': 0.5185185185185185}}\n",
      "EVAL ON EPOCH 1, BATCH 90\n",
      "starting eval...\n"
     ]
    },
    {
     "name": "stderr",
     "output_type": "stream",
     "text": [
      "  0%|          | 0/81 [00:00<?, ?it/s]"
     ]
    },
    {
     "name": "stdout",
     "output_type": "stream",
     "text": [
      "<class 'ultralytics.models.yolo.detect.predict.DetectionPredictor'>\n"
     ]
    },
    {
     "name": "stderr",
     "output_type": "stream",
     "text": [
      "100%|██████████| 81/81 [03:10<00:00,  2.36s/it]\n"
     ]
    },
    {
     "name": "stdout",
     "output_type": "stream",
     "text": [
      "NUM CORRECT: 45 / 81 (0.56)\n",
      "LABELS DISTRIBUTION:\n",
      "{'None': 12, 'bird': 8, 'plane': 61}\n",
      "PREDICTIONS DISTRIBUTION:\n",
      "{'bird': {'False_Neg': 1,\n",
      "          'False_Pos': 35,\n",
      "          'True_Neg': 38,\n",
      "          'True_Pos': 7,\n",
      "          'guess_rate': 0.5185185185185185},\n",
      " 'plane': {'False_Neg': 23,\n",
      "           'False_Pos': 1,\n",
      "           'True_Neg': 19,\n",
      "           'True_Pos': 38,\n",
      "           'guess_rate': 0.48148148148148145}}\n",
      "EVAL ON EPOCH 1, BATCH 100\n",
      "starting eval...\n"
     ]
    },
    {
     "name": "stderr",
     "output_type": "stream",
     "text": [
      "  0%|          | 0/81 [00:00<?, ?it/s]"
     ]
    },
    {
     "name": "stdout",
     "output_type": "stream",
     "text": [
      "<class 'ultralytics.models.yolo.detect.predict.DetectionPredictor'>\n"
     ]
    },
    {
     "name": "stderr",
     "output_type": "stream",
     "text": [
      "100%|██████████| 81/81 [03:13<00:00,  2.38s/it]\n"
     ]
    },
    {
     "name": "stdout",
     "output_type": "stream",
     "text": [
      "NUM CORRECT: 53 / 81 (0.65)\n",
      "LABELS DISTRIBUTION:\n",
      "{'None': 12, 'bird': 8, 'plane': 61}\n",
      "PREDICTIONS DISTRIBUTION:\n",
      "{'bird': {'False_Neg': 1,\n",
      "          'False_Pos': 27,\n",
      "          'True_Neg': 46,\n",
      "          'True_Pos': 7,\n",
      "          'guess_rate': 0.41975308641975306},\n",
      " 'plane': {'False_Neg': 15,\n",
      "           'False_Pos': 1,\n",
      "           'True_Neg': 19,\n",
      "           'True_Pos': 46,\n",
      "           'guess_rate': 0.5802469135802469}}\n",
      "EVAL ON EPOCH 1, BATCH 110\n",
      "starting eval...\n"
     ]
    },
    {
     "name": "stderr",
     "output_type": "stream",
     "text": [
      "  0%|          | 0/81 [00:00<?, ?it/s]"
     ]
    },
    {
     "name": "stdout",
     "output_type": "stream",
     "text": [
      "<class 'ultralytics.models.yolo.detect.predict.DetectionPredictor'>\n"
     ]
    },
    {
     "name": "stderr",
     "output_type": "stream",
     "text": [
      "100%|██████████| 81/81 [03:12<00:00,  2.37s/it]\n"
     ]
    },
    {
     "name": "stdout",
     "output_type": "stream",
     "text": [
      "NUM CORRECT: 53 / 81 (0.65)\n",
      "LABELS DISTRIBUTION:\n",
      "{'None': 12, 'bird': 8, 'plane': 61}\n",
      "PREDICTIONS DISTRIBUTION:\n",
      "{'bird': {'False_Neg': 1,\n",
      "          'False_Pos': 27,\n",
      "          'True_Neg': 46,\n",
      "          'True_Pos': 7,\n",
      "          'guess_rate': 0.41975308641975306},\n",
      " 'plane': {'False_Neg': 15,\n",
      "           'False_Pos': 1,\n",
      "           'True_Neg': 19,\n",
      "           'True_Pos': 46,\n",
      "           'guess_rate': 0.5802469135802469}}\n",
      "EVAL ON EPOCH 2, BATCH 0\n",
      "starting eval...\n"
     ]
    },
    {
     "name": "stderr",
     "output_type": "stream",
     "text": [
      "  0%|          | 0/81 [00:00<?, ?it/s]"
     ]
    },
    {
     "name": "stdout",
     "output_type": "stream",
     "text": [
      "<class 'ultralytics.models.yolo.detect.predict.DetectionPredictor'>\n"
     ]
    },
    {
     "name": "stderr",
     "output_type": "stream",
     "text": [
      "100%|██████████| 81/81 [03:11<00:00,  2.36s/it]\n"
     ]
    },
    {
     "name": "stdout",
     "output_type": "stream",
     "text": [
      "NUM CORRECT: 54 / 81 (0.67)\n",
      "LABELS DISTRIBUTION:\n",
      "{'None': 12, 'bird': 8, 'plane': 61}\n",
      "PREDICTIONS DISTRIBUTION:\n",
      "{'bird': {'False_Neg': 1,\n",
      "          'False_Pos': 26,\n",
      "          'True_Neg': 47,\n",
      "          'True_Pos': 7,\n",
      "          'guess_rate': 0.4074074074074074},\n",
      " 'plane': {'False_Neg': 14,\n",
      "           'False_Pos': 1,\n",
      "           'True_Neg': 19,\n",
      "           'True_Pos': 47,\n",
      "           'guess_rate': 0.5925925925925926}}\n",
      "EVAL ON EPOCH 1, BATCH 113\n",
      "starting eval...\n"
     ]
    },
    {
     "name": "stderr",
     "output_type": "stream",
     "text": [
      "  0%|          | 0/81 [00:00<?, ?it/s]"
     ]
    },
    {
     "name": "stdout",
     "output_type": "stream",
     "text": [
      "<class 'ultralytics.models.yolo.detect.predict.DetectionPredictor'>\n"
     ]
    },
    {
     "name": "stderr",
     "output_type": "stream",
     "text": [
      "100%|██████████| 81/81 [03:13<00:00,  2.39s/it]\n"
     ]
    },
    {
     "name": "stdout",
     "output_type": "stream",
     "text": [
      "NUM CORRECT: 54 / 81 (0.67)\n",
      "LABELS DISTRIBUTION:\n",
      "{'None': 12, 'bird': 8, 'plane': 61}\n",
      "PREDICTIONS DISTRIBUTION:\n",
      "{'bird': {'False_Neg': 1,\n",
      "          'False_Pos': 26,\n",
      "          'True_Neg': 47,\n",
      "          'True_Pos': 7,\n",
      "          'guess_rate': 0.4074074074074074},\n",
      " 'plane': {'False_Neg': 14,\n",
      "           'False_Pos': 1,\n",
      "           'True_Neg': 19,\n",
      "           'True_Pos': 47,\n",
      "           'guess_rate': 0.5925925925925926}}\n",
      "EVAL ON EPOCH 2, BATCH 10\n",
      "starting eval...\n"
     ]
    },
    {
     "name": "stderr",
     "output_type": "stream",
     "text": [
      "  0%|          | 0/81 [00:00<?, ?it/s]"
     ]
    },
    {
     "name": "stdout",
     "output_type": "stream",
     "text": [
      "<class 'ultralytics.models.yolo.detect.predict.DetectionPredictor'>\n"
     ]
    },
    {
     "name": "stderr",
     "output_type": "stream",
     "text": [
      "100%|██████████| 81/81 [03:09<00:00,  2.34s/it]\n"
     ]
    },
    {
     "name": "stdout",
     "output_type": "stream",
     "text": [
      "NUM CORRECT: 56 / 81 (0.69)\n",
      "LABELS DISTRIBUTION:\n",
      "{'None': 12, 'bird': 8, 'plane': 61}\n",
      "PREDICTIONS DISTRIBUTION:\n",
      "{'bird': {'False_Neg': 0,\n",
      "          'False_Pos': 25,\n",
      "          'True_Neg': 48,\n",
      "          'True_Pos': 8,\n",
      "          'guess_rate': 0.4074074074074074},\n",
      " 'plane': {'False_Neg': 13,\n",
      "           'False_Pos': 0,\n",
      "           'True_Neg': 20,\n",
      "           'True_Pos': 48,\n",
      "           'guess_rate': 0.5925925925925926}}\n",
      "EVAL ON EPOCH 2, BATCH 20\n",
      "starting eval...\n"
     ]
    },
    {
     "name": "stderr",
     "output_type": "stream",
     "text": [
      "  0%|          | 0/81 [00:00<?, ?it/s]"
     ]
    },
    {
     "name": "stdout",
     "output_type": "stream",
     "text": [
      "<class 'ultralytics.models.yolo.detect.predict.DetectionPredictor'>\n"
     ]
    },
    {
     "name": "stderr",
     "output_type": "stream",
     "text": [
      "100%|██████████| 81/81 [03:08<00:00,  2.33s/it]\n"
     ]
    },
    {
     "name": "stdout",
     "output_type": "stream",
     "text": [
      "NUM CORRECT: 56 / 81 (0.69)\n",
      "LABELS DISTRIBUTION:\n",
      "{'None': 12, 'bird': 8, 'plane': 61}\n",
      "PREDICTIONS DISTRIBUTION:\n",
      "{'bird': {'False_Neg': 2,\n",
      "          'False_Pos': 23,\n",
      "          'True_Neg': 50,\n",
      "          'True_Pos': 6,\n",
      "          'guess_rate': 0.35802469135802467},\n",
      " 'plane': {'False_Neg': 11,\n",
      "           'False_Pos': 2,\n",
      "           'True_Neg': 18,\n",
      "           'True_Pos': 50,\n",
      "           'guess_rate': 0.6419753086419753}}\n",
      "EVAL ON EPOCH 2, BATCH 30\n",
      "starting eval...\n"
     ]
    },
    {
     "name": "stderr",
     "output_type": "stream",
     "text": [
      "  0%|          | 0/81 [00:00<?, ?it/s]"
     ]
    },
    {
     "name": "stdout",
     "output_type": "stream",
     "text": [
      "<class 'ultralytics.models.yolo.detect.predict.DetectionPredictor'>\n"
     ]
    },
    {
     "name": "stderr",
     "output_type": "stream",
     "text": [
      "100%|██████████| 81/81 [03:11<00:00,  2.37s/it]\n"
     ]
    },
    {
     "name": "stdout",
     "output_type": "stream",
     "text": [
      "NUM CORRECT: 55 / 81 (0.68)\n",
      "LABELS DISTRIBUTION:\n",
      "{'None': 12, 'bird': 8, 'plane': 61}\n",
      "PREDICTIONS DISTRIBUTION:\n",
      "{'bird': {'False_Neg': 1,\n",
      "          'False_Pos': 25,\n",
      "          'True_Neg': 48,\n",
      "          'True_Pos': 7,\n",
      "          'guess_rate': 0.3950617283950617},\n",
      " 'plane': {'False_Neg': 13,\n",
      "           'False_Pos': 1,\n",
      "           'True_Neg': 19,\n",
      "           'True_Pos': 48,\n",
      "           'guess_rate': 0.6049382716049383}}\n",
      "EVAL ON EPOCH 2, BATCH 40\n",
      "starting eval...\n"
     ]
    },
    {
     "name": "stderr",
     "output_type": "stream",
     "text": [
      "  0%|          | 0/81 [00:00<?, ?it/s]"
     ]
    },
    {
     "name": "stdout",
     "output_type": "stream",
     "text": [
      "<class 'ultralytics.models.yolo.detect.predict.DetectionPredictor'>\n"
     ]
    },
    {
     "name": "stderr",
     "output_type": "stream",
     "text": [
      "100%|██████████| 81/81 [03:12<00:00,  2.38s/it]\n"
     ]
    },
    {
     "name": "stdout",
     "output_type": "stream",
     "text": [
      "NUM CORRECT: 53 / 81 (0.65)\n",
      "LABELS DISTRIBUTION:\n",
      "{'None': 12, 'bird': 8, 'plane': 61}\n",
      "PREDICTIONS DISTRIBUTION:\n",
      "{'bird': {'False_Neg': 1,\n",
      "          'False_Pos': 27,\n",
      "          'True_Neg': 46,\n",
      "          'True_Pos': 7,\n",
      "          'guess_rate': 0.41975308641975306},\n",
      " 'plane': {'False_Neg': 15,\n",
      "           'False_Pos': 1,\n",
      "           'True_Neg': 19,\n",
      "           'True_Pos': 46,\n",
      "           'guess_rate': 0.5802469135802469}}\n",
      "EVAL ON EPOCH 2, BATCH 50\n",
      "starting eval...\n"
     ]
    },
    {
     "name": "stderr",
     "output_type": "stream",
     "text": [
      "  0%|          | 0/81 [00:00<?, ?it/s]"
     ]
    },
    {
     "name": "stdout",
     "output_type": "stream",
     "text": [
      "<class 'ultralytics.models.yolo.detect.predict.DetectionPredictor'>\n"
     ]
    },
    {
     "name": "stderr",
     "output_type": "stream",
     "text": [
      "100%|██████████| 81/81 [03:12<00:00,  2.38s/it]\n"
     ]
    },
    {
     "name": "stdout",
     "output_type": "stream",
     "text": [
      "NUM CORRECT: 42 / 81 (0.52)\n",
      "LABELS DISTRIBUTION:\n",
      "{'None': 12, 'bird': 8, 'plane': 61}\n",
      "PREDICTIONS DISTRIBUTION:\n",
      "{'bird': {'False_Neg': 1,\n",
      "          'False_Pos': 38,\n",
      "          'True_Neg': 35,\n",
      "          'True_Pos': 7,\n",
      "          'guess_rate': 0.5555555555555556},\n",
      " 'plane': {'False_Neg': 26,\n",
      "           'False_Pos': 1,\n",
      "           'True_Neg': 19,\n",
      "           'True_Pos': 35,\n",
      "           'guess_rate': 0.4444444444444444}}\n",
      "EVAL ON EPOCH 2, BATCH 60\n",
      "starting eval...\n"
     ]
    },
    {
     "name": "stderr",
     "output_type": "stream",
     "text": [
      "  0%|          | 0/81 [00:00<?, ?it/s]"
     ]
    },
    {
     "name": "stdout",
     "output_type": "stream",
     "text": [
      "<class 'ultralytics.models.yolo.detect.predict.DetectionPredictor'>\n"
     ]
    },
    {
     "name": "stderr",
     "output_type": "stream",
     "text": [
      "100%|██████████| 81/81 [03:10<00:00,  2.36s/it]\n"
     ]
    },
    {
     "name": "stdout",
     "output_type": "stream",
     "text": [
      "NUM CORRECT: 41 / 81 (0.51)\n",
      "LABELS DISTRIBUTION:\n",
      "{'None': 12, 'bird': 8, 'plane': 61}\n",
      "PREDICTIONS DISTRIBUTION:\n",
      "{'bird': {'False_Neg': 1,\n",
      "          'False_Pos': 39,\n",
      "          'True_Neg': 34,\n",
      "          'True_Pos': 7,\n",
      "          'guess_rate': 0.5679012345679012},\n",
      " 'plane': {'False_Neg': 27,\n",
      "           'False_Pos': 1,\n",
      "           'True_Neg': 19,\n",
      "           'True_Pos': 34,\n",
      "           'guess_rate': 0.43209876543209874}}\n",
      "EVAL ON EPOCH 2, BATCH 70\n",
      "starting eval...\n"
     ]
    },
    {
     "name": "stderr",
     "output_type": "stream",
     "text": [
      "  0%|          | 0/81 [00:00<?, ?it/s]"
     ]
    },
    {
     "name": "stdout",
     "output_type": "stream",
     "text": [
      "<class 'ultralytics.models.yolo.detect.predict.DetectionPredictor'>\n"
     ]
    },
    {
     "name": "stderr",
     "output_type": "stream",
     "text": [
      "100%|██████████| 81/81 [03:09<00:00,  2.34s/it]\n"
     ]
    },
    {
     "name": "stdout",
     "output_type": "stream",
     "text": [
      "NUM CORRECT: 45 / 81 (0.56)\n",
      "LABELS DISTRIBUTION:\n",
      "{'None': 12, 'bird': 8, 'plane': 61}\n",
      "PREDICTIONS DISTRIBUTION:\n",
      "{'bird': {'False_Neg': 1,\n",
      "          'False_Pos': 35,\n",
      "          'True_Neg': 38,\n",
      "          'True_Pos': 7,\n",
      "          'guess_rate': 0.5185185185185185},\n",
      " 'plane': {'False_Neg': 23,\n",
      "           'False_Pos': 1,\n",
      "           'True_Neg': 19,\n",
      "           'True_Pos': 38,\n",
      "           'guess_rate': 0.48148148148148145}}\n",
      "EVAL ON EPOCH 2, BATCH 80\n",
      "starting eval...\n"
     ]
    },
    {
     "name": "stderr",
     "output_type": "stream",
     "text": [
      "  0%|          | 0/81 [00:00<?, ?it/s]"
     ]
    },
    {
     "name": "stdout",
     "output_type": "stream",
     "text": [
      "<class 'ultralytics.models.yolo.detect.predict.DetectionPredictor'>\n"
     ]
    },
    {
     "name": "stderr",
     "output_type": "stream",
     "text": [
      "100%|██████████| 81/81 [03:07<00:00,  2.32s/it]\n"
     ]
    },
    {
     "name": "stdout",
     "output_type": "stream",
     "text": [
      "NUM CORRECT: 47 / 81 (0.58)\n",
      "LABELS DISTRIBUTION:\n",
      "{'None': 12, 'bird': 8, 'plane': 61}\n",
      "PREDICTIONS DISTRIBUTION:\n",
      "{'bird': {'False_Neg': 1,\n",
      "          'False_Pos': 33,\n",
      "          'True_Neg': 40,\n",
      "          'True_Pos': 7,\n",
      "          'guess_rate': 0.49382716049382713},\n",
      " 'plane': {'False_Neg': 21,\n",
      "           'False_Pos': 1,\n",
      "           'True_Neg': 19,\n",
      "           'True_Pos': 40,\n",
      "           'guess_rate': 0.5061728395061729}}\n",
      "EVAL ON EPOCH 2, BATCH 90\n",
      "starting eval...\n"
     ]
    },
    {
     "name": "stderr",
     "output_type": "stream",
     "text": [
      "  0%|          | 0/81 [00:00<?, ?it/s]"
     ]
    },
    {
     "name": "stdout",
     "output_type": "stream",
     "text": [
      "<class 'ultralytics.models.yolo.detect.predict.DetectionPredictor'>\n"
     ]
    },
    {
     "name": "stderr",
     "output_type": "stream",
     "text": [
      "100%|██████████| 81/81 [03:06<00:00,  2.31s/it]\n"
     ]
    },
    {
     "name": "stdout",
     "output_type": "stream",
     "text": [
      "NUM CORRECT: 47 / 81 (0.58)\n",
      "LABELS DISTRIBUTION:\n",
      "{'None': 12, 'bird': 8, 'plane': 61}\n",
      "PREDICTIONS DISTRIBUTION:\n",
      "{'bird': {'False_Neg': 1,\n",
      "          'False_Pos': 33,\n",
      "          'True_Neg': 40,\n",
      "          'True_Pos': 7,\n",
      "          'guess_rate': 0.49382716049382713},\n",
      " 'plane': {'False_Neg': 21,\n",
      "           'False_Pos': 1,\n",
      "           'True_Neg': 19,\n",
      "           'True_Pos': 40,\n",
      "           'guess_rate': 0.5061728395061729}}\n",
      "EVAL ON EPOCH 2, BATCH 100\n",
      "starting eval...\n"
     ]
    },
    {
     "name": "stderr",
     "output_type": "stream",
     "text": [
      "  0%|          | 0/81 [00:00<?, ?it/s]"
     ]
    },
    {
     "name": "stdout",
     "output_type": "stream",
     "text": [
      "<class 'ultralytics.models.yolo.detect.predict.DetectionPredictor'>\n"
     ]
    },
    {
     "name": "stderr",
     "output_type": "stream",
     "text": [
      "100%|██████████| 81/81 [03:05<00:00,  2.29s/it]\n"
     ]
    },
    {
     "name": "stdout",
     "output_type": "stream",
     "text": [
      "NUM CORRECT: 50 / 81 (0.62)\n",
      "LABELS DISTRIBUTION:\n",
      "{'None': 12, 'bird': 8, 'plane': 61}\n",
      "PREDICTIONS DISTRIBUTION:\n",
      "{'bird': {'False_Neg': 1,\n",
      "          'False_Pos': 29,\n",
      "          'True_Neg': 44,\n",
      "          'True_Pos': 7,\n",
      "          'guess_rate': 0.4444444444444444},\n",
      " 'plane': {'False_Neg': 18,\n",
      "           'False_Pos': 2,\n",
      "           'True_Neg': 18,\n",
      "           'True_Pos': 43,\n",
      "           'guess_rate': 0.5555555555555556}}\n",
      "EVAL ON EPOCH 2, BATCH 110\n",
      "starting eval...\n"
     ]
    },
    {
     "name": "stderr",
     "output_type": "stream",
     "text": [
      "  0%|          | 0/81 [00:00<?, ?it/s]"
     ]
    },
    {
     "name": "stdout",
     "output_type": "stream",
     "text": [
      "<class 'ultralytics.models.yolo.detect.predict.DetectionPredictor'>\n"
     ]
    },
    {
     "name": "stderr",
     "output_type": "stream",
     "text": [
      "100%|██████████| 81/81 [02:59<00:00,  2.21s/it]\n"
     ]
    },
    {
     "name": "stdout",
     "output_type": "stream",
     "text": [
      "NUM CORRECT: 52 / 81 (0.64)\n",
      "LABELS DISTRIBUTION:\n",
      "{'None': 12, 'bird': 8, 'plane': 61}\n",
      "PREDICTIONS DISTRIBUTION:\n",
      "{'bird': {'False_Neg': 1,\n",
      "          'False_Pos': 27,\n",
      "          'True_Neg': 46,\n",
      "          'True_Pos': 7,\n",
      "          'guess_rate': 0.41975308641975306},\n",
      " 'plane': {'False_Neg': 16,\n",
      "           'False_Pos': 2,\n",
      "           'True_Neg': 18,\n",
      "           'True_Pos': 45,\n",
      "           'guess_rate': 0.5802469135802469}}\n",
      "EVAL ON EPOCH 2, BATCH 113\n",
      "starting eval...\n"
     ]
    },
    {
     "name": "stderr",
     "output_type": "stream",
     "text": [
      "  0%|          | 0/81 [00:00<?, ?it/s]"
     ]
    },
    {
     "name": "stdout",
     "output_type": "stream",
     "text": [
      "<class 'ultralytics.models.yolo.detect.predict.DetectionPredictor'>\n"
     ]
    },
    {
     "name": "stderr",
     "output_type": "stream",
     "text": [
      "100%|██████████| 81/81 [02:57<00:00,  2.19s/it]"
     ]
    },
    {
     "name": "stdout",
     "output_type": "stream",
     "text": [
      "NUM CORRECT: 54 / 81 (0.67)\n",
      "LABELS DISTRIBUTION:\n",
      "{'None': 12, 'bird': 8, 'plane': 61}\n",
      "PREDICTIONS DISTRIBUTION:\n",
      "{'None': {'False_Neg': 11,\n",
      "          'False_Pos': 0,\n",
      "          'True_Neg': 69,\n",
      "          'True_Pos': 1,\n",
      "          'guess_rate': 0.012345679012345678},\n",
      " 'bird': {'False_Neg': 1,\n",
      "          'False_Pos': 24,\n",
      "          'True_Neg': 49,\n",
      "          'True_Pos': 7,\n",
      "          'guess_rate': 0.38271604938271603},\n",
      " 'plane': {'False_Neg': 15,\n",
      "           'False_Pos': 3,\n",
      "           'True_Neg': 17,\n",
      "           'True_Pos': 46,\n",
      "           'guess_rate': 0.6049382716049383}}\n"
     ]
    },
    {
     "name": "stderr",
     "output_type": "stream",
     "text": [
      "\n"
     ]
    }
   ],
   "source": [
    "eval_checkpoints('train21')"
   ]
  },
  {
   "cell_type": "code",
   "execution_count": null,
   "metadata": {},
   "outputs": [],
   "source": []
  }
 ],
 "metadata": {
  "kernelspec": {
   "display_name": ".venv",
   "language": "python",
   "name": "python3"
  },
  "language_info": {
   "codemirror_mode": {
    "name": "ipython",
    "version": 3
   },
   "file_extension": ".py",
   "mimetype": "text/x-python",
   "name": "python",
   "nbconvert_exporter": "python",
   "pygments_lexer": "ipython3",
   "version": "3.10.12"
  }
 },
 "nbformat": 4,
 "nbformat_minor": 2
}
