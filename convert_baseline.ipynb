{
 "cells": [
  {
   "cell_type": "code",
   "execution_count": 72,
   "metadata": {},
   "outputs": [],
   "source": [
    "import os\n",
    "from tqdm import tqdm\n",
    "from PIL import Image\n",
    "import shutil\n",
    "import random\n",
    "\n",
    "DESTINATION_DIR = 'YOLO'\n",
    "\n",
    "def convert_file(dataset_dir: str, file: str, obj_class: str, train_split: float):\n",
    "    full_path = os.path.join(dataset_dir, file)\n",
    "    fname, img_dir, destination = [f\"{full_path}/{file}.txt\", f\"{full_path}/img\", f\"{full_path}/bbox\"]\n",
    "    if not os.path.exists(destination):\n",
    "        os.makedirs(destination)\n",
    "    \n",
    "    images = [d for d in os.listdir(img_dir)]\n",
    "\n",
    "    with open(fname, 'r') as f:\n",
    "        num_lines = sum([1 for l in f if l.strip() != ''])\n",
    "\n",
    "    with open(fname, 'r') as f:\n",
    "        if num_lines != len(images):\n",
    "            print(f\"length of {fname} does not match number of files in {img_dir}\")\n",
    "        else:\n",
    "            lines = [l for l in f]\n",
    "            for line, image in zip(lines, images):\n",
    "                if line.strip() == '': pass\n",
    "\n",
    "                x, y, w, h = [float(val) for val in line.strip().replace(' ', '\\t').replace(',', '\\t').split('\\t')]\n",
    "                x, y, w, h = normalise_bbox(x, y, w, h, os.path.join(img_dir, image))\n",
    "                new_fname = f\"{file}_{image.replace('.jpg', '')}\"\n",
    "\n",
    "                split = 'train' if random.random() < train_split else 'val'\n",
    "\n",
    "                with open(os.path.join(dataset_dir, '..', DESTINATION_DIR, 'labels', split, (new_fname+'.txt')), 'w') as f2:\n",
    "                    f2.write(' '.join(str(v) for v in [obj_class, x, y, w, h]))\n",
    "                shutil.copyfile(os.path.join(img_dir, image), os.path.join(dataset_dir, '..', DESTINATION_DIR, 'images', split, (new_fname+'.jpg')))\n",
    "\n",
    "def normalise_bbox(x, y, w, h, fname):\n",
    "    with Image.open(fname) as img:\n",
    "        width, height = img.size\n",
    "    return (x / width, y / height, w / width, h / height)\n",
    "\n",
    "def convert_dataset(dataset_dir: str = '.', train_split: float = 0.8):\n",
    "    \n",
    "    create_directory_if_not_exists(os.path.join(dataset_dir, DESTINATION_DIR, 'images', 'train'))\n",
    "    create_directory_if_not_exists(os.path.join(dataset_dir, DESTINATION_DIR, 'images', 'val'))\n",
    "    create_directory_if_not_exists(os.path.join(dataset_dir, DESTINATION_DIR, 'labels', 'train'))\n",
    "    create_directory_if_not_exists(os.path.join(dataset_dir, DESTINATION_DIR, 'labels', 'val'))\n",
    "    dataset_dir = os.path.join(dataset_dir, 'raw')\n",
    "    directories = [d for d in os.listdir(dataset_dir) if os.path.isdir(os.path.join(dataset_dir, d))]\n",
    "    for d in tqdm(directories):\n",
    "        convert_file(dataset_dir, d, \"0\" if \"aircraft\" in d else \"1\", train_split=train_split)\n",
    "\n",
    "\n",
    "def create_directory_if_not_exists(directory_path):\n",
    "    if not os.path.exists(directory_path):\n",
    "        os.makedirs(directory_path)\n"
   ]
  },
  {
   "cell_type": "code",
   "execution_count": 73,
   "metadata": {},
   "outputs": [
    {
     "name": "stderr",
     "output_type": "stream",
     "text": [
      "100%|██████████| 37/37 [00:03<00:00, 10.27it/s]\n"
     ]
    }
   ],
   "source": [
    "convert_dataset('datasets/ToT_extracted')"
   ]
  },
  {
   "cell_type": "code",
   "execution_count": 65,
   "metadata": {},
   "outputs": [
    {
     "data": {
      "text/plain": [
       "['VideoTransform.py',\n",
       " 'VideoMix.py',\n",
       " '.venv',\n",
       " '.git',\n",
       " 'train.py',\n",
       " 'yolov8n.pt',\n",
       " 'datasets',\n",
       " 'runs',\n",
       " 'README.md',\n",
       " 'i3d.py',\n",
       " 'YOLO_training.ipynb',\n",
       " 'convert_baseline.ipynb']"
      ]
     },
     "execution_count": 65,
     "metadata": {},
     "output_type": "execute_result"
    }
   ],
   "source": [
    "os.listdir(os.path.join('datasets', '..'))\n",
    "# ValueError: could not convert string to float: '477.17\\t205.83\\t9.7367\\t10.023'"
   ]
  },
  {
   "cell_type": "code",
   "execution_count": 41,
   "metadata": {},
   "outputs": [
    {
     "name": "stdout",
     "output_type": "stream",
     "text": [
      "119\n",
      "119\n"
     ]
    }
   ],
   "source": [
    "with open('datasets/ToT_extracted/bird22-1/bird22-1.txt', 'r') as f1:\n",
    "    print(sum(1 for _ in f1))\n",
    "with open('datasets/ToT_extracted/bird22-1/bird22-1.txt', 'r') as f1:\n",
    "    print(sum([1 for _ in f1]))"
   ]
  },
  {
   "cell_type": "code",
   "execution_count": 5,
   "metadata": {},
   "outputs": [
    {
     "name": "stdout",
     "output_type": "stream",
     "text": [
      "convert_baseline.ipynb\tREADME.md  VideoMix.py\t\tyolov8n.pt\n",
      "datasets\t\truns\t   VideoTransform.py\n",
      "i3d.py\t\t\ttrain.py   YOLO_training.ipynb\n"
     ]
    }
   ],
   "source": []
  },
  {
   "cell_type": "code",
   "execution_count": null,
   "metadata": {},
   "outputs": [],
   "source": []
  }
 ],
 "metadata": {
  "kernelspec": {
   "display_name": ".venv",
   "language": "python",
   "name": "python3"
  },
  "language_info": {
   "codemirror_mode": {
    "name": "ipython",
    "version": 3
   },
   "file_extension": ".py",
   "mimetype": "text/x-python",
   "name": "python",
   "nbconvert_exporter": "python",
   "pygments_lexer": "ipython3",
   "version": "3.10.12"
  }
 },
 "nbformat": 4,
 "nbformat_minor": 2
}
