{
 "cells": [
  {
   "cell_type": "code",
   "execution_count": 1,
   "metadata": {},
   "outputs": [],
   "source": [
    "import os\n",
    "from tqdm import tqdm\n",
    "from PIL import Image\n",
    "import shutil\n",
    "import random\n",
    "\n",
    "DESTINATION_DIR = '../YOLO'\n",
    "\n",
    "CLASSES_FULL = { \n",
    "    name: i for i, name in enumerate([\n",
    "    \"aircraft\",\n",
    "    \"ant\",\n",
    "    \"badminton\",\n",
    "    \"bait\",\n",
    "    \"balloon\",\n",
    "    \"bat\",\n",
    "    \"bee\",\n",
    "    \"bery\",\n",
    "    \"bicycle\",\n",
    "    \"bird\",\n",
    "    \"boat\",\n",
    "    \"bowling\",\n",
    "    \"bronze_statue\",\n",
    "    \"car\",\n",
    "    \"chick\",\n",
    "    \"dice\",\n",
    "    \"drosophila\",\n",
    "    \"eagle\",\n",
    "    \"electric_bicycle\",\n",
    "    \"fish\",\n",
    "    \"fly\",\n",
    "    \"golf\",\n",
    "    \"hoodle\",\n",
    "    \"insect\",\n",
    "    \"jet\",\n",
    "    \"kite\",\n",
    "    \"Kongming_Lantern\",\n",
    "    \"ladybird\",\n",
    "    \"light\",\n",
    "    \"meteor\",\n",
    "    \"moon\",\n",
    "    \"Paraglider\",\n",
    "    \"people\",\n",
    "    \"pingpang\",\n",
    "    \"poker_box\",\n",
    "    \"sheep\",\n",
    "    \"shot\",\n",
    "    \"shrimp\",\n",
    "    \"shuttlecock\",\n",
    "    \"skateboard\",\n",
    "    \"snake_head\",\n",
    "    \"soccer\",\n",
    "    \"star\",\n",
    "    \"surfing\",\n",
    "    \"tennis\",\n",
    "    \"ufo\",\n",
    "    \"volleyball\",\n",
    "    \"yoyo\"\n",
    "])}\n",
    "CLASSES_MIN = { \n",
    "    name: i for i, name in enumerate([\n",
    "    \"aircraft\",\n",
    "    \"bird\",\n",
    "])}\n",
    "CLASSES_AUG = { \n",
    "    \"plane\": 0,\n",
    "    \"aeroplane\": 0,\n",
    "    \"bird\": 1\n",
    "    }\n",
    "CLASSES = CLASSES_AUG\n",
    "CLASSES_INV = {value: key for key, value in CLASSES.items()}\n",
    "\n",
    "\n",
    "def convert_file(dataset_dir: str, file: str, obj_class: str, train_split: float):\n",
    "    full_path = os.path.join(dataset_dir, file)\n",
    "    fname, img_dir, destination = [f\"{full_path}/{file}.txt\", f\"{full_path}/img\", f\"{full_path}/bbox\"]\n",
    "    if not os.path.exists(destination):\n",
    "        os.makedirs(destination)\n",
    "    \n",
    "    images = [d for d in os.listdir(img_dir)]\n",
    "    images.sort()\n",
    "    with open(fname, 'r') as f:\n",
    "        num_lines = sum([1 for l in f if l.strip() != ''])\n",
    "\n",
    "    with open(fname, 'r') as f:\n",
    "        if num_lines != len(images):\n",
    "            print(f\"length of {fname} does not match number of files in {img_dir}\")\n",
    "        else:\n",
    "            lines = [l for l in f]\n",
    "            for i, (line, image) in enumerate(zip(lines, images)):\n",
    "                # print(image)\n",
    "                if line.strip() == '': pass\n",
    "                x, y, w, h = [float(val) for val in line.strip().replace(',', ' ').split()]\n",
    "                x, y, w, h = normalise_bbox(x, y, w, h, os.path.join(img_dir, image))\n",
    "                new_fname = f\"{file}_{image.replace('.jpg', '')}\"\n",
    "\n",
    "                split = 'train' if random.random() < train_split else ('val' if random.random() < 0.5 else 'test')\n",
    "\n",
    "                with open(os.path.join(dataset_dir, '..', DESTINATION_DIR, 'labels', split, (new_fname+'.txt')), 'w') as f2:\n",
    "                    f2.write(' '.join(str(v) for v in [obj_class, x, y, w, h]))\n",
    "                shutil.copyfile(os.path.join(img_dir, image), os.path.join(dataset_dir, '..', DESTINATION_DIR, 'images', split, (new_fname+'.jpg')))\n",
    "\n",
    "def normalise_bbox(x, y, w, h, fname):\n",
    "\n",
    "    center_x = x + (w / 2)\n",
    "    center_y = y + (h / 2)\n",
    "\n",
    "    with Image.open(fname) as img:\n",
    "        width, height = img.size\n",
    "    return (center_x / width, center_y / height, w / width, h / height)\n",
    "\n",
    "def convert_dataset(dataset_dir: str = '.', train_split: float = 0.8):\n",
    "    \n",
    "    create_directory_if_not_exists(os.path.join(dataset_dir, DESTINATION_DIR, 'images', 'train')) \n",
    "    create_directory_if_not_exists(os.path.join(dataset_dir, DESTINATION_DIR, 'images', 'val'))\n",
    "    # create_directory_if_not_exists(os.path.join(dataset_dir, DESTINATION_DIR, 'images', 'test'))\n",
    "    create_directory_if_not_exists(os.path.join(dataset_dir, DESTINATION_DIR, 'labels', 'train'))\n",
    "    create_directory_if_not_exists(os.path.join(dataset_dir, DESTINATION_DIR, 'labels', 'val'))\n",
    "    # create_directory_if_not_exists(os.path.join(dataset_dir, DESTINATION_DIR, 'labels', 'test'))\n",
    "\n",
    "    directories = [d for d in os.listdir(dataset_dir) if os.path.isdir(os.path.join(dataset_dir, d))]\n",
    "    for d in directories:\n",
    "        print(f\"DIRECTORY: {d}\")\n",
    "        img_dir = os.path.join(dataset_dir, d, 'img')\n",
    "        lbl_dir = os.path.join(dataset_dir, d, 'annotation')\n",
    "        for img_name in tqdm(os.listdir(img_dir)):\n",
    "            \n",
    "            split = 'train' if random.random() < train_split else 'val'\n",
    "            img_dest = os.path.join(dataset_dir, DESTINATION_DIR, 'images', split)\n",
    "            lbl_dest = os.path.join(dataset_dir, DESTINATION_DIR, 'labels', split)\n",
    "\n",
    "            img_path = os.path.join(img_dir, img_name)\n",
    "            lbl_name = img_name.replace('.png', '.txt')\n",
    "            lbl_path = os.path.join(lbl_dir, lbl_name)\n",
    "\n",
    "            new_lines = []\n",
    "            try:\n",
    "                with open(lbl_path, 'r') as labels:\n",
    "                    for label in labels:\n",
    "                        cls, x, y, w, h = label.replace(',', ' ').split()\n",
    "                        if cls in CLASSES:\n",
    "                            cls = CLASSES[cls]\n",
    "                            x, y, w, h = normalise_bbox(float(x), float(y), float(w), float(h), img_path)\n",
    "                        new_lines.append(' '.join(str(val) for val in [cls, x, y, w, h]))\n",
    "                with open(os.path.join(lbl_dest, d + \"_\" + lbl_name), 'w') as f:\n",
    "                    f.writelines(new_lines)\n",
    "                shutil.copyfile(img_path, os.path.join(img_dest, d + \"_\" + img_name))\n",
    "            except Exception as e:\n",
    "                print(lbl_path)\n",
    "                print(f\"DEST {lbl_dest}\")\n",
    "                raise e\n",
    "\n",
    "        # class_name = d[:find_first_numerical_index(d)]\n",
    "        # if class_name not in CLASSES:\n",
    "        #     print(f\"no class found for {d} (class name: {class_name})\")\n",
    "        # else:\n",
    "        #     convert_file(dataset_dir, d, CLASSES[class_name], train_split=train_split)\n",
    "\n",
    "\n",
    "def create_directory_if_not_exists(directory_path):\n",
    "    if not os.path.exists(directory_path):\n",
    "        os.makedirs(directory_path)\n",
    "\n",
    "def find_first_numerical_index(string):\n",
    "    for index, char in enumerate(string):\n",
    "        if char.isdigit():\n",
    "            return index\n"
   ]
  },
  {
   "cell_type": "code",
   "execution_count": 2,
   "metadata": {},
   "outputs": [
    {
     "name": "stdout",
     "output_type": "stream",
     "text": [
      "DIRECTORY: bird_9_20230619\n"
     ]
    },
    {
     "name": "stderr",
     "output_type": "stream",
     "text": [
      "  0%|          | 0/44 [00:00<?, ?it/s]"
     ]
    },
    {
     "name": "stderr",
     "output_type": "stream",
     "text": [
      "100%|██████████| 44/44 [00:00<00:00, 265.48it/s]\n"
     ]
    },
    {
     "name": "stdout",
     "output_type": "stream",
     "text": [
      "DIRECTORY: plane_11_20240125_w1\n"
     ]
    },
    {
     "name": "stderr",
     "output_type": "stream",
     "text": [
      "100%|██████████| 41/41 [00:00<00:00, 287.59it/s]\n"
     ]
    },
    {
     "name": "stdout",
     "output_type": "stream",
     "text": [
      "DIRECTORY: plane_5_20240129(ov1)\n"
     ]
    },
    {
     "name": "stderr",
     "output_type": "stream",
     "text": [
      "100%|██████████| 76/76 [00:00<00:00, 328.18it/s]\n"
     ]
    },
    {
     "name": "stdout",
     "output_type": "stream",
     "text": [
      "DIRECTORY: plane_7_20230620_w1\n"
     ]
    },
    {
     "name": "stderr",
     "output_type": "stream",
     "text": [
      "100%|██████████| 220/220 [00:00<00:00, 282.39it/s]\n"
     ]
    },
    {
     "name": "stdout",
     "output_type": "stream",
     "text": [
      "DIRECTORY: plane_21_20240131(ov1)\n"
     ]
    },
    {
     "name": "stderr",
     "output_type": "stream",
     "text": [
      "100%|██████████| 57/57 [00:00<00:00, 346.26it/s]\n"
     ]
    },
    {
     "name": "stdout",
     "output_type": "stream",
     "text": [
      "DIRECTORY: bird_14_20240131\n"
     ]
    },
    {
     "name": "stderr",
     "output_type": "stream",
     "text": [
      "100%|██████████| 18/18 [00:00<00:00, 343.86it/s]\n"
     ]
    },
    {
     "name": "stdout",
     "output_type": "stream",
     "text": [
      "DIRECTORY: plane_11_20240130(ov1)\n"
     ]
    },
    {
     "name": "stderr",
     "output_type": "stream",
     "text": [
      "100%|██████████| 84/84 [00:00<00:00, 341.75it/s]\n"
     ]
    },
    {
     "name": "stdout",
     "output_type": "stream",
     "text": [
      "DIRECTORY: bird_6_20230613\n"
     ]
    },
    {
     "name": "stderr",
     "output_type": "stream",
     "text": [
      "100%|██████████| 42/42 [00:00<00:00, 207.97it/s]\n"
     ]
    },
    {
     "name": "stdout",
     "output_type": "stream",
     "text": [
      "DIRECTORY: plane_4_20240129(ov1)\n"
     ]
    },
    {
     "name": "stderr",
     "output_type": "stream",
     "text": [
      "100%|██████████| 77/77 [00:00<00:00, 192.45it/s]\n"
     ]
    },
    {
     "name": "stdout",
     "output_type": "stream",
     "text": [
      "DIRECTORY: bird_13_20240131\n"
     ]
    },
    {
     "name": "stderr",
     "output_type": "stream",
     "text": [
      "100%|██████████| 14/14 [00:00<00:00, 342.05it/s]\n"
     ]
    },
    {
     "name": "stdout",
     "output_type": "stream",
     "text": [
      "DIRECTORY: plane_16_20240131(ov1)\n"
     ]
    },
    {
     "name": "stderr",
     "output_type": "stream",
     "text": [
      "100%|██████████| 70/70 [00:00<00:00, 113.12it/s]\n"
     ]
    },
    {
     "name": "stdout",
     "output_type": "stream",
     "text": [
      "DIRECTORY: bird_1_20230531\n"
     ]
    },
    {
     "name": "stderr",
     "output_type": "stream",
     "text": [
      "100%|██████████| 29/29 [00:00<00:00, 129.83it/s]\n"
     ]
    },
    {
     "name": "stdout",
     "output_type": "stream",
     "text": [
      "DIRECTORY: plane_15_20240129_w1\n"
     ]
    },
    {
     "name": "stderr",
     "output_type": "stream",
     "text": [
      "100%|██████████| 97/97 [00:00<00:00, 305.50it/s]\n"
     ]
    },
    {
     "name": "stdout",
     "output_type": "stream",
     "text": [
      "DIRECTORY: bird_11_20240130\n"
     ]
    },
    {
     "name": "stderr",
     "output_type": "stream",
     "text": [
      "100%|██████████| 27/27 [00:00<00:00, 323.57it/s]\n"
     ]
    },
    {
     "name": "stdout",
     "output_type": "stream",
     "text": [
      "DIRECTORY: plane_19_20240131(ov1)\n"
     ]
    },
    {
     "name": "stderr",
     "output_type": "stream",
     "text": [
      "100%|██████████| 40/40 [00:00<00:00, 327.36it/s]\n"
     ]
    },
    {
     "name": "stdout",
     "output_type": "stream",
     "text": [
      "DIRECTORY: bird_3_20230613\n"
     ]
    },
    {
     "name": "stderr",
     "output_type": "stream",
     "text": [
      "100%|██████████| 32/32 [00:00<00:00, 407.73it/s]\n"
     ]
    },
    {
     "name": "stdout",
     "output_type": "stream",
     "text": [
      "DIRECTORY: plane_19_20240129_w1\n"
     ]
    },
    {
     "name": "stderr",
     "output_type": "stream",
     "text": [
      "100%|██████████| 34/34 [00:00<00:00, 321.86it/s]\n"
     ]
    },
    {
     "name": "stdout",
     "output_type": "stream",
     "text": [
      "DIRECTORY: plane_2_20230531(ov1)\n"
     ]
    },
    {
     "name": "stderr",
     "output_type": "stream",
     "text": [
      "100%|██████████| 271/271 [00:01<00:00, 235.14it/s]\n"
     ]
    },
    {
     "name": "stdout",
     "output_type": "stream",
     "text": [
      "DIRECTORY: plane_6_20240129(ov1)\n"
     ]
    },
    {
     "name": "stderr",
     "output_type": "stream",
     "text": [
      "100%|██████████| 60/60 [00:00<00:00, 140.83it/s]\n"
     ]
    },
    {
     "name": "stdout",
     "output_type": "stream",
     "text": [
      "DIRECTORY: bird_2_20230613\n"
     ]
    },
    {
     "name": "stderr",
     "output_type": "stream",
     "text": [
      "100%|██████████| 33/33 [00:00<00:00, 368.83it/s]\n"
     ]
    },
    {
     "name": "stdout",
     "output_type": "stream",
     "text": [
      "DIRECTORY: bird_8_20230619\n"
     ]
    },
    {
     "name": "stderr",
     "output_type": "stream",
     "text": [
      "100%|██████████| 31/31 [00:00<00:00, 249.70it/s]\n"
     ]
    },
    {
     "name": "stdout",
     "output_type": "stream",
     "text": [
      "DIRECTORY: plane_3_20230601_w1\n"
     ]
    },
    {
     "name": "stderr",
     "output_type": "stream",
     "text": [
      "100%|██████████| 68/68 [00:00<00:00, 190.64it/s]\n"
     ]
    },
    {
     "name": "stdout",
     "output_type": "stream",
     "text": [
      "DIRECTORY: plane_1_20230525_w1\n"
     ]
    },
    {
     "name": "stderr",
     "output_type": "stream",
     "text": [
      "100%|██████████| 72/72 [00:00<00:00, 164.99it/s]\n"
     ]
    },
    {
     "name": "stdout",
     "output_type": "stream",
     "text": [
      "DIRECTORY: plane_2_20230530_w1\n"
     ]
    },
    {
     "name": "stderr",
     "output_type": "stream",
     "text": [
      "100%|██████████| 143/143 [00:00<00:00, 143.74it/s]\n"
     ]
    },
    {
     "name": "stdout",
     "output_type": "stream",
     "text": [
      "DIRECTORY: plane_13_20240130(ov1)\n"
     ]
    },
    {
     "name": "stderr",
     "output_type": "stream",
     "text": [
      "100%|██████████| 75/75 [00:00<00:00, 335.05it/s]\n"
     ]
    },
    {
     "name": "stdout",
     "output_type": "stream",
     "text": [
      "DIRECTORY: plane_9_20240125_w1\n"
     ]
    },
    {
     "name": "stderr",
     "output_type": "stream",
     "text": [
      "100%|██████████| 35/35 [00:02<00:00, 14.60it/s] \n"
     ]
    },
    {
     "name": "stdout",
     "output_type": "stream",
     "text": [
      "DIRECTORY: plane_14_20240130(ov1)\n"
     ]
    },
    {
     "name": "stderr",
     "output_type": "stream",
     "text": [
      "100%|██████████| 66/66 [00:00<00:00, 330.10it/s]\n"
     ]
    },
    {
     "name": "stdout",
     "output_type": "stream",
     "text": [
      "DIRECTORY: plane_20_20240131(ov1)\n"
     ]
    },
    {
     "name": "stderr",
     "output_type": "stream",
     "text": [
      "100%|██████████| 65/65 [00:00<00:00, 345.71it/s]\n"
     ]
    },
    {
     "name": "stdout",
     "output_type": "stream",
     "text": [
      "DIRECTORY: plane_9_20240130(ov1)\n"
     ]
    },
    {
     "name": "stderr",
     "output_type": "stream",
     "text": [
      "100%|██████████| 70/70 [00:00<00:00, 337.77it/s]\n"
     ]
    },
    {
     "name": "stdout",
     "output_type": "stream",
     "text": [
      "DIRECTORY: plane_18_20240129_w1\n"
     ]
    },
    {
     "name": "stderr",
     "output_type": "stream",
     "text": [
      "100%|██████████| 66/66 [00:00<00:00, 331.35it/s]\n"
     ]
    },
    {
     "name": "stdout",
     "output_type": "stream",
     "text": [
      "DIRECTORY: plane_8_20230622_w1\n"
     ]
    },
    {
     "name": "stderr",
     "output_type": "stream",
     "text": [
      "100%|██████████| 106/106 [00:00<00:00, 287.09it/s]\n"
     ]
    },
    {
     "name": "stdout",
     "output_type": "stream",
     "text": [
      "DIRECTORY: plane_14_20240129_w1\n"
     ]
    },
    {
     "name": "stderr",
     "output_type": "stream",
     "text": [
      "100%|██████████| 93/93 [00:00<00:00, 149.14it/s]\n"
     ]
    },
    {
     "name": "stdout",
     "output_type": "stream",
     "text": [
      "DIRECTORY: plane_10_20240130(ov1)\n"
     ]
    },
    {
     "name": "stderr",
     "output_type": "stream",
     "text": [
      "100%|██████████| 59/59 [00:00<00:00, 140.00it/s]\n"
     ]
    },
    {
     "name": "stdout",
     "output_type": "stream",
     "text": [
      "DIRECTORY: plane_16_20240129_w1\n"
     ]
    },
    {
     "name": "stderr",
     "output_type": "stream",
     "text": [
      "100%|██████████| 40/40 [00:00<00:00, 82.61it/s] \n"
     ]
    },
    {
     "name": "stdout",
     "output_type": "stream",
     "text": [
      "DIRECTORY: plane_18_20240131(ov1)\n"
     ]
    },
    {
     "name": "stderr",
     "output_type": "stream",
     "text": [
      "100%|██████████| 89/89 [00:02<00:00, 36.03it/s] \n"
     ]
    },
    {
     "name": "stdout",
     "output_type": "stream",
     "text": [
      "DIRECTORY: plane_15_20240131(ov1)\n"
     ]
    },
    {
     "name": "stderr",
     "output_type": "stream",
     "text": [
      "100%|██████████| 98/98 [00:00<00:00, 306.21it/s]\n"
     ]
    },
    {
     "name": "stdout",
     "output_type": "stream",
     "text": [
      "DIRECTORY: plane_12_20240130(ov1)\n"
     ]
    },
    {
     "name": "stderr",
     "output_type": "stream",
     "text": [
      "100%|██████████| 70/70 [00:00<00:00, 330.32it/s]\n"
     ]
    },
    {
     "name": "stdout",
     "output_type": "stream",
     "text": [
      "DIRECTORY: bird_10_20240129\n"
     ]
    },
    {
     "name": "stderr",
     "output_type": "stream",
     "text": [
      "100%|██████████| 27/27 [00:00<00:00, 478.98it/s]\n"
     ]
    },
    {
     "name": "stdout",
     "output_type": "stream",
     "text": [
      "DIRECTORY: plane_17_20240131(ov1)\n"
     ]
    },
    {
     "name": "stderr",
     "output_type": "stream",
     "text": [
      "100%|██████████| 31/31 [00:00<00:00, 299.12it/s]\n"
     ]
    },
    {
     "name": "stdout",
     "output_type": "stream",
     "text": [
      "DIRECTORY: plane_10_20240125_w1\n"
     ]
    },
    {
     "name": "stderr",
     "output_type": "stream",
     "text": [
      "100%|██████████| 118/118 [00:00<00:00, 287.42it/s]\n"
     ]
    },
    {
     "name": "stdout",
     "output_type": "stream",
     "text": [
      "DIRECTORY: plane_7_20240129(ov1)\n"
     ]
    },
    {
     "name": "stderr",
     "output_type": "stream",
     "text": [
      "100%|██████████| 72/72 [00:00<00:00, 133.73it/s]\n"
     ]
    },
    {
     "name": "stdout",
     "output_type": "stream",
     "text": [
      "DIRECTORY: plane_8_20240130(ov1)\n"
     ]
    },
    {
     "name": "stderr",
     "output_type": "stream",
     "text": [
      "100%|██████████| 56/56 [00:00<00:00, 140.80it/s]\n"
     ]
    },
    {
     "name": "stdout",
     "output_type": "stream",
     "text": [
      "DIRECTORY: bird_12_20240130\n"
     ]
    },
    {
     "name": "stderr",
     "output_type": "stream",
     "text": [
      "100%|██████████| 3/3 [00:00<00:00, 20.43it/s]\n"
     ]
    },
    {
     "name": "stdout",
     "output_type": "stream",
     "text": [
      "DIRECTORY: plane_21_20240130_w1\n"
     ]
    },
    {
     "name": "stderr",
     "output_type": "stream",
     "text": [
      "100%|██████████| 20/20 [00:00<00:00, 246.53it/s]\n"
     ]
    },
    {
     "name": "stdout",
     "output_type": "stream",
     "text": [
      "DIRECTORY: plane_6_20230619_w1\n"
     ]
    },
    {
     "name": "stderr",
     "output_type": "stream",
     "text": [
      "100%|██████████| 215/215 [00:03<00:00, 67.03it/s]\n"
     ]
    },
    {
     "name": "stdout",
     "output_type": "stream",
     "text": [
      "DIRECTORY: bird_7_20230619\n"
     ]
    },
    {
     "name": "stderr",
     "output_type": "stream",
     "text": [
      "100%|██████████| 31/31 [00:00<00:00, 300.88it/s]\n"
     ]
    },
    {
     "name": "stdout",
     "output_type": "stream",
     "text": [
      "DIRECTORY: bird_4_20230613\n"
     ]
    },
    {
     "name": "stderr",
     "output_type": "stream",
     "text": [
      "100%|██████████| 46/46 [00:00<00:00, 415.55it/s]\n"
     ]
    },
    {
     "name": "stdout",
     "output_type": "stream",
     "text": [
      "DIRECTORY: plane_20_20240129_w1\n"
     ]
    },
    {
     "name": "stderr",
     "output_type": "stream",
     "text": [
      "100%|██████████| 38/38 [00:00<00:00, 322.47it/s]\n"
     ]
    },
    {
     "name": "stdout",
     "output_type": "stream",
     "text": [
      "DIRECTORY: bird_5_20230613\n"
     ]
    },
    {
     "name": "stderr",
     "output_type": "stream",
     "text": [
      "100%|██████████| 49/49 [00:00<00:00, 387.98it/s]\n"
     ]
    },
    {
     "name": "stdout",
     "output_type": "stream",
     "text": [
      "DIRECTORY: plane_4_20230614_w1\n"
     ]
    },
    {
     "name": "stderr",
     "output_type": "stream",
     "text": [
      "100%|██████████| 39/39 [00:00<00:00, 262.94it/s]\n"
     ]
    },
    {
     "name": "stdout",
     "output_type": "stream",
     "text": [
      "DIRECTORY: plane_5_20230614_w1\n"
     ]
    },
    {
     "name": "stderr",
     "output_type": "stream",
     "text": [
      "100%|██████████| 101/101 [00:00<00:00, 107.82it/s]\n"
     ]
    },
    {
     "name": "stdout",
     "output_type": "stream",
     "text": [
      "DIRECTORY: plane_13_20240129_w1\n"
     ]
    },
    {
     "name": "stderr",
     "output_type": "stream",
     "text": [
      "100%|██████████| 55/55 [00:00<00:00, 101.98it/s]\n"
     ]
    },
    {
     "name": "stdout",
     "output_type": "stream",
     "text": [
      "DIRECTORY: plane_12_20240125_w1\n"
     ]
    },
    {
     "name": "stderr",
     "output_type": "stream",
     "text": [
      "100%|██████████| 103/103 [00:02<00:00, 40.37it/s]\n"
     ]
    },
    {
     "name": "stdout",
     "output_type": "stream",
     "text": [
      "DIRECTORY: plane_3_20230622(ov1)\n"
     ]
    },
    {
     "name": "stderr",
     "output_type": "stream",
     "text": [
      "100%|██████████| 198/198 [00:00<00:00, 232.22it/s]\n"
     ]
    },
    {
     "name": "stdout",
     "output_type": "stream",
     "text": [
      "DIRECTORY: plane_1_20230525(ov1)\n"
     ]
    },
    {
     "name": "stderr",
     "output_type": "stream",
     "text": [
      "100%|██████████| 100/100 [00:00<00:00, 194.29it/s]\n"
     ]
    },
    {
     "name": "stdout",
     "output_type": "stream",
     "text": [
      "DIRECTORY: plane_17_20240129_w1\n"
     ]
    },
    {
     "name": "stderr",
     "output_type": "stream",
     "text": [
      "100%|██████████| 48/48 [00:00<00:00, 85.73it/s] \n"
     ]
    }
   ],
   "source": [
    "convert_dataset('datasets/donghyun_dataset_split/raw')\n",
    "# convert_dataset('datasets/TOT')\n"
   ]
  },
  {
   "cell_type": "code",
   "execution_count": null,
   "metadata": {},
   "outputs": [],
   "source": [
    "import cv2\n",
    "\n",
    "def display_bbox(file: str):\n",
    "    image_path = f'datasets/TOT/YOLO/images/train/{file}.jpg'\n",
    "    bbox_path = f'datasets/TOT/YOLO/labels/train/{file}.txt'\n",
    "    # Read image\n",
    "    image = cv2.imread(image_path)\n",
    "\n",
    "    # Read bounding box information from text file\n",
    "    with open(bbox_path, \"r\") as file:\n",
    "        bounding_box_info = file.readline().strip().split()\n",
    "        print(f\"NORMED BBOX: {bounding_box_info}\")\n",
    "        class_label = int(bounding_box_info[0])\n",
    "        center_x = float(bounding_box_info[1])\n",
    "        center_y = float(bounding_box_info[2])\n",
    "        width = float(bounding_box_info[3])\n",
    "        height = float(bounding_box_info[4])\n",
    "\n",
    "    # Convert normalized coordinates to absolute coordinates\n",
    "    h, w, _ = image.shape\n",
    "    x1 = int((center_x - width / 2) * w)\n",
    "    y1 = int((center_y - height / 2) * h)\n",
    "    x2 = int((center_x + width / 2) * w)\n",
    "    y2 = int((center_y + height / 2) * h)\n",
    "    print(f\"RESTORED INFO: {center_x * w, center_y * h, width * w, height * h}\")\n",
    "    print(f\"WIDTH={w}, HEIGHT={h}\")\n",
    "    # Draw bounding box on image\n",
    "    box1 = ((int(center_x*w), int(center_y*h)), (int((center_x*w))+1, int((center_y*h))+1))\n",
    "    box2 = ((x1, y1), (x2, y2))\n",
    "    cv2.rectangle(image, box1[0], box1[1], (0, 255, 0), 2)\n",
    "    cv2.rectangle(image, box2[0], box2[1], (0, 255, 0), 2)\n",
    "\n",
    "    # Display image with bounding box\n",
    "    print(f'class = {CLASSES_INV[class_label]}')\n",
    "    cv2.imshow(\"Image with Bounding Box\", image)\n",
    "    cv2.waitKey(0)\n",
    "    cv2.destroyAllWindows()\n",
    "\n",
    "    return box1, box2\n",
    "\n",
    "def display_bbox_reg(obj: str, num: int, box1 = None, box2 = None):\n",
    "    image_path = f'datasets/TOT/raw/{obj}/img/{num:05d}.jpg'\n",
    "    bbox_path = f'datasets/TOT/raw/{obj}/{obj}.txt'\n",
    "    # Read image\n",
    "    image = cv2.imread(image_path)\n",
    "\n",
    "    # Read bounding box information from text file\n",
    "    with open(bbox_path, \"r\") as file:\n",
    "        line = [l for l in file][num-1]\n",
    "        print(num - 1)\n",
    "        bounding_box_info = line.strip().split()\n",
    "        print(f\"REGULAR BBOX {bounding_box_info}\")\n",
    "        x = float(bounding_box_info[0])     \n",
    "        y = float(bounding_box_info[1])\n",
    "        width = float(bounding_box_info[2])\n",
    "        height = float(bounding_box_info[3])\n",
    "\n",
    "    center_x = x + (width / 2)\n",
    "    center_y = y + (height / 2)\n",
    "    print(f\"CENTER_X: {center_x}, CENTER_Y: {center_y}\")\n",
    "    h, w, _ = image.shape\n",
    "    \n",
    "    with Image.open(image_path) as img:\n",
    "        w2, h2 = img.size\n",
    "    x_norm, y_norm, w_norm, h_norm = center_x / w, center_y / h, width / w, height / h\n",
    "    print(f\"NORMED INFO: {x_norm, y_norm, w_norm, h_norm}\")\n",
    "    print(normalise_bbox(x, y, width, height, image_path))\n",
    "\n",
    "    x11 = int((x_norm - w_norm / 2) * w)\n",
    "    y11 = int((y_norm - h_norm / 2) * h)\n",
    "    x21 = int((x_norm + w_norm / 2) * w)\n",
    "    y21 = int((y_norm + h_norm / 2) * h)\n",
    "\n",
    "    # Convert normalized coordinates to absolute coordinates\n",
    "    ## x, y are center\n",
    "    x1 = int((x))\n",
    "    y1 = int((y))\n",
    "    x2 = int((x + width))\n",
    "    y2 = int((y + height))\n",
    "\n",
    "    # Draw bounding box on image\n",
    "\n",
    "    if box1 is not None:\n",
    "        cv2.rectangle(image, box1[0], box1[1], (0, 255, 0), 2)\n",
    "    if box2 is not None:\n",
    "        cv2.rectangle(image, box2[0], box2[1], (0, 255, 0), 2)\n",
    "\n",
    "\n",
    "    cv2.rectangle(image, (int(center_x), int(center_y)), (int(center_x)+1, int(center_y)+1), (255, 0, 0), 2)\n",
    "    cv2.rectangle(image, (x11, y11), (x21, y21), (255, 0, 0), 2)\n",
    "    # cv2.rectangle(image, (x1, y1), (x2, y2), (0, 255, 0), 2)\n",
    "\n",
    "    # Display image with bounding box\n",
    "    cv2.imshow(\"Image with Bounding Box\", image)\n",
    "    cv2.waitKey(0)\n",
    "    cv2.destroyAllWindows()"
   ]
  },
  {
   "cell_type": "code",
   "execution_count": 8,
   "metadata": {},
   "outputs": [
    {
     "name": "stdout",
     "output_type": "stream",
     "text": [
      "NORMED BBOX: ['24', '0.5066089613034623', '0.5691847826086956', '0.043441955193482686', '0.05394927536231884']\n",
      "RESTORED INFO: (248.745, 157.095, 21.33, 14.89)\n",
      "WIDTH=491, HEIGHT=276\n",
      "class = jet\n",
      "0\n",
      "REGULAR BBOX ['236.36', '151.09', '21.33', '14.89']\n",
      "CENTER_X: 247.025, CENTER_Y: 158.535\n",
      "NORMED INFO: (0.5031059063136456, 0.5744021739130435, 0.043441955193482686, 0.05394927536231884)\n",
      "(0.5031059063136456, 0.5744021739130435, 0.043441955193482686, 0.05394927536231884)\n"
     ]
    }
   ],
   "source": [
    "box1, box2 = display_bbox('jet8_00002')\n",
    "display_bbox_reg('jet8', 1)\n"
   ]
  },
  {
   "cell_type": "code",
   "execution_count": null,
   "metadata": {},
   "outputs": [],
   "source": []
  },
  {
   "cell_type": "code",
   "execution_count": 41,
   "metadata": {},
   "outputs": [
    {
     "name": "stdout",
     "output_type": "stream",
     "text": [
      "119\n",
      "119\n"
     ]
    }
   ],
   "source": [
    "with open('datasets/ToT_extracted/bird22-1/bird22-1.txt', 'r') as f1:\n",
    "    print(sum(1 for _ in f1))\n",
    "with open('datasets/ToT_extracted/bird22-1/bird22-1.txt', 'r') as f1:\n",
    "    print(sum([1 for _ in f1]))"
   ]
  },
  {
   "cell_type": "code",
   "execution_count": 5,
   "metadata": {},
   "outputs": [
    {
     "name": "stdout",
     "output_type": "stream",
     "text": [
      "convert_baseline.ipynb\tREADME.md  VideoMix.py\t\tyolov8n.pt\n",
      "datasets\t\truns\t   VideoTransform.py\n",
      "i3d.py\t\t\ttrain.py   YOLO_training.ipynb\n"
     ]
    }
   ],
   "source": []
  },
  {
   "cell_type": "code",
   "execution_count": 11,
   "metadata": {},
   "outputs": [
    {
     "name": "stdout",
     "output_type": "stream",
     "text": [
      "hiya     5\n"
     ]
    }
   ],
   "source": [
    "print(f'hiya {5:5d}')"
   ]
  },
  {
   "cell_type": "code",
   "execution_count": null,
   "metadata": {},
   "outputs": [],
   "source": []
  }
 ],
 "metadata": {
  "kernelspec": {
   "display_name": ".venv",
   "language": "python",
   "name": "python3"
  },
  "language_info": {
   "codemirror_mode": {
    "name": "ipython",
    "version": 3
   },
   "file_extension": ".py",
   "mimetype": "text/x-python",
   "name": "python",
   "nbconvert_exporter": "python",
   "pygments_lexer": "ipython3",
   "version": "3.10.12"
  }
 },
 "nbformat": 4,
 "nbformat_minor": 2
}
