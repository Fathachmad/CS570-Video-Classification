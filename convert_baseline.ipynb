{
 "cells": [
  {
   "cell_type": "code",
   "execution_count": 1,
   "metadata": {},
   "outputs": [],
   "source": [
    "import os\n",
    "from tqdm import tqdm\n",
    "\n",
    "def convert_file(fname: str, destination: str, obj_class: str):\n",
    "    if not os.path.exists(destination):\n",
    "        os.makedirs(destination)\n",
    "    with open(fname, 'r') as f:\n",
    "        for i, line in enumerate(f):\n",
    "            newline = obj_class + \" \" + line\n",
    "            with open(f\"{destination}/{i+1:05d}.txt\", 'w') as f2:\n",
    "                f2.write(newline)\n",
    "\n",
    "\n",
    "def convert_dataset(dataset_dir: str = '.'):\n",
    "    directories = [d for d in os.listdir(dataset_dir) if os.path.isdir(os.path.join(dataset_dir, d))]\n",
    "    for d in tqdm(directories):\n",
    "        convert_file(f\"{d}/{d}.txt\", f\"{d}/bbox\", \"0\" if \"aircraft\" in d else \"1\")"
   ]
  },
  {
   "cell_type": "code",
   "execution_count": 2,
   "metadata": {},
   "outputs": [
    {
     "name": "stderr",
     "output_type": "stream",
     "text": [
      "100%|██████████| 37/37 [00:00<00:00, 65.86it/s]\n"
     ]
    }
   ],
   "source": [
    "convert_dataset()"
   ]
  }
 ],
 "metadata": {
  "kernelspec": {
   "display_name": ".venv",
   "language": "python",
   "name": "python3"
  },
  "language_info": {
   "codemirror_mode": {
    "name": "ipython",
    "version": 3
   },
   "file_extension": ".py",
   "mimetype": "text/x-python",
   "name": "python",
   "nbconvert_exporter": "python",
   "pygments_lexer": "ipython3",
   "version": "3.10.12"
  }
 },
 "nbformat": 4,
 "nbformat_minor": 2
}
